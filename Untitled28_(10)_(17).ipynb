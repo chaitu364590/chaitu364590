{
  "nbformat": 4,
  "nbformat_minor": 0,
  "metadata": {
    "kernelspec": {
      "display_name": "Python 3",
      "language": "python",
      "name": "python3"
    },
    "language_info": {
      "codemirror_mode": {
        "name": "ipython",
        "version": 3
      },
      "file_extension": ".py",
      "mimetype": "text/x-python",
      "name": "python",
      "nbconvert_exporter": "python",
      "pygments_lexer": "ipython3",
      "version": "3.8.5"
    },
    "colab": {
      "provenance": []
    }
  },
  "cells": [
    {
      "cell_type": "code",
      "metadata": {
        "id": "hsi3vvvbjZqa"
      },
      "source": [],
      "execution_count": null,
      "outputs": []
    },
    {
      "cell_type": "markdown",
      "metadata": {
        "id": "OJFc0_LAjZqf"
      },
      "source": [
        "# Top 10 ranked Institutes NIRF 2020 RESULT Analysis"
      ]
    },
    {
      "cell_type": "code",
      "metadata": {
        "colab": {
          "base_uri": "https://localhost:8080/",
          "height": 817
        },
        "cellView": "form",
        "id": "w7WWeCRpjZqg",
        "outputId": "89f3e008-46de-44ff-fc8f-326b9c77b7fb"
      },
      "source": [
        "#@title\n",
        "import plotly.express as px\n",
        "import pandas as pd\n",
        "importdata = pd.read_csv('Book10.csv')\n",
        "x_axis=importdata[\"name\"]\n",
        "y_axis=importdata[\"rank\"]\n",
        "fig1 = px.bar(importdata, x=x_axis, y=y_axis,title='Top 10 ranked Institutes NIRF 2020 RESULT',\n",
        "             hover_data=['name', 'rank','city','state','score'],\n",
        "             labels={'name':'Institutes','rank':'Rankings'},height=800,width=1200,color='name')\n",
        "fig1.add_layout_image(\n",
        "        dict(\n",
        "            source=\"https://i0.wp.com/groundreport.in/wp-content/uploads/2020/06/NIRF-India-Rankings-2020.jpg?fit=1200%2C800&ssl=1\",\n",
        "            xref=\"x\",\n",
        "            yref=\"y\",\n",
        "            x=0,\n",
        "            y=10,\n",
        "            sizex=5,\n",
        "            sizey=4,\n",
        "            sizing=\"stretch\",\n",
        "            opacity=1,\n",
        "            layer=\"below\")\n",
        ")\n",
        "\n",
        "# Set templates\n",
        "fig1.update_layout(template=\"plotly_dark\")\n",
        "fig1.show()\n",
        "\n"
      ],
      "execution_count": null,
      "outputs": [
        {
          "output_type": "display_data",
          "data": {
            "text/html": [
              "<html>\n",
              "<head><meta charset=\"utf-8\" /></head>\n",
              "<body>\n",
              "    <div>\n",
              "            <script src=\"https://cdnjs.cloudflare.com/ajax/libs/mathjax/2.7.5/MathJax.js?config=TeX-AMS-MML_SVG\"></script><script type=\"text/javascript\">if (window.MathJax) {MathJax.Hub.Config({SVG: {font: \"STIX-Web\"}});}</script>\n",
              "                <script type=\"text/javascript\">window.PlotlyConfig = {MathJaxConfig: 'local'};</script>\n",
              "        <script src=\"https://cdn.plot.ly/plotly-latest.min.js\"></script>    \n",
              "            <div id=\"85d7c233-e17f-4099-b056-c0aa2fab2dda\" class=\"plotly-graph-div\" style=\"height:800px; width:1200px;\"></div>\n",
              "            <script type=\"text/javascript\">\n",
              "                \n",
              "                    window.PLOTLYENV=window.PLOTLYENV || {};\n",
              "                    \n",
              "                if (document.getElementById(\"85d7c233-e17f-4099-b056-c0aa2fab2dda\")) {\n",
              "                    Plotly.newPlot(\n",
              "                        '85d7c233-e17f-4099-b056-c0aa2fab2dda',\n",
              "                        [{\"alignmentgroup\": \"True\", \"customdata\": [[\"Indian Institute of Technology Madras\", 1, \"Chennai\", \"Tamil Nadu\", 89.93]], \"hoverlabel\": {\"namelength\": 0}, \"hovertemplate\": \"Institutes=%{customdata[0]}<br>Rankings=%{customdata[1]}<br>city=%{customdata[2]}<br>state=%{customdata[3]}<br>score=%{customdata[4]}\", \"legendgroup\": \"Institutes=Indian Institute of Technology Madras\", \"marker\": {\"color\": \"#636efa\"}, \"name\": \"Institutes=Indian Institute of Technology Madras\", \"offsetgroup\": \"Institutes=Indian Institute of Technology Madras\", \"orientation\": \"v\", \"showlegend\": true, \"textposition\": \"auto\", \"type\": \"bar\", \"x\": [\"Indian Institute of Technology Madras\"], \"xaxis\": \"x\", \"y\": [1], \"yaxis\": \"y\"}, {\"alignmentgroup\": \"True\", \"customdata\": [[\"Indian Institute of Technology Delhi\", 2, \"New Delhi\", \"Delhi\", 88.08]], \"hoverlabel\": {\"namelength\": 0}, \"hovertemplate\": \"Institutes=%{customdata[0]}<br>Rankings=%{customdata[1]}<br>city=%{customdata[2]}<br>state=%{customdata[3]}<br>score=%{customdata[4]}\", \"legendgroup\": \"Institutes=Indian Institute of Technology Delhi\", \"marker\": {\"color\": \"#EF553B\"}, \"name\": \"Institutes=Indian Institute of Technology Delhi\", \"offsetgroup\": \"Institutes=Indian Institute of Technology Delhi\", \"orientation\": \"v\", \"showlegend\": true, \"textposition\": \"auto\", \"type\": \"bar\", \"x\": [\"Indian Institute of Technology Delhi\"], \"xaxis\": \"x\", \"y\": [2], \"yaxis\": \"y\"}, {\"alignmentgroup\": \"True\", \"customdata\": [[\"Indian Institute of Technology Bombay\", 3, \"Mumbai\", \"Maharashtra\", 85.08]], \"hoverlabel\": {\"namelength\": 0}, \"hovertemplate\": \"Institutes=%{customdata[0]}<br>Rankings=%{customdata[1]}<br>city=%{customdata[2]}<br>state=%{customdata[3]}<br>score=%{customdata[4]}\", \"legendgroup\": \"Institutes=Indian Institute of Technology Bombay\", \"marker\": {\"color\": \"#00cc96\"}, \"name\": \"Institutes=Indian Institute of Technology Bombay\", \"offsetgroup\": \"Institutes=Indian Institute of Technology Bombay\", \"orientation\": \"v\", \"showlegend\": true, \"textposition\": \"auto\", \"type\": \"bar\", \"x\": [\"Indian Institute of Technology Bombay\"], \"xaxis\": \"x\", \"y\": [3], \"yaxis\": \"y\"}, {\"alignmentgroup\": \"True\", \"customdata\": [[\"Indian Institute of Technology Kanpur\", 4, \"Kanpur\", \"Uttar Pradesh\", 82.18]], \"hoverlabel\": {\"namelength\": 0}, \"hovertemplate\": \"Institutes=%{customdata[0]}<br>Rankings=%{customdata[1]}<br>city=%{customdata[2]}<br>state=%{customdata[3]}<br>score=%{customdata[4]}\", \"legendgroup\": \"Institutes=Indian Institute of Technology Kanpur\", \"marker\": {\"color\": \"#ab63fa\"}, \"name\": \"Institutes=Indian Institute of Technology Kanpur\", \"offsetgroup\": \"Institutes=Indian Institute of Technology Kanpur\", \"orientation\": \"v\", \"showlegend\": true, \"textposition\": \"auto\", \"type\": \"bar\", \"x\": [\"Indian Institute of Technology Kanpur\"], \"xaxis\": \"x\", \"y\": [4], \"yaxis\": \"y\"}, {\"alignmentgroup\": \"True\", \"customdata\": [[\"Indian Institute of Technology Kharagpur\", 5, \"Kharagpur\", \"West Bengal\", 80.56]], \"hoverlabel\": {\"namelength\": 0}, \"hovertemplate\": \"Institutes=%{customdata[0]}<br>Rankings=%{customdata[1]}<br>city=%{customdata[2]}<br>state=%{customdata[3]}<br>score=%{customdata[4]}\", \"legendgroup\": \"Institutes=Indian Institute of Technology Kharagpur\", \"marker\": {\"color\": \"#FFA15A\"}, \"name\": \"Institutes=Indian Institute of Technology Kharagpur\", \"offsetgroup\": \"Institutes=Indian Institute of Technology Kharagpur\", \"orientation\": \"v\", \"showlegend\": true, \"textposition\": \"auto\", \"type\": \"bar\", \"x\": [\"Indian Institute of Technology Kharagpur\"], \"xaxis\": \"x\", \"y\": [5], \"yaxis\": \"y\"}, {\"alignmentgroup\": \"True\", \"customdata\": [[\"Indian Institute of Technology Roorkee\", 6, \"Roorkee\", \"Uttarakhand\", 76.29]], \"hoverlabel\": {\"namelength\": 0}, \"hovertemplate\": \"Institutes=%{customdata[0]}<br>Rankings=%{customdata[1]}<br>city=%{customdata[2]}<br>state=%{customdata[3]}<br>score=%{customdata[4]}\", \"legendgroup\": \"Institutes=Indian Institute of Technology Roorkee\", \"marker\": {\"color\": \"#19d3f3\"}, \"name\": \"Institutes=Indian Institute of Technology Roorkee\", \"offsetgroup\": \"Institutes=Indian Institute of Technology Roorkee\", \"orientation\": \"v\", \"showlegend\": true, \"textposition\": \"auto\", \"type\": \"bar\", \"x\": [\"Indian Institute of Technology Roorkee\"], \"xaxis\": \"x\", \"y\": [6], \"yaxis\": \"y\"}, {\"alignmentgroup\": \"True\", \"customdata\": [[\"Indian Institute of Technology Guwahati\", 7, \"Guwahati\", \"Assam\", 74.9]], \"hoverlabel\": {\"namelength\": 0}, \"hovertemplate\": \"Institutes=%{customdata[0]}<br>Rankings=%{customdata[1]}<br>city=%{customdata[2]}<br>state=%{customdata[3]}<br>score=%{customdata[4]}\", \"legendgroup\": \"Institutes=Indian Institute of Technology Guwahati\", \"marker\": {\"color\": \"#FF6692\"}, \"name\": \"Institutes=Indian Institute of Technology Guwahati\", \"offsetgroup\": \"Institutes=Indian Institute of Technology Guwahati\", \"orientation\": \"v\", \"showlegend\": true, \"textposition\": \"auto\", \"type\": \"bar\", \"x\": [\"Indian Institute of Technology Guwahati\"], \"xaxis\": \"x\", \"y\": [7], \"yaxis\": \"y\"}, {\"alignmentgroup\": \"True\", \"customdata\": [[\"Indian Institute of Technology Hyderabad\", 8, \"Hyderabad\", \"Telangana\", 66.44]], \"hoverlabel\": {\"namelength\": 0}, \"hovertemplate\": \"Institutes=%{customdata[0]}<br>Rankings=%{customdata[1]}<br>city=%{customdata[2]}<br>state=%{customdata[3]}<br>score=%{customdata[4]}\", \"legendgroup\": \"Institutes=Indian Institute of Technology Hyderabad\", \"marker\": {\"color\": \"#B6E880\"}, \"name\": \"Institutes=Indian Institute of Technology Hyderabad\", \"offsetgroup\": \"Institutes=Indian Institute of Technology Hyderabad\", \"orientation\": \"v\", \"showlegend\": true, \"textposition\": \"auto\", \"type\": \"bar\", \"x\": [\"Indian Institute of Technology Hyderabad\"], \"xaxis\": \"x\", \"y\": [8], \"yaxis\": \"y\"}, {\"alignmentgroup\": \"True\", \"customdata\": [[\"National Institute of Technology Tiruchirappalli\", 9, \"Tiruchirappalli\", \"Tamil Nadu\", 64.1]], \"hoverlabel\": {\"namelength\": 0}, \"hovertemplate\": \"Institutes=%{customdata[0]}<br>Rankings=%{customdata[1]}<br>city=%{customdata[2]}<br>state=%{customdata[3]}<br>score=%{customdata[4]}\", \"legendgroup\": \"Institutes=National Institute of Technology Tiruchirappalli\", \"marker\": {\"color\": \"#FF97FF\"}, \"name\": \"Institutes=National Institute of Technology Tiruchirappalli\", \"offsetgroup\": \"Institutes=National Institute of Technology Tiruchirappalli\", \"orientation\": \"v\", \"showlegend\": true, \"textposition\": \"auto\", \"type\": \"bar\", \"x\": [\"National Institute of Technology Tiruchirappalli\"], \"xaxis\": \"x\", \"y\": [9], \"yaxis\": \"y\"}, {\"alignmentgroup\": \"True\", \"customdata\": [[\"Indian Institute of Technology Indore\", 10, \"Indore\", \"Madhya Pradesh\", 62.88]], \"hoverlabel\": {\"namelength\": 0}, \"hovertemplate\": \"Institutes=%{customdata[0]}<br>Rankings=%{customdata[1]}<br>city=%{customdata[2]}<br>state=%{customdata[3]}<br>score=%{customdata[4]}\", \"legendgroup\": \"Institutes=Indian Institute of Technology Indore\", \"marker\": {\"color\": \"#FECB52\"}, \"name\": \"Institutes=Indian Institute of Technology Indore\", \"offsetgroup\": \"Institutes=Indian Institute of Technology Indore\", \"orientation\": \"v\", \"showlegend\": true, \"textposition\": \"auto\", \"type\": \"bar\", \"x\": [\"Indian Institute of Technology Indore\"], \"xaxis\": \"x\", \"y\": [10], \"yaxis\": \"y\"}],\n",
              "                        {\"barmode\": \"relative\", \"height\": 800, \"images\": [{\"layer\": \"below\", \"opacity\": 1, \"sizex\": 5, \"sizey\": 4, \"sizing\": \"stretch\", \"source\": \"https://i0.wp.com/groundreport.in/wp-content/uploads/2020/06/NIRF-India-Rankings-2020.jpg?fit=1200%2C800&ssl=1\", \"x\": 0, \"xref\": \"x\", \"y\": 10, \"yref\": \"y\"}], \"legend\": {\"tracegroupgap\": 0}, \"template\": {\"data\": {\"bar\": [{\"error_x\": {\"color\": \"#f2f5fa\"}, \"error_y\": {\"color\": \"#f2f5fa\"}, \"marker\": {\"line\": {\"color\": \"rgb(17,17,17)\", \"width\": 0.5}}, \"type\": \"bar\"}], \"barpolar\": [{\"marker\": {\"line\": {\"color\": \"rgb(17,17,17)\", \"width\": 0.5}}, \"type\": \"barpolar\"}], \"carpet\": [{\"aaxis\": {\"endlinecolor\": \"#A2B1C6\", \"gridcolor\": \"#506784\", \"linecolor\": \"#506784\", \"minorgridcolor\": \"#506784\", \"startlinecolor\": \"#A2B1C6\"}, \"baxis\": {\"endlinecolor\": \"#A2B1C6\", \"gridcolor\": \"#506784\", \"linecolor\": \"#506784\", \"minorgridcolor\": \"#506784\", \"startlinecolor\": \"#A2B1C6\"}, \"type\": \"carpet\"}], \"choropleth\": [{\"colorbar\": {\"outlinewidth\": 0, \"ticks\": \"\"}, \"type\": \"choropleth\"}], \"contour\": [{\"colorbar\": {\"outlinewidth\": 0, \"ticks\": \"\"}, \"colorscale\": [[0.0, \"#0d0887\"], [0.1111111111111111, \"#46039f\"], [0.2222222222222222, \"#7201a8\"], [0.3333333333333333, \"#9c179e\"], [0.4444444444444444, \"#bd3786\"], [0.5555555555555556, \"#d8576b\"], [0.6666666666666666, \"#ed7953\"], [0.7777777777777778, \"#fb9f3a\"], [0.8888888888888888, \"#fdca26\"], [1.0, \"#f0f921\"]], \"type\": \"contour\"}], \"contourcarpet\": [{\"colorbar\": {\"outlinewidth\": 0, \"ticks\": \"\"}, \"type\": \"contourcarpet\"}], \"heatmap\": [{\"colorbar\": {\"outlinewidth\": 0, \"ticks\": \"\"}, \"colorscale\": [[0.0, \"#0d0887\"], [0.1111111111111111, \"#46039f\"], [0.2222222222222222, \"#7201a8\"], [0.3333333333333333, \"#9c179e\"], [0.4444444444444444, \"#bd3786\"], [0.5555555555555556, \"#d8576b\"], [0.6666666666666666, \"#ed7953\"], [0.7777777777777778, \"#fb9f3a\"], [0.8888888888888888, \"#fdca26\"], [1.0, \"#f0f921\"]], \"type\": \"heatmap\"}], \"heatmapgl\": [{\"colorbar\": {\"outlinewidth\": 0, \"ticks\": \"\"}, \"colorscale\": [[0.0, \"#0d0887\"], [0.1111111111111111, \"#46039f\"], [0.2222222222222222, \"#7201a8\"], [0.3333333333333333, \"#9c179e\"], [0.4444444444444444, \"#bd3786\"], [0.5555555555555556, \"#d8576b\"], [0.6666666666666666, \"#ed7953\"], [0.7777777777777778, \"#fb9f3a\"], [0.8888888888888888, \"#fdca26\"], [1.0, \"#f0f921\"]], \"type\": \"heatmapgl\"}], \"histogram\": [{\"marker\": {\"colorbar\": {\"outlinewidth\": 0, \"ticks\": \"\"}}, \"type\": \"histogram\"}], \"histogram2d\": [{\"colorbar\": {\"outlinewidth\": 0, \"ticks\": \"\"}, \"colorscale\": [[0.0, \"#0d0887\"], [0.1111111111111111, \"#46039f\"], [0.2222222222222222, \"#7201a8\"], [0.3333333333333333, \"#9c179e\"], [0.4444444444444444, \"#bd3786\"], [0.5555555555555556, \"#d8576b\"], [0.6666666666666666, \"#ed7953\"], [0.7777777777777778, \"#fb9f3a\"], [0.8888888888888888, \"#fdca26\"], [1.0, \"#f0f921\"]], \"type\": \"histogram2d\"}], \"histogram2dcontour\": [{\"colorbar\": {\"outlinewidth\": 0, \"ticks\": \"\"}, \"colorscale\": [[0.0, \"#0d0887\"], [0.1111111111111111, \"#46039f\"], [0.2222222222222222, \"#7201a8\"], [0.3333333333333333, \"#9c179e\"], [0.4444444444444444, \"#bd3786\"], [0.5555555555555556, \"#d8576b\"], [0.6666666666666666, \"#ed7953\"], [0.7777777777777778, \"#fb9f3a\"], [0.8888888888888888, \"#fdca26\"], [1.0, \"#f0f921\"]], \"type\": \"histogram2dcontour\"}], \"mesh3d\": [{\"colorbar\": {\"outlinewidth\": 0, \"ticks\": \"\"}, \"type\": \"mesh3d\"}], \"parcoords\": [{\"line\": {\"colorbar\": {\"outlinewidth\": 0, \"ticks\": \"\"}}, \"type\": \"parcoords\"}], \"pie\": [{\"automargin\": true, \"type\": \"pie\"}], \"scatter\": [{\"marker\": {\"line\": {\"color\": \"#283442\"}}, \"type\": \"scatter\"}], \"scatter3d\": [{\"line\": {\"colorbar\": {\"outlinewidth\": 0, \"ticks\": \"\"}}, \"marker\": {\"colorbar\": {\"outlinewidth\": 0, \"ticks\": \"\"}}, \"type\": \"scatter3d\"}], \"scattercarpet\": [{\"marker\": {\"colorbar\": {\"outlinewidth\": 0, \"ticks\": \"\"}}, \"type\": \"scattercarpet\"}], \"scattergeo\": [{\"marker\": {\"colorbar\": {\"outlinewidth\": 0, \"ticks\": \"\"}}, \"type\": \"scattergeo\"}], \"scattergl\": [{\"marker\": {\"line\": {\"color\": \"#283442\"}}, \"type\": \"scattergl\"}], \"scattermapbox\": [{\"marker\": {\"colorbar\": {\"outlinewidth\": 0, \"ticks\": \"\"}}, \"type\": \"scattermapbox\"}], \"scatterpolar\": [{\"marker\": {\"colorbar\": {\"outlinewidth\": 0, \"ticks\": \"\"}}, \"type\": \"scatterpolar\"}], \"scatterpolargl\": [{\"marker\": {\"colorbar\": {\"outlinewidth\": 0, \"ticks\": \"\"}}, \"type\": \"scatterpolargl\"}], \"scatterternary\": [{\"marker\": {\"colorbar\": {\"outlinewidth\": 0, \"ticks\": \"\"}}, \"type\": \"scatterternary\"}], \"surface\": [{\"colorbar\": {\"outlinewidth\": 0, \"ticks\": \"\"}, \"colorscale\": [[0.0, \"#0d0887\"], [0.1111111111111111, \"#46039f\"], [0.2222222222222222, \"#7201a8\"], [0.3333333333333333, \"#9c179e\"], [0.4444444444444444, \"#bd3786\"], [0.5555555555555556, \"#d8576b\"], [0.6666666666666666, \"#ed7953\"], [0.7777777777777778, \"#fb9f3a\"], [0.8888888888888888, \"#fdca26\"], [1.0, \"#f0f921\"]], \"type\": \"surface\"}], \"table\": [{\"cells\": {\"fill\": {\"color\": \"#506784\"}, \"line\": {\"color\": \"rgb(17,17,17)\"}}, \"header\": {\"fill\": {\"color\": \"#2a3f5f\"}, \"line\": {\"color\": \"rgb(17,17,17)\"}}, \"type\": \"table\"}]}, \"layout\": {\"annotationdefaults\": {\"arrowcolor\": \"#f2f5fa\", \"arrowhead\": 0, \"arrowwidth\": 1}, \"coloraxis\": {\"colorbar\": {\"outlinewidth\": 0, \"ticks\": \"\"}}, \"colorscale\": {\"diverging\": [[0, \"#8e0152\"], [0.1, \"#c51b7d\"], [0.2, \"#de77ae\"], [0.3, \"#f1b6da\"], [0.4, \"#fde0ef\"], [0.5, \"#f7f7f7\"], [0.6, \"#e6f5d0\"], [0.7, \"#b8e186\"], [0.8, \"#7fbc41\"], [0.9, \"#4d9221\"], [1, \"#276419\"]], \"sequential\": [[0.0, \"#0d0887\"], [0.1111111111111111, \"#46039f\"], [0.2222222222222222, \"#7201a8\"], [0.3333333333333333, \"#9c179e\"], [0.4444444444444444, \"#bd3786\"], [0.5555555555555556, \"#d8576b\"], [0.6666666666666666, \"#ed7953\"], [0.7777777777777778, \"#fb9f3a\"], [0.8888888888888888, \"#fdca26\"], [1.0, \"#f0f921\"]], \"sequentialminus\": [[0.0, \"#0d0887\"], [0.1111111111111111, \"#46039f\"], [0.2222222222222222, \"#7201a8\"], [0.3333333333333333, \"#9c179e\"], [0.4444444444444444, \"#bd3786\"], [0.5555555555555556, \"#d8576b\"], [0.6666666666666666, \"#ed7953\"], [0.7777777777777778, \"#fb9f3a\"], [0.8888888888888888, \"#fdca26\"], [1.0, \"#f0f921\"]]}, \"colorway\": [\"#636efa\", \"#EF553B\", \"#00cc96\", \"#ab63fa\", \"#FFA15A\", \"#19d3f3\", \"#FF6692\", \"#B6E880\", \"#FF97FF\", \"#FECB52\"], \"font\": {\"color\": \"#f2f5fa\"}, \"geo\": {\"bgcolor\": \"rgb(17,17,17)\", \"lakecolor\": \"rgb(17,17,17)\", \"landcolor\": \"rgb(17,17,17)\", \"showlakes\": true, \"showland\": true, \"subunitcolor\": \"#506784\"}, \"hoverlabel\": {\"align\": \"left\"}, \"hovermode\": \"closest\", \"mapbox\": {\"style\": \"dark\"}, \"paper_bgcolor\": \"rgb(17,17,17)\", \"plot_bgcolor\": \"rgb(17,17,17)\", \"polar\": {\"angularaxis\": {\"gridcolor\": \"#506784\", \"linecolor\": \"#506784\", \"ticks\": \"\"}, \"bgcolor\": \"rgb(17,17,17)\", \"radialaxis\": {\"gridcolor\": \"#506784\", \"linecolor\": \"#506784\", \"ticks\": \"\"}}, \"scene\": {\"xaxis\": {\"backgroundcolor\": \"rgb(17,17,17)\", \"gridcolor\": \"#506784\", \"gridwidth\": 2, \"linecolor\": \"#506784\", \"showbackground\": true, \"ticks\": \"\", \"zerolinecolor\": \"#C8D4E3\"}, \"yaxis\": {\"backgroundcolor\": \"rgb(17,17,17)\", \"gridcolor\": \"#506784\", \"gridwidth\": 2, \"linecolor\": \"#506784\", \"showbackground\": true, \"ticks\": \"\", \"zerolinecolor\": \"#C8D4E3\"}, \"zaxis\": {\"backgroundcolor\": \"rgb(17,17,17)\", \"gridcolor\": \"#506784\", \"gridwidth\": 2, \"linecolor\": \"#506784\", \"showbackground\": true, \"ticks\": \"\", \"zerolinecolor\": \"#C8D4E3\"}}, \"shapedefaults\": {\"line\": {\"color\": \"#f2f5fa\"}}, \"sliderdefaults\": {\"bgcolor\": \"#C8D4E3\", \"bordercolor\": \"rgb(17,17,17)\", \"borderwidth\": 1, \"tickwidth\": 0}, \"ternary\": {\"aaxis\": {\"gridcolor\": \"#506784\", \"linecolor\": \"#506784\", \"ticks\": \"\"}, \"baxis\": {\"gridcolor\": \"#506784\", \"linecolor\": \"#506784\", \"ticks\": \"\"}, \"bgcolor\": \"rgb(17,17,17)\", \"caxis\": {\"gridcolor\": \"#506784\", \"linecolor\": \"#506784\", \"ticks\": \"\"}}, \"title\": {\"x\": 0.05}, \"updatemenudefaults\": {\"bgcolor\": \"#506784\", \"borderwidth\": 0}, \"xaxis\": {\"automargin\": true, \"gridcolor\": \"#283442\", \"linecolor\": \"#506784\", \"ticks\": \"\", \"title\": {\"standoff\": 15}, \"zerolinecolor\": \"#283442\", \"zerolinewidth\": 2}, \"yaxis\": {\"automargin\": true, \"gridcolor\": \"#283442\", \"linecolor\": \"#506784\", \"ticks\": \"\", \"title\": {\"standoff\": 15}, \"zerolinecolor\": \"#283442\", \"zerolinewidth\": 2}}}, \"title\": {\"text\": \"Top 10 ranked Institutes NIRF 2020 RESULT\"}, \"width\": 1200, \"xaxis\": {\"anchor\": \"y\", \"categoryarray\": [\"Indian Institute of Technology Madras\", \"Indian Institute of Technology Delhi\", \"Indian Institute of Technology Bombay\", \"Indian Institute of Technology Kanpur\", \"Indian Institute of Technology Kharagpur\", \"Indian Institute of Technology Roorkee\", \"Indian Institute of Technology Guwahati\", \"Indian Institute of Technology Hyderabad\", \"National Institute of Technology Tiruchirappalli\", \"Indian Institute of Technology Indore\"], \"categoryorder\": \"array\", \"domain\": [0.0, 1.0], \"title\": {\"text\": \"Institutes\"}}, \"yaxis\": {\"anchor\": \"x\", \"domain\": [0.0, 1.0], \"title\": {\"text\": \"Rankings\"}}},\n",
              "                        {\"responsive\": true}\n",
              "                    ).then(function(){\n",
              "                            \n",
              "var gd = document.getElementById('85d7c233-e17f-4099-b056-c0aa2fab2dda');\n",
              "var x = new MutationObserver(function (mutations, observer) {{\n",
              "        var display = window.getComputedStyle(gd).display;\n",
              "        if (!display || display === 'none') {{\n",
              "            console.log([gd, 'removed!']);\n",
              "            Plotly.purge(gd);\n",
              "            observer.disconnect();\n",
              "        }}\n",
              "}});\n",
              "\n",
              "// Listen for the removal of the full notebook cells\n",
              "var notebookContainer = gd.closest('#notebook-container');\n",
              "if (notebookContainer) {{\n",
              "    x.observe(notebookContainer, {childList: true});\n",
              "}}\n",
              "\n",
              "// Listen for the clearing of the current output cell\n",
              "var outputEl = gd.closest('.output');\n",
              "if (outputEl) {{\n",
              "    x.observe(outputEl, {childList: true});\n",
              "}}\n",
              "\n",
              "                        })\n",
              "                };\n",
              "                \n",
              "            </script>\n",
              "        </div>\n",
              "</body>\n",
              "</html>"
            ]
          },
          "metadata": {
            "tags": []
          }
        }
      ]
    },
    {
      "cell_type": "markdown",
      "metadata": {
        "id": "WaidxoXQjZqi"
      },
      "source": [
        "# conclusion:-\n",
        "## The above graph shows the top 10 famous insttitues with their ranking order\n",
        "### Indian Institute of Technology Madras with rank 1,\n",
        "### Indian Institute of Technology Delhi with rank 2,\n",
        "### Indian Institute of Technology Kanpur with rank 3,\n",
        "#### These are the best indian instiutes\n"
      ]
    },
    {
      "cell_type": "code",
      "metadata": {
        "id": "vZ0W5ygzjZqj"
      },
      "source": [],
      "execution_count": null,
      "outputs": []
    },
    {
      "cell_type": "markdown",
      "metadata": {
        "id": "A8icitHfjZqj"
      },
      "source": [
        "# Top 10 ranked Institutes NIRF 3 years Analysis"
      ]
    },
    {
      "cell_type": "code",
      "metadata": {
        "colab": {
          "base_uri": "https://localhost:8080/",
          "height": 817
        },
        "cellView": "form",
        "id": "-zRC5Y2djZqj",
        "outputId": "60de1480-f9f1-44c0-c7f6-7d7e55003038"
      },
      "source": [
        "#@title\n",
        "import plotly.graph_objects as go\n",
        "import pandas as pd\n",
        "importdata = pd.read_csv('Book11.csv')\n",
        "x_axis=importdata[\"name\"]\n",
        "y_axis=importdata[\"rank\"]\n",
        "x_axis1=importdata[\"2019\"]\n",
        "y_axis1=importdata[\"rank\"]\n",
        "x_axis2=importdata[\"2018\"]\n",
        "y_axis2=importdata[\"rank\"]\n",
        "\n",
        "fig = go.Figure()\n",
        "fig.add_trace(go.Scatter(x=x_axis, y=y_axis,\n",
        "                    mode='lines',\n",
        "                    name='2020'))\n",
        "fig.add_trace(go.Scatter(x=x_axis1, y=y_axis1,\n",
        "                    mode='lines+markers',\n",
        "                    name='2019'))\n",
        "fig.add_trace(go.Scatter(x=x_axis2, y=y_axis2,\n",
        "                    mode='markers', name='2018'))\n",
        "fig.update_layout(template=\"plotly_dark\",height=800,width=1200,title='Top 10 ranked Institutes NIRF 3 years Analysis')\n",
        "\n",
        "fig.show()"
      ],
      "execution_count": null,
      "outputs": [
        {
          "output_type": "display_data",
          "data": {
            "text/html": [
              "<html>\n",
              "<head><meta charset=\"utf-8\" /></head>\n",
              "<body>\n",
              "    <div>\n",
              "            <script src=\"https://cdnjs.cloudflare.com/ajax/libs/mathjax/2.7.5/MathJax.js?config=TeX-AMS-MML_SVG\"></script><script type=\"text/javascript\">if (window.MathJax) {MathJax.Hub.Config({SVG: {font: \"STIX-Web\"}});}</script>\n",
              "                <script type=\"text/javascript\">window.PlotlyConfig = {MathJaxConfig: 'local'};</script>\n",
              "        <script src=\"https://cdn.plot.ly/plotly-latest.min.js\"></script>    \n",
              "            <div id=\"dfd66568-2744-4a61-8abb-f5c015a144ce\" class=\"plotly-graph-div\" style=\"height:800px; width:1200px;\"></div>\n",
              "            <script type=\"text/javascript\">\n",
              "                \n",
              "                    window.PLOTLYENV=window.PLOTLYENV || {};\n",
              "                    \n",
              "                if (document.getElementById(\"dfd66568-2744-4a61-8abb-f5c015a144ce\")) {\n",
              "                    Plotly.newPlot(\n",
              "                        'dfd66568-2744-4a61-8abb-f5c015a144ce',\n",
              "                        [{\"mode\": \"lines\", \"name\": \"2020\", \"type\": \"scatter\", \"x\": [\"Indian Institute of Technology Madras\", \"Indian Institute of Technology Delhi\", \"Indian Institute of Technology Bombay\", \"Indian Institute of Technology Kanpur\", \"Indian Institute of Technology Kharagpur\", \"Indian Institute of Technology Roorkee\", \"Indian Institute of Technology Guwahati\", \"Indian Institute of Technology Hyderabad\", \"National Institute of Technology Tiruchirappalli\", \"Indian Institute of Technology Indore\"], \"y\": [1, 2, 3, 4, 5, 6, 7, 8, 9, 10]}, {\"mode\": \"lines+markers\", \"name\": \"2019\", \"type\": \"scatter\", \"x\": [\"Indian Institute of Technology Madras\", \"Indian Institute of Science\", \"Indian Institute of Technology Delhi\", \"Indian Institute of Technology Bombay\", \"Indian Institute of Technology Kharagpur\", \"Indian Institute of Technology Kanpur\", \"Jawaharlal Nehru University\", \"Indian Institute of Technology Roorkee\", \"Indian Institute of Technology Guwahati\", \"Banaras Hindu University\"], \"y\": [1, 2, 3, 4, 5, 6, 7, 8, 9, 10]}, {\"mode\": \"markers\", \"name\": \"2018\", \"type\": \"scatter\", \"x\": [\"Indian Institute of Science\", \"Indian Institute of Technology Madras\", \"Indian Institute of Technology Bombay\", \"Indian Institute of Technology Delhi\", \"Indian Institute of Technology Kharagpur\", \"Jawaharlal Nehru University\", \"Indian Institute of Technology Kanpur\", \"Indian Institute of Technology Roorkee\", \"Banaras Hindu University\", \"Anna University\"], \"y\": [1, 2, 3, 4, 5, 6, 7, 8, 9, 10]}],\n",
              "                        {\"height\": 800, \"template\": {\"data\": {\"bar\": [{\"error_x\": {\"color\": \"#f2f5fa\"}, \"error_y\": {\"color\": \"#f2f5fa\"}, \"marker\": {\"line\": {\"color\": \"rgb(17,17,17)\", \"width\": 0.5}}, \"type\": \"bar\"}], \"barpolar\": [{\"marker\": {\"line\": {\"color\": \"rgb(17,17,17)\", \"width\": 0.5}}, \"type\": \"barpolar\"}], \"carpet\": [{\"aaxis\": {\"endlinecolor\": \"#A2B1C6\", \"gridcolor\": \"#506784\", \"linecolor\": \"#506784\", \"minorgridcolor\": \"#506784\", \"startlinecolor\": \"#A2B1C6\"}, \"baxis\": {\"endlinecolor\": \"#A2B1C6\", \"gridcolor\": \"#506784\", \"linecolor\": \"#506784\", \"minorgridcolor\": \"#506784\", \"startlinecolor\": \"#A2B1C6\"}, \"type\": \"carpet\"}], \"choropleth\": [{\"colorbar\": {\"outlinewidth\": 0, \"ticks\": \"\"}, \"type\": \"choropleth\"}], \"contour\": [{\"colorbar\": {\"outlinewidth\": 0, \"ticks\": \"\"}, \"colorscale\": [[0.0, \"#0d0887\"], [0.1111111111111111, \"#46039f\"], [0.2222222222222222, \"#7201a8\"], [0.3333333333333333, \"#9c179e\"], [0.4444444444444444, \"#bd3786\"], [0.5555555555555556, \"#d8576b\"], [0.6666666666666666, \"#ed7953\"], [0.7777777777777778, \"#fb9f3a\"], [0.8888888888888888, \"#fdca26\"], [1.0, \"#f0f921\"]], \"type\": \"contour\"}], \"contourcarpet\": [{\"colorbar\": {\"outlinewidth\": 0, \"ticks\": \"\"}, \"type\": \"contourcarpet\"}], \"heatmap\": [{\"colorbar\": {\"outlinewidth\": 0, \"ticks\": \"\"}, \"colorscale\": [[0.0, \"#0d0887\"], [0.1111111111111111, \"#46039f\"], [0.2222222222222222, \"#7201a8\"], [0.3333333333333333, \"#9c179e\"], [0.4444444444444444, \"#bd3786\"], [0.5555555555555556, \"#d8576b\"], [0.6666666666666666, \"#ed7953\"], [0.7777777777777778, \"#fb9f3a\"], [0.8888888888888888, \"#fdca26\"], [1.0, \"#f0f921\"]], \"type\": \"heatmap\"}], \"heatmapgl\": [{\"colorbar\": {\"outlinewidth\": 0, \"ticks\": \"\"}, \"colorscale\": [[0.0, \"#0d0887\"], [0.1111111111111111, \"#46039f\"], [0.2222222222222222, \"#7201a8\"], [0.3333333333333333, \"#9c179e\"], [0.4444444444444444, \"#bd3786\"], [0.5555555555555556, \"#d8576b\"], [0.6666666666666666, \"#ed7953\"], [0.7777777777777778, \"#fb9f3a\"], [0.8888888888888888, \"#fdca26\"], [1.0, \"#f0f921\"]], \"type\": \"heatmapgl\"}], \"histogram\": [{\"marker\": {\"colorbar\": {\"outlinewidth\": 0, \"ticks\": \"\"}}, \"type\": \"histogram\"}], \"histogram2d\": [{\"colorbar\": {\"outlinewidth\": 0, \"ticks\": \"\"}, \"colorscale\": [[0.0, \"#0d0887\"], [0.1111111111111111, \"#46039f\"], [0.2222222222222222, \"#7201a8\"], [0.3333333333333333, \"#9c179e\"], [0.4444444444444444, \"#bd3786\"], [0.5555555555555556, \"#d8576b\"], [0.6666666666666666, \"#ed7953\"], [0.7777777777777778, \"#fb9f3a\"], [0.8888888888888888, \"#fdca26\"], [1.0, \"#f0f921\"]], \"type\": \"histogram2d\"}], \"histogram2dcontour\": [{\"colorbar\": {\"outlinewidth\": 0, \"ticks\": \"\"}, \"colorscale\": [[0.0, \"#0d0887\"], [0.1111111111111111, \"#46039f\"], [0.2222222222222222, \"#7201a8\"], [0.3333333333333333, \"#9c179e\"], [0.4444444444444444, \"#bd3786\"], [0.5555555555555556, \"#d8576b\"], [0.6666666666666666, \"#ed7953\"], [0.7777777777777778, \"#fb9f3a\"], [0.8888888888888888, \"#fdca26\"], [1.0, \"#f0f921\"]], \"type\": \"histogram2dcontour\"}], \"mesh3d\": [{\"colorbar\": {\"outlinewidth\": 0, \"ticks\": \"\"}, \"type\": \"mesh3d\"}], \"parcoords\": [{\"line\": {\"colorbar\": {\"outlinewidth\": 0, \"ticks\": \"\"}}, \"type\": \"parcoords\"}], \"pie\": [{\"automargin\": true, \"type\": \"pie\"}], \"scatter\": [{\"marker\": {\"line\": {\"color\": \"#283442\"}}, \"type\": \"scatter\"}], \"scatter3d\": [{\"line\": {\"colorbar\": {\"outlinewidth\": 0, \"ticks\": \"\"}}, \"marker\": {\"colorbar\": {\"outlinewidth\": 0, \"ticks\": \"\"}}, \"type\": \"scatter3d\"}], \"scattercarpet\": [{\"marker\": {\"colorbar\": {\"outlinewidth\": 0, \"ticks\": \"\"}}, \"type\": \"scattercarpet\"}], \"scattergeo\": [{\"marker\": {\"colorbar\": {\"outlinewidth\": 0, \"ticks\": \"\"}}, \"type\": \"scattergeo\"}], \"scattergl\": [{\"marker\": {\"line\": {\"color\": \"#283442\"}}, \"type\": \"scattergl\"}], \"scattermapbox\": [{\"marker\": {\"colorbar\": {\"outlinewidth\": 0, \"ticks\": \"\"}}, \"type\": \"scattermapbox\"}], \"scatterpolar\": [{\"marker\": {\"colorbar\": {\"outlinewidth\": 0, \"ticks\": \"\"}}, \"type\": \"scatterpolar\"}], \"scatterpolargl\": [{\"marker\": {\"colorbar\": {\"outlinewidth\": 0, \"ticks\": \"\"}}, \"type\": \"scatterpolargl\"}], \"scatterternary\": [{\"marker\": {\"colorbar\": {\"outlinewidth\": 0, \"ticks\": \"\"}}, \"type\": \"scatterternary\"}], \"surface\": [{\"colorbar\": {\"outlinewidth\": 0, \"ticks\": \"\"}, \"colorscale\": [[0.0, \"#0d0887\"], [0.1111111111111111, \"#46039f\"], [0.2222222222222222, \"#7201a8\"], [0.3333333333333333, \"#9c179e\"], [0.4444444444444444, \"#bd3786\"], [0.5555555555555556, \"#d8576b\"], [0.6666666666666666, \"#ed7953\"], [0.7777777777777778, \"#fb9f3a\"], [0.8888888888888888, \"#fdca26\"], [1.0, \"#f0f921\"]], \"type\": \"surface\"}], \"table\": [{\"cells\": {\"fill\": {\"color\": \"#506784\"}, \"line\": {\"color\": \"rgb(17,17,17)\"}}, \"header\": {\"fill\": {\"color\": \"#2a3f5f\"}, \"line\": {\"color\": \"rgb(17,17,17)\"}}, \"type\": \"table\"}]}, \"layout\": {\"annotationdefaults\": {\"arrowcolor\": \"#f2f5fa\", \"arrowhead\": 0, \"arrowwidth\": 1}, \"coloraxis\": {\"colorbar\": {\"outlinewidth\": 0, \"ticks\": \"\"}}, \"colorscale\": {\"diverging\": [[0, \"#8e0152\"], [0.1, \"#c51b7d\"], [0.2, \"#de77ae\"], [0.3, \"#f1b6da\"], [0.4, \"#fde0ef\"], [0.5, \"#f7f7f7\"], [0.6, \"#e6f5d0\"], [0.7, \"#b8e186\"], [0.8, \"#7fbc41\"], [0.9, \"#4d9221\"], [1, \"#276419\"]], \"sequential\": [[0.0, \"#0d0887\"], [0.1111111111111111, \"#46039f\"], [0.2222222222222222, \"#7201a8\"], [0.3333333333333333, \"#9c179e\"], [0.4444444444444444, \"#bd3786\"], [0.5555555555555556, \"#d8576b\"], [0.6666666666666666, \"#ed7953\"], [0.7777777777777778, \"#fb9f3a\"], [0.8888888888888888, \"#fdca26\"], [1.0, \"#f0f921\"]], \"sequentialminus\": [[0.0, \"#0d0887\"], [0.1111111111111111, \"#46039f\"], [0.2222222222222222, \"#7201a8\"], [0.3333333333333333, \"#9c179e\"], [0.4444444444444444, \"#bd3786\"], [0.5555555555555556, \"#d8576b\"], [0.6666666666666666, \"#ed7953\"], [0.7777777777777778, \"#fb9f3a\"], [0.8888888888888888, \"#fdca26\"], [1.0, \"#f0f921\"]]}, \"colorway\": [\"#636efa\", \"#EF553B\", \"#00cc96\", \"#ab63fa\", \"#FFA15A\", \"#19d3f3\", \"#FF6692\", \"#B6E880\", \"#FF97FF\", \"#FECB52\"], \"font\": {\"color\": \"#f2f5fa\"}, \"geo\": {\"bgcolor\": \"rgb(17,17,17)\", \"lakecolor\": \"rgb(17,17,17)\", \"landcolor\": \"rgb(17,17,17)\", \"showlakes\": true, \"showland\": true, \"subunitcolor\": \"#506784\"}, \"hoverlabel\": {\"align\": \"left\"}, \"hovermode\": \"closest\", \"mapbox\": {\"style\": \"dark\"}, \"paper_bgcolor\": \"rgb(17,17,17)\", \"plot_bgcolor\": \"rgb(17,17,17)\", \"polar\": {\"angularaxis\": {\"gridcolor\": \"#506784\", \"linecolor\": \"#506784\", \"ticks\": \"\"}, \"bgcolor\": \"rgb(17,17,17)\", \"radialaxis\": {\"gridcolor\": \"#506784\", \"linecolor\": \"#506784\", \"ticks\": \"\"}}, \"scene\": {\"xaxis\": {\"backgroundcolor\": \"rgb(17,17,17)\", \"gridcolor\": \"#506784\", \"gridwidth\": 2, \"linecolor\": \"#506784\", \"showbackground\": true, \"ticks\": \"\", \"zerolinecolor\": \"#C8D4E3\"}, \"yaxis\": {\"backgroundcolor\": \"rgb(17,17,17)\", \"gridcolor\": \"#506784\", \"gridwidth\": 2, \"linecolor\": \"#506784\", \"showbackground\": true, \"ticks\": \"\", \"zerolinecolor\": \"#C8D4E3\"}, \"zaxis\": {\"backgroundcolor\": \"rgb(17,17,17)\", \"gridcolor\": \"#506784\", \"gridwidth\": 2, \"linecolor\": \"#506784\", \"showbackground\": true, \"ticks\": \"\", \"zerolinecolor\": \"#C8D4E3\"}}, \"shapedefaults\": {\"line\": {\"color\": \"#f2f5fa\"}}, \"sliderdefaults\": {\"bgcolor\": \"#C8D4E3\", \"bordercolor\": \"rgb(17,17,17)\", \"borderwidth\": 1, \"tickwidth\": 0}, \"ternary\": {\"aaxis\": {\"gridcolor\": \"#506784\", \"linecolor\": \"#506784\", \"ticks\": \"\"}, \"baxis\": {\"gridcolor\": \"#506784\", \"linecolor\": \"#506784\", \"ticks\": \"\"}, \"bgcolor\": \"rgb(17,17,17)\", \"caxis\": {\"gridcolor\": \"#506784\", \"linecolor\": \"#506784\", \"ticks\": \"\"}}, \"title\": {\"x\": 0.05}, \"updatemenudefaults\": {\"bgcolor\": \"#506784\", \"borderwidth\": 0}, \"xaxis\": {\"automargin\": true, \"gridcolor\": \"#283442\", \"linecolor\": \"#506784\", \"ticks\": \"\", \"title\": {\"standoff\": 15}, \"zerolinecolor\": \"#283442\", \"zerolinewidth\": 2}, \"yaxis\": {\"automargin\": true, \"gridcolor\": \"#283442\", \"linecolor\": \"#506784\", \"ticks\": \"\", \"title\": {\"standoff\": 15}, \"zerolinecolor\": \"#283442\", \"zerolinewidth\": 2}}}, \"title\": {\"text\": \"Top 10 ranked Institutes NIRF 3 years Analysis\"}, \"width\": 1200},\n",
              "                        {\"responsive\": true}\n",
              "                    ).then(function(){\n",
              "                            \n",
              "var gd = document.getElementById('dfd66568-2744-4a61-8abb-f5c015a144ce');\n",
              "var x = new MutationObserver(function (mutations, observer) {{\n",
              "        var display = window.getComputedStyle(gd).display;\n",
              "        if (!display || display === 'none') {{\n",
              "            console.log([gd, 'removed!']);\n",
              "            Plotly.purge(gd);\n",
              "            observer.disconnect();\n",
              "        }}\n",
              "}});\n",
              "\n",
              "// Listen for the removal of the full notebook cells\n",
              "var notebookContainer = gd.closest('#notebook-container');\n",
              "if (notebookContainer) {{\n",
              "    x.observe(notebookContainer, {childList: true});\n",
              "}}\n",
              "\n",
              "// Listen for the clearing of the current output cell\n",
              "var outputEl = gd.closest('.output');\n",
              "if (outputEl) {{\n",
              "    x.observe(outputEl, {childList: true});\n",
              "}}\n",
              "\n",
              "                        })\n",
              "                };\n",
              "                \n",
              "            </script>\n",
              "        </div>\n",
              "</body>\n",
              "</html>"
            ]
          },
          "metadata": {
            "tags": []
          }
        }
      ]
    },
    {
      "cell_type": "markdown",
      "metadata": {
        "id": "wn6HbVhhjZqk"
      },
      "source": [
        "# PARAMETERS WEIGHTAGE"
      ]
    },
    {
      "cell_type": "code",
      "metadata": {
        "colab": {
          "base_uri": "https://localhost:8080/",
          "height": 817
        },
        "cellView": "form",
        "id": "_Fk5sPX-jZqk",
        "outputId": "cff478b7-509e-4b7e-a674-d27a8e9392ce"
      },
      "source": [
        "#@title\n",
        "import plotly.express as px\n",
        "\n",
        "import pandas as pd\n",
        "df = pd.read_csv('Book5.csv')\n",
        "x=df[\"weight\"]\n",
        "y=df[\"Parameters\"]\n",
        "\n",
        "fig = px.pie(df, values=x, names=y,\n",
        "             title='parameters weightage',template=\"plotly_dark\",height=800,width=1200)\n",
        "fig.update_traces(textposition='inside', textinfo='percent+label')\n",
        "fig.show()"
      ],
      "execution_count": null,
      "outputs": [
        {
          "output_type": "display_data",
          "data": {
            "text/html": [
              "<html>\n",
              "<head><meta charset=\"utf-8\" /></head>\n",
              "<body>\n",
              "    <div>\n",
              "            <script src=\"https://cdnjs.cloudflare.com/ajax/libs/mathjax/2.7.5/MathJax.js?config=TeX-AMS-MML_SVG\"></script><script type=\"text/javascript\">if (window.MathJax) {MathJax.Hub.Config({SVG: {font: \"STIX-Web\"}});}</script>\n",
              "                <script type=\"text/javascript\">window.PlotlyConfig = {MathJaxConfig: 'local'};</script>\n",
              "        <script src=\"https://cdn.plot.ly/plotly-latest.min.js\"></script>    \n",
              "            <div id=\"abb484d9-7e96-489d-b320-aec12679f8ee\" class=\"plotly-graph-div\" style=\"height:800px; width:1200px;\"></div>\n",
              "            <script type=\"text/javascript\">\n",
              "                \n",
              "                    window.PLOTLYENV=window.PLOTLYENV || {};\n",
              "                    \n",
              "                if (document.getElementById(\"abb484d9-7e96-489d-b320-aec12679f8ee\")) {\n",
              "                    Plotly.newPlot(\n",
              "                        'abb484d9-7e96-489d-b320-aec12679f8ee',\n",
              "                        [{\"domain\": {\"x\": [0.0, 1.0], \"y\": [0.0, 1.0]}, \"hoverlabel\": {\"namelength\": 0}, \"hovertemplate\": \"Parameters=%{label}<br>weight=%{value}\", \"labels\": [\"Tlr\", \"oi\", \"rpi\", \"go\", \"pr\", null], \"legendgroup\": \"\", \"name\": \"\", \"showlegend\": true, \"textinfo\": \"percent+label\", \"textposition\": \"inside\", \"type\": \"pie\", \"values\": [30.0, 15.0, 30.0, 15.0, 10.0, null]}],\n",
              "                        {\"height\": 800, \"legend\": {\"tracegroupgap\": 0}, \"template\": {\"data\": {\"bar\": [{\"error_x\": {\"color\": \"#f2f5fa\"}, \"error_y\": {\"color\": \"#f2f5fa\"}, \"marker\": {\"line\": {\"color\": \"rgb(17,17,17)\", \"width\": 0.5}}, \"type\": \"bar\"}], \"barpolar\": [{\"marker\": {\"line\": {\"color\": \"rgb(17,17,17)\", \"width\": 0.5}}, \"type\": \"barpolar\"}], \"carpet\": [{\"aaxis\": {\"endlinecolor\": \"#A2B1C6\", \"gridcolor\": \"#506784\", \"linecolor\": \"#506784\", \"minorgridcolor\": \"#506784\", \"startlinecolor\": \"#A2B1C6\"}, \"baxis\": {\"endlinecolor\": \"#A2B1C6\", \"gridcolor\": \"#506784\", \"linecolor\": \"#506784\", \"minorgridcolor\": \"#506784\", \"startlinecolor\": \"#A2B1C6\"}, \"type\": \"carpet\"}], \"choropleth\": [{\"colorbar\": {\"outlinewidth\": 0, \"ticks\": \"\"}, \"type\": \"choropleth\"}], \"contour\": [{\"colorbar\": {\"outlinewidth\": 0, \"ticks\": \"\"}, \"colorscale\": [[0.0, \"#0d0887\"], [0.1111111111111111, \"#46039f\"], [0.2222222222222222, \"#7201a8\"], [0.3333333333333333, \"#9c179e\"], [0.4444444444444444, \"#bd3786\"], [0.5555555555555556, \"#d8576b\"], [0.6666666666666666, \"#ed7953\"], [0.7777777777777778, \"#fb9f3a\"], [0.8888888888888888, \"#fdca26\"], [1.0, \"#f0f921\"]], \"type\": \"contour\"}], \"contourcarpet\": [{\"colorbar\": {\"outlinewidth\": 0, \"ticks\": \"\"}, \"type\": \"contourcarpet\"}], \"heatmap\": [{\"colorbar\": {\"outlinewidth\": 0, \"ticks\": \"\"}, \"colorscale\": [[0.0, \"#0d0887\"], [0.1111111111111111, \"#46039f\"], [0.2222222222222222, \"#7201a8\"], [0.3333333333333333, \"#9c179e\"], [0.4444444444444444, \"#bd3786\"], [0.5555555555555556, \"#d8576b\"], [0.6666666666666666, \"#ed7953\"], [0.7777777777777778, \"#fb9f3a\"], [0.8888888888888888, \"#fdca26\"], [1.0, \"#f0f921\"]], \"type\": \"heatmap\"}], \"heatmapgl\": [{\"colorbar\": {\"outlinewidth\": 0, \"ticks\": \"\"}, \"colorscale\": [[0.0, \"#0d0887\"], [0.1111111111111111, \"#46039f\"], [0.2222222222222222, \"#7201a8\"], [0.3333333333333333, \"#9c179e\"], [0.4444444444444444, \"#bd3786\"], [0.5555555555555556, \"#d8576b\"], [0.6666666666666666, \"#ed7953\"], [0.7777777777777778, \"#fb9f3a\"], [0.8888888888888888, \"#fdca26\"], [1.0, \"#f0f921\"]], \"type\": \"heatmapgl\"}], \"histogram\": [{\"marker\": {\"colorbar\": {\"outlinewidth\": 0, \"ticks\": \"\"}}, \"type\": \"histogram\"}], \"histogram2d\": [{\"colorbar\": {\"outlinewidth\": 0, \"ticks\": \"\"}, \"colorscale\": [[0.0, \"#0d0887\"], [0.1111111111111111, \"#46039f\"], [0.2222222222222222, \"#7201a8\"], [0.3333333333333333, \"#9c179e\"], [0.4444444444444444, \"#bd3786\"], [0.5555555555555556, \"#d8576b\"], [0.6666666666666666, \"#ed7953\"], [0.7777777777777778, \"#fb9f3a\"], [0.8888888888888888, \"#fdca26\"], [1.0, \"#f0f921\"]], \"type\": \"histogram2d\"}], \"histogram2dcontour\": [{\"colorbar\": {\"outlinewidth\": 0, \"ticks\": \"\"}, \"colorscale\": [[0.0, \"#0d0887\"], [0.1111111111111111, \"#46039f\"], [0.2222222222222222, \"#7201a8\"], [0.3333333333333333, \"#9c179e\"], [0.4444444444444444, \"#bd3786\"], [0.5555555555555556, \"#d8576b\"], [0.6666666666666666, \"#ed7953\"], [0.7777777777777778, \"#fb9f3a\"], [0.8888888888888888, \"#fdca26\"], [1.0, \"#f0f921\"]], \"type\": \"histogram2dcontour\"}], \"mesh3d\": [{\"colorbar\": {\"outlinewidth\": 0, \"ticks\": \"\"}, \"type\": \"mesh3d\"}], \"parcoords\": [{\"line\": {\"colorbar\": {\"outlinewidth\": 0, \"ticks\": \"\"}}, \"type\": \"parcoords\"}], \"pie\": [{\"automargin\": true, \"type\": \"pie\"}], \"scatter\": [{\"marker\": {\"line\": {\"color\": \"#283442\"}}, \"type\": \"scatter\"}], \"scatter3d\": [{\"line\": {\"colorbar\": {\"outlinewidth\": 0, \"ticks\": \"\"}}, \"marker\": {\"colorbar\": {\"outlinewidth\": 0, \"ticks\": \"\"}}, \"type\": \"scatter3d\"}], \"scattercarpet\": [{\"marker\": {\"colorbar\": {\"outlinewidth\": 0, \"ticks\": \"\"}}, \"type\": \"scattercarpet\"}], \"scattergeo\": [{\"marker\": {\"colorbar\": {\"outlinewidth\": 0, \"ticks\": \"\"}}, \"type\": \"scattergeo\"}], \"scattergl\": [{\"marker\": {\"line\": {\"color\": \"#283442\"}}, \"type\": \"scattergl\"}], \"scattermapbox\": [{\"marker\": {\"colorbar\": {\"outlinewidth\": 0, \"ticks\": \"\"}}, \"type\": \"scattermapbox\"}], \"scatterpolar\": [{\"marker\": {\"colorbar\": {\"outlinewidth\": 0, \"ticks\": \"\"}}, \"type\": \"scatterpolar\"}], \"scatterpolargl\": [{\"marker\": {\"colorbar\": {\"outlinewidth\": 0, \"ticks\": \"\"}}, \"type\": \"scatterpolargl\"}], \"scatterternary\": [{\"marker\": {\"colorbar\": {\"outlinewidth\": 0, \"ticks\": \"\"}}, \"type\": \"scatterternary\"}], \"surface\": [{\"colorbar\": {\"outlinewidth\": 0, \"ticks\": \"\"}, \"colorscale\": [[0.0, \"#0d0887\"], [0.1111111111111111, \"#46039f\"], [0.2222222222222222, \"#7201a8\"], [0.3333333333333333, \"#9c179e\"], [0.4444444444444444, \"#bd3786\"], [0.5555555555555556, \"#d8576b\"], [0.6666666666666666, \"#ed7953\"], [0.7777777777777778, \"#fb9f3a\"], [0.8888888888888888, \"#fdca26\"], [1.0, \"#f0f921\"]], \"type\": \"surface\"}], \"table\": [{\"cells\": {\"fill\": {\"color\": \"#506784\"}, \"line\": {\"color\": \"rgb(17,17,17)\"}}, \"header\": {\"fill\": {\"color\": \"#2a3f5f\"}, \"line\": {\"color\": \"rgb(17,17,17)\"}}, \"type\": \"table\"}]}, \"layout\": {\"annotationdefaults\": {\"arrowcolor\": \"#f2f5fa\", \"arrowhead\": 0, \"arrowwidth\": 1}, \"coloraxis\": {\"colorbar\": {\"outlinewidth\": 0, \"ticks\": \"\"}}, \"colorscale\": {\"diverging\": [[0, \"#8e0152\"], [0.1, \"#c51b7d\"], [0.2, \"#de77ae\"], [0.3, \"#f1b6da\"], [0.4, \"#fde0ef\"], [0.5, \"#f7f7f7\"], [0.6, \"#e6f5d0\"], [0.7, \"#b8e186\"], [0.8, \"#7fbc41\"], [0.9, \"#4d9221\"], [1, \"#276419\"]], \"sequential\": [[0.0, \"#0d0887\"], [0.1111111111111111, \"#46039f\"], [0.2222222222222222, \"#7201a8\"], [0.3333333333333333, \"#9c179e\"], [0.4444444444444444, \"#bd3786\"], [0.5555555555555556, \"#d8576b\"], [0.6666666666666666, \"#ed7953\"], [0.7777777777777778, \"#fb9f3a\"], [0.8888888888888888, \"#fdca26\"], [1.0, \"#f0f921\"]], \"sequentialminus\": [[0.0, \"#0d0887\"], [0.1111111111111111, \"#46039f\"], [0.2222222222222222, \"#7201a8\"], [0.3333333333333333, \"#9c179e\"], [0.4444444444444444, \"#bd3786\"], [0.5555555555555556, \"#d8576b\"], [0.6666666666666666, \"#ed7953\"], [0.7777777777777778, \"#fb9f3a\"], [0.8888888888888888, \"#fdca26\"], [1.0, \"#f0f921\"]]}, \"colorway\": [\"#636efa\", \"#EF553B\", \"#00cc96\", \"#ab63fa\", \"#FFA15A\", \"#19d3f3\", \"#FF6692\", \"#B6E880\", \"#FF97FF\", \"#FECB52\"], \"font\": {\"color\": \"#f2f5fa\"}, \"geo\": {\"bgcolor\": \"rgb(17,17,17)\", \"lakecolor\": \"rgb(17,17,17)\", \"landcolor\": \"rgb(17,17,17)\", \"showlakes\": true, \"showland\": true, \"subunitcolor\": \"#506784\"}, \"hoverlabel\": {\"align\": \"left\"}, \"hovermode\": \"closest\", \"mapbox\": {\"style\": \"dark\"}, \"paper_bgcolor\": \"rgb(17,17,17)\", \"plot_bgcolor\": \"rgb(17,17,17)\", \"polar\": {\"angularaxis\": {\"gridcolor\": \"#506784\", \"linecolor\": \"#506784\", \"ticks\": \"\"}, \"bgcolor\": \"rgb(17,17,17)\", \"radialaxis\": {\"gridcolor\": \"#506784\", \"linecolor\": \"#506784\", \"ticks\": \"\"}}, \"scene\": {\"xaxis\": {\"backgroundcolor\": \"rgb(17,17,17)\", \"gridcolor\": \"#506784\", \"gridwidth\": 2, \"linecolor\": \"#506784\", \"showbackground\": true, \"ticks\": \"\", \"zerolinecolor\": \"#C8D4E3\"}, \"yaxis\": {\"backgroundcolor\": \"rgb(17,17,17)\", \"gridcolor\": \"#506784\", \"gridwidth\": 2, \"linecolor\": \"#506784\", \"showbackground\": true, \"ticks\": \"\", \"zerolinecolor\": \"#C8D4E3\"}, \"zaxis\": {\"backgroundcolor\": \"rgb(17,17,17)\", \"gridcolor\": \"#506784\", \"gridwidth\": 2, \"linecolor\": \"#506784\", \"showbackground\": true, \"ticks\": \"\", \"zerolinecolor\": \"#C8D4E3\"}}, \"shapedefaults\": {\"line\": {\"color\": \"#f2f5fa\"}}, \"sliderdefaults\": {\"bgcolor\": \"#C8D4E3\", \"bordercolor\": \"rgb(17,17,17)\", \"borderwidth\": 1, \"tickwidth\": 0}, \"ternary\": {\"aaxis\": {\"gridcolor\": \"#506784\", \"linecolor\": \"#506784\", \"ticks\": \"\"}, \"baxis\": {\"gridcolor\": \"#506784\", \"linecolor\": \"#506784\", \"ticks\": \"\"}, \"bgcolor\": \"rgb(17,17,17)\", \"caxis\": {\"gridcolor\": \"#506784\", \"linecolor\": \"#506784\", \"ticks\": \"\"}}, \"title\": {\"x\": 0.05}, \"updatemenudefaults\": {\"bgcolor\": \"#506784\", \"borderwidth\": 0}, \"xaxis\": {\"automargin\": true, \"gridcolor\": \"#283442\", \"linecolor\": \"#506784\", \"ticks\": \"\", \"title\": {\"standoff\": 15}, \"zerolinecolor\": \"#283442\", \"zerolinewidth\": 2}, \"yaxis\": {\"automargin\": true, \"gridcolor\": \"#283442\", \"linecolor\": \"#506784\", \"ticks\": \"\", \"title\": {\"standoff\": 15}, \"zerolinecolor\": \"#283442\", \"zerolinewidth\": 2}}}, \"title\": {\"text\": \"parameters weightage\"}, \"width\": 1200},\n",
              "                        {\"responsive\": true}\n",
              "                    ).then(function(){\n",
              "                            \n",
              "var gd = document.getElementById('abb484d9-7e96-489d-b320-aec12679f8ee');\n",
              "var x = new MutationObserver(function (mutations, observer) {{\n",
              "        var display = window.getComputedStyle(gd).display;\n",
              "        if (!display || display === 'none') {{\n",
              "            console.log([gd, 'removed!']);\n",
              "            Plotly.purge(gd);\n",
              "            observer.disconnect();\n",
              "        }}\n",
              "}});\n",
              "\n",
              "// Listen for the removal of the full notebook cells\n",
              "var notebookContainer = gd.closest('#notebook-container');\n",
              "if (notebookContainer) {{\n",
              "    x.observe(notebookContainer, {childList: true});\n",
              "}}\n",
              "\n",
              "// Listen for the clearing of the current output cell\n",
              "var outputEl = gd.closest('.output');\n",
              "if (outputEl) {{\n",
              "    x.observe(outputEl, {childList: true});\n",
              "}}\n",
              "\n",
              "                        })\n",
              "                };\n",
              "                \n",
              "            </script>\n",
              "        </div>\n",
              "</body>\n",
              "</html>"
            ]
          },
          "metadata": {
            "tags": []
          }
        }
      ]
    },
    {
      "cell_type": "markdown",
      "metadata": {
        "id": "1YkKs61AjZqk"
      },
      "source": [
        "# Analysis of each parameter"
      ]
    },
    {
      "cell_type": "code",
      "metadata": {
        "colab": {
          "base_uri": "https://localhost:8080/",
          "height": 354
        },
        "id": "AXEorq-ojZqk",
        "outputId": "021e793a-aa17-41b2-cb52-1c55bf6bd6ba"
      },
      "source": [
        "import plotly.express as px\n",
        "import pandas as pd\n",
        "df = pd.read_csv('Book9.csv')\n",
        "\n",
        "\n",
        "fig = px.bar(df, x=\"name\", y=[\"tlr\", \"rpc\", \"go\",\"oi\"], title=\"Analysis of Each Parameter 2020 Top10\",template=\"plotly_dark\",height=800,width=1200)\n",
        "fig.show()"
      ],
      "execution_count": null,
      "outputs": [
        {
          "output_type": "error",
          "ename": "ValueError",
          "evalue": "ignored",
          "traceback": [
            "\u001b[0;31m---------------------------------------------------------------------------\u001b[0m",
            "\u001b[0;31mValueError\u001b[0m                                Traceback (most recent call last)",
            "\u001b[0;32m<ipython-input-11-508c0bced574>\u001b[0m in \u001b[0;36m<module>\u001b[0;34m()\u001b[0m\n\u001b[1;32m      4\u001b[0m \u001b[0;34m\u001b[0m\u001b[0m\n\u001b[1;32m      5\u001b[0m \u001b[0;34m\u001b[0m\u001b[0m\n\u001b[0;32m----> 6\u001b[0;31m \u001b[0mfig\u001b[0m \u001b[0;34m=\u001b[0m \u001b[0mpx\u001b[0m\u001b[0;34m.\u001b[0m\u001b[0mbar\u001b[0m\u001b[0;34m(\u001b[0m\u001b[0mdf\u001b[0m\u001b[0;34m,\u001b[0m \u001b[0mx\u001b[0m\u001b[0;34m=\u001b[0m\u001b[0;34m\"name\"\u001b[0m\u001b[0;34m,\u001b[0m \u001b[0my\u001b[0m\u001b[0;34m=\u001b[0m\u001b[0;34m[\u001b[0m\u001b[0;34m\"tlr\"\u001b[0m\u001b[0;34m,\u001b[0m \u001b[0;34m\"rpc\"\u001b[0m\u001b[0;34m,\u001b[0m \u001b[0;34m\"go\"\u001b[0m\u001b[0;34m,\u001b[0m\u001b[0;34m\"oi\"\u001b[0m\u001b[0;34m]\u001b[0m\u001b[0;34m,\u001b[0m \u001b[0mtitle\u001b[0m\u001b[0;34m=\u001b[0m\u001b[0;34m\"Analysis of Each Parameter 2020 Top10\"\u001b[0m\u001b[0;34m,\u001b[0m\u001b[0mtemplate\u001b[0m\u001b[0;34m=\u001b[0m\u001b[0;34m\"plotly_dark\"\u001b[0m\u001b[0;34m,\u001b[0m\u001b[0mheight\u001b[0m\u001b[0;34m=\u001b[0m\u001b[0;36m800\u001b[0m\u001b[0;34m,\u001b[0m\u001b[0mwidth\u001b[0m\u001b[0;34m=\u001b[0m\u001b[0;36m1200\u001b[0m\u001b[0;34m)\u001b[0m\u001b[0;34m\u001b[0m\u001b[0;34m\u001b[0m\u001b[0m\n\u001b[0m\u001b[1;32m      7\u001b[0m \u001b[0mfig\u001b[0m\u001b[0;34m.\u001b[0m\u001b[0mshow\u001b[0m\u001b[0;34m(\u001b[0m\u001b[0;34m)\u001b[0m\u001b[0;34m\u001b[0m\u001b[0;34m\u001b[0m\u001b[0m\n",
            "\u001b[0;32m/usr/local/lib/python3.7/dist-packages/plotly/express/_chart_types.py\u001b[0m in \u001b[0;36mbar\u001b[0;34m(data_frame, x, y, color, facet_row, facet_col, facet_col_wrap, hover_name, hover_data, custom_data, text, error_x, error_x_minus, error_y, error_y_minus, animation_frame, animation_group, category_orders, labels, color_discrete_sequence, color_discrete_map, color_continuous_scale, range_color, color_continuous_midpoint, opacity, orientation, barmode, log_x, log_y, range_x, range_y, title, template, width, height)\u001b[0m\n\u001b[1;32m    311\u001b[0m         \u001b[0mconstructor\u001b[0m\u001b[0;34m=\u001b[0m\u001b[0mgo\u001b[0m\u001b[0;34m.\u001b[0m\u001b[0mBar\u001b[0m\u001b[0;34m,\u001b[0m\u001b[0;34m\u001b[0m\u001b[0;34m\u001b[0m\u001b[0m\n\u001b[1;32m    312\u001b[0m         \u001b[0mtrace_patch\u001b[0m\u001b[0;34m=\u001b[0m\u001b[0mdict\u001b[0m\u001b[0;34m(\u001b[0m\u001b[0morientation\u001b[0m\u001b[0;34m=\u001b[0m\u001b[0morientation\u001b[0m\u001b[0;34m,\u001b[0m \u001b[0mtextposition\u001b[0m\u001b[0;34m=\u001b[0m\u001b[0;34m\"auto\"\u001b[0m\u001b[0;34m)\u001b[0m\u001b[0;34m,\u001b[0m\u001b[0;34m\u001b[0m\u001b[0;34m\u001b[0m\u001b[0m\n\u001b[0;32m--> 313\u001b[0;31m         \u001b[0mlayout_patch\u001b[0m\u001b[0;34m=\u001b[0m\u001b[0mdict\u001b[0m\u001b[0;34m(\u001b[0m\u001b[0mbarmode\u001b[0m\u001b[0;34m=\u001b[0m\u001b[0mbarmode\u001b[0m\u001b[0;34m)\u001b[0m\u001b[0;34m,\u001b[0m\u001b[0;34m\u001b[0m\u001b[0;34m\u001b[0m\u001b[0m\n\u001b[0m\u001b[1;32m    314\u001b[0m     )\n\u001b[1;32m    315\u001b[0m \u001b[0;34m\u001b[0m\u001b[0m\n",
            "\u001b[0;32m/usr/local/lib/python3.7/dist-packages/plotly/express/_core.py\u001b[0m in \u001b[0;36mmake_figure\u001b[0;34m(args, constructor, trace_patch, layout_patch)\u001b[0m\n\u001b[1;32m   1170\u001b[0m \u001b[0;34m\u001b[0m\u001b[0m\n\u001b[1;32m   1171\u001b[0m     args, trace_specs, grouped_mappings, sizeref, show_colorbar = infer_config(\n\u001b[0;32m-> 1172\u001b[0;31m         \u001b[0margs\u001b[0m\u001b[0;34m,\u001b[0m \u001b[0mconstructor\u001b[0m\u001b[0;34m,\u001b[0m \u001b[0mtrace_patch\u001b[0m\u001b[0;34m\u001b[0m\u001b[0;34m\u001b[0m\u001b[0m\n\u001b[0m\u001b[1;32m   1173\u001b[0m     )\n\u001b[1;32m   1174\u001b[0m     \u001b[0mgrouper\u001b[0m \u001b[0;34m=\u001b[0m \u001b[0;34m[\u001b[0m\u001b[0mx\u001b[0m\u001b[0;34m.\u001b[0m\u001b[0mgrouper\u001b[0m \u001b[0;32mor\u001b[0m \u001b[0mone_group\u001b[0m \u001b[0;32mfor\u001b[0m \u001b[0mx\u001b[0m \u001b[0;32min\u001b[0m \u001b[0mgrouped_mappings\u001b[0m\u001b[0;34m]\u001b[0m \u001b[0;32mor\u001b[0m \u001b[0;34m[\u001b[0m\u001b[0mone_group\u001b[0m\u001b[0;34m]\u001b[0m\u001b[0;34m\u001b[0m\u001b[0;34m\u001b[0m\u001b[0m\n",
            "\u001b[0;32m/usr/local/lib/python3.7/dist-packages/plotly/express/_core.py\u001b[0m in \u001b[0;36minfer_config\u001b[0;34m(args, constructor, trace_patch)\u001b[0m\n\u001b[1;32m   1026\u001b[0m             \u001b[0mall_attrables\u001b[0m \u001b[0;34m+=\u001b[0m \u001b[0;34m[\u001b[0m\u001b[0mgroup_attr\u001b[0m\u001b[0;34m]\u001b[0m\u001b[0;34m\u001b[0m\u001b[0;34m\u001b[0m\u001b[0m\n\u001b[1;32m   1027\u001b[0m \u001b[0;34m\u001b[0m\u001b[0m\n\u001b[0;32m-> 1028\u001b[0;31m     \u001b[0margs\u001b[0m \u001b[0;34m=\u001b[0m \u001b[0mbuild_dataframe\u001b[0m\u001b[0;34m(\u001b[0m\u001b[0margs\u001b[0m\u001b[0;34m,\u001b[0m \u001b[0mall_attrables\u001b[0m\u001b[0;34m,\u001b[0m \u001b[0marray_attrables\u001b[0m\u001b[0;34m)\u001b[0m\u001b[0;34m\u001b[0m\u001b[0;34m\u001b[0m\u001b[0m\n\u001b[0m\u001b[1;32m   1029\u001b[0m \u001b[0;34m\u001b[0m\u001b[0m\n\u001b[1;32m   1030\u001b[0m     \u001b[0mattrs\u001b[0m \u001b[0;34m=\u001b[0m \u001b[0;34m[\u001b[0m\u001b[0mk\u001b[0m \u001b[0;32mfor\u001b[0m \u001b[0mk\u001b[0m \u001b[0;32min\u001b[0m \u001b[0mattrables\u001b[0m \u001b[0;32mif\u001b[0m \u001b[0mk\u001b[0m \u001b[0;32min\u001b[0m \u001b[0margs\u001b[0m\u001b[0;34m]\u001b[0m\u001b[0;34m\u001b[0m\u001b[0;34m\u001b[0m\u001b[0m\n",
            "\u001b[0;32m/usr/local/lib/python3.7/dist-packages/plotly/express/_core.py\u001b[0m in \u001b[0;36mbuild_dataframe\u001b[0;34m(args, attrables, array_attrables)\u001b[0m\n\u001b[1;32m    991\u001b[0m                         \u001b[0;34m\"The length of argument `%s` is %d, whereas the \"\u001b[0m\u001b[0;34m\u001b[0m\u001b[0;34m\u001b[0m\u001b[0m\n\u001b[1;32m    992\u001b[0m                         \u001b[0;34m\"length of previous arguments %s is %d\"\u001b[0m\u001b[0;34m\u001b[0m\u001b[0;34m\u001b[0m\u001b[0m\n\u001b[0;32m--> 993\u001b[0;31m                         \u001b[0;34m%\u001b[0m \u001b[0;34m(\u001b[0m\u001b[0mfield\u001b[0m\u001b[0;34m,\u001b[0m \u001b[0mlen\u001b[0m\u001b[0;34m(\u001b[0m\u001b[0margument\u001b[0m\u001b[0;34m)\u001b[0m\u001b[0;34m,\u001b[0m \u001b[0mstr\u001b[0m\u001b[0;34m(\u001b[0m\u001b[0mlist\u001b[0m\u001b[0;34m(\u001b[0m\u001b[0mdf_output\u001b[0m\u001b[0;34m.\u001b[0m\u001b[0mcolumns\u001b[0m\u001b[0;34m)\u001b[0m\u001b[0;34m)\u001b[0m\u001b[0;34m,\u001b[0m \u001b[0mlength\u001b[0m\u001b[0;34m)\u001b[0m\u001b[0;34m\u001b[0m\u001b[0;34m\u001b[0m\u001b[0m\n\u001b[0m\u001b[1;32m    994\u001b[0m                     )\n\u001b[1;32m    995\u001b[0m                 \u001b[0;32mif\u001b[0m \u001b[0mhasattr\u001b[0m\u001b[0;34m(\u001b[0m\u001b[0margument\u001b[0m\u001b[0;34m,\u001b[0m \u001b[0;34m\"values\"\u001b[0m\u001b[0;34m)\u001b[0m\u001b[0;34m:\u001b[0m\u001b[0;34m\u001b[0m\u001b[0;34m\u001b[0m\u001b[0m\n",
            "\u001b[0;31mValueError\u001b[0m: All arguments should have the same length. The length of argument `y` is 4, whereas the length of previous arguments ['name'] is 9"
          ]
        }
      ]
    },
    {
      "cell_type": "markdown",
      "metadata": {
        "id": "CsMAhaEyjZql"
      },
      "source": [
        "# Region-wise Participation of Institutions in India Rankings 2020"
      ]
    },
    {
      "cell_type": "code",
      "metadata": {
        "id": "6XnE8u7JjZql",
        "outputId": "e47f2c4c-f781-4b6f-a254-470c5fbfe620"
      },
      "source": [
        "import plotly.graph_objects as go\n",
        "from plotly.subplots import make_subplots\n",
        "import pandas as pd\n",
        "\n",
        "df = pd.read_csv(r'E:\\Downloads\\complete data1.csv')\n",
        "\n",
        "a=df[\"engg\"]\n",
        "b=df[\"Direction\"]\n",
        "c=df[\"mgn\"]\n",
        "d=df[\"pharma\"]\n",
        "e=df[\"arch\"]\n",
        "\n",
        "\n",
        "fig = make_subplots(rows=2, cols=2, specs=[[{'type': 'polar'}]*2]*2)\n",
        "\n",
        "fig.add_trace(go.Scatterpolar(\n",
        "      name = \"Engineering\",\n",
        "      r = a,\n",
        "    theta = b,\n",
        "    ), 1, 1)\n",
        "fig.add_trace(go.Scatterpolar(\n",
        "      name = \"Management\",\n",
        "      r = c,\n",
        "      theta = b,\n",
        "\n",
        "    ), 1, 2)\n",
        "fig.add_trace(go.Scatterpolar(\n",
        "      name = \"Pharma\",\n",
        "      r = d,\n",
        "      theta = b,\n",
        "    ), 2,1)\n",
        "fig.add_trace(go.Scatterpolar(\n",
        "      name = \"Architecture\",\n",
        "      r = e,\n",
        "      theta = b,\n",
        "    ), 2, 2)\n",
        "fig.update_traces(fill='toself')\n",
        "fig.update_layout(\n",
        "    polar = dict(\n",
        "      radialaxis_angle = 90,\n",
        "      angularaxis = dict(\n",
        "        direction = \"clockwise\",\n",
        "        period = 4) ,\n",
        "    ),\n",
        "    polar2 = dict(\n",
        "        radialaxis_angle = 90,\n",
        "      angularaxis = dict(\n",
        "        direction = \"clockwise\",\n",
        "        period = 4)\n",
        "\n",
        "\n",
        "    ),\n",
        "    polar3 = dict(\n",
        "        radialaxis_angle = 90,\n",
        "      angularaxis = dict(\n",
        "        direction = \"clockwise\",\n",
        "        period = 4)\n",
        "\n",
        "    ),\n",
        "    polar4 = dict(\n",
        "     radialaxis_angle = 90,\n",
        "      angularaxis = dict(\n",
        "        direction = \"clockwise\",\n",
        "        period = 4)\n",
        "\n",
        "    ))\n",
        "\n",
        "\n",
        "fig.update_layout(template=\"plotly_dark\",title=\"Region-wise Participation of Institutions in India Rankings 2020\",height=800,width=1200)"
      ],
      "execution_count": null,
      "outputs": [
        {
          "output_type": "display_data",
          "data": {
            "application/vnd.plotly.v1+json": {
              "config": {
                "plotlyServerURL": "https://plot.ly"
              },
              "data": [
                {
                  "fill": "toself",
                  "name": "Engineering",
                  "r": [
                    142,
                    98,
                    554,
                    277
                  ],
                  "subplot": "polar",
                  "theta": [
                    "north",
                    "east",
                    "south",
                    "west"
                  ],
                  "type": "scatterpolar"
                },
                {
                  "fill": "toself",
                  "name": "Management",
                  "r": [
                    137,
                    43,
                    271,
                    179
                  ],
                  "subplot": "polar2",
                  "theta": [
                    "north",
                    "east",
                    "south",
                    "west"
                  ],
                  "type": "scatterpolar"
                },
                {
                  "fill": "toself",
                  "name": "Pharma",
                  "r": [
                    53,
                    18,
                    126,
                    137
                  ],
                  "subplot": "polar3",
                  "theta": [
                    "north",
                    "east",
                    "south",
                    "west"
                  ],
                  "type": "scatterpolar"
                },
                {
                  "fill": "toself",
                  "name": "Architecture",
                  "r": [
                    18,
                    6,
                    25,
                    17
                  ],
                  "subplot": "polar4",
                  "theta": [
                    "north",
                    "east",
                    "south",
                    "west"
                  ],
                  "type": "scatterpolar"
                }
              ],
              "layout": {
                "height": 800,
                "polar": {
                  "angularaxis": {
                    "direction": "clockwise",
                    "period": 4
                  },
                  "domain": {
                    "x": [
                      0,
                      0.45
                    ],
                    "y": [
                      0.575,
                      1
                    ]
                  },
                  "radialaxis": {
                    "angle": 90
                  }
                },
                "polar2": {
                  "angularaxis": {
                    "direction": "clockwise",
                    "period": 4
                  },
                  "domain": {
                    "x": [
                      0.55,
                      1
                    ],
                    "y": [
                      0.575,
                      1
                    ]
                  },
                  "radialaxis": {
                    "angle": 90
                  }
                },
                "polar3": {
                  "angularaxis": {
                    "direction": "clockwise",
                    "period": 4
                  },
                  "domain": {
                    "x": [
                      0,
                      0.45
                    ],
                    "y": [
                      0,
                      0.425
                    ]
                  },
                  "radialaxis": {
                    "angle": 90
                  }
                },
                "polar4": {
                  "angularaxis": {
                    "direction": "clockwise",
                    "period": 4
                  },
                  "domain": {
                    "x": [
                      0.55,
                      1
                    ],
                    "y": [
                      0,
                      0.425
                    ]
                  },
                  "radialaxis": {
                    "angle": 90
                  }
                },
                "template": {
                  "data": {
                    "bar": [
                      {
                        "error_x": {
                          "color": "#f2f5fa"
                        },
                        "error_y": {
                          "color": "#f2f5fa"
                        },
                        "marker": {
                          "line": {
                            "color": "rgb(17,17,17)",
                            "width": 0.5
                          }
                        },
                        "type": "bar"
                      }
                    ],
                    "barpolar": [
                      {
                        "marker": {
                          "line": {
                            "color": "rgb(17,17,17)",
                            "width": 0.5
                          }
                        },
                        "type": "barpolar"
                      }
                    ],
                    "carpet": [
                      {
                        "aaxis": {
                          "endlinecolor": "#A2B1C6",
                          "gridcolor": "#506784",
                          "linecolor": "#506784",
                          "minorgridcolor": "#506784",
                          "startlinecolor": "#A2B1C6"
                        },
                        "baxis": {
                          "endlinecolor": "#A2B1C6",
                          "gridcolor": "#506784",
                          "linecolor": "#506784",
                          "minorgridcolor": "#506784",
                          "startlinecolor": "#A2B1C6"
                        },
                        "type": "carpet"
                      }
                    ],
                    "choropleth": [
                      {
                        "colorbar": {
                          "outlinewidth": 0,
                          "ticks": ""
                        },
                        "type": "choropleth"
                      }
                    ],
                    "contour": [
                      {
                        "colorbar": {
                          "outlinewidth": 0,
                          "ticks": ""
                        },
                        "colorscale": [
                          [
                            0,
                            "#0d0887"
                          ],
                          [
                            0.1111111111111111,
                            "#46039f"
                          ],
                          [
                            0.2222222222222222,
                            "#7201a8"
                          ],
                          [
                            0.3333333333333333,
                            "#9c179e"
                          ],
                          [
                            0.4444444444444444,
                            "#bd3786"
                          ],
                          [
                            0.5555555555555556,
                            "#d8576b"
                          ],
                          [
                            0.6666666666666666,
                            "#ed7953"
                          ],
                          [
                            0.7777777777777778,
                            "#fb9f3a"
                          ],
                          [
                            0.8888888888888888,
                            "#fdca26"
                          ],
                          [
                            1,
                            "#f0f921"
                          ]
                        ],
                        "type": "contour"
                      }
                    ],
                    "contourcarpet": [
                      {
                        "colorbar": {
                          "outlinewidth": 0,
                          "ticks": ""
                        },
                        "type": "contourcarpet"
                      }
                    ],
                    "heatmap": [
                      {
                        "colorbar": {
                          "outlinewidth": 0,
                          "ticks": ""
                        },
                        "colorscale": [
                          [
                            0,
                            "#0d0887"
                          ],
                          [
                            0.1111111111111111,
                            "#46039f"
                          ],
                          [
                            0.2222222222222222,
                            "#7201a8"
                          ],
                          [
                            0.3333333333333333,
                            "#9c179e"
                          ],
                          [
                            0.4444444444444444,
                            "#bd3786"
                          ],
                          [
                            0.5555555555555556,
                            "#d8576b"
                          ],
                          [
                            0.6666666666666666,
                            "#ed7953"
                          ],
                          [
                            0.7777777777777778,
                            "#fb9f3a"
                          ],
                          [
                            0.8888888888888888,
                            "#fdca26"
                          ],
                          [
                            1,
                            "#f0f921"
                          ]
                        ],
                        "type": "heatmap"
                      }
                    ],
                    "heatmapgl": [
                      {
                        "colorbar": {
                          "outlinewidth": 0,
                          "ticks": ""
                        },
                        "colorscale": [
                          [
                            0,
                            "#0d0887"
                          ],
                          [
                            0.1111111111111111,
                            "#46039f"
                          ],
                          [
                            0.2222222222222222,
                            "#7201a8"
                          ],
                          [
                            0.3333333333333333,
                            "#9c179e"
                          ],
                          [
                            0.4444444444444444,
                            "#bd3786"
                          ],
                          [
                            0.5555555555555556,
                            "#d8576b"
                          ],
                          [
                            0.6666666666666666,
                            "#ed7953"
                          ],
                          [
                            0.7777777777777778,
                            "#fb9f3a"
                          ],
                          [
                            0.8888888888888888,
                            "#fdca26"
                          ],
                          [
                            1,
                            "#f0f921"
                          ]
                        ],
                        "type": "heatmapgl"
                      }
                    ],
                    "histogram": [
                      {
                        "marker": {
                          "colorbar": {
                            "outlinewidth": 0,
                            "ticks": ""
                          }
                        },
                        "type": "histogram"
                      }
                    ],
                    "histogram2d": [
                      {
                        "colorbar": {
                          "outlinewidth": 0,
                          "ticks": ""
                        },
                        "colorscale": [
                          [
                            0,
                            "#0d0887"
                          ],
                          [
                            0.1111111111111111,
                            "#46039f"
                          ],
                          [
                            0.2222222222222222,
                            "#7201a8"
                          ],
                          [
                            0.3333333333333333,
                            "#9c179e"
                          ],
                          [
                            0.4444444444444444,
                            "#bd3786"
                          ],
                          [
                            0.5555555555555556,
                            "#d8576b"
                          ],
                          [
                            0.6666666666666666,
                            "#ed7953"
                          ],
                          [
                            0.7777777777777778,
                            "#fb9f3a"
                          ],
                          [
                            0.8888888888888888,
                            "#fdca26"
                          ],
                          [
                            1,
                            "#f0f921"
                          ]
                        ],
                        "type": "histogram2d"
                      }
                    ],
                    "histogram2dcontour": [
                      {
                        "colorbar": {
                          "outlinewidth": 0,
                          "ticks": ""
                        },
                        "colorscale": [
                          [
                            0,
                            "#0d0887"
                          ],
                          [
                            0.1111111111111111,
                            "#46039f"
                          ],
                          [
                            0.2222222222222222,
                            "#7201a8"
                          ],
                          [
                            0.3333333333333333,
                            "#9c179e"
                          ],
                          [
                            0.4444444444444444,
                            "#bd3786"
                          ],
                          [
                            0.5555555555555556,
                            "#d8576b"
                          ],
                          [
                            0.6666666666666666,
                            "#ed7953"
                          ],
                          [
                            0.7777777777777778,
                            "#fb9f3a"
                          ],
                          [
                            0.8888888888888888,
                            "#fdca26"
                          ],
                          [
                            1,
                            "#f0f921"
                          ]
                        ],
                        "type": "histogram2dcontour"
                      }
                    ],
                    "mesh3d": [
                      {
                        "colorbar": {
                          "outlinewidth": 0,
                          "ticks": ""
                        },
                        "type": "mesh3d"
                      }
                    ],
                    "parcoords": [
                      {
                        "line": {
                          "colorbar": {
                            "outlinewidth": 0,
                            "ticks": ""
                          }
                        },
                        "type": "parcoords"
                      }
                    ],
                    "pie": [
                      {
                        "automargin": true,
                        "type": "pie"
                      }
                    ],
                    "scatter": [
                      {
                        "marker": {
                          "line": {
                            "color": "#283442"
                          }
                        },
                        "type": "scatter"
                      }
                    ],
                    "scatter3d": [
                      {
                        "line": {
                          "colorbar": {
                            "outlinewidth": 0,
                            "ticks": ""
                          }
                        },
                        "marker": {
                          "colorbar": {
                            "outlinewidth": 0,
                            "ticks": ""
                          }
                        },
                        "type": "scatter3d"
                      }
                    ],
                    "scattercarpet": [
                      {
                        "marker": {
                          "colorbar": {
                            "outlinewidth": 0,
                            "ticks": ""
                          }
                        },
                        "type": "scattercarpet"
                      }
                    ],
                    "scattergeo": [
                      {
                        "marker": {
                          "colorbar": {
                            "outlinewidth": 0,
                            "ticks": ""
                          }
                        },
                        "type": "scattergeo"
                      }
                    ],
                    "scattergl": [
                      {
                        "marker": {
                          "line": {
                            "color": "#283442"
                          }
                        },
                        "type": "scattergl"
                      }
                    ],
                    "scattermapbox": [
                      {
                        "marker": {
                          "colorbar": {
                            "outlinewidth": 0,
                            "ticks": ""
                          }
                        },
                        "type": "scattermapbox"
                      }
                    ],
                    "scatterpolar": [
                      {
                        "marker": {
                          "colorbar": {
                            "outlinewidth": 0,
                            "ticks": ""
                          }
                        },
                        "type": "scatterpolar"
                      }
                    ],
                    "scatterpolargl": [
                      {
                        "marker": {
                          "colorbar": {
                            "outlinewidth": 0,
                            "ticks": ""
                          }
                        },
                        "type": "scatterpolargl"
                      }
                    ],
                    "scatterternary": [
                      {
                        "marker": {
                          "colorbar": {
                            "outlinewidth": 0,
                            "ticks": ""
                          }
                        },
                        "type": "scatterternary"
                      }
                    ],
                    "surface": [
                      {
                        "colorbar": {
                          "outlinewidth": 0,
                          "ticks": ""
                        },
                        "colorscale": [
                          [
                            0,
                            "#0d0887"
                          ],
                          [
                            0.1111111111111111,
                            "#46039f"
                          ],
                          [
                            0.2222222222222222,
                            "#7201a8"
                          ],
                          [
                            0.3333333333333333,
                            "#9c179e"
                          ],
                          [
                            0.4444444444444444,
                            "#bd3786"
                          ],
                          [
                            0.5555555555555556,
                            "#d8576b"
                          ],
                          [
                            0.6666666666666666,
                            "#ed7953"
                          ],
                          [
                            0.7777777777777778,
                            "#fb9f3a"
                          ],
                          [
                            0.8888888888888888,
                            "#fdca26"
                          ],
                          [
                            1,
                            "#f0f921"
                          ]
                        ],
                        "type": "surface"
                      }
                    ],
                    "table": [
                      {
                        "cells": {
                          "fill": {
                            "color": "#506784"
                          },
                          "line": {
                            "color": "rgb(17,17,17)"
                          }
                        },
                        "header": {
                          "fill": {
                            "color": "#2a3f5f"
                          },
                          "line": {
                            "color": "rgb(17,17,17)"
                          }
                        },
                        "type": "table"
                      }
                    ]
                  },
                  "layout": {
                    "annotationdefaults": {
                      "arrowcolor": "#f2f5fa",
                      "arrowhead": 0,
                      "arrowwidth": 1
                    },
                    "autotypenumbers": "strict",
                    "coloraxis": {
                      "colorbar": {
                        "outlinewidth": 0,
                        "ticks": ""
                      }
                    },
                    "colorscale": {
                      "diverging": [
                        [
                          0,
                          "#8e0152"
                        ],
                        [
                          0.1,
                          "#c51b7d"
                        ],
                        [
                          0.2,
                          "#de77ae"
                        ],
                        [
                          0.3,
                          "#f1b6da"
                        ],
                        [
                          0.4,
                          "#fde0ef"
                        ],
                        [
                          0.5,
                          "#f7f7f7"
                        ],
                        [
                          0.6,
                          "#e6f5d0"
                        ],
                        [
                          0.7,
                          "#b8e186"
                        ],
                        [
                          0.8,
                          "#7fbc41"
                        ],
                        [
                          0.9,
                          "#4d9221"
                        ],
                        [
                          1,
                          "#276419"
                        ]
                      ],
                      "sequential": [
                        [
                          0,
                          "#0d0887"
                        ],
                        [
                          0.1111111111111111,
                          "#46039f"
                        ],
                        [
                          0.2222222222222222,
                          "#7201a8"
                        ],
                        [
                          0.3333333333333333,
                          "#9c179e"
                        ],
                        [
                          0.4444444444444444,
                          "#bd3786"
                        ],
                        [
                          0.5555555555555556,
                          "#d8576b"
                        ],
                        [
                          0.6666666666666666,
                          "#ed7953"
                        ],
                        [
                          0.7777777777777778,
                          "#fb9f3a"
                        ],
                        [
                          0.8888888888888888,
                          "#fdca26"
                        ],
                        [
                          1,
                          "#f0f921"
                        ]
                      ],
                      "sequentialminus": [
                        [
                          0,
                          "#0d0887"
                        ],
                        [
                          0.1111111111111111,
                          "#46039f"
                        ],
                        [
                          0.2222222222222222,
                          "#7201a8"
                        ],
                        [
                          0.3333333333333333,
                          "#9c179e"
                        ],
                        [
                          0.4444444444444444,
                          "#bd3786"
                        ],
                        [
                          0.5555555555555556,
                          "#d8576b"
                        ],
                        [
                          0.6666666666666666,
                          "#ed7953"
                        ],
                        [
                          0.7777777777777778,
                          "#fb9f3a"
                        ],
                        [
                          0.8888888888888888,
                          "#fdca26"
                        ],
                        [
                          1,
                          "#f0f921"
                        ]
                      ]
                    },
                    "colorway": [
                      "#636efa",
                      "#EF553B",
                      "#00cc96",
                      "#ab63fa",
                      "#FFA15A",
                      "#19d3f3",
                      "#FF6692",
                      "#B6E880",
                      "#FF97FF",
                      "#FECB52"
                    ],
                    "font": {
                      "color": "#f2f5fa"
                    },
                    "geo": {
                      "bgcolor": "rgb(17,17,17)",
                      "lakecolor": "rgb(17,17,17)",
                      "landcolor": "rgb(17,17,17)",
                      "showlakes": true,
                      "showland": true,
                      "subunitcolor": "#506784"
                    },
                    "hoverlabel": {
                      "align": "left"
                    },
                    "hovermode": "closest",
                    "mapbox": {
                      "style": "dark"
                    },
                    "paper_bgcolor": "rgb(17,17,17)",
                    "plot_bgcolor": "rgb(17,17,17)",
                    "polar": {
                      "angularaxis": {
                        "gridcolor": "#506784",
                        "linecolor": "#506784",
                        "ticks": ""
                      },
                      "bgcolor": "rgb(17,17,17)",
                      "radialaxis": {
                        "gridcolor": "#506784",
                        "linecolor": "#506784",
                        "ticks": ""
                      }
                    },
                    "scene": {
                      "xaxis": {
                        "backgroundcolor": "rgb(17,17,17)",
                        "gridcolor": "#506784",
                        "gridwidth": 2,
                        "linecolor": "#506784",
                        "showbackground": true,
                        "ticks": "",
                        "zerolinecolor": "#C8D4E3"
                      },
                      "yaxis": {
                        "backgroundcolor": "rgb(17,17,17)",
                        "gridcolor": "#506784",
                        "gridwidth": 2,
                        "linecolor": "#506784",
                        "showbackground": true,
                        "ticks": "",
                        "zerolinecolor": "#C8D4E3"
                      },
                      "zaxis": {
                        "backgroundcolor": "rgb(17,17,17)",
                        "gridcolor": "#506784",
                        "gridwidth": 2,
                        "linecolor": "#506784",
                        "showbackground": true,
                        "ticks": "",
                        "zerolinecolor": "#C8D4E3"
                      }
                    },
                    "shapedefaults": {
                      "line": {
                        "color": "#f2f5fa"
                      }
                    },
                    "sliderdefaults": {
                      "bgcolor": "#C8D4E3",
                      "bordercolor": "rgb(17,17,17)",
                      "borderwidth": 1,
                      "tickwidth": 0
                    },
                    "ternary": {
                      "aaxis": {
                        "gridcolor": "#506784",
                        "linecolor": "#506784",
                        "ticks": ""
                      },
                      "baxis": {
                        "gridcolor": "#506784",
                        "linecolor": "#506784",
                        "ticks": ""
                      },
                      "bgcolor": "rgb(17,17,17)",
                      "caxis": {
                        "gridcolor": "#506784",
                        "linecolor": "#506784",
                        "ticks": ""
                      }
                    },
                    "title": {
                      "x": 0.05
                    },
                    "updatemenudefaults": {
                      "bgcolor": "#506784",
                      "borderwidth": 0
                    },
                    "xaxis": {
                      "automargin": true,
                      "gridcolor": "#283442",
                      "linecolor": "#506784",
                      "ticks": "",
                      "title": {
                        "standoff": 15
                      },
                      "zerolinecolor": "#283442",
                      "zerolinewidth": 2
                    },
                    "yaxis": {
                      "automargin": true,
                      "gridcolor": "#283442",
                      "linecolor": "#506784",
                      "ticks": "",
                      "title": {
                        "standoff": 15
                      },
                      "zerolinecolor": "#283442",
                      "zerolinewidth": 2
                    }
                  }
                },
                "title": {
                  "text": "Region-wise Participation of Institutions in India Rankings 2020"
                },
                "width": 1200
              }
            },
            "text/html": [
              "<div>                            <div id=\"f4a95a20-92f7-4c0b-bc29-aad26f857492\" class=\"plotly-graph-div\" style=\"height:800px; width:1200px;\"></div>            <script type=\"text/javascript\">                require([\"plotly\"], function(Plotly) {                    window.PLOTLYENV=window.PLOTLYENV || {};                                    if (document.getElementById(\"f4a95a20-92f7-4c0b-bc29-aad26f857492\")) {                    Plotly.newPlot(                        \"f4a95a20-92f7-4c0b-bc29-aad26f857492\",                        [{\"fill\": \"toself\", \"name\": \"Engineering\", \"r\": [142, 98, 554, 277], \"subplot\": \"polar\", \"theta\": [\"north\", \"east\", \"south\", \"west\"], \"type\": \"scatterpolar\"}, {\"fill\": \"toself\", \"name\": \"Management\", \"r\": [137, 43, 271, 179], \"subplot\": \"polar2\", \"theta\": [\"north\", \"east\", \"south\", \"west\"], \"type\": \"scatterpolar\"}, {\"fill\": \"toself\", \"name\": \"Pharma\", \"r\": [53, 18, 126, 137], \"subplot\": \"polar3\", \"theta\": [\"north\", \"east\", \"south\", \"west\"], \"type\": \"scatterpolar\"}, {\"fill\": \"toself\", \"name\": \"Architecture\", \"r\": [18, 6, 25, 17], \"subplot\": \"polar4\", \"theta\": [\"north\", \"east\", \"south\", \"west\"], \"type\": \"scatterpolar\"}],                        {\"height\": 800, \"polar\": {\"angularaxis\": {\"direction\": \"clockwise\", \"period\": 4}, \"domain\": {\"x\": [0.0, 0.45], \"y\": [0.575, 1.0]}, \"radialaxis\": {\"angle\": 90}}, \"polar2\": {\"angularaxis\": {\"direction\": \"clockwise\", \"period\": 4}, \"domain\": {\"x\": [0.55, 1.0], \"y\": [0.575, 1.0]}, \"radialaxis\": {\"angle\": 90}}, \"polar3\": {\"angularaxis\": {\"direction\": \"clockwise\", \"period\": 4}, \"domain\": {\"x\": [0.0, 0.45], \"y\": [0.0, 0.425]}, \"radialaxis\": {\"angle\": 90}}, \"polar4\": {\"angularaxis\": {\"direction\": \"clockwise\", \"period\": 4}, \"domain\": {\"x\": [0.55, 1.0], \"y\": [0.0, 0.425]}, \"radialaxis\": {\"angle\": 90}}, \"template\": {\"data\": {\"bar\": [{\"error_x\": {\"color\": \"#f2f5fa\"}, \"error_y\": {\"color\": \"#f2f5fa\"}, \"marker\": {\"line\": {\"color\": \"rgb(17,17,17)\", \"width\": 0.5}}, \"type\": \"bar\"}], \"barpolar\": [{\"marker\": {\"line\": {\"color\": \"rgb(17,17,17)\", \"width\": 0.5}}, \"type\": \"barpolar\"}], \"carpet\": [{\"aaxis\": {\"endlinecolor\": \"#A2B1C6\", \"gridcolor\": \"#506784\", \"linecolor\": \"#506784\", \"minorgridcolor\": \"#506784\", \"startlinecolor\": \"#A2B1C6\"}, \"baxis\": {\"endlinecolor\": \"#A2B1C6\", \"gridcolor\": \"#506784\", \"linecolor\": \"#506784\", \"minorgridcolor\": \"#506784\", \"startlinecolor\": \"#A2B1C6\"}, \"type\": \"carpet\"}], \"choropleth\": [{\"colorbar\": {\"outlinewidth\": 0, \"ticks\": \"\"}, \"type\": \"choropleth\"}], \"contour\": [{\"colorbar\": {\"outlinewidth\": 0, \"ticks\": \"\"}, \"colorscale\": [[0.0, \"#0d0887\"], [0.1111111111111111, \"#46039f\"], [0.2222222222222222, \"#7201a8\"], [0.3333333333333333, \"#9c179e\"], [0.4444444444444444, \"#bd3786\"], [0.5555555555555556, \"#d8576b\"], [0.6666666666666666, \"#ed7953\"], [0.7777777777777778, \"#fb9f3a\"], [0.8888888888888888, \"#fdca26\"], [1.0, \"#f0f921\"]], \"type\": \"contour\"}], \"contourcarpet\": [{\"colorbar\": {\"outlinewidth\": 0, \"ticks\": \"\"}, \"type\": \"contourcarpet\"}], \"heatmap\": [{\"colorbar\": {\"outlinewidth\": 0, \"ticks\": \"\"}, \"colorscale\": [[0.0, \"#0d0887\"], [0.1111111111111111, \"#46039f\"], [0.2222222222222222, \"#7201a8\"], [0.3333333333333333, \"#9c179e\"], [0.4444444444444444, \"#bd3786\"], [0.5555555555555556, \"#d8576b\"], [0.6666666666666666, \"#ed7953\"], [0.7777777777777778, \"#fb9f3a\"], [0.8888888888888888, \"#fdca26\"], [1.0, \"#f0f921\"]], \"type\": \"heatmap\"}], \"heatmapgl\": [{\"colorbar\": {\"outlinewidth\": 0, \"ticks\": \"\"}, \"colorscale\": [[0.0, \"#0d0887\"], [0.1111111111111111, \"#46039f\"], [0.2222222222222222, \"#7201a8\"], [0.3333333333333333, \"#9c179e\"], [0.4444444444444444, \"#bd3786\"], [0.5555555555555556, \"#d8576b\"], [0.6666666666666666, \"#ed7953\"], [0.7777777777777778, \"#fb9f3a\"], [0.8888888888888888, \"#fdca26\"], [1.0, \"#f0f921\"]], \"type\": \"heatmapgl\"}], \"histogram\": [{\"marker\": {\"colorbar\": {\"outlinewidth\": 0, \"ticks\": \"\"}}, \"type\": \"histogram\"}], \"histogram2d\": [{\"colorbar\": {\"outlinewidth\": 0, \"ticks\": \"\"}, \"colorscale\": [[0.0, \"#0d0887\"], [0.1111111111111111, \"#46039f\"], [0.2222222222222222, \"#7201a8\"], [0.3333333333333333, \"#9c179e\"], [0.4444444444444444, \"#bd3786\"], [0.5555555555555556, \"#d8576b\"], [0.6666666666666666, \"#ed7953\"], [0.7777777777777778, \"#fb9f3a\"], [0.8888888888888888, \"#fdca26\"], [1.0, \"#f0f921\"]], \"type\": \"histogram2d\"}], \"histogram2dcontour\": [{\"colorbar\": {\"outlinewidth\": 0, \"ticks\": \"\"}, \"colorscale\": [[0.0, \"#0d0887\"], [0.1111111111111111, \"#46039f\"], [0.2222222222222222, \"#7201a8\"], [0.3333333333333333, \"#9c179e\"], [0.4444444444444444, \"#bd3786\"], [0.5555555555555556, \"#d8576b\"], [0.6666666666666666, \"#ed7953\"], [0.7777777777777778, \"#fb9f3a\"], [0.8888888888888888, \"#fdca26\"], [1.0, \"#f0f921\"]], \"type\": \"histogram2dcontour\"}], \"mesh3d\": [{\"colorbar\": {\"outlinewidth\": 0, \"ticks\": \"\"}, \"type\": \"mesh3d\"}], \"parcoords\": [{\"line\": {\"colorbar\": {\"outlinewidth\": 0, \"ticks\": \"\"}}, \"type\": \"parcoords\"}], \"pie\": [{\"automargin\": true, \"type\": \"pie\"}], \"scatter\": [{\"marker\": {\"line\": {\"color\": \"#283442\"}}, \"type\": \"scatter\"}], \"scatter3d\": [{\"line\": {\"colorbar\": {\"outlinewidth\": 0, \"ticks\": \"\"}}, \"marker\": {\"colorbar\": {\"outlinewidth\": 0, \"ticks\": \"\"}}, \"type\": \"scatter3d\"}], \"scattercarpet\": [{\"marker\": {\"colorbar\": {\"outlinewidth\": 0, \"ticks\": \"\"}}, \"type\": \"scattercarpet\"}], \"scattergeo\": [{\"marker\": {\"colorbar\": {\"outlinewidth\": 0, \"ticks\": \"\"}}, \"type\": \"scattergeo\"}], \"scattergl\": [{\"marker\": {\"line\": {\"color\": \"#283442\"}}, \"type\": \"scattergl\"}], \"scattermapbox\": [{\"marker\": {\"colorbar\": {\"outlinewidth\": 0, \"ticks\": \"\"}}, \"type\": \"scattermapbox\"}], \"scatterpolar\": [{\"marker\": {\"colorbar\": {\"outlinewidth\": 0, \"ticks\": \"\"}}, \"type\": \"scatterpolar\"}], \"scatterpolargl\": [{\"marker\": {\"colorbar\": {\"outlinewidth\": 0, \"ticks\": \"\"}}, \"type\": \"scatterpolargl\"}], \"scatterternary\": [{\"marker\": {\"colorbar\": {\"outlinewidth\": 0, \"ticks\": \"\"}}, \"type\": \"scatterternary\"}], \"surface\": [{\"colorbar\": {\"outlinewidth\": 0, \"ticks\": \"\"}, \"colorscale\": [[0.0, \"#0d0887\"], [0.1111111111111111, \"#46039f\"], [0.2222222222222222, \"#7201a8\"], [0.3333333333333333, \"#9c179e\"], [0.4444444444444444, \"#bd3786\"], [0.5555555555555556, \"#d8576b\"], [0.6666666666666666, \"#ed7953\"], [0.7777777777777778, \"#fb9f3a\"], [0.8888888888888888, \"#fdca26\"], [1.0, \"#f0f921\"]], \"type\": \"surface\"}], \"table\": [{\"cells\": {\"fill\": {\"color\": \"#506784\"}, \"line\": {\"color\": \"rgb(17,17,17)\"}}, \"header\": {\"fill\": {\"color\": \"#2a3f5f\"}, \"line\": {\"color\": \"rgb(17,17,17)\"}}, \"type\": \"table\"}]}, \"layout\": {\"annotationdefaults\": {\"arrowcolor\": \"#f2f5fa\", \"arrowhead\": 0, \"arrowwidth\": 1}, \"autotypenumbers\": \"strict\", \"coloraxis\": {\"colorbar\": {\"outlinewidth\": 0, \"ticks\": \"\"}}, \"colorscale\": {\"diverging\": [[0, \"#8e0152\"], [0.1, \"#c51b7d\"], [0.2, \"#de77ae\"], [0.3, \"#f1b6da\"], [0.4, \"#fde0ef\"], [0.5, \"#f7f7f7\"], [0.6, \"#e6f5d0\"], [0.7, \"#b8e186\"], [0.8, \"#7fbc41\"], [0.9, \"#4d9221\"], [1, \"#276419\"]], \"sequential\": [[0.0, \"#0d0887\"], [0.1111111111111111, \"#46039f\"], [0.2222222222222222, \"#7201a8\"], [0.3333333333333333, \"#9c179e\"], [0.4444444444444444, \"#bd3786\"], [0.5555555555555556, \"#d8576b\"], [0.6666666666666666, \"#ed7953\"], [0.7777777777777778, \"#fb9f3a\"], [0.8888888888888888, \"#fdca26\"], [1.0, \"#f0f921\"]], \"sequentialminus\": [[0.0, \"#0d0887\"], [0.1111111111111111, \"#46039f\"], [0.2222222222222222, \"#7201a8\"], [0.3333333333333333, \"#9c179e\"], [0.4444444444444444, \"#bd3786\"], [0.5555555555555556, \"#d8576b\"], [0.6666666666666666, \"#ed7953\"], [0.7777777777777778, \"#fb9f3a\"], [0.8888888888888888, \"#fdca26\"], [1.0, \"#f0f921\"]]}, \"colorway\": [\"#636efa\", \"#EF553B\", \"#00cc96\", \"#ab63fa\", \"#FFA15A\", \"#19d3f3\", \"#FF6692\", \"#B6E880\", \"#FF97FF\", \"#FECB52\"], \"font\": {\"color\": \"#f2f5fa\"}, \"geo\": {\"bgcolor\": \"rgb(17,17,17)\", \"lakecolor\": \"rgb(17,17,17)\", \"landcolor\": \"rgb(17,17,17)\", \"showlakes\": true, \"showland\": true, \"subunitcolor\": \"#506784\"}, \"hoverlabel\": {\"align\": \"left\"}, \"hovermode\": \"closest\", \"mapbox\": {\"style\": \"dark\"}, \"paper_bgcolor\": \"rgb(17,17,17)\", \"plot_bgcolor\": \"rgb(17,17,17)\", \"polar\": {\"angularaxis\": {\"gridcolor\": \"#506784\", \"linecolor\": \"#506784\", \"ticks\": \"\"}, \"bgcolor\": \"rgb(17,17,17)\", \"radialaxis\": {\"gridcolor\": \"#506784\", \"linecolor\": \"#506784\", \"ticks\": \"\"}}, \"scene\": {\"xaxis\": {\"backgroundcolor\": \"rgb(17,17,17)\", \"gridcolor\": \"#506784\", \"gridwidth\": 2, \"linecolor\": \"#506784\", \"showbackground\": true, \"ticks\": \"\", \"zerolinecolor\": \"#C8D4E3\"}, \"yaxis\": {\"backgroundcolor\": \"rgb(17,17,17)\", \"gridcolor\": \"#506784\", \"gridwidth\": 2, \"linecolor\": \"#506784\", \"showbackground\": true, \"ticks\": \"\", \"zerolinecolor\": \"#C8D4E3\"}, \"zaxis\": {\"backgroundcolor\": \"rgb(17,17,17)\", \"gridcolor\": \"#506784\", \"gridwidth\": 2, \"linecolor\": \"#506784\", \"showbackground\": true, \"ticks\": \"\", \"zerolinecolor\": \"#C8D4E3\"}}, \"shapedefaults\": {\"line\": {\"color\": \"#f2f5fa\"}}, \"sliderdefaults\": {\"bgcolor\": \"#C8D4E3\", \"bordercolor\": \"rgb(17,17,17)\", \"borderwidth\": 1, \"tickwidth\": 0}, \"ternary\": {\"aaxis\": {\"gridcolor\": \"#506784\", \"linecolor\": \"#506784\", \"ticks\": \"\"}, \"baxis\": {\"gridcolor\": \"#506784\", \"linecolor\": \"#506784\", \"ticks\": \"\"}, \"bgcolor\": \"rgb(17,17,17)\", \"caxis\": {\"gridcolor\": \"#506784\", \"linecolor\": \"#506784\", \"ticks\": \"\"}}, \"title\": {\"x\": 0.05}, \"updatemenudefaults\": {\"bgcolor\": \"#506784\", \"borderwidth\": 0}, \"xaxis\": {\"automargin\": true, \"gridcolor\": \"#283442\", \"linecolor\": \"#506784\", \"ticks\": \"\", \"title\": {\"standoff\": 15}, \"zerolinecolor\": \"#283442\", \"zerolinewidth\": 2}, \"yaxis\": {\"automargin\": true, \"gridcolor\": \"#283442\", \"linecolor\": \"#506784\", \"ticks\": \"\", \"title\": {\"standoff\": 15}, \"zerolinecolor\": \"#283442\", \"zerolinewidth\": 2}}}, \"title\": {\"text\": \"Region-wise Participation of Institutions in India Rankings 2020\"}, \"width\": 1200},                        {\"responsive\": true}                    ).then(function(){\n",
              "                            \n",
              "var gd = document.getElementById('f4a95a20-92f7-4c0b-bc29-aad26f857492');\n",
              "var x = new MutationObserver(function (mutations, observer) {{\n",
              "        var display = window.getComputedStyle(gd).display;\n",
              "        if (!display || display === 'none') {{\n",
              "            console.log([gd, 'removed!']);\n",
              "            Plotly.purge(gd);\n",
              "            observer.disconnect();\n",
              "        }}\n",
              "}});\n",
              "\n",
              "// Listen for the removal of the full notebook cells\n",
              "var notebookContainer = gd.closest('#notebook-container');\n",
              "if (notebookContainer) {{\n",
              "    x.observe(notebookContainer, {childList: true});\n",
              "}}\n",
              "\n",
              "// Listen for the clearing of the current output cell\n",
              "var outputEl = gd.closest('.output');\n",
              "if (outputEl) {{\n",
              "    x.observe(outputEl, {childList: true});\n",
              "}}\n",
              "\n",
              "                        })                };                });            </script>        </div>"
            ]
          },
          "metadata": {
            "tags": []
          }
        }
      ]
    },
    {
      "cell_type": "code",
      "metadata": {
        "id": "yc2SLIGIjZql",
        "outputId": "697b55a9-6329-4289-f5dd-9fbd842cc28d"
      },
      "source": [
        "import plotly.graph_objects as go\n",
        "from plotly.subplots import make_subplots\n",
        "import pandas as pd\n",
        "\n",
        "df = pd.read_csv(r'E:\\Downloads\\complete data1.csv')\n",
        "\n",
        "a=df[\"med\"]\n",
        "b=df[\"Direction\"]\n",
        "c=df[\"law\"]\n",
        "d=df[\"agri\"]\n",
        "e=df[\"dental\"]\n",
        "\n",
        "fig = make_subplots(rows=2, cols=2, specs=[[{'type': 'polar'}]*2]*2)\n",
        "\n",
        "fig.add_trace(go.Scatterpolar(\n",
        "      name = \"Medical\",\n",
        "      r = a,\n",
        "    theta = b,\n",
        "    ), 1, 1)\n",
        "fig.add_trace(go.Scatterpolar(\n",
        "      name = \"Law\",\n",
        "      r = c,\n",
        "      theta = b,\n",
        "\n",
        "    ), 1, 2)\n",
        "fig.add_trace(go.Scatterpolar(\n",
        "      name = \"Agriculture\",\n",
        "      r = d,\n",
        "      theta = b,\n",
        "    ), 2,1)\n",
        "fig.add_trace(go.Scatterpolar(\n",
        "      name = \"Dental\",\n",
        "      r = e,\n",
        "      theta = b,\n",
        "    ), 2, 2)\n",
        "fig.update_traces(fill='toself')\n",
        "fig.update_layout(\n",
        "    polar = dict(\n",
        "      radialaxis_angle = 90,\n",
        "      angularaxis = dict(\n",
        "        direction = \"clockwise\",\n",
        "        period = 4) ,\n",
        "    ),\n",
        "    polar2 = dict(\n",
        "        radialaxis_angle = 90,\n",
        "      angularaxis = dict(\n",
        "        direction = \"clockwise\",\n",
        "        period = 4)\n",
        "\n",
        "\n",
        "    ),\n",
        "    polar3 = dict(\n",
        "        radialaxis_angle = 90,\n",
        "      angularaxis = dict(\n",
        "        direction = \"clockwise\",\n",
        "        period = 4)\n",
        "\n",
        "    ),\n",
        "    polar4 = dict(\n",
        "     radialaxis_angle = 90,\n",
        "      angularaxis = dict(\n",
        "        direction = \"clockwise\",\n",
        "        period = 4)\n",
        "\n",
        "    ))\n",
        "\n",
        "\n",
        "fig.update_layout(template=\"plotly_dark\",title=\"Region-wise Participation of Institutions in India Rankings 2020\",height=800,width=1200)\n",
        "fig.show()\n"
      ],
      "execution_count": null,
      "outputs": [
        {
          "output_type": "display_data",
          "data": {
            "application/vnd.plotly.v1+json": {
              "config": {
                "plotlyServerURL": "https://plot.ly"
              },
              "data": [
                {
                  "fill": "toself",
                  "name": "Medical",
                  "r": [
                    27,
                    6,
                    62,
                    23
                  ],
                  "subplot": "polar",
                  "theta": [
                    "north",
                    "east",
                    "south",
                    "west"
                  ],
                  "type": "scatterpolar"
                },
                {
                  "fill": "toself",
                  "name": "Law",
                  "r": [
                    34,
                    12,
                    21,
                    30
                  ],
                  "subplot": "polar2",
                  "theta": [
                    "north",
                    "east",
                    "south",
                    "west"
                  ],
                  "type": "scatterpolar"
                },
                {
                  "fill": "toself",
                  "name": "Agriculture",
                  "r": [
                    9,
                    6,
                    18,
                    15
                  ],
                  "subplot": "polar3",
                  "theta": [
                    "north",
                    "east",
                    "south",
                    "west"
                  ],
                  "type": "scatterpolar"
                },
                {
                  "fill": "toself",
                  "name": "Dental",
                  "r": [
                    29,
                    4,
                    59,
                    23
                  ],
                  "subplot": "polar4",
                  "theta": [
                    "north",
                    "east",
                    "south",
                    "west"
                  ],
                  "type": "scatterpolar"
                }
              ],
              "layout": {
                "height": 800,
                "polar": {
                  "angularaxis": {
                    "direction": "clockwise",
                    "period": 4
                  },
                  "domain": {
                    "x": [
                      0,
                      0.45
                    ],
                    "y": [
                      0.575,
                      1
                    ]
                  },
                  "radialaxis": {
                    "angle": 90
                  }
                },
                "polar2": {
                  "angularaxis": {
                    "direction": "clockwise",
                    "period": 4
                  },
                  "domain": {
                    "x": [
                      0.55,
                      1
                    ],
                    "y": [
                      0.575,
                      1
                    ]
                  },
                  "radialaxis": {
                    "angle": 90
                  }
                },
                "polar3": {
                  "angularaxis": {
                    "direction": "clockwise",
                    "period": 4
                  },
                  "domain": {
                    "x": [
                      0,
                      0.45
                    ],
                    "y": [
                      0,
                      0.425
                    ]
                  },
                  "radialaxis": {
                    "angle": 90
                  }
                },
                "polar4": {
                  "angularaxis": {
                    "direction": "clockwise",
                    "period": 4
                  },
                  "domain": {
                    "x": [
                      0.55,
                      1
                    ],
                    "y": [
                      0,
                      0.425
                    ]
                  },
                  "radialaxis": {
                    "angle": 90
                  }
                },
                "template": {
                  "data": {
                    "bar": [
                      {
                        "error_x": {
                          "color": "#f2f5fa"
                        },
                        "error_y": {
                          "color": "#f2f5fa"
                        },
                        "marker": {
                          "line": {
                            "color": "rgb(17,17,17)",
                            "width": 0.5
                          }
                        },
                        "type": "bar"
                      }
                    ],
                    "barpolar": [
                      {
                        "marker": {
                          "line": {
                            "color": "rgb(17,17,17)",
                            "width": 0.5
                          }
                        },
                        "type": "barpolar"
                      }
                    ],
                    "carpet": [
                      {
                        "aaxis": {
                          "endlinecolor": "#A2B1C6",
                          "gridcolor": "#506784",
                          "linecolor": "#506784",
                          "minorgridcolor": "#506784",
                          "startlinecolor": "#A2B1C6"
                        },
                        "baxis": {
                          "endlinecolor": "#A2B1C6",
                          "gridcolor": "#506784",
                          "linecolor": "#506784",
                          "minorgridcolor": "#506784",
                          "startlinecolor": "#A2B1C6"
                        },
                        "type": "carpet"
                      }
                    ],
                    "choropleth": [
                      {
                        "colorbar": {
                          "outlinewidth": 0,
                          "ticks": ""
                        },
                        "type": "choropleth"
                      }
                    ],
                    "contour": [
                      {
                        "colorbar": {
                          "outlinewidth": 0,
                          "ticks": ""
                        },
                        "colorscale": [
                          [
                            0,
                            "#0d0887"
                          ],
                          [
                            0.1111111111111111,
                            "#46039f"
                          ],
                          [
                            0.2222222222222222,
                            "#7201a8"
                          ],
                          [
                            0.3333333333333333,
                            "#9c179e"
                          ],
                          [
                            0.4444444444444444,
                            "#bd3786"
                          ],
                          [
                            0.5555555555555556,
                            "#d8576b"
                          ],
                          [
                            0.6666666666666666,
                            "#ed7953"
                          ],
                          [
                            0.7777777777777778,
                            "#fb9f3a"
                          ],
                          [
                            0.8888888888888888,
                            "#fdca26"
                          ],
                          [
                            1,
                            "#f0f921"
                          ]
                        ],
                        "type": "contour"
                      }
                    ],
                    "contourcarpet": [
                      {
                        "colorbar": {
                          "outlinewidth": 0,
                          "ticks": ""
                        },
                        "type": "contourcarpet"
                      }
                    ],
                    "heatmap": [
                      {
                        "colorbar": {
                          "outlinewidth": 0,
                          "ticks": ""
                        },
                        "colorscale": [
                          [
                            0,
                            "#0d0887"
                          ],
                          [
                            0.1111111111111111,
                            "#46039f"
                          ],
                          [
                            0.2222222222222222,
                            "#7201a8"
                          ],
                          [
                            0.3333333333333333,
                            "#9c179e"
                          ],
                          [
                            0.4444444444444444,
                            "#bd3786"
                          ],
                          [
                            0.5555555555555556,
                            "#d8576b"
                          ],
                          [
                            0.6666666666666666,
                            "#ed7953"
                          ],
                          [
                            0.7777777777777778,
                            "#fb9f3a"
                          ],
                          [
                            0.8888888888888888,
                            "#fdca26"
                          ],
                          [
                            1,
                            "#f0f921"
                          ]
                        ],
                        "type": "heatmap"
                      }
                    ],
                    "heatmapgl": [
                      {
                        "colorbar": {
                          "outlinewidth": 0,
                          "ticks": ""
                        },
                        "colorscale": [
                          [
                            0,
                            "#0d0887"
                          ],
                          [
                            0.1111111111111111,
                            "#46039f"
                          ],
                          [
                            0.2222222222222222,
                            "#7201a8"
                          ],
                          [
                            0.3333333333333333,
                            "#9c179e"
                          ],
                          [
                            0.4444444444444444,
                            "#bd3786"
                          ],
                          [
                            0.5555555555555556,
                            "#d8576b"
                          ],
                          [
                            0.6666666666666666,
                            "#ed7953"
                          ],
                          [
                            0.7777777777777778,
                            "#fb9f3a"
                          ],
                          [
                            0.8888888888888888,
                            "#fdca26"
                          ],
                          [
                            1,
                            "#f0f921"
                          ]
                        ],
                        "type": "heatmapgl"
                      }
                    ],
                    "histogram": [
                      {
                        "marker": {
                          "colorbar": {
                            "outlinewidth": 0,
                            "ticks": ""
                          }
                        },
                        "type": "histogram"
                      }
                    ],
                    "histogram2d": [
                      {
                        "colorbar": {
                          "outlinewidth": 0,
                          "ticks": ""
                        },
                        "colorscale": [
                          [
                            0,
                            "#0d0887"
                          ],
                          [
                            0.1111111111111111,
                            "#46039f"
                          ],
                          [
                            0.2222222222222222,
                            "#7201a8"
                          ],
                          [
                            0.3333333333333333,
                            "#9c179e"
                          ],
                          [
                            0.4444444444444444,
                            "#bd3786"
                          ],
                          [
                            0.5555555555555556,
                            "#d8576b"
                          ],
                          [
                            0.6666666666666666,
                            "#ed7953"
                          ],
                          [
                            0.7777777777777778,
                            "#fb9f3a"
                          ],
                          [
                            0.8888888888888888,
                            "#fdca26"
                          ],
                          [
                            1,
                            "#f0f921"
                          ]
                        ],
                        "type": "histogram2d"
                      }
                    ],
                    "histogram2dcontour": [
                      {
                        "colorbar": {
                          "outlinewidth": 0,
                          "ticks": ""
                        },
                        "colorscale": [
                          [
                            0,
                            "#0d0887"
                          ],
                          [
                            0.1111111111111111,
                            "#46039f"
                          ],
                          [
                            0.2222222222222222,
                            "#7201a8"
                          ],
                          [
                            0.3333333333333333,
                            "#9c179e"
                          ],
                          [
                            0.4444444444444444,
                            "#bd3786"
                          ],
                          [
                            0.5555555555555556,
                            "#d8576b"
                          ],
                          [
                            0.6666666666666666,
                            "#ed7953"
                          ],
                          [
                            0.7777777777777778,
                            "#fb9f3a"
                          ],
                          [
                            0.8888888888888888,
                            "#fdca26"
                          ],
                          [
                            1,
                            "#f0f921"
                          ]
                        ],
                        "type": "histogram2dcontour"
                      }
                    ],
                    "mesh3d": [
                      {
                        "colorbar": {
                          "outlinewidth": 0,
                          "ticks": ""
                        },
                        "type": "mesh3d"
                      }
                    ],
                    "parcoords": [
                      {
                        "line": {
                          "colorbar": {
                            "outlinewidth": 0,
                            "ticks": ""
                          }
                        },
                        "type": "parcoords"
                      }
                    ],
                    "pie": [
                      {
                        "automargin": true,
                        "type": "pie"
                      }
                    ],
                    "scatter": [
                      {
                        "marker": {
                          "line": {
                            "color": "#283442"
                          }
                        },
                        "type": "scatter"
                      }
                    ],
                    "scatter3d": [
                      {
                        "line": {
                          "colorbar": {
                            "outlinewidth": 0,
                            "ticks": ""
                          }
                        },
                        "marker": {
                          "colorbar": {
                            "outlinewidth": 0,
                            "ticks": ""
                          }
                        },
                        "type": "scatter3d"
                      }
                    ],
                    "scattercarpet": [
                      {
                        "marker": {
                          "colorbar": {
                            "outlinewidth": 0,
                            "ticks": ""
                          }
                        },
                        "type": "scattercarpet"
                      }
                    ],
                    "scattergeo": [
                      {
                        "marker": {
                          "colorbar": {
                            "outlinewidth": 0,
                            "ticks": ""
                          }
                        },
                        "type": "scattergeo"
                      }
                    ],
                    "scattergl": [
                      {
                        "marker": {
                          "line": {
                            "color": "#283442"
                          }
                        },
                        "type": "scattergl"
                      }
                    ],
                    "scattermapbox": [
                      {
                        "marker": {
                          "colorbar": {
                            "outlinewidth": 0,
                            "ticks": ""
                          }
                        },
                        "type": "scattermapbox"
                      }
                    ],
                    "scatterpolar": [
                      {
                        "marker": {
                          "colorbar": {
                            "outlinewidth": 0,
                            "ticks": ""
                          }
                        },
                        "type": "scatterpolar"
                      }
                    ],
                    "scatterpolargl": [
                      {
                        "marker": {
                          "colorbar": {
                            "outlinewidth": 0,
                            "ticks": ""
                          }
                        },
                        "type": "scatterpolargl"
                      }
                    ],
                    "scatterternary": [
                      {
                        "marker": {
                          "colorbar": {
                            "outlinewidth": 0,
                            "ticks": ""
                          }
                        },
                        "type": "scatterternary"
                      }
                    ],
                    "surface": [
                      {
                        "colorbar": {
                          "outlinewidth": 0,
                          "ticks": ""
                        },
                        "colorscale": [
                          [
                            0,
                            "#0d0887"
                          ],
                          [
                            0.1111111111111111,
                            "#46039f"
                          ],
                          [
                            0.2222222222222222,
                            "#7201a8"
                          ],
                          [
                            0.3333333333333333,
                            "#9c179e"
                          ],
                          [
                            0.4444444444444444,
                            "#bd3786"
                          ],
                          [
                            0.5555555555555556,
                            "#d8576b"
                          ],
                          [
                            0.6666666666666666,
                            "#ed7953"
                          ],
                          [
                            0.7777777777777778,
                            "#fb9f3a"
                          ],
                          [
                            0.8888888888888888,
                            "#fdca26"
                          ],
                          [
                            1,
                            "#f0f921"
                          ]
                        ],
                        "type": "surface"
                      }
                    ],
                    "table": [
                      {
                        "cells": {
                          "fill": {
                            "color": "#506784"
                          },
                          "line": {
                            "color": "rgb(17,17,17)"
                          }
                        },
                        "header": {
                          "fill": {
                            "color": "#2a3f5f"
                          },
                          "line": {
                            "color": "rgb(17,17,17)"
                          }
                        },
                        "type": "table"
                      }
                    ]
                  },
                  "layout": {
                    "annotationdefaults": {
                      "arrowcolor": "#f2f5fa",
                      "arrowhead": 0,
                      "arrowwidth": 1
                    },
                    "autotypenumbers": "strict",
                    "coloraxis": {
                      "colorbar": {
                        "outlinewidth": 0,
                        "ticks": ""
                      }
                    },
                    "colorscale": {
                      "diverging": [
                        [
                          0,
                          "#8e0152"
                        ],
                        [
                          0.1,
                          "#c51b7d"
                        ],
                        [
                          0.2,
                          "#de77ae"
                        ],
                        [
                          0.3,
                          "#f1b6da"
                        ],
                        [
                          0.4,
                          "#fde0ef"
                        ],
                        [
                          0.5,
                          "#f7f7f7"
                        ],
                        [
                          0.6,
                          "#e6f5d0"
                        ],
                        [
                          0.7,
                          "#b8e186"
                        ],
                        [
                          0.8,
                          "#7fbc41"
                        ],
                        [
                          0.9,
                          "#4d9221"
                        ],
                        [
                          1,
                          "#276419"
                        ]
                      ],
                      "sequential": [
                        [
                          0,
                          "#0d0887"
                        ],
                        [
                          0.1111111111111111,
                          "#46039f"
                        ],
                        [
                          0.2222222222222222,
                          "#7201a8"
                        ],
                        [
                          0.3333333333333333,
                          "#9c179e"
                        ],
                        [
                          0.4444444444444444,
                          "#bd3786"
                        ],
                        [
                          0.5555555555555556,
                          "#d8576b"
                        ],
                        [
                          0.6666666666666666,
                          "#ed7953"
                        ],
                        [
                          0.7777777777777778,
                          "#fb9f3a"
                        ],
                        [
                          0.8888888888888888,
                          "#fdca26"
                        ],
                        [
                          1,
                          "#f0f921"
                        ]
                      ],
                      "sequentialminus": [
                        [
                          0,
                          "#0d0887"
                        ],
                        [
                          0.1111111111111111,
                          "#46039f"
                        ],
                        [
                          0.2222222222222222,
                          "#7201a8"
                        ],
                        [
                          0.3333333333333333,
                          "#9c179e"
                        ],
                        [
                          0.4444444444444444,
                          "#bd3786"
                        ],
                        [
                          0.5555555555555556,
                          "#d8576b"
                        ],
                        [
                          0.6666666666666666,
                          "#ed7953"
                        ],
                        [
                          0.7777777777777778,
                          "#fb9f3a"
                        ],
                        [
                          0.8888888888888888,
                          "#fdca26"
                        ],
                        [
                          1,
                          "#f0f921"
                        ]
                      ]
                    },
                    "colorway": [
                      "#636efa",
                      "#EF553B",
                      "#00cc96",
                      "#ab63fa",
                      "#FFA15A",
                      "#19d3f3",
                      "#FF6692",
                      "#B6E880",
                      "#FF97FF",
                      "#FECB52"
                    ],
                    "font": {
                      "color": "#f2f5fa"
                    },
                    "geo": {
                      "bgcolor": "rgb(17,17,17)",
                      "lakecolor": "rgb(17,17,17)",
                      "landcolor": "rgb(17,17,17)",
                      "showlakes": true,
                      "showland": true,
                      "subunitcolor": "#506784"
                    },
                    "hoverlabel": {
                      "align": "left"
                    },
                    "hovermode": "closest",
                    "mapbox": {
                      "style": "dark"
                    },
                    "paper_bgcolor": "rgb(17,17,17)",
                    "plot_bgcolor": "rgb(17,17,17)",
                    "polar": {
                      "angularaxis": {
                        "gridcolor": "#506784",
                        "linecolor": "#506784",
                        "ticks": ""
                      },
                      "bgcolor": "rgb(17,17,17)",
                      "radialaxis": {
                        "gridcolor": "#506784",
                        "linecolor": "#506784",
                        "ticks": ""
                      }
                    },
                    "scene": {
                      "xaxis": {
                        "backgroundcolor": "rgb(17,17,17)",
                        "gridcolor": "#506784",
                        "gridwidth": 2,
                        "linecolor": "#506784",
                        "showbackground": true,
                        "ticks": "",
                        "zerolinecolor": "#C8D4E3"
                      },
                      "yaxis": {
                        "backgroundcolor": "rgb(17,17,17)",
                        "gridcolor": "#506784",
                        "gridwidth": 2,
                        "linecolor": "#506784",
                        "showbackground": true,
                        "ticks": "",
                        "zerolinecolor": "#C8D4E3"
                      },
                      "zaxis": {
                        "backgroundcolor": "rgb(17,17,17)",
                        "gridcolor": "#506784",
                        "gridwidth": 2,
                        "linecolor": "#506784",
                        "showbackground": true,
                        "ticks": "",
                        "zerolinecolor": "#C8D4E3"
                      }
                    },
                    "shapedefaults": {
                      "line": {
                        "color": "#f2f5fa"
                      }
                    },
                    "sliderdefaults": {
                      "bgcolor": "#C8D4E3",
                      "bordercolor": "rgb(17,17,17)",
                      "borderwidth": 1,
                      "tickwidth": 0
                    },
                    "ternary": {
                      "aaxis": {
                        "gridcolor": "#506784",
                        "linecolor": "#506784",
                        "ticks": ""
                      },
                      "baxis": {
                        "gridcolor": "#506784",
                        "linecolor": "#506784",
                        "ticks": ""
                      },
                      "bgcolor": "rgb(17,17,17)",
                      "caxis": {
                        "gridcolor": "#506784",
                        "linecolor": "#506784",
                        "ticks": ""
                      }
                    },
                    "title": {
                      "x": 0.05
                    },
                    "updatemenudefaults": {
                      "bgcolor": "#506784",
                      "borderwidth": 0
                    },
                    "xaxis": {
                      "automargin": true,
                      "gridcolor": "#283442",
                      "linecolor": "#506784",
                      "ticks": "",
                      "title": {
                        "standoff": 15
                      },
                      "zerolinecolor": "#283442",
                      "zerolinewidth": 2
                    },
                    "yaxis": {
                      "automargin": true,
                      "gridcolor": "#283442",
                      "linecolor": "#506784",
                      "ticks": "",
                      "title": {
                        "standoff": 15
                      },
                      "zerolinecolor": "#283442",
                      "zerolinewidth": 2
                    }
                  }
                },
                "title": {
                  "text": "Region-wise Participation of Institutions in India Rankings 2020"
                },
                "width": 1200
              }
            },
            "text/html": [
              "<div>                            <div id=\"747e403a-3ff7-4ce8-8eb3-836f9f2ede16\" class=\"plotly-graph-div\" style=\"height:800px; width:1200px;\"></div>            <script type=\"text/javascript\">                require([\"plotly\"], function(Plotly) {                    window.PLOTLYENV=window.PLOTLYENV || {};                                    if (document.getElementById(\"747e403a-3ff7-4ce8-8eb3-836f9f2ede16\")) {                    Plotly.newPlot(                        \"747e403a-3ff7-4ce8-8eb3-836f9f2ede16\",                        [{\"fill\": \"toself\", \"name\": \"Medical\", \"r\": [27, 6, 62, 23], \"subplot\": \"polar\", \"theta\": [\"north\", \"east\", \"south\", \"west\"], \"type\": \"scatterpolar\"}, {\"fill\": \"toself\", \"name\": \"Law\", \"r\": [34, 12, 21, 30], \"subplot\": \"polar2\", \"theta\": [\"north\", \"east\", \"south\", \"west\"], \"type\": \"scatterpolar\"}, {\"fill\": \"toself\", \"name\": \"Agriculture\", \"r\": [9, 6, 18, 15], \"subplot\": \"polar3\", \"theta\": [\"north\", \"east\", \"south\", \"west\"], \"type\": \"scatterpolar\"}, {\"fill\": \"toself\", \"name\": \"Dental\", \"r\": [29, 4, 59, 23], \"subplot\": \"polar4\", \"theta\": [\"north\", \"east\", \"south\", \"west\"], \"type\": \"scatterpolar\"}],                        {\"height\": 800, \"polar\": {\"angularaxis\": {\"direction\": \"clockwise\", \"period\": 4}, \"domain\": {\"x\": [0.0, 0.45], \"y\": [0.575, 1.0]}, \"radialaxis\": {\"angle\": 90}}, \"polar2\": {\"angularaxis\": {\"direction\": \"clockwise\", \"period\": 4}, \"domain\": {\"x\": [0.55, 1.0], \"y\": [0.575, 1.0]}, \"radialaxis\": {\"angle\": 90}}, \"polar3\": {\"angularaxis\": {\"direction\": \"clockwise\", \"period\": 4}, \"domain\": {\"x\": [0.0, 0.45], \"y\": [0.0, 0.425]}, \"radialaxis\": {\"angle\": 90}}, \"polar4\": {\"angularaxis\": {\"direction\": \"clockwise\", \"period\": 4}, \"domain\": {\"x\": [0.55, 1.0], \"y\": [0.0, 0.425]}, \"radialaxis\": {\"angle\": 90}}, \"template\": {\"data\": {\"bar\": [{\"error_x\": {\"color\": \"#f2f5fa\"}, \"error_y\": {\"color\": \"#f2f5fa\"}, \"marker\": {\"line\": {\"color\": \"rgb(17,17,17)\", \"width\": 0.5}}, \"type\": \"bar\"}], \"barpolar\": [{\"marker\": {\"line\": {\"color\": \"rgb(17,17,17)\", \"width\": 0.5}}, \"type\": \"barpolar\"}], \"carpet\": [{\"aaxis\": {\"endlinecolor\": \"#A2B1C6\", \"gridcolor\": \"#506784\", \"linecolor\": \"#506784\", \"minorgridcolor\": \"#506784\", \"startlinecolor\": \"#A2B1C6\"}, \"baxis\": {\"endlinecolor\": \"#A2B1C6\", \"gridcolor\": \"#506784\", \"linecolor\": \"#506784\", \"minorgridcolor\": \"#506784\", \"startlinecolor\": \"#A2B1C6\"}, \"type\": \"carpet\"}], \"choropleth\": [{\"colorbar\": {\"outlinewidth\": 0, \"ticks\": \"\"}, \"type\": \"choropleth\"}], \"contour\": [{\"colorbar\": {\"outlinewidth\": 0, \"ticks\": \"\"}, \"colorscale\": [[0.0, \"#0d0887\"], [0.1111111111111111, \"#46039f\"], [0.2222222222222222, \"#7201a8\"], [0.3333333333333333, \"#9c179e\"], [0.4444444444444444, \"#bd3786\"], [0.5555555555555556, \"#d8576b\"], [0.6666666666666666, \"#ed7953\"], [0.7777777777777778, \"#fb9f3a\"], [0.8888888888888888, \"#fdca26\"], [1.0, \"#f0f921\"]], \"type\": \"contour\"}], \"contourcarpet\": [{\"colorbar\": {\"outlinewidth\": 0, \"ticks\": \"\"}, \"type\": \"contourcarpet\"}], \"heatmap\": [{\"colorbar\": {\"outlinewidth\": 0, \"ticks\": \"\"}, \"colorscale\": [[0.0, \"#0d0887\"], [0.1111111111111111, \"#46039f\"], [0.2222222222222222, \"#7201a8\"], [0.3333333333333333, \"#9c179e\"], [0.4444444444444444, \"#bd3786\"], [0.5555555555555556, \"#d8576b\"], [0.6666666666666666, \"#ed7953\"], [0.7777777777777778, \"#fb9f3a\"], [0.8888888888888888, \"#fdca26\"], [1.0, \"#f0f921\"]], \"type\": \"heatmap\"}], \"heatmapgl\": [{\"colorbar\": {\"outlinewidth\": 0, \"ticks\": \"\"}, \"colorscale\": [[0.0, \"#0d0887\"], [0.1111111111111111, \"#46039f\"], [0.2222222222222222, \"#7201a8\"], [0.3333333333333333, \"#9c179e\"], [0.4444444444444444, \"#bd3786\"], [0.5555555555555556, \"#d8576b\"], [0.6666666666666666, \"#ed7953\"], [0.7777777777777778, \"#fb9f3a\"], [0.8888888888888888, \"#fdca26\"], [1.0, \"#f0f921\"]], \"type\": \"heatmapgl\"}], \"histogram\": [{\"marker\": {\"colorbar\": {\"outlinewidth\": 0, \"ticks\": \"\"}}, \"type\": \"histogram\"}], \"histogram2d\": [{\"colorbar\": {\"outlinewidth\": 0, \"ticks\": \"\"}, \"colorscale\": [[0.0, \"#0d0887\"], [0.1111111111111111, \"#46039f\"], [0.2222222222222222, \"#7201a8\"], [0.3333333333333333, \"#9c179e\"], [0.4444444444444444, \"#bd3786\"], [0.5555555555555556, \"#d8576b\"], [0.6666666666666666, \"#ed7953\"], [0.7777777777777778, \"#fb9f3a\"], [0.8888888888888888, \"#fdca26\"], [1.0, \"#f0f921\"]], \"type\": \"histogram2d\"}], \"histogram2dcontour\": [{\"colorbar\": {\"outlinewidth\": 0, \"ticks\": \"\"}, \"colorscale\": [[0.0, \"#0d0887\"], [0.1111111111111111, \"#46039f\"], [0.2222222222222222, \"#7201a8\"], [0.3333333333333333, \"#9c179e\"], [0.4444444444444444, \"#bd3786\"], [0.5555555555555556, \"#d8576b\"], [0.6666666666666666, \"#ed7953\"], [0.7777777777777778, \"#fb9f3a\"], [0.8888888888888888, \"#fdca26\"], [1.0, \"#f0f921\"]], \"type\": \"histogram2dcontour\"}], \"mesh3d\": [{\"colorbar\": {\"outlinewidth\": 0, \"ticks\": \"\"}, \"type\": \"mesh3d\"}], \"parcoords\": [{\"line\": {\"colorbar\": {\"outlinewidth\": 0, \"ticks\": \"\"}}, \"type\": \"parcoords\"}], \"pie\": [{\"automargin\": true, \"type\": \"pie\"}], \"scatter\": [{\"marker\": {\"line\": {\"color\": \"#283442\"}}, \"type\": \"scatter\"}], \"scatter3d\": [{\"line\": {\"colorbar\": {\"outlinewidth\": 0, \"ticks\": \"\"}}, \"marker\": {\"colorbar\": {\"outlinewidth\": 0, \"ticks\": \"\"}}, \"type\": \"scatter3d\"}], \"scattercarpet\": [{\"marker\": {\"colorbar\": {\"outlinewidth\": 0, \"ticks\": \"\"}}, \"type\": \"scattercarpet\"}], \"scattergeo\": [{\"marker\": {\"colorbar\": {\"outlinewidth\": 0, \"ticks\": \"\"}}, \"type\": \"scattergeo\"}], \"scattergl\": [{\"marker\": {\"line\": {\"color\": \"#283442\"}}, \"type\": \"scattergl\"}], \"scattermapbox\": [{\"marker\": {\"colorbar\": {\"outlinewidth\": 0, \"ticks\": \"\"}}, \"type\": \"scattermapbox\"}], \"scatterpolar\": [{\"marker\": {\"colorbar\": {\"outlinewidth\": 0, \"ticks\": \"\"}}, \"type\": \"scatterpolar\"}], \"scatterpolargl\": [{\"marker\": {\"colorbar\": {\"outlinewidth\": 0, \"ticks\": \"\"}}, \"type\": \"scatterpolargl\"}], \"scatterternary\": [{\"marker\": {\"colorbar\": {\"outlinewidth\": 0, \"ticks\": \"\"}}, \"type\": \"scatterternary\"}], \"surface\": [{\"colorbar\": {\"outlinewidth\": 0, \"ticks\": \"\"}, \"colorscale\": [[0.0, \"#0d0887\"], [0.1111111111111111, \"#46039f\"], [0.2222222222222222, \"#7201a8\"], [0.3333333333333333, \"#9c179e\"], [0.4444444444444444, \"#bd3786\"], [0.5555555555555556, \"#d8576b\"], [0.6666666666666666, \"#ed7953\"], [0.7777777777777778, \"#fb9f3a\"], [0.8888888888888888, \"#fdca26\"], [1.0, \"#f0f921\"]], \"type\": \"surface\"}], \"table\": [{\"cells\": {\"fill\": {\"color\": \"#506784\"}, \"line\": {\"color\": \"rgb(17,17,17)\"}}, \"header\": {\"fill\": {\"color\": \"#2a3f5f\"}, \"line\": {\"color\": \"rgb(17,17,17)\"}}, \"type\": \"table\"}]}, \"layout\": {\"annotationdefaults\": {\"arrowcolor\": \"#f2f5fa\", \"arrowhead\": 0, \"arrowwidth\": 1}, \"autotypenumbers\": \"strict\", \"coloraxis\": {\"colorbar\": {\"outlinewidth\": 0, \"ticks\": \"\"}}, \"colorscale\": {\"diverging\": [[0, \"#8e0152\"], [0.1, \"#c51b7d\"], [0.2, \"#de77ae\"], [0.3, \"#f1b6da\"], [0.4, \"#fde0ef\"], [0.5, \"#f7f7f7\"], [0.6, \"#e6f5d0\"], [0.7, \"#b8e186\"], [0.8, \"#7fbc41\"], [0.9, \"#4d9221\"], [1, \"#276419\"]], \"sequential\": [[0.0, \"#0d0887\"], [0.1111111111111111, \"#46039f\"], [0.2222222222222222, \"#7201a8\"], [0.3333333333333333, \"#9c179e\"], [0.4444444444444444, \"#bd3786\"], [0.5555555555555556, \"#d8576b\"], [0.6666666666666666, \"#ed7953\"], [0.7777777777777778, \"#fb9f3a\"], [0.8888888888888888, \"#fdca26\"], [1.0, \"#f0f921\"]], \"sequentialminus\": [[0.0, \"#0d0887\"], [0.1111111111111111, \"#46039f\"], [0.2222222222222222, \"#7201a8\"], [0.3333333333333333, \"#9c179e\"], [0.4444444444444444, \"#bd3786\"], [0.5555555555555556, \"#d8576b\"], [0.6666666666666666, \"#ed7953\"], [0.7777777777777778, \"#fb9f3a\"], [0.8888888888888888, \"#fdca26\"], [1.0, \"#f0f921\"]]}, \"colorway\": [\"#636efa\", \"#EF553B\", \"#00cc96\", \"#ab63fa\", \"#FFA15A\", \"#19d3f3\", \"#FF6692\", \"#B6E880\", \"#FF97FF\", \"#FECB52\"], \"font\": {\"color\": \"#f2f5fa\"}, \"geo\": {\"bgcolor\": \"rgb(17,17,17)\", \"lakecolor\": \"rgb(17,17,17)\", \"landcolor\": \"rgb(17,17,17)\", \"showlakes\": true, \"showland\": true, \"subunitcolor\": \"#506784\"}, \"hoverlabel\": {\"align\": \"left\"}, \"hovermode\": \"closest\", \"mapbox\": {\"style\": \"dark\"}, \"paper_bgcolor\": \"rgb(17,17,17)\", \"plot_bgcolor\": \"rgb(17,17,17)\", \"polar\": {\"angularaxis\": {\"gridcolor\": \"#506784\", \"linecolor\": \"#506784\", \"ticks\": \"\"}, \"bgcolor\": \"rgb(17,17,17)\", \"radialaxis\": {\"gridcolor\": \"#506784\", \"linecolor\": \"#506784\", \"ticks\": \"\"}}, \"scene\": {\"xaxis\": {\"backgroundcolor\": \"rgb(17,17,17)\", \"gridcolor\": \"#506784\", \"gridwidth\": 2, \"linecolor\": \"#506784\", \"showbackground\": true, \"ticks\": \"\", \"zerolinecolor\": \"#C8D4E3\"}, \"yaxis\": {\"backgroundcolor\": \"rgb(17,17,17)\", \"gridcolor\": \"#506784\", \"gridwidth\": 2, \"linecolor\": \"#506784\", \"showbackground\": true, \"ticks\": \"\", \"zerolinecolor\": \"#C8D4E3\"}, \"zaxis\": {\"backgroundcolor\": \"rgb(17,17,17)\", \"gridcolor\": \"#506784\", \"gridwidth\": 2, \"linecolor\": \"#506784\", \"showbackground\": true, \"ticks\": \"\", \"zerolinecolor\": \"#C8D4E3\"}}, \"shapedefaults\": {\"line\": {\"color\": \"#f2f5fa\"}}, \"sliderdefaults\": {\"bgcolor\": \"#C8D4E3\", \"bordercolor\": \"rgb(17,17,17)\", \"borderwidth\": 1, \"tickwidth\": 0}, \"ternary\": {\"aaxis\": {\"gridcolor\": \"#506784\", \"linecolor\": \"#506784\", \"ticks\": \"\"}, \"baxis\": {\"gridcolor\": \"#506784\", \"linecolor\": \"#506784\", \"ticks\": \"\"}, \"bgcolor\": \"rgb(17,17,17)\", \"caxis\": {\"gridcolor\": \"#506784\", \"linecolor\": \"#506784\", \"ticks\": \"\"}}, \"title\": {\"x\": 0.05}, \"updatemenudefaults\": {\"bgcolor\": \"#506784\", \"borderwidth\": 0}, \"xaxis\": {\"automargin\": true, \"gridcolor\": \"#283442\", \"linecolor\": \"#506784\", \"ticks\": \"\", \"title\": {\"standoff\": 15}, \"zerolinecolor\": \"#283442\", \"zerolinewidth\": 2}, \"yaxis\": {\"automargin\": true, \"gridcolor\": \"#283442\", \"linecolor\": \"#506784\", \"ticks\": \"\", \"title\": {\"standoff\": 15}, \"zerolinecolor\": \"#283442\", \"zerolinewidth\": 2}}}, \"title\": {\"text\": \"Region-wise Participation of Institutions in India Rankings 2020\"}, \"width\": 1200},                        {\"responsive\": true}                    ).then(function(){\n",
              "                            \n",
              "var gd = document.getElementById('747e403a-3ff7-4ce8-8eb3-836f9f2ede16');\n",
              "var x = new MutationObserver(function (mutations, observer) {{\n",
              "        var display = window.getComputedStyle(gd).display;\n",
              "        if (!display || display === 'none') {{\n",
              "            console.log([gd, 'removed!']);\n",
              "            Plotly.purge(gd);\n",
              "            observer.disconnect();\n",
              "        }}\n",
              "}});\n",
              "\n",
              "// Listen for the removal of the full notebook cells\n",
              "var notebookContainer = gd.closest('#notebook-container');\n",
              "if (notebookContainer) {{\n",
              "    x.observe(notebookContainer, {childList: true});\n",
              "}}\n",
              "\n",
              "// Listen for the clearing of the current output cell\n",
              "var outputEl = gd.closest('.output');\n",
              "if (outputEl) {{\n",
              "    x.observe(outputEl, {childList: true});\n",
              "}}\n",
              "\n",
              "                        })                };                });            </script>        </div>"
            ]
          },
          "metadata": {
            "tags": []
          }
        }
      ]
    },
    {
      "cell_type": "markdown",
      "metadata": {
        "id": "AladCpWYjZqm"
      },
      "source": [
        "# Average Salary of Placed Students in Academic Year 2016-17"
      ]
    },
    {
      "cell_type": "code",
      "metadata": {
        "id": "0BUg2mv3jZqm",
        "outputId": "841d8cd2-6c6c-427b-f443-7caacb75c441"
      },
      "source": [
        "import plotly.graph_objects as go\n",
        "\n",
        "fig = go.Figure(go.Indicator(\n",
        "    mode = \"number+delta\",\n",
        "    value = 302431.00,\n",
        "    delta = {\"reference\": 500000, \"valueformat\": \".0f\"},\n",
        "    title = {\"text\": \"Average salary\"},\n",
        "    domain = {'y': [0, 1], 'x': [0.25, 0.75]}))\n",
        "\n",
        "fig.add_trace(go.Scatter(\n",
        "    y = [325, 324, 405, 400, 424, 404, 417, 432, 419, 394, 410, 426, 413, 419, 404, 408, 401, 377, 368, 361, 356, 359, 375, 397, 394, 418, 437, 450, 430, 442, 424, 443, 420, 418, 423, 423, 426, 440, 437, 436, 447, 460, 478, 472, 450, 456, 436, 418, 429, 412, 429, 442, 464, 447, 434, 457, 474, 480, 499, 497, 480, 502, 512, 492]))\n",
        "\n",
        "fig.update_layout(xaxis = {'range': [0, 62]},template=\"plotly_dark\",title=\"Average Salary of Placed Students in Academic Year 2016-17\",height=800,width=1200)\n",
        "\n",
        "fig.show()"
      ],
      "execution_count": null,
      "outputs": [
        {
          "output_type": "display_data",
          "data": {
            "application/vnd.plotly.v1+json": {
              "config": {
                "plotlyServerURL": "https://plot.ly"
              },
              "data": [
                {
                  "delta": {
                    "reference": 500000,
                    "valueformat": ".0f"
                  },
                  "domain": {
                    "x": [
                      0.25,
                      0.75
                    ],
                    "y": [
                      0,
                      1
                    ]
                  },
                  "mode": "number+delta",
                  "title": {
                    "text": "Average salary"
                  },
                  "type": "indicator",
                  "value": 302431
                },
                {
                  "type": "scatter",
                  "y": [
                    325,
                    324,
                    405,
                    400,
                    424,
                    404,
                    417,
                    432,
                    419,
                    394,
                    410,
                    426,
                    413,
                    419,
                    404,
                    408,
                    401,
                    377,
                    368,
                    361,
                    356,
                    359,
                    375,
                    397,
                    394,
                    418,
                    437,
                    450,
                    430,
                    442,
                    424,
                    443,
                    420,
                    418,
                    423,
                    423,
                    426,
                    440,
                    437,
                    436,
                    447,
                    460,
                    478,
                    472,
                    450,
                    456,
                    436,
                    418,
                    429,
                    412,
                    429,
                    442,
                    464,
                    447,
                    434,
                    457,
                    474,
                    480,
                    499,
                    497,
                    480,
                    502,
                    512,
                    492
                  ]
                }
              ],
              "layout": {
                "height": 800,
                "template": {
                  "data": {
                    "bar": [
                      {
                        "error_x": {
                          "color": "#f2f5fa"
                        },
                        "error_y": {
                          "color": "#f2f5fa"
                        },
                        "marker": {
                          "line": {
                            "color": "rgb(17,17,17)",
                            "width": 0.5
                          }
                        },
                        "type": "bar"
                      }
                    ],
                    "barpolar": [
                      {
                        "marker": {
                          "line": {
                            "color": "rgb(17,17,17)",
                            "width": 0.5
                          }
                        },
                        "type": "barpolar"
                      }
                    ],
                    "carpet": [
                      {
                        "aaxis": {
                          "endlinecolor": "#A2B1C6",
                          "gridcolor": "#506784",
                          "linecolor": "#506784",
                          "minorgridcolor": "#506784",
                          "startlinecolor": "#A2B1C6"
                        },
                        "baxis": {
                          "endlinecolor": "#A2B1C6",
                          "gridcolor": "#506784",
                          "linecolor": "#506784",
                          "minorgridcolor": "#506784",
                          "startlinecolor": "#A2B1C6"
                        },
                        "type": "carpet"
                      }
                    ],
                    "choropleth": [
                      {
                        "colorbar": {
                          "outlinewidth": 0,
                          "ticks": ""
                        },
                        "type": "choropleth"
                      }
                    ],
                    "contour": [
                      {
                        "colorbar": {
                          "outlinewidth": 0,
                          "ticks": ""
                        },
                        "colorscale": [
                          [
                            0,
                            "#0d0887"
                          ],
                          [
                            0.1111111111111111,
                            "#46039f"
                          ],
                          [
                            0.2222222222222222,
                            "#7201a8"
                          ],
                          [
                            0.3333333333333333,
                            "#9c179e"
                          ],
                          [
                            0.4444444444444444,
                            "#bd3786"
                          ],
                          [
                            0.5555555555555556,
                            "#d8576b"
                          ],
                          [
                            0.6666666666666666,
                            "#ed7953"
                          ],
                          [
                            0.7777777777777778,
                            "#fb9f3a"
                          ],
                          [
                            0.8888888888888888,
                            "#fdca26"
                          ],
                          [
                            1,
                            "#f0f921"
                          ]
                        ],
                        "type": "contour"
                      }
                    ],
                    "contourcarpet": [
                      {
                        "colorbar": {
                          "outlinewidth": 0,
                          "ticks": ""
                        },
                        "type": "contourcarpet"
                      }
                    ],
                    "heatmap": [
                      {
                        "colorbar": {
                          "outlinewidth": 0,
                          "ticks": ""
                        },
                        "colorscale": [
                          [
                            0,
                            "#0d0887"
                          ],
                          [
                            0.1111111111111111,
                            "#46039f"
                          ],
                          [
                            0.2222222222222222,
                            "#7201a8"
                          ],
                          [
                            0.3333333333333333,
                            "#9c179e"
                          ],
                          [
                            0.4444444444444444,
                            "#bd3786"
                          ],
                          [
                            0.5555555555555556,
                            "#d8576b"
                          ],
                          [
                            0.6666666666666666,
                            "#ed7953"
                          ],
                          [
                            0.7777777777777778,
                            "#fb9f3a"
                          ],
                          [
                            0.8888888888888888,
                            "#fdca26"
                          ],
                          [
                            1,
                            "#f0f921"
                          ]
                        ],
                        "type": "heatmap"
                      }
                    ],
                    "heatmapgl": [
                      {
                        "colorbar": {
                          "outlinewidth": 0,
                          "ticks": ""
                        },
                        "colorscale": [
                          [
                            0,
                            "#0d0887"
                          ],
                          [
                            0.1111111111111111,
                            "#46039f"
                          ],
                          [
                            0.2222222222222222,
                            "#7201a8"
                          ],
                          [
                            0.3333333333333333,
                            "#9c179e"
                          ],
                          [
                            0.4444444444444444,
                            "#bd3786"
                          ],
                          [
                            0.5555555555555556,
                            "#d8576b"
                          ],
                          [
                            0.6666666666666666,
                            "#ed7953"
                          ],
                          [
                            0.7777777777777778,
                            "#fb9f3a"
                          ],
                          [
                            0.8888888888888888,
                            "#fdca26"
                          ],
                          [
                            1,
                            "#f0f921"
                          ]
                        ],
                        "type": "heatmapgl"
                      }
                    ],
                    "histogram": [
                      {
                        "marker": {
                          "colorbar": {
                            "outlinewidth": 0,
                            "ticks": ""
                          }
                        },
                        "type": "histogram"
                      }
                    ],
                    "histogram2d": [
                      {
                        "colorbar": {
                          "outlinewidth": 0,
                          "ticks": ""
                        },
                        "colorscale": [
                          [
                            0,
                            "#0d0887"
                          ],
                          [
                            0.1111111111111111,
                            "#46039f"
                          ],
                          [
                            0.2222222222222222,
                            "#7201a8"
                          ],
                          [
                            0.3333333333333333,
                            "#9c179e"
                          ],
                          [
                            0.4444444444444444,
                            "#bd3786"
                          ],
                          [
                            0.5555555555555556,
                            "#d8576b"
                          ],
                          [
                            0.6666666666666666,
                            "#ed7953"
                          ],
                          [
                            0.7777777777777778,
                            "#fb9f3a"
                          ],
                          [
                            0.8888888888888888,
                            "#fdca26"
                          ],
                          [
                            1,
                            "#f0f921"
                          ]
                        ],
                        "type": "histogram2d"
                      }
                    ],
                    "histogram2dcontour": [
                      {
                        "colorbar": {
                          "outlinewidth": 0,
                          "ticks": ""
                        },
                        "colorscale": [
                          [
                            0,
                            "#0d0887"
                          ],
                          [
                            0.1111111111111111,
                            "#46039f"
                          ],
                          [
                            0.2222222222222222,
                            "#7201a8"
                          ],
                          [
                            0.3333333333333333,
                            "#9c179e"
                          ],
                          [
                            0.4444444444444444,
                            "#bd3786"
                          ],
                          [
                            0.5555555555555556,
                            "#d8576b"
                          ],
                          [
                            0.6666666666666666,
                            "#ed7953"
                          ],
                          [
                            0.7777777777777778,
                            "#fb9f3a"
                          ],
                          [
                            0.8888888888888888,
                            "#fdca26"
                          ],
                          [
                            1,
                            "#f0f921"
                          ]
                        ],
                        "type": "histogram2dcontour"
                      }
                    ],
                    "mesh3d": [
                      {
                        "colorbar": {
                          "outlinewidth": 0,
                          "ticks": ""
                        },
                        "type": "mesh3d"
                      }
                    ],
                    "parcoords": [
                      {
                        "line": {
                          "colorbar": {
                            "outlinewidth": 0,
                            "ticks": ""
                          }
                        },
                        "type": "parcoords"
                      }
                    ],
                    "pie": [
                      {
                        "automargin": true,
                        "type": "pie"
                      }
                    ],
                    "scatter": [
                      {
                        "marker": {
                          "line": {
                            "color": "#283442"
                          }
                        },
                        "type": "scatter"
                      }
                    ],
                    "scatter3d": [
                      {
                        "line": {
                          "colorbar": {
                            "outlinewidth": 0,
                            "ticks": ""
                          }
                        },
                        "marker": {
                          "colorbar": {
                            "outlinewidth": 0,
                            "ticks": ""
                          }
                        },
                        "type": "scatter3d"
                      }
                    ],
                    "scattercarpet": [
                      {
                        "marker": {
                          "colorbar": {
                            "outlinewidth": 0,
                            "ticks": ""
                          }
                        },
                        "type": "scattercarpet"
                      }
                    ],
                    "scattergeo": [
                      {
                        "marker": {
                          "colorbar": {
                            "outlinewidth": 0,
                            "ticks": ""
                          }
                        },
                        "type": "scattergeo"
                      }
                    ],
                    "scattergl": [
                      {
                        "marker": {
                          "line": {
                            "color": "#283442"
                          }
                        },
                        "type": "scattergl"
                      }
                    ],
                    "scattermapbox": [
                      {
                        "marker": {
                          "colorbar": {
                            "outlinewidth": 0,
                            "ticks": ""
                          }
                        },
                        "type": "scattermapbox"
                      }
                    ],
                    "scatterpolar": [
                      {
                        "marker": {
                          "colorbar": {
                            "outlinewidth": 0,
                            "ticks": ""
                          }
                        },
                        "type": "scatterpolar"
                      }
                    ],
                    "scatterpolargl": [
                      {
                        "marker": {
                          "colorbar": {
                            "outlinewidth": 0,
                            "ticks": ""
                          }
                        },
                        "type": "scatterpolargl"
                      }
                    ],
                    "scatterternary": [
                      {
                        "marker": {
                          "colorbar": {
                            "outlinewidth": 0,
                            "ticks": ""
                          }
                        },
                        "type": "scatterternary"
                      }
                    ],
                    "surface": [
                      {
                        "colorbar": {
                          "outlinewidth": 0,
                          "ticks": ""
                        },
                        "colorscale": [
                          [
                            0,
                            "#0d0887"
                          ],
                          [
                            0.1111111111111111,
                            "#46039f"
                          ],
                          [
                            0.2222222222222222,
                            "#7201a8"
                          ],
                          [
                            0.3333333333333333,
                            "#9c179e"
                          ],
                          [
                            0.4444444444444444,
                            "#bd3786"
                          ],
                          [
                            0.5555555555555556,
                            "#d8576b"
                          ],
                          [
                            0.6666666666666666,
                            "#ed7953"
                          ],
                          [
                            0.7777777777777778,
                            "#fb9f3a"
                          ],
                          [
                            0.8888888888888888,
                            "#fdca26"
                          ],
                          [
                            1,
                            "#f0f921"
                          ]
                        ],
                        "type": "surface"
                      }
                    ],
                    "table": [
                      {
                        "cells": {
                          "fill": {
                            "color": "#506784"
                          },
                          "line": {
                            "color": "rgb(17,17,17)"
                          }
                        },
                        "header": {
                          "fill": {
                            "color": "#2a3f5f"
                          },
                          "line": {
                            "color": "rgb(17,17,17)"
                          }
                        },
                        "type": "table"
                      }
                    ]
                  },
                  "layout": {
                    "annotationdefaults": {
                      "arrowcolor": "#f2f5fa",
                      "arrowhead": 0,
                      "arrowwidth": 1
                    },
                    "autotypenumbers": "strict",
                    "coloraxis": {
                      "colorbar": {
                        "outlinewidth": 0,
                        "ticks": ""
                      }
                    },
                    "colorscale": {
                      "diverging": [
                        [
                          0,
                          "#8e0152"
                        ],
                        [
                          0.1,
                          "#c51b7d"
                        ],
                        [
                          0.2,
                          "#de77ae"
                        ],
                        [
                          0.3,
                          "#f1b6da"
                        ],
                        [
                          0.4,
                          "#fde0ef"
                        ],
                        [
                          0.5,
                          "#f7f7f7"
                        ],
                        [
                          0.6,
                          "#e6f5d0"
                        ],
                        [
                          0.7,
                          "#b8e186"
                        ],
                        [
                          0.8,
                          "#7fbc41"
                        ],
                        [
                          0.9,
                          "#4d9221"
                        ],
                        [
                          1,
                          "#276419"
                        ]
                      ],
                      "sequential": [
                        [
                          0,
                          "#0d0887"
                        ],
                        [
                          0.1111111111111111,
                          "#46039f"
                        ],
                        [
                          0.2222222222222222,
                          "#7201a8"
                        ],
                        [
                          0.3333333333333333,
                          "#9c179e"
                        ],
                        [
                          0.4444444444444444,
                          "#bd3786"
                        ],
                        [
                          0.5555555555555556,
                          "#d8576b"
                        ],
                        [
                          0.6666666666666666,
                          "#ed7953"
                        ],
                        [
                          0.7777777777777778,
                          "#fb9f3a"
                        ],
                        [
                          0.8888888888888888,
                          "#fdca26"
                        ],
                        [
                          1,
                          "#f0f921"
                        ]
                      ],
                      "sequentialminus": [
                        [
                          0,
                          "#0d0887"
                        ],
                        [
                          0.1111111111111111,
                          "#46039f"
                        ],
                        [
                          0.2222222222222222,
                          "#7201a8"
                        ],
                        [
                          0.3333333333333333,
                          "#9c179e"
                        ],
                        [
                          0.4444444444444444,
                          "#bd3786"
                        ],
                        [
                          0.5555555555555556,
                          "#d8576b"
                        ],
                        [
                          0.6666666666666666,
                          "#ed7953"
                        ],
                        [
                          0.7777777777777778,
                          "#fb9f3a"
                        ],
                        [
                          0.8888888888888888,
                          "#fdca26"
                        ],
                        [
                          1,
                          "#f0f921"
                        ]
                      ]
                    },
                    "colorway": [
                      "#636efa",
                      "#EF553B",
                      "#00cc96",
                      "#ab63fa",
                      "#FFA15A",
                      "#19d3f3",
                      "#FF6692",
                      "#B6E880",
                      "#FF97FF",
                      "#FECB52"
                    ],
                    "font": {
                      "color": "#f2f5fa"
                    },
                    "geo": {
                      "bgcolor": "rgb(17,17,17)",
                      "lakecolor": "rgb(17,17,17)",
                      "landcolor": "rgb(17,17,17)",
                      "showlakes": true,
                      "showland": true,
                      "subunitcolor": "#506784"
                    },
                    "hoverlabel": {
                      "align": "left"
                    },
                    "hovermode": "closest",
                    "mapbox": {
                      "style": "dark"
                    },
                    "paper_bgcolor": "rgb(17,17,17)",
                    "plot_bgcolor": "rgb(17,17,17)",
                    "polar": {
                      "angularaxis": {
                        "gridcolor": "#506784",
                        "linecolor": "#506784",
                        "ticks": ""
                      },
                      "bgcolor": "rgb(17,17,17)",
                      "radialaxis": {
                        "gridcolor": "#506784",
                        "linecolor": "#506784",
                        "ticks": ""
                      }
                    },
                    "scene": {
                      "xaxis": {
                        "backgroundcolor": "rgb(17,17,17)",
                        "gridcolor": "#506784",
                        "gridwidth": 2,
                        "linecolor": "#506784",
                        "showbackground": true,
                        "ticks": "",
                        "zerolinecolor": "#C8D4E3"
                      },
                      "yaxis": {
                        "backgroundcolor": "rgb(17,17,17)",
                        "gridcolor": "#506784",
                        "gridwidth": 2,
                        "linecolor": "#506784",
                        "showbackground": true,
                        "ticks": "",
                        "zerolinecolor": "#C8D4E3"
                      },
                      "zaxis": {
                        "backgroundcolor": "rgb(17,17,17)",
                        "gridcolor": "#506784",
                        "gridwidth": 2,
                        "linecolor": "#506784",
                        "showbackground": true,
                        "ticks": "",
                        "zerolinecolor": "#C8D4E3"
                      }
                    },
                    "shapedefaults": {
                      "line": {
                        "color": "#f2f5fa"
                      }
                    },
                    "sliderdefaults": {
                      "bgcolor": "#C8D4E3",
                      "bordercolor": "rgb(17,17,17)",
                      "borderwidth": 1,
                      "tickwidth": 0
                    },
                    "ternary": {
                      "aaxis": {
                        "gridcolor": "#506784",
                        "linecolor": "#506784",
                        "ticks": ""
                      },
                      "baxis": {
                        "gridcolor": "#506784",
                        "linecolor": "#506784",
                        "ticks": ""
                      },
                      "bgcolor": "rgb(17,17,17)",
                      "caxis": {
                        "gridcolor": "#506784",
                        "linecolor": "#506784",
                        "ticks": ""
                      }
                    },
                    "title": {
                      "x": 0.05
                    },
                    "updatemenudefaults": {
                      "bgcolor": "#506784",
                      "borderwidth": 0
                    },
                    "xaxis": {
                      "automargin": true,
                      "gridcolor": "#283442",
                      "linecolor": "#506784",
                      "ticks": "",
                      "title": {
                        "standoff": 15
                      },
                      "zerolinecolor": "#283442",
                      "zerolinewidth": 2
                    },
                    "yaxis": {
                      "automargin": true,
                      "gridcolor": "#283442",
                      "linecolor": "#506784",
                      "ticks": "",
                      "title": {
                        "standoff": 15
                      },
                      "zerolinecolor": "#283442",
                      "zerolinewidth": 2
                    }
                  }
                },
                "title": {
                  "text": "Average Salary of Placed Students in Academic Year 2016-17"
                },
                "width": 1200,
                "xaxis": {
                  "range": [
                    0,
                    62
                  ]
                }
              }
            },
            "text/html": [
              "<div>                            <div id=\"0df7630f-e502-4298-9293-4997d87d5bf1\" class=\"plotly-graph-div\" style=\"height:800px; width:1200px;\"></div>            <script type=\"text/javascript\">                require([\"plotly\"], function(Plotly) {                    window.PLOTLYENV=window.PLOTLYENV || {};                                    if (document.getElementById(\"0df7630f-e502-4298-9293-4997d87d5bf1\")) {                    Plotly.newPlot(                        \"0df7630f-e502-4298-9293-4997d87d5bf1\",                        [{\"delta\": {\"reference\": 500000, \"valueformat\": \".0f\"}, \"domain\": {\"x\": [0.25, 0.75], \"y\": [0, 1]}, \"mode\": \"number+delta\", \"title\": {\"text\": \"Average salary\"}, \"type\": \"indicator\", \"value\": 302431.0}, {\"type\": \"scatter\", \"y\": [325, 324, 405, 400, 424, 404, 417, 432, 419, 394, 410, 426, 413, 419, 404, 408, 401, 377, 368, 361, 356, 359, 375, 397, 394, 418, 437, 450, 430, 442, 424, 443, 420, 418, 423, 423, 426, 440, 437, 436, 447, 460, 478, 472, 450, 456, 436, 418, 429, 412, 429, 442, 464, 447, 434, 457, 474, 480, 499, 497, 480, 502, 512, 492]}],                        {\"height\": 800, \"template\": {\"data\": {\"bar\": [{\"error_x\": {\"color\": \"#f2f5fa\"}, \"error_y\": {\"color\": \"#f2f5fa\"}, \"marker\": {\"line\": {\"color\": \"rgb(17,17,17)\", \"width\": 0.5}}, \"type\": \"bar\"}], \"barpolar\": [{\"marker\": {\"line\": {\"color\": \"rgb(17,17,17)\", \"width\": 0.5}}, \"type\": \"barpolar\"}], \"carpet\": [{\"aaxis\": {\"endlinecolor\": \"#A2B1C6\", \"gridcolor\": \"#506784\", \"linecolor\": \"#506784\", \"minorgridcolor\": \"#506784\", \"startlinecolor\": \"#A2B1C6\"}, \"baxis\": {\"endlinecolor\": \"#A2B1C6\", \"gridcolor\": \"#506784\", \"linecolor\": \"#506784\", \"minorgridcolor\": \"#506784\", \"startlinecolor\": \"#A2B1C6\"}, \"type\": \"carpet\"}], \"choropleth\": [{\"colorbar\": {\"outlinewidth\": 0, \"ticks\": \"\"}, \"type\": \"choropleth\"}], \"contour\": [{\"colorbar\": {\"outlinewidth\": 0, \"ticks\": \"\"}, \"colorscale\": [[0.0, \"#0d0887\"], [0.1111111111111111, \"#46039f\"], [0.2222222222222222, \"#7201a8\"], [0.3333333333333333, \"#9c179e\"], [0.4444444444444444, \"#bd3786\"], [0.5555555555555556, \"#d8576b\"], [0.6666666666666666, \"#ed7953\"], [0.7777777777777778, \"#fb9f3a\"], [0.8888888888888888, \"#fdca26\"], [1.0, \"#f0f921\"]], \"type\": \"contour\"}], \"contourcarpet\": [{\"colorbar\": {\"outlinewidth\": 0, \"ticks\": \"\"}, \"type\": \"contourcarpet\"}], \"heatmap\": [{\"colorbar\": {\"outlinewidth\": 0, \"ticks\": \"\"}, \"colorscale\": [[0.0, \"#0d0887\"], [0.1111111111111111, \"#46039f\"], [0.2222222222222222, \"#7201a8\"], [0.3333333333333333, \"#9c179e\"], [0.4444444444444444, \"#bd3786\"], [0.5555555555555556, \"#d8576b\"], [0.6666666666666666, \"#ed7953\"], [0.7777777777777778, \"#fb9f3a\"], [0.8888888888888888, \"#fdca26\"], [1.0, \"#f0f921\"]], \"type\": \"heatmap\"}], \"heatmapgl\": [{\"colorbar\": {\"outlinewidth\": 0, \"ticks\": \"\"}, \"colorscale\": [[0.0, \"#0d0887\"], [0.1111111111111111, \"#46039f\"], [0.2222222222222222, \"#7201a8\"], [0.3333333333333333, \"#9c179e\"], [0.4444444444444444, \"#bd3786\"], [0.5555555555555556, \"#d8576b\"], [0.6666666666666666, \"#ed7953\"], [0.7777777777777778, \"#fb9f3a\"], [0.8888888888888888, \"#fdca26\"], [1.0, \"#f0f921\"]], \"type\": \"heatmapgl\"}], \"histogram\": [{\"marker\": {\"colorbar\": {\"outlinewidth\": 0, \"ticks\": \"\"}}, \"type\": \"histogram\"}], \"histogram2d\": [{\"colorbar\": {\"outlinewidth\": 0, \"ticks\": \"\"}, \"colorscale\": [[0.0, \"#0d0887\"], [0.1111111111111111, \"#46039f\"], [0.2222222222222222, \"#7201a8\"], [0.3333333333333333, \"#9c179e\"], [0.4444444444444444, \"#bd3786\"], [0.5555555555555556, \"#d8576b\"], [0.6666666666666666, \"#ed7953\"], [0.7777777777777778, \"#fb9f3a\"], [0.8888888888888888, \"#fdca26\"], [1.0, \"#f0f921\"]], \"type\": \"histogram2d\"}], \"histogram2dcontour\": [{\"colorbar\": {\"outlinewidth\": 0, \"ticks\": \"\"}, \"colorscale\": [[0.0, \"#0d0887\"], [0.1111111111111111, \"#46039f\"], [0.2222222222222222, \"#7201a8\"], [0.3333333333333333, \"#9c179e\"], [0.4444444444444444, \"#bd3786\"], [0.5555555555555556, \"#d8576b\"], [0.6666666666666666, \"#ed7953\"], [0.7777777777777778, \"#fb9f3a\"], [0.8888888888888888, \"#fdca26\"], [1.0, \"#f0f921\"]], \"type\": \"histogram2dcontour\"}], \"mesh3d\": [{\"colorbar\": {\"outlinewidth\": 0, \"ticks\": \"\"}, \"type\": \"mesh3d\"}], \"parcoords\": [{\"line\": {\"colorbar\": {\"outlinewidth\": 0, \"ticks\": \"\"}}, \"type\": \"parcoords\"}], \"pie\": [{\"automargin\": true, \"type\": \"pie\"}], \"scatter\": [{\"marker\": {\"line\": {\"color\": \"#283442\"}}, \"type\": \"scatter\"}], \"scatter3d\": [{\"line\": {\"colorbar\": {\"outlinewidth\": 0, \"ticks\": \"\"}}, \"marker\": {\"colorbar\": {\"outlinewidth\": 0, \"ticks\": \"\"}}, \"type\": \"scatter3d\"}], \"scattercarpet\": [{\"marker\": {\"colorbar\": {\"outlinewidth\": 0, \"ticks\": \"\"}}, \"type\": \"scattercarpet\"}], \"scattergeo\": [{\"marker\": {\"colorbar\": {\"outlinewidth\": 0, \"ticks\": \"\"}}, \"type\": \"scattergeo\"}], \"scattergl\": [{\"marker\": {\"line\": {\"color\": \"#283442\"}}, \"type\": \"scattergl\"}], \"scattermapbox\": [{\"marker\": {\"colorbar\": {\"outlinewidth\": 0, \"ticks\": \"\"}}, \"type\": \"scattermapbox\"}], \"scatterpolar\": [{\"marker\": {\"colorbar\": {\"outlinewidth\": 0, \"ticks\": \"\"}}, \"type\": \"scatterpolar\"}], \"scatterpolargl\": [{\"marker\": {\"colorbar\": {\"outlinewidth\": 0, \"ticks\": \"\"}}, \"type\": \"scatterpolargl\"}], \"scatterternary\": [{\"marker\": {\"colorbar\": {\"outlinewidth\": 0, \"ticks\": \"\"}}, \"type\": \"scatterternary\"}], \"surface\": [{\"colorbar\": {\"outlinewidth\": 0, \"ticks\": \"\"}, \"colorscale\": [[0.0, \"#0d0887\"], [0.1111111111111111, \"#46039f\"], [0.2222222222222222, \"#7201a8\"], [0.3333333333333333, \"#9c179e\"], [0.4444444444444444, \"#bd3786\"], [0.5555555555555556, \"#d8576b\"], [0.6666666666666666, \"#ed7953\"], [0.7777777777777778, \"#fb9f3a\"], [0.8888888888888888, \"#fdca26\"], [1.0, \"#f0f921\"]], \"type\": \"surface\"}], \"table\": [{\"cells\": {\"fill\": {\"color\": \"#506784\"}, \"line\": {\"color\": \"rgb(17,17,17)\"}}, \"header\": {\"fill\": {\"color\": \"#2a3f5f\"}, \"line\": {\"color\": \"rgb(17,17,17)\"}}, \"type\": \"table\"}]}, \"layout\": {\"annotationdefaults\": {\"arrowcolor\": \"#f2f5fa\", \"arrowhead\": 0, \"arrowwidth\": 1}, \"autotypenumbers\": \"strict\", \"coloraxis\": {\"colorbar\": {\"outlinewidth\": 0, \"ticks\": \"\"}}, \"colorscale\": {\"diverging\": [[0, \"#8e0152\"], [0.1, \"#c51b7d\"], [0.2, \"#de77ae\"], [0.3, \"#f1b6da\"], [0.4, \"#fde0ef\"], [0.5, \"#f7f7f7\"], [0.6, \"#e6f5d0\"], [0.7, \"#b8e186\"], [0.8, \"#7fbc41\"], [0.9, \"#4d9221\"], [1, \"#276419\"]], \"sequential\": [[0.0, \"#0d0887\"], [0.1111111111111111, \"#46039f\"], [0.2222222222222222, \"#7201a8\"], [0.3333333333333333, \"#9c179e\"], [0.4444444444444444, \"#bd3786\"], [0.5555555555555556, \"#d8576b\"], [0.6666666666666666, \"#ed7953\"], [0.7777777777777778, \"#fb9f3a\"], [0.8888888888888888, \"#fdca26\"], [1.0, \"#f0f921\"]], \"sequentialminus\": [[0.0, \"#0d0887\"], [0.1111111111111111, \"#46039f\"], [0.2222222222222222, \"#7201a8\"], [0.3333333333333333, \"#9c179e\"], [0.4444444444444444, \"#bd3786\"], [0.5555555555555556, \"#d8576b\"], [0.6666666666666666, \"#ed7953\"], [0.7777777777777778, \"#fb9f3a\"], [0.8888888888888888, \"#fdca26\"], [1.0, \"#f0f921\"]]}, \"colorway\": [\"#636efa\", \"#EF553B\", \"#00cc96\", \"#ab63fa\", \"#FFA15A\", \"#19d3f3\", \"#FF6692\", \"#B6E880\", \"#FF97FF\", \"#FECB52\"], \"font\": {\"color\": \"#f2f5fa\"}, \"geo\": {\"bgcolor\": \"rgb(17,17,17)\", \"lakecolor\": \"rgb(17,17,17)\", \"landcolor\": \"rgb(17,17,17)\", \"showlakes\": true, \"showland\": true, \"subunitcolor\": \"#506784\"}, \"hoverlabel\": {\"align\": \"left\"}, \"hovermode\": \"closest\", \"mapbox\": {\"style\": \"dark\"}, \"paper_bgcolor\": \"rgb(17,17,17)\", \"plot_bgcolor\": \"rgb(17,17,17)\", \"polar\": {\"angularaxis\": {\"gridcolor\": \"#506784\", \"linecolor\": \"#506784\", \"ticks\": \"\"}, \"bgcolor\": \"rgb(17,17,17)\", \"radialaxis\": {\"gridcolor\": \"#506784\", \"linecolor\": \"#506784\", \"ticks\": \"\"}}, \"scene\": {\"xaxis\": {\"backgroundcolor\": \"rgb(17,17,17)\", \"gridcolor\": \"#506784\", \"gridwidth\": 2, \"linecolor\": \"#506784\", \"showbackground\": true, \"ticks\": \"\", \"zerolinecolor\": \"#C8D4E3\"}, \"yaxis\": {\"backgroundcolor\": \"rgb(17,17,17)\", \"gridcolor\": \"#506784\", \"gridwidth\": 2, \"linecolor\": \"#506784\", \"showbackground\": true, \"ticks\": \"\", \"zerolinecolor\": \"#C8D4E3\"}, \"zaxis\": {\"backgroundcolor\": \"rgb(17,17,17)\", \"gridcolor\": \"#506784\", \"gridwidth\": 2, \"linecolor\": \"#506784\", \"showbackground\": true, \"ticks\": \"\", \"zerolinecolor\": \"#C8D4E3\"}}, \"shapedefaults\": {\"line\": {\"color\": \"#f2f5fa\"}}, \"sliderdefaults\": {\"bgcolor\": \"#C8D4E3\", \"bordercolor\": \"rgb(17,17,17)\", \"borderwidth\": 1, \"tickwidth\": 0}, \"ternary\": {\"aaxis\": {\"gridcolor\": \"#506784\", \"linecolor\": \"#506784\", \"ticks\": \"\"}, \"baxis\": {\"gridcolor\": \"#506784\", \"linecolor\": \"#506784\", \"ticks\": \"\"}, \"bgcolor\": \"rgb(17,17,17)\", \"caxis\": {\"gridcolor\": \"#506784\", \"linecolor\": \"#506784\", \"ticks\": \"\"}}, \"title\": {\"x\": 0.05}, \"updatemenudefaults\": {\"bgcolor\": \"#506784\", \"borderwidth\": 0}, \"xaxis\": {\"automargin\": true, \"gridcolor\": \"#283442\", \"linecolor\": \"#506784\", \"ticks\": \"\", \"title\": {\"standoff\": 15}, \"zerolinecolor\": \"#283442\", \"zerolinewidth\": 2}, \"yaxis\": {\"automargin\": true, \"gridcolor\": \"#283442\", \"linecolor\": \"#506784\", \"ticks\": \"\", \"title\": {\"standoff\": 15}, \"zerolinecolor\": \"#283442\", \"zerolinewidth\": 2}}}, \"title\": {\"text\": \"Average Salary of Placed Students in Academic Year 2016-17\"}, \"width\": 1200, \"xaxis\": {\"range\": [0, 62]}},                        {\"responsive\": true}                    ).then(function(){\n",
              "                            \n",
              "var gd = document.getElementById('0df7630f-e502-4298-9293-4997d87d5bf1');\n",
              "var x = new MutationObserver(function (mutations, observer) {{\n",
              "        var display = window.getComputedStyle(gd).display;\n",
              "        if (!display || display === 'none') {{\n",
              "            console.log([gd, 'removed!']);\n",
              "            Plotly.purge(gd);\n",
              "            observer.disconnect();\n",
              "        }}\n",
              "}});\n",
              "\n",
              "// Listen for the removal of the full notebook cells\n",
              "var notebookContainer = gd.closest('#notebook-container');\n",
              "if (notebookContainer) {{\n",
              "    x.observe(notebookContainer, {childList: true});\n",
              "}}\n",
              "\n",
              "// Listen for the clearing of the current output cell\n",
              "var outputEl = gd.closest('.output');\n",
              "if (outputEl) {{\n",
              "    x.observe(outputEl, {childList: true});\n",
              "}}\n",
              "\n",
              "                        })                };                });            </script>        </div>"
            ]
          },
          "metadata": {
            "tags": []
          }
        }
      ]
    },
    {
      "cell_type": "markdown",
      "metadata": {
        "id": "ZgUFdUa3jZqn"
      },
      "source": [
        "# Average Salary of Placed Students in Academic Year 2017-18"
      ]
    },
    {
      "cell_type": "code",
      "metadata": {
        "id": "I2B-Fm58jZqn",
        "outputId": "e5441d98-1070-4125-8346-4ed84ce4d898"
      },
      "source": [
        "import plotly.graph_objects as go\n",
        "\n",
        "fig = go.Figure(go.Indicator(\n",
        "    mode = \"number+delta\",\n",
        "    value = 319021.00,\n",
        "    delta = {\"reference\": 500000, \"valueformat\": \".0f\"},\n",
        "    title = {\"text\": \"Average salary with increase of 5.49%\"},\n",
        "    domain = {'y': [0, 1], 'x': [0.25, 0.75]}))\n",
        "\n",
        "fig.add_trace(go.Scatter(\n",
        "    y = [325, 324, 405, 400, 424, 404, 417, 432, 419, 394, 410, 426, 413, 419, 404, 408, 401, 377, 368, 361, 356, 359, 375, 397, 394, 418, 437, 450, 430, 442, 424, 443, 420, 418, 423, 423, 426, 440, 437, 436, 447, 460, 478, 472, 450, 456, 436, 418, 429, 412, 429, 442, 464, 447, 434, 457, 474, 480, 499, 497, 480, 502, 512, 492]))\n",
        "\n",
        "fig.update_layout(xaxis = {'range': [0, 62]},template=\"plotly_dark\",title=\"Average Salary of Placed Students in Academic Year 2017-18\",height=800,width=1200)\n",
        "\n",
        "fig.show()"
      ],
      "execution_count": null,
      "outputs": [
        {
          "output_type": "display_data",
          "data": {
            "application/vnd.plotly.v1+json": {
              "config": {
                "plotlyServerURL": "https://plot.ly"
              },
              "data": [
                {
                  "delta": {
                    "reference": 500000,
                    "valueformat": ".0f"
                  },
                  "domain": {
                    "x": [
                      0.25,
                      0.75
                    ],
                    "y": [
                      0,
                      1
                    ]
                  },
                  "mode": "number+delta",
                  "title": {
                    "text": "Average salary with increase of 5.49%"
                  },
                  "type": "indicator",
                  "value": 319021
                },
                {
                  "type": "scatter",
                  "y": [
                    325,
                    324,
                    405,
                    400,
                    424,
                    404,
                    417,
                    432,
                    419,
                    394,
                    410,
                    426,
                    413,
                    419,
                    404,
                    408,
                    401,
                    377,
                    368,
                    361,
                    356,
                    359,
                    375,
                    397,
                    394,
                    418,
                    437,
                    450,
                    430,
                    442,
                    424,
                    443,
                    420,
                    418,
                    423,
                    423,
                    426,
                    440,
                    437,
                    436,
                    447,
                    460,
                    478,
                    472,
                    450,
                    456,
                    436,
                    418,
                    429,
                    412,
                    429,
                    442,
                    464,
                    447,
                    434,
                    457,
                    474,
                    480,
                    499,
                    497,
                    480,
                    502,
                    512,
                    492
                  ]
                }
              ],
              "layout": {
                "height": 800,
                "template": {
                  "data": {
                    "bar": [
                      {
                        "error_x": {
                          "color": "#f2f5fa"
                        },
                        "error_y": {
                          "color": "#f2f5fa"
                        },
                        "marker": {
                          "line": {
                            "color": "rgb(17,17,17)",
                            "width": 0.5
                          }
                        },
                        "type": "bar"
                      }
                    ],
                    "barpolar": [
                      {
                        "marker": {
                          "line": {
                            "color": "rgb(17,17,17)",
                            "width": 0.5
                          }
                        },
                        "type": "barpolar"
                      }
                    ],
                    "carpet": [
                      {
                        "aaxis": {
                          "endlinecolor": "#A2B1C6",
                          "gridcolor": "#506784",
                          "linecolor": "#506784",
                          "minorgridcolor": "#506784",
                          "startlinecolor": "#A2B1C6"
                        },
                        "baxis": {
                          "endlinecolor": "#A2B1C6",
                          "gridcolor": "#506784",
                          "linecolor": "#506784",
                          "minorgridcolor": "#506784",
                          "startlinecolor": "#A2B1C6"
                        },
                        "type": "carpet"
                      }
                    ],
                    "choropleth": [
                      {
                        "colorbar": {
                          "outlinewidth": 0,
                          "ticks": ""
                        },
                        "type": "choropleth"
                      }
                    ],
                    "contour": [
                      {
                        "colorbar": {
                          "outlinewidth": 0,
                          "ticks": ""
                        },
                        "colorscale": [
                          [
                            0,
                            "#0d0887"
                          ],
                          [
                            0.1111111111111111,
                            "#46039f"
                          ],
                          [
                            0.2222222222222222,
                            "#7201a8"
                          ],
                          [
                            0.3333333333333333,
                            "#9c179e"
                          ],
                          [
                            0.4444444444444444,
                            "#bd3786"
                          ],
                          [
                            0.5555555555555556,
                            "#d8576b"
                          ],
                          [
                            0.6666666666666666,
                            "#ed7953"
                          ],
                          [
                            0.7777777777777778,
                            "#fb9f3a"
                          ],
                          [
                            0.8888888888888888,
                            "#fdca26"
                          ],
                          [
                            1,
                            "#f0f921"
                          ]
                        ],
                        "type": "contour"
                      }
                    ],
                    "contourcarpet": [
                      {
                        "colorbar": {
                          "outlinewidth": 0,
                          "ticks": ""
                        },
                        "type": "contourcarpet"
                      }
                    ],
                    "heatmap": [
                      {
                        "colorbar": {
                          "outlinewidth": 0,
                          "ticks": ""
                        },
                        "colorscale": [
                          [
                            0,
                            "#0d0887"
                          ],
                          [
                            0.1111111111111111,
                            "#46039f"
                          ],
                          [
                            0.2222222222222222,
                            "#7201a8"
                          ],
                          [
                            0.3333333333333333,
                            "#9c179e"
                          ],
                          [
                            0.4444444444444444,
                            "#bd3786"
                          ],
                          [
                            0.5555555555555556,
                            "#d8576b"
                          ],
                          [
                            0.6666666666666666,
                            "#ed7953"
                          ],
                          [
                            0.7777777777777778,
                            "#fb9f3a"
                          ],
                          [
                            0.8888888888888888,
                            "#fdca26"
                          ],
                          [
                            1,
                            "#f0f921"
                          ]
                        ],
                        "type": "heatmap"
                      }
                    ],
                    "heatmapgl": [
                      {
                        "colorbar": {
                          "outlinewidth": 0,
                          "ticks": ""
                        },
                        "colorscale": [
                          [
                            0,
                            "#0d0887"
                          ],
                          [
                            0.1111111111111111,
                            "#46039f"
                          ],
                          [
                            0.2222222222222222,
                            "#7201a8"
                          ],
                          [
                            0.3333333333333333,
                            "#9c179e"
                          ],
                          [
                            0.4444444444444444,
                            "#bd3786"
                          ],
                          [
                            0.5555555555555556,
                            "#d8576b"
                          ],
                          [
                            0.6666666666666666,
                            "#ed7953"
                          ],
                          [
                            0.7777777777777778,
                            "#fb9f3a"
                          ],
                          [
                            0.8888888888888888,
                            "#fdca26"
                          ],
                          [
                            1,
                            "#f0f921"
                          ]
                        ],
                        "type": "heatmapgl"
                      }
                    ],
                    "histogram": [
                      {
                        "marker": {
                          "colorbar": {
                            "outlinewidth": 0,
                            "ticks": ""
                          }
                        },
                        "type": "histogram"
                      }
                    ],
                    "histogram2d": [
                      {
                        "colorbar": {
                          "outlinewidth": 0,
                          "ticks": ""
                        },
                        "colorscale": [
                          [
                            0,
                            "#0d0887"
                          ],
                          [
                            0.1111111111111111,
                            "#46039f"
                          ],
                          [
                            0.2222222222222222,
                            "#7201a8"
                          ],
                          [
                            0.3333333333333333,
                            "#9c179e"
                          ],
                          [
                            0.4444444444444444,
                            "#bd3786"
                          ],
                          [
                            0.5555555555555556,
                            "#d8576b"
                          ],
                          [
                            0.6666666666666666,
                            "#ed7953"
                          ],
                          [
                            0.7777777777777778,
                            "#fb9f3a"
                          ],
                          [
                            0.8888888888888888,
                            "#fdca26"
                          ],
                          [
                            1,
                            "#f0f921"
                          ]
                        ],
                        "type": "histogram2d"
                      }
                    ],
                    "histogram2dcontour": [
                      {
                        "colorbar": {
                          "outlinewidth": 0,
                          "ticks": ""
                        },
                        "colorscale": [
                          [
                            0,
                            "#0d0887"
                          ],
                          [
                            0.1111111111111111,
                            "#46039f"
                          ],
                          [
                            0.2222222222222222,
                            "#7201a8"
                          ],
                          [
                            0.3333333333333333,
                            "#9c179e"
                          ],
                          [
                            0.4444444444444444,
                            "#bd3786"
                          ],
                          [
                            0.5555555555555556,
                            "#d8576b"
                          ],
                          [
                            0.6666666666666666,
                            "#ed7953"
                          ],
                          [
                            0.7777777777777778,
                            "#fb9f3a"
                          ],
                          [
                            0.8888888888888888,
                            "#fdca26"
                          ],
                          [
                            1,
                            "#f0f921"
                          ]
                        ],
                        "type": "histogram2dcontour"
                      }
                    ],
                    "mesh3d": [
                      {
                        "colorbar": {
                          "outlinewidth": 0,
                          "ticks": ""
                        },
                        "type": "mesh3d"
                      }
                    ],
                    "parcoords": [
                      {
                        "line": {
                          "colorbar": {
                            "outlinewidth": 0,
                            "ticks": ""
                          }
                        },
                        "type": "parcoords"
                      }
                    ],
                    "pie": [
                      {
                        "automargin": true,
                        "type": "pie"
                      }
                    ],
                    "scatter": [
                      {
                        "marker": {
                          "line": {
                            "color": "#283442"
                          }
                        },
                        "type": "scatter"
                      }
                    ],
                    "scatter3d": [
                      {
                        "line": {
                          "colorbar": {
                            "outlinewidth": 0,
                            "ticks": ""
                          }
                        },
                        "marker": {
                          "colorbar": {
                            "outlinewidth": 0,
                            "ticks": ""
                          }
                        },
                        "type": "scatter3d"
                      }
                    ],
                    "scattercarpet": [
                      {
                        "marker": {
                          "colorbar": {
                            "outlinewidth": 0,
                            "ticks": ""
                          }
                        },
                        "type": "scattercarpet"
                      }
                    ],
                    "scattergeo": [
                      {
                        "marker": {
                          "colorbar": {
                            "outlinewidth": 0,
                            "ticks": ""
                          }
                        },
                        "type": "scattergeo"
                      }
                    ],
                    "scattergl": [
                      {
                        "marker": {
                          "line": {
                            "color": "#283442"
                          }
                        },
                        "type": "scattergl"
                      }
                    ],
                    "scattermapbox": [
                      {
                        "marker": {
                          "colorbar": {
                            "outlinewidth": 0,
                            "ticks": ""
                          }
                        },
                        "type": "scattermapbox"
                      }
                    ],
                    "scatterpolar": [
                      {
                        "marker": {
                          "colorbar": {
                            "outlinewidth": 0,
                            "ticks": ""
                          }
                        },
                        "type": "scatterpolar"
                      }
                    ],
                    "scatterpolargl": [
                      {
                        "marker": {
                          "colorbar": {
                            "outlinewidth": 0,
                            "ticks": ""
                          }
                        },
                        "type": "scatterpolargl"
                      }
                    ],
                    "scatterternary": [
                      {
                        "marker": {
                          "colorbar": {
                            "outlinewidth": 0,
                            "ticks": ""
                          }
                        },
                        "type": "scatterternary"
                      }
                    ],
                    "surface": [
                      {
                        "colorbar": {
                          "outlinewidth": 0,
                          "ticks": ""
                        },
                        "colorscale": [
                          [
                            0,
                            "#0d0887"
                          ],
                          [
                            0.1111111111111111,
                            "#46039f"
                          ],
                          [
                            0.2222222222222222,
                            "#7201a8"
                          ],
                          [
                            0.3333333333333333,
                            "#9c179e"
                          ],
                          [
                            0.4444444444444444,
                            "#bd3786"
                          ],
                          [
                            0.5555555555555556,
                            "#d8576b"
                          ],
                          [
                            0.6666666666666666,
                            "#ed7953"
                          ],
                          [
                            0.7777777777777778,
                            "#fb9f3a"
                          ],
                          [
                            0.8888888888888888,
                            "#fdca26"
                          ],
                          [
                            1,
                            "#f0f921"
                          ]
                        ],
                        "type": "surface"
                      }
                    ],
                    "table": [
                      {
                        "cells": {
                          "fill": {
                            "color": "#506784"
                          },
                          "line": {
                            "color": "rgb(17,17,17)"
                          }
                        },
                        "header": {
                          "fill": {
                            "color": "#2a3f5f"
                          },
                          "line": {
                            "color": "rgb(17,17,17)"
                          }
                        },
                        "type": "table"
                      }
                    ]
                  },
                  "layout": {
                    "annotationdefaults": {
                      "arrowcolor": "#f2f5fa",
                      "arrowhead": 0,
                      "arrowwidth": 1
                    },
                    "autotypenumbers": "strict",
                    "coloraxis": {
                      "colorbar": {
                        "outlinewidth": 0,
                        "ticks": ""
                      }
                    },
                    "colorscale": {
                      "diverging": [
                        [
                          0,
                          "#8e0152"
                        ],
                        [
                          0.1,
                          "#c51b7d"
                        ],
                        [
                          0.2,
                          "#de77ae"
                        ],
                        [
                          0.3,
                          "#f1b6da"
                        ],
                        [
                          0.4,
                          "#fde0ef"
                        ],
                        [
                          0.5,
                          "#f7f7f7"
                        ],
                        [
                          0.6,
                          "#e6f5d0"
                        ],
                        [
                          0.7,
                          "#b8e186"
                        ],
                        [
                          0.8,
                          "#7fbc41"
                        ],
                        [
                          0.9,
                          "#4d9221"
                        ],
                        [
                          1,
                          "#276419"
                        ]
                      ],
                      "sequential": [
                        [
                          0,
                          "#0d0887"
                        ],
                        [
                          0.1111111111111111,
                          "#46039f"
                        ],
                        [
                          0.2222222222222222,
                          "#7201a8"
                        ],
                        [
                          0.3333333333333333,
                          "#9c179e"
                        ],
                        [
                          0.4444444444444444,
                          "#bd3786"
                        ],
                        [
                          0.5555555555555556,
                          "#d8576b"
                        ],
                        [
                          0.6666666666666666,
                          "#ed7953"
                        ],
                        [
                          0.7777777777777778,
                          "#fb9f3a"
                        ],
                        [
                          0.8888888888888888,
                          "#fdca26"
                        ],
                        [
                          1,
                          "#f0f921"
                        ]
                      ],
                      "sequentialminus": [
                        [
                          0,
                          "#0d0887"
                        ],
                        [
                          0.1111111111111111,
                          "#46039f"
                        ],
                        [
                          0.2222222222222222,
                          "#7201a8"
                        ],
                        [
                          0.3333333333333333,
                          "#9c179e"
                        ],
                        [
                          0.4444444444444444,
                          "#bd3786"
                        ],
                        [
                          0.5555555555555556,
                          "#d8576b"
                        ],
                        [
                          0.6666666666666666,
                          "#ed7953"
                        ],
                        [
                          0.7777777777777778,
                          "#fb9f3a"
                        ],
                        [
                          0.8888888888888888,
                          "#fdca26"
                        ],
                        [
                          1,
                          "#f0f921"
                        ]
                      ]
                    },
                    "colorway": [
                      "#636efa",
                      "#EF553B",
                      "#00cc96",
                      "#ab63fa",
                      "#FFA15A",
                      "#19d3f3",
                      "#FF6692",
                      "#B6E880",
                      "#FF97FF",
                      "#FECB52"
                    ],
                    "font": {
                      "color": "#f2f5fa"
                    },
                    "geo": {
                      "bgcolor": "rgb(17,17,17)",
                      "lakecolor": "rgb(17,17,17)",
                      "landcolor": "rgb(17,17,17)",
                      "showlakes": true,
                      "showland": true,
                      "subunitcolor": "#506784"
                    },
                    "hoverlabel": {
                      "align": "left"
                    },
                    "hovermode": "closest",
                    "mapbox": {
                      "style": "dark"
                    },
                    "paper_bgcolor": "rgb(17,17,17)",
                    "plot_bgcolor": "rgb(17,17,17)",
                    "polar": {
                      "angularaxis": {
                        "gridcolor": "#506784",
                        "linecolor": "#506784",
                        "ticks": ""
                      },
                      "bgcolor": "rgb(17,17,17)",
                      "radialaxis": {
                        "gridcolor": "#506784",
                        "linecolor": "#506784",
                        "ticks": ""
                      }
                    },
                    "scene": {
                      "xaxis": {
                        "backgroundcolor": "rgb(17,17,17)",
                        "gridcolor": "#506784",
                        "gridwidth": 2,
                        "linecolor": "#506784",
                        "showbackground": true,
                        "ticks": "",
                        "zerolinecolor": "#C8D4E3"
                      },
                      "yaxis": {
                        "backgroundcolor": "rgb(17,17,17)",
                        "gridcolor": "#506784",
                        "gridwidth": 2,
                        "linecolor": "#506784",
                        "showbackground": true,
                        "ticks": "",
                        "zerolinecolor": "#C8D4E3"
                      },
                      "zaxis": {
                        "backgroundcolor": "rgb(17,17,17)",
                        "gridcolor": "#506784",
                        "gridwidth": 2,
                        "linecolor": "#506784",
                        "showbackground": true,
                        "ticks": "",
                        "zerolinecolor": "#C8D4E3"
                      }
                    },
                    "shapedefaults": {
                      "line": {
                        "color": "#f2f5fa"
                      }
                    },
                    "sliderdefaults": {
                      "bgcolor": "#C8D4E3",
                      "bordercolor": "rgb(17,17,17)",
                      "borderwidth": 1,
                      "tickwidth": 0
                    },
                    "ternary": {
                      "aaxis": {
                        "gridcolor": "#506784",
                        "linecolor": "#506784",
                        "ticks": ""
                      },
                      "baxis": {
                        "gridcolor": "#506784",
                        "linecolor": "#506784",
                        "ticks": ""
                      },
                      "bgcolor": "rgb(17,17,17)",
                      "caxis": {
                        "gridcolor": "#506784",
                        "linecolor": "#506784",
                        "ticks": ""
                      }
                    },
                    "title": {
                      "x": 0.05
                    },
                    "updatemenudefaults": {
                      "bgcolor": "#506784",
                      "borderwidth": 0
                    },
                    "xaxis": {
                      "automargin": true,
                      "gridcolor": "#283442",
                      "linecolor": "#506784",
                      "ticks": "",
                      "title": {
                        "standoff": 15
                      },
                      "zerolinecolor": "#283442",
                      "zerolinewidth": 2
                    },
                    "yaxis": {
                      "automargin": true,
                      "gridcolor": "#283442",
                      "linecolor": "#506784",
                      "ticks": "",
                      "title": {
                        "standoff": 15
                      },
                      "zerolinecolor": "#283442",
                      "zerolinewidth": 2
                    }
                  }
                },
                "title": {
                  "text": "Average Salary of Placed Students in Academic Year 2017-18"
                },
                "width": 1200,
                "xaxis": {
                  "range": [
                    0,
                    62
                  ]
                }
              }
            },
            "text/html": [
              "<div>                            <div id=\"22bdeca6-0066-4c43-b557-b55e662b78dd\" class=\"plotly-graph-div\" style=\"height:800px; width:1200px;\"></div>            <script type=\"text/javascript\">                require([\"plotly\"], function(Plotly) {                    window.PLOTLYENV=window.PLOTLYENV || {};                                    if (document.getElementById(\"22bdeca6-0066-4c43-b557-b55e662b78dd\")) {                    Plotly.newPlot(                        \"22bdeca6-0066-4c43-b557-b55e662b78dd\",                        [{\"delta\": {\"reference\": 500000, \"valueformat\": \".0f\"}, \"domain\": {\"x\": [0.25, 0.75], \"y\": [0, 1]}, \"mode\": \"number+delta\", \"title\": {\"text\": \"Average salary with increase of 5.49%\"}, \"type\": \"indicator\", \"value\": 319021.0}, {\"type\": \"scatter\", \"y\": [325, 324, 405, 400, 424, 404, 417, 432, 419, 394, 410, 426, 413, 419, 404, 408, 401, 377, 368, 361, 356, 359, 375, 397, 394, 418, 437, 450, 430, 442, 424, 443, 420, 418, 423, 423, 426, 440, 437, 436, 447, 460, 478, 472, 450, 456, 436, 418, 429, 412, 429, 442, 464, 447, 434, 457, 474, 480, 499, 497, 480, 502, 512, 492]}],                        {\"height\": 800, \"template\": {\"data\": {\"bar\": [{\"error_x\": {\"color\": \"#f2f5fa\"}, \"error_y\": {\"color\": \"#f2f5fa\"}, \"marker\": {\"line\": {\"color\": \"rgb(17,17,17)\", \"width\": 0.5}}, \"type\": \"bar\"}], \"barpolar\": [{\"marker\": {\"line\": {\"color\": \"rgb(17,17,17)\", \"width\": 0.5}}, \"type\": \"barpolar\"}], \"carpet\": [{\"aaxis\": {\"endlinecolor\": \"#A2B1C6\", \"gridcolor\": \"#506784\", \"linecolor\": \"#506784\", \"minorgridcolor\": \"#506784\", \"startlinecolor\": \"#A2B1C6\"}, \"baxis\": {\"endlinecolor\": \"#A2B1C6\", \"gridcolor\": \"#506784\", \"linecolor\": \"#506784\", \"minorgridcolor\": \"#506784\", \"startlinecolor\": \"#A2B1C6\"}, \"type\": \"carpet\"}], \"choropleth\": [{\"colorbar\": {\"outlinewidth\": 0, \"ticks\": \"\"}, \"type\": \"choropleth\"}], \"contour\": [{\"colorbar\": {\"outlinewidth\": 0, \"ticks\": \"\"}, \"colorscale\": [[0.0, \"#0d0887\"], [0.1111111111111111, \"#46039f\"], [0.2222222222222222, \"#7201a8\"], [0.3333333333333333, \"#9c179e\"], [0.4444444444444444, \"#bd3786\"], [0.5555555555555556, \"#d8576b\"], [0.6666666666666666, \"#ed7953\"], [0.7777777777777778, \"#fb9f3a\"], [0.8888888888888888, \"#fdca26\"], [1.0, \"#f0f921\"]], \"type\": \"contour\"}], \"contourcarpet\": [{\"colorbar\": {\"outlinewidth\": 0, \"ticks\": \"\"}, \"type\": \"contourcarpet\"}], \"heatmap\": [{\"colorbar\": {\"outlinewidth\": 0, \"ticks\": \"\"}, \"colorscale\": [[0.0, \"#0d0887\"], [0.1111111111111111, \"#46039f\"], [0.2222222222222222, \"#7201a8\"], [0.3333333333333333, \"#9c179e\"], [0.4444444444444444, \"#bd3786\"], [0.5555555555555556, \"#d8576b\"], [0.6666666666666666, \"#ed7953\"], [0.7777777777777778, \"#fb9f3a\"], [0.8888888888888888, \"#fdca26\"], [1.0, \"#f0f921\"]], \"type\": \"heatmap\"}], \"heatmapgl\": [{\"colorbar\": {\"outlinewidth\": 0, \"ticks\": \"\"}, \"colorscale\": [[0.0, \"#0d0887\"], [0.1111111111111111, \"#46039f\"], [0.2222222222222222, \"#7201a8\"], [0.3333333333333333, \"#9c179e\"], [0.4444444444444444, \"#bd3786\"], [0.5555555555555556, \"#d8576b\"], [0.6666666666666666, \"#ed7953\"], [0.7777777777777778, \"#fb9f3a\"], [0.8888888888888888, \"#fdca26\"], [1.0, \"#f0f921\"]], \"type\": \"heatmapgl\"}], \"histogram\": [{\"marker\": {\"colorbar\": {\"outlinewidth\": 0, \"ticks\": \"\"}}, \"type\": \"histogram\"}], \"histogram2d\": [{\"colorbar\": {\"outlinewidth\": 0, \"ticks\": \"\"}, \"colorscale\": [[0.0, \"#0d0887\"], [0.1111111111111111, \"#46039f\"], [0.2222222222222222, \"#7201a8\"], [0.3333333333333333, \"#9c179e\"], [0.4444444444444444, \"#bd3786\"], [0.5555555555555556, \"#d8576b\"], [0.6666666666666666, \"#ed7953\"], [0.7777777777777778, \"#fb9f3a\"], [0.8888888888888888, \"#fdca26\"], [1.0, \"#f0f921\"]], \"type\": \"histogram2d\"}], \"histogram2dcontour\": [{\"colorbar\": {\"outlinewidth\": 0, \"ticks\": \"\"}, \"colorscale\": [[0.0, \"#0d0887\"], [0.1111111111111111, \"#46039f\"], [0.2222222222222222, \"#7201a8\"], [0.3333333333333333, \"#9c179e\"], [0.4444444444444444, \"#bd3786\"], [0.5555555555555556, \"#d8576b\"], [0.6666666666666666, \"#ed7953\"], [0.7777777777777778, \"#fb9f3a\"], [0.8888888888888888, \"#fdca26\"], [1.0, \"#f0f921\"]], \"type\": \"histogram2dcontour\"}], \"mesh3d\": [{\"colorbar\": {\"outlinewidth\": 0, \"ticks\": \"\"}, \"type\": \"mesh3d\"}], \"parcoords\": [{\"line\": {\"colorbar\": {\"outlinewidth\": 0, \"ticks\": \"\"}}, \"type\": \"parcoords\"}], \"pie\": [{\"automargin\": true, \"type\": \"pie\"}], \"scatter\": [{\"marker\": {\"line\": {\"color\": \"#283442\"}}, \"type\": \"scatter\"}], \"scatter3d\": [{\"line\": {\"colorbar\": {\"outlinewidth\": 0, \"ticks\": \"\"}}, \"marker\": {\"colorbar\": {\"outlinewidth\": 0, \"ticks\": \"\"}}, \"type\": \"scatter3d\"}], \"scattercarpet\": [{\"marker\": {\"colorbar\": {\"outlinewidth\": 0, \"ticks\": \"\"}}, \"type\": \"scattercarpet\"}], \"scattergeo\": [{\"marker\": {\"colorbar\": {\"outlinewidth\": 0, \"ticks\": \"\"}}, \"type\": \"scattergeo\"}], \"scattergl\": [{\"marker\": {\"line\": {\"color\": \"#283442\"}}, \"type\": \"scattergl\"}], \"scattermapbox\": [{\"marker\": {\"colorbar\": {\"outlinewidth\": 0, \"ticks\": \"\"}}, \"type\": \"scattermapbox\"}], \"scatterpolar\": [{\"marker\": {\"colorbar\": {\"outlinewidth\": 0, \"ticks\": \"\"}}, \"type\": \"scatterpolar\"}], \"scatterpolargl\": [{\"marker\": {\"colorbar\": {\"outlinewidth\": 0, \"ticks\": \"\"}}, \"type\": \"scatterpolargl\"}], \"scatterternary\": [{\"marker\": {\"colorbar\": {\"outlinewidth\": 0, \"ticks\": \"\"}}, \"type\": \"scatterternary\"}], \"surface\": [{\"colorbar\": {\"outlinewidth\": 0, \"ticks\": \"\"}, \"colorscale\": [[0.0, \"#0d0887\"], [0.1111111111111111, \"#46039f\"], [0.2222222222222222, \"#7201a8\"], [0.3333333333333333, \"#9c179e\"], [0.4444444444444444, \"#bd3786\"], [0.5555555555555556, \"#d8576b\"], [0.6666666666666666, \"#ed7953\"], [0.7777777777777778, \"#fb9f3a\"], [0.8888888888888888, \"#fdca26\"], [1.0, \"#f0f921\"]], \"type\": \"surface\"}], \"table\": [{\"cells\": {\"fill\": {\"color\": \"#506784\"}, \"line\": {\"color\": \"rgb(17,17,17)\"}}, \"header\": {\"fill\": {\"color\": \"#2a3f5f\"}, \"line\": {\"color\": \"rgb(17,17,17)\"}}, \"type\": \"table\"}]}, \"layout\": {\"annotationdefaults\": {\"arrowcolor\": \"#f2f5fa\", \"arrowhead\": 0, \"arrowwidth\": 1}, \"autotypenumbers\": \"strict\", \"coloraxis\": {\"colorbar\": {\"outlinewidth\": 0, \"ticks\": \"\"}}, \"colorscale\": {\"diverging\": [[0, \"#8e0152\"], [0.1, \"#c51b7d\"], [0.2, \"#de77ae\"], [0.3, \"#f1b6da\"], [0.4, \"#fde0ef\"], [0.5, \"#f7f7f7\"], [0.6, \"#e6f5d0\"], [0.7, \"#b8e186\"], [0.8, \"#7fbc41\"], [0.9, \"#4d9221\"], [1, \"#276419\"]], \"sequential\": [[0.0, \"#0d0887\"], [0.1111111111111111, \"#46039f\"], [0.2222222222222222, \"#7201a8\"], [0.3333333333333333, \"#9c179e\"], [0.4444444444444444, \"#bd3786\"], [0.5555555555555556, \"#d8576b\"], [0.6666666666666666, \"#ed7953\"], [0.7777777777777778, \"#fb9f3a\"], [0.8888888888888888, \"#fdca26\"], [1.0, \"#f0f921\"]], \"sequentialminus\": [[0.0, \"#0d0887\"], [0.1111111111111111, \"#46039f\"], [0.2222222222222222, \"#7201a8\"], [0.3333333333333333, \"#9c179e\"], [0.4444444444444444, \"#bd3786\"], [0.5555555555555556, \"#d8576b\"], [0.6666666666666666, \"#ed7953\"], [0.7777777777777778, \"#fb9f3a\"], [0.8888888888888888, \"#fdca26\"], [1.0, \"#f0f921\"]]}, \"colorway\": [\"#636efa\", \"#EF553B\", \"#00cc96\", \"#ab63fa\", \"#FFA15A\", \"#19d3f3\", \"#FF6692\", \"#B6E880\", \"#FF97FF\", \"#FECB52\"], \"font\": {\"color\": \"#f2f5fa\"}, \"geo\": {\"bgcolor\": \"rgb(17,17,17)\", \"lakecolor\": \"rgb(17,17,17)\", \"landcolor\": \"rgb(17,17,17)\", \"showlakes\": true, \"showland\": true, \"subunitcolor\": \"#506784\"}, \"hoverlabel\": {\"align\": \"left\"}, \"hovermode\": \"closest\", \"mapbox\": {\"style\": \"dark\"}, \"paper_bgcolor\": \"rgb(17,17,17)\", \"plot_bgcolor\": \"rgb(17,17,17)\", \"polar\": {\"angularaxis\": {\"gridcolor\": \"#506784\", \"linecolor\": \"#506784\", \"ticks\": \"\"}, \"bgcolor\": \"rgb(17,17,17)\", \"radialaxis\": {\"gridcolor\": \"#506784\", \"linecolor\": \"#506784\", \"ticks\": \"\"}}, \"scene\": {\"xaxis\": {\"backgroundcolor\": \"rgb(17,17,17)\", \"gridcolor\": \"#506784\", \"gridwidth\": 2, \"linecolor\": \"#506784\", \"showbackground\": true, \"ticks\": \"\", \"zerolinecolor\": \"#C8D4E3\"}, \"yaxis\": {\"backgroundcolor\": \"rgb(17,17,17)\", \"gridcolor\": \"#506784\", \"gridwidth\": 2, \"linecolor\": \"#506784\", \"showbackground\": true, \"ticks\": \"\", \"zerolinecolor\": \"#C8D4E3\"}, \"zaxis\": {\"backgroundcolor\": \"rgb(17,17,17)\", \"gridcolor\": \"#506784\", \"gridwidth\": 2, \"linecolor\": \"#506784\", \"showbackground\": true, \"ticks\": \"\", \"zerolinecolor\": \"#C8D4E3\"}}, \"shapedefaults\": {\"line\": {\"color\": \"#f2f5fa\"}}, \"sliderdefaults\": {\"bgcolor\": \"#C8D4E3\", \"bordercolor\": \"rgb(17,17,17)\", \"borderwidth\": 1, \"tickwidth\": 0}, \"ternary\": {\"aaxis\": {\"gridcolor\": \"#506784\", \"linecolor\": \"#506784\", \"ticks\": \"\"}, \"baxis\": {\"gridcolor\": \"#506784\", \"linecolor\": \"#506784\", \"ticks\": \"\"}, \"bgcolor\": \"rgb(17,17,17)\", \"caxis\": {\"gridcolor\": \"#506784\", \"linecolor\": \"#506784\", \"ticks\": \"\"}}, \"title\": {\"x\": 0.05}, \"updatemenudefaults\": {\"bgcolor\": \"#506784\", \"borderwidth\": 0}, \"xaxis\": {\"automargin\": true, \"gridcolor\": \"#283442\", \"linecolor\": \"#506784\", \"ticks\": \"\", \"title\": {\"standoff\": 15}, \"zerolinecolor\": \"#283442\", \"zerolinewidth\": 2}, \"yaxis\": {\"automargin\": true, \"gridcolor\": \"#283442\", \"linecolor\": \"#506784\", \"ticks\": \"\", \"title\": {\"standoff\": 15}, \"zerolinecolor\": \"#283442\", \"zerolinewidth\": 2}}}, \"title\": {\"text\": \"Average Salary of Placed Students in Academic Year 2017-18\"}, \"width\": 1200, \"xaxis\": {\"range\": [0, 62]}},                        {\"responsive\": true}                    ).then(function(){\n",
              "                            \n",
              "var gd = document.getElementById('22bdeca6-0066-4c43-b557-b55e662b78dd');\n",
              "var x = new MutationObserver(function (mutations, observer) {{\n",
              "        var display = window.getComputedStyle(gd).display;\n",
              "        if (!display || display === 'none') {{\n",
              "            console.log([gd, 'removed!']);\n",
              "            Plotly.purge(gd);\n",
              "            observer.disconnect();\n",
              "        }}\n",
              "}});\n",
              "\n",
              "// Listen for the removal of the full notebook cells\n",
              "var notebookContainer = gd.closest('#notebook-container');\n",
              "if (notebookContainer) {{\n",
              "    x.observe(notebookContainer, {childList: true});\n",
              "}}\n",
              "\n",
              "// Listen for the clearing of the current output cell\n",
              "var outputEl = gd.closest('.output');\n",
              "if (outputEl) {{\n",
              "    x.observe(outputEl, {childList: true});\n",
              "}}\n",
              "\n",
              "                        })                };                });            </script>        </div>"
            ]
          },
          "metadata": {
            "tags": []
          }
        }
      ]
    },
    {
      "cell_type": "markdown",
      "metadata": {
        "id": "e5rr3GowjZqn"
      },
      "source": [
        "# Average Salary of Placed Students in Academic Year 2018-19"
      ]
    },
    {
      "cell_type": "code",
      "metadata": {
        "id": "jffBpNicjZqn",
        "outputId": "1186b9f5-f2ae-4af4-a7fa-f8e4f075c025"
      },
      "source": [
        "import plotly.graph_objects as go\n",
        "\n",
        "fig = go.Figure(go.Indicator(\n",
        "    mode = \"number+delta\",\n",
        "    value = 344972.00,\n",
        "    delta = {\"reference\": 500000, \"valueformat\": \".0f\"},\n",
        "    title = {\"text\": \"Average salary with increase of 8.13%\"},\n",
        "    domain = {'y': [0, 1], 'x': [0.25, 0.75]}))\n",
        "\n",
        "fig.add_trace(go.Scatter(\n",
        "    y = [325, 324, 405, 400, 424, 404, 417, 432, 419, 394, 410, 426, 413, 419, 404, 408, 401, 377, 368, 361, 356, 359, 375, 397, 394, 418, 437, 450, 430, 442, 424, 443, 420, 418, 423, 423, 426, 440, 437, 436, 447, 460, 478, 472, 450, 456, 436, 418, 429, 412, 429, 442, 464, 447, 434, 457, 474, 480, 499, 497, 480, 502, 512, 492]))\n",
        "\n",
        "fig.update_layout(xaxis = {'range': [0, 62]},template=\"plotly_dark\",title=\"Average Salary of Placed Students in Academic Year 2018-19\",height=800,width=1200)\n",
        "\n",
        "fig.show()"
      ],
      "execution_count": null,
      "outputs": [
        {
          "output_type": "display_data",
          "data": {
            "application/vnd.plotly.v1+json": {
              "config": {
                "plotlyServerURL": "https://plot.ly"
              },
              "data": [
                {
                  "delta": {
                    "reference": 500000,
                    "valueformat": ".0f"
                  },
                  "domain": {
                    "x": [
                      0.25,
                      0.75
                    ],
                    "y": [
                      0,
                      1
                    ]
                  },
                  "mode": "number+delta",
                  "title": {
                    "text": "Average salary with increase of 8.13%"
                  },
                  "type": "indicator",
                  "value": 344972
                },
                {
                  "type": "scatter",
                  "y": [
                    325,
                    324,
                    405,
                    400,
                    424,
                    404,
                    417,
                    432,
                    419,
                    394,
                    410,
                    426,
                    413,
                    419,
                    404,
                    408,
                    401,
                    377,
                    368,
                    361,
                    356,
                    359,
                    375,
                    397,
                    394,
                    418,
                    437,
                    450,
                    430,
                    442,
                    424,
                    443,
                    420,
                    418,
                    423,
                    423,
                    426,
                    440,
                    437,
                    436,
                    447,
                    460,
                    478,
                    472,
                    450,
                    456,
                    436,
                    418,
                    429,
                    412,
                    429,
                    442,
                    464,
                    447,
                    434,
                    457,
                    474,
                    480,
                    499,
                    497,
                    480,
                    502,
                    512,
                    492
                  ]
                }
              ],
              "layout": {
                "height": 800,
                "template": {
                  "data": {
                    "bar": [
                      {
                        "error_x": {
                          "color": "#f2f5fa"
                        },
                        "error_y": {
                          "color": "#f2f5fa"
                        },
                        "marker": {
                          "line": {
                            "color": "rgb(17,17,17)",
                            "width": 0.5
                          }
                        },
                        "type": "bar"
                      }
                    ],
                    "barpolar": [
                      {
                        "marker": {
                          "line": {
                            "color": "rgb(17,17,17)",
                            "width": 0.5
                          }
                        },
                        "type": "barpolar"
                      }
                    ],
                    "carpet": [
                      {
                        "aaxis": {
                          "endlinecolor": "#A2B1C6",
                          "gridcolor": "#506784",
                          "linecolor": "#506784",
                          "minorgridcolor": "#506784",
                          "startlinecolor": "#A2B1C6"
                        },
                        "baxis": {
                          "endlinecolor": "#A2B1C6",
                          "gridcolor": "#506784",
                          "linecolor": "#506784",
                          "minorgridcolor": "#506784",
                          "startlinecolor": "#A2B1C6"
                        },
                        "type": "carpet"
                      }
                    ],
                    "choropleth": [
                      {
                        "colorbar": {
                          "outlinewidth": 0,
                          "ticks": ""
                        },
                        "type": "choropleth"
                      }
                    ],
                    "contour": [
                      {
                        "colorbar": {
                          "outlinewidth": 0,
                          "ticks": ""
                        },
                        "colorscale": [
                          [
                            0,
                            "#0d0887"
                          ],
                          [
                            0.1111111111111111,
                            "#46039f"
                          ],
                          [
                            0.2222222222222222,
                            "#7201a8"
                          ],
                          [
                            0.3333333333333333,
                            "#9c179e"
                          ],
                          [
                            0.4444444444444444,
                            "#bd3786"
                          ],
                          [
                            0.5555555555555556,
                            "#d8576b"
                          ],
                          [
                            0.6666666666666666,
                            "#ed7953"
                          ],
                          [
                            0.7777777777777778,
                            "#fb9f3a"
                          ],
                          [
                            0.8888888888888888,
                            "#fdca26"
                          ],
                          [
                            1,
                            "#f0f921"
                          ]
                        ],
                        "type": "contour"
                      }
                    ],
                    "contourcarpet": [
                      {
                        "colorbar": {
                          "outlinewidth": 0,
                          "ticks": ""
                        },
                        "type": "contourcarpet"
                      }
                    ],
                    "heatmap": [
                      {
                        "colorbar": {
                          "outlinewidth": 0,
                          "ticks": ""
                        },
                        "colorscale": [
                          [
                            0,
                            "#0d0887"
                          ],
                          [
                            0.1111111111111111,
                            "#46039f"
                          ],
                          [
                            0.2222222222222222,
                            "#7201a8"
                          ],
                          [
                            0.3333333333333333,
                            "#9c179e"
                          ],
                          [
                            0.4444444444444444,
                            "#bd3786"
                          ],
                          [
                            0.5555555555555556,
                            "#d8576b"
                          ],
                          [
                            0.6666666666666666,
                            "#ed7953"
                          ],
                          [
                            0.7777777777777778,
                            "#fb9f3a"
                          ],
                          [
                            0.8888888888888888,
                            "#fdca26"
                          ],
                          [
                            1,
                            "#f0f921"
                          ]
                        ],
                        "type": "heatmap"
                      }
                    ],
                    "heatmapgl": [
                      {
                        "colorbar": {
                          "outlinewidth": 0,
                          "ticks": ""
                        },
                        "colorscale": [
                          [
                            0,
                            "#0d0887"
                          ],
                          [
                            0.1111111111111111,
                            "#46039f"
                          ],
                          [
                            0.2222222222222222,
                            "#7201a8"
                          ],
                          [
                            0.3333333333333333,
                            "#9c179e"
                          ],
                          [
                            0.4444444444444444,
                            "#bd3786"
                          ],
                          [
                            0.5555555555555556,
                            "#d8576b"
                          ],
                          [
                            0.6666666666666666,
                            "#ed7953"
                          ],
                          [
                            0.7777777777777778,
                            "#fb9f3a"
                          ],
                          [
                            0.8888888888888888,
                            "#fdca26"
                          ],
                          [
                            1,
                            "#f0f921"
                          ]
                        ],
                        "type": "heatmapgl"
                      }
                    ],
                    "histogram": [
                      {
                        "marker": {
                          "colorbar": {
                            "outlinewidth": 0,
                            "ticks": ""
                          }
                        },
                        "type": "histogram"
                      }
                    ],
                    "histogram2d": [
                      {
                        "colorbar": {
                          "outlinewidth": 0,
                          "ticks": ""
                        },
                        "colorscale": [
                          [
                            0,
                            "#0d0887"
                          ],
                          [
                            0.1111111111111111,
                            "#46039f"
                          ],
                          [
                            0.2222222222222222,
                            "#7201a8"
                          ],
                          [
                            0.3333333333333333,
                            "#9c179e"
                          ],
                          [
                            0.4444444444444444,
                            "#bd3786"
                          ],
                          [
                            0.5555555555555556,
                            "#d8576b"
                          ],
                          [
                            0.6666666666666666,
                            "#ed7953"
                          ],
                          [
                            0.7777777777777778,
                            "#fb9f3a"
                          ],
                          [
                            0.8888888888888888,
                            "#fdca26"
                          ],
                          [
                            1,
                            "#f0f921"
                          ]
                        ],
                        "type": "histogram2d"
                      }
                    ],
                    "histogram2dcontour": [
                      {
                        "colorbar": {
                          "outlinewidth": 0,
                          "ticks": ""
                        },
                        "colorscale": [
                          [
                            0,
                            "#0d0887"
                          ],
                          [
                            0.1111111111111111,
                            "#46039f"
                          ],
                          [
                            0.2222222222222222,
                            "#7201a8"
                          ],
                          [
                            0.3333333333333333,
                            "#9c179e"
                          ],
                          [
                            0.4444444444444444,
                            "#bd3786"
                          ],
                          [
                            0.5555555555555556,
                            "#d8576b"
                          ],
                          [
                            0.6666666666666666,
                            "#ed7953"
                          ],
                          [
                            0.7777777777777778,
                            "#fb9f3a"
                          ],
                          [
                            0.8888888888888888,
                            "#fdca26"
                          ],
                          [
                            1,
                            "#f0f921"
                          ]
                        ],
                        "type": "histogram2dcontour"
                      }
                    ],
                    "mesh3d": [
                      {
                        "colorbar": {
                          "outlinewidth": 0,
                          "ticks": ""
                        },
                        "type": "mesh3d"
                      }
                    ],
                    "parcoords": [
                      {
                        "line": {
                          "colorbar": {
                            "outlinewidth": 0,
                            "ticks": ""
                          }
                        },
                        "type": "parcoords"
                      }
                    ],
                    "pie": [
                      {
                        "automargin": true,
                        "type": "pie"
                      }
                    ],
                    "scatter": [
                      {
                        "marker": {
                          "line": {
                            "color": "#283442"
                          }
                        },
                        "type": "scatter"
                      }
                    ],
                    "scatter3d": [
                      {
                        "line": {
                          "colorbar": {
                            "outlinewidth": 0,
                            "ticks": ""
                          }
                        },
                        "marker": {
                          "colorbar": {
                            "outlinewidth": 0,
                            "ticks": ""
                          }
                        },
                        "type": "scatter3d"
                      }
                    ],
                    "scattercarpet": [
                      {
                        "marker": {
                          "colorbar": {
                            "outlinewidth": 0,
                            "ticks": ""
                          }
                        },
                        "type": "scattercarpet"
                      }
                    ],
                    "scattergeo": [
                      {
                        "marker": {
                          "colorbar": {
                            "outlinewidth": 0,
                            "ticks": ""
                          }
                        },
                        "type": "scattergeo"
                      }
                    ],
                    "scattergl": [
                      {
                        "marker": {
                          "line": {
                            "color": "#283442"
                          }
                        },
                        "type": "scattergl"
                      }
                    ],
                    "scattermapbox": [
                      {
                        "marker": {
                          "colorbar": {
                            "outlinewidth": 0,
                            "ticks": ""
                          }
                        },
                        "type": "scattermapbox"
                      }
                    ],
                    "scatterpolar": [
                      {
                        "marker": {
                          "colorbar": {
                            "outlinewidth": 0,
                            "ticks": ""
                          }
                        },
                        "type": "scatterpolar"
                      }
                    ],
                    "scatterpolargl": [
                      {
                        "marker": {
                          "colorbar": {
                            "outlinewidth": 0,
                            "ticks": ""
                          }
                        },
                        "type": "scatterpolargl"
                      }
                    ],
                    "scatterternary": [
                      {
                        "marker": {
                          "colorbar": {
                            "outlinewidth": 0,
                            "ticks": ""
                          }
                        },
                        "type": "scatterternary"
                      }
                    ],
                    "surface": [
                      {
                        "colorbar": {
                          "outlinewidth": 0,
                          "ticks": ""
                        },
                        "colorscale": [
                          [
                            0,
                            "#0d0887"
                          ],
                          [
                            0.1111111111111111,
                            "#46039f"
                          ],
                          [
                            0.2222222222222222,
                            "#7201a8"
                          ],
                          [
                            0.3333333333333333,
                            "#9c179e"
                          ],
                          [
                            0.4444444444444444,
                            "#bd3786"
                          ],
                          [
                            0.5555555555555556,
                            "#d8576b"
                          ],
                          [
                            0.6666666666666666,
                            "#ed7953"
                          ],
                          [
                            0.7777777777777778,
                            "#fb9f3a"
                          ],
                          [
                            0.8888888888888888,
                            "#fdca26"
                          ],
                          [
                            1,
                            "#f0f921"
                          ]
                        ],
                        "type": "surface"
                      }
                    ],
                    "table": [
                      {
                        "cells": {
                          "fill": {
                            "color": "#506784"
                          },
                          "line": {
                            "color": "rgb(17,17,17)"
                          }
                        },
                        "header": {
                          "fill": {
                            "color": "#2a3f5f"
                          },
                          "line": {
                            "color": "rgb(17,17,17)"
                          }
                        },
                        "type": "table"
                      }
                    ]
                  },
                  "layout": {
                    "annotationdefaults": {
                      "arrowcolor": "#f2f5fa",
                      "arrowhead": 0,
                      "arrowwidth": 1
                    },
                    "autotypenumbers": "strict",
                    "coloraxis": {
                      "colorbar": {
                        "outlinewidth": 0,
                        "ticks": ""
                      }
                    },
                    "colorscale": {
                      "diverging": [
                        [
                          0,
                          "#8e0152"
                        ],
                        [
                          0.1,
                          "#c51b7d"
                        ],
                        [
                          0.2,
                          "#de77ae"
                        ],
                        [
                          0.3,
                          "#f1b6da"
                        ],
                        [
                          0.4,
                          "#fde0ef"
                        ],
                        [
                          0.5,
                          "#f7f7f7"
                        ],
                        [
                          0.6,
                          "#e6f5d0"
                        ],
                        [
                          0.7,
                          "#b8e186"
                        ],
                        [
                          0.8,
                          "#7fbc41"
                        ],
                        [
                          0.9,
                          "#4d9221"
                        ],
                        [
                          1,
                          "#276419"
                        ]
                      ],
                      "sequential": [
                        [
                          0,
                          "#0d0887"
                        ],
                        [
                          0.1111111111111111,
                          "#46039f"
                        ],
                        [
                          0.2222222222222222,
                          "#7201a8"
                        ],
                        [
                          0.3333333333333333,
                          "#9c179e"
                        ],
                        [
                          0.4444444444444444,
                          "#bd3786"
                        ],
                        [
                          0.5555555555555556,
                          "#d8576b"
                        ],
                        [
                          0.6666666666666666,
                          "#ed7953"
                        ],
                        [
                          0.7777777777777778,
                          "#fb9f3a"
                        ],
                        [
                          0.8888888888888888,
                          "#fdca26"
                        ],
                        [
                          1,
                          "#f0f921"
                        ]
                      ],
                      "sequentialminus": [
                        [
                          0,
                          "#0d0887"
                        ],
                        [
                          0.1111111111111111,
                          "#46039f"
                        ],
                        [
                          0.2222222222222222,
                          "#7201a8"
                        ],
                        [
                          0.3333333333333333,
                          "#9c179e"
                        ],
                        [
                          0.4444444444444444,
                          "#bd3786"
                        ],
                        [
                          0.5555555555555556,
                          "#d8576b"
                        ],
                        [
                          0.6666666666666666,
                          "#ed7953"
                        ],
                        [
                          0.7777777777777778,
                          "#fb9f3a"
                        ],
                        [
                          0.8888888888888888,
                          "#fdca26"
                        ],
                        [
                          1,
                          "#f0f921"
                        ]
                      ]
                    },
                    "colorway": [
                      "#636efa",
                      "#EF553B",
                      "#00cc96",
                      "#ab63fa",
                      "#FFA15A",
                      "#19d3f3",
                      "#FF6692",
                      "#B6E880",
                      "#FF97FF",
                      "#FECB52"
                    ],
                    "font": {
                      "color": "#f2f5fa"
                    },
                    "geo": {
                      "bgcolor": "rgb(17,17,17)",
                      "lakecolor": "rgb(17,17,17)",
                      "landcolor": "rgb(17,17,17)",
                      "showlakes": true,
                      "showland": true,
                      "subunitcolor": "#506784"
                    },
                    "hoverlabel": {
                      "align": "left"
                    },
                    "hovermode": "closest",
                    "mapbox": {
                      "style": "dark"
                    },
                    "paper_bgcolor": "rgb(17,17,17)",
                    "plot_bgcolor": "rgb(17,17,17)",
                    "polar": {
                      "angularaxis": {
                        "gridcolor": "#506784",
                        "linecolor": "#506784",
                        "ticks": ""
                      },
                      "bgcolor": "rgb(17,17,17)",
                      "radialaxis": {
                        "gridcolor": "#506784",
                        "linecolor": "#506784",
                        "ticks": ""
                      }
                    },
                    "scene": {
                      "xaxis": {
                        "backgroundcolor": "rgb(17,17,17)",
                        "gridcolor": "#506784",
                        "gridwidth": 2,
                        "linecolor": "#506784",
                        "showbackground": true,
                        "ticks": "",
                        "zerolinecolor": "#C8D4E3"
                      },
                      "yaxis": {
                        "backgroundcolor": "rgb(17,17,17)",
                        "gridcolor": "#506784",
                        "gridwidth": 2,
                        "linecolor": "#506784",
                        "showbackground": true,
                        "ticks": "",
                        "zerolinecolor": "#C8D4E3"
                      },
                      "zaxis": {
                        "backgroundcolor": "rgb(17,17,17)",
                        "gridcolor": "#506784",
                        "gridwidth": 2,
                        "linecolor": "#506784",
                        "showbackground": true,
                        "ticks": "",
                        "zerolinecolor": "#C8D4E3"
                      }
                    },
                    "shapedefaults": {
                      "line": {
                        "color": "#f2f5fa"
                      }
                    },
                    "sliderdefaults": {
                      "bgcolor": "#C8D4E3",
                      "bordercolor": "rgb(17,17,17)",
                      "borderwidth": 1,
                      "tickwidth": 0
                    },
                    "ternary": {
                      "aaxis": {
                        "gridcolor": "#506784",
                        "linecolor": "#506784",
                        "ticks": ""
                      },
                      "baxis": {
                        "gridcolor": "#506784",
                        "linecolor": "#506784",
                        "ticks": ""
                      },
                      "bgcolor": "rgb(17,17,17)",
                      "caxis": {
                        "gridcolor": "#506784",
                        "linecolor": "#506784",
                        "ticks": ""
                      }
                    },
                    "title": {
                      "x": 0.05
                    },
                    "updatemenudefaults": {
                      "bgcolor": "#506784",
                      "borderwidth": 0
                    },
                    "xaxis": {
                      "automargin": true,
                      "gridcolor": "#283442",
                      "linecolor": "#506784",
                      "ticks": "",
                      "title": {
                        "standoff": 15
                      },
                      "zerolinecolor": "#283442",
                      "zerolinewidth": 2
                    },
                    "yaxis": {
                      "automargin": true,
                      "gridcolor": "#283442",
                      "linecolor": "#506784",
                      "ticks": "",
                      "title": {
                        "standoff": 15
                      },
                      "zerolinecolor": "#283442",
                      "zerolinewidth": 2
                    }
                  }
                },
                "title": {
                  "text": "Average Salary of Placed Students in Academic Year 2018-19"
                },
                "width": 1200,
                "xaxis": {
                  "range": [
                    0,
                    62
                  ]
                }
              }
            },
            "text/html": [
              "<div>                            <div id=\"4d17eae8-4466-4bdb-9a84-3960935fd832\" class=\"plotly-graph-div\" style=\"height:800px; width:1200px;\"></div>            <script type=\"text/javascript\">                require([\"plotly\"], function(Plotly) {                    window.PLOTLYENV=window.PLOTLYENV || {};                                    if (document.getElementById(\"4d17eae8-4466-4bdb-9a84-3960935fd832\")) {                    Plotly.newPlot(                        \"4d17eae8-4466-4bdb-9a84-3960935fd832\",                        [{\"delta\": {\"reference\": 500000, \"valueformat\": \".0f\"}, \"domain\": {\"x\": [0.25, 0.75], \"y\": [0, 1]}, \"mode\": \"number+delta\", \"title\": {\"text\": \"Average salary with increase of 8.13%\"}, \"type\": \"indicator\", \"value\": 344972.0}, {\"type\": \"scatter\", \"y\": [325, 324, 405, 400, 424, 404, 417, 432, 419, 394, 410, 426, 413, 419, 404, 408, 401, 377, 368, 361, 356, 359, 375, 397, 394, 418, 437, 450, 430, 442, 424, 443, 420, 418, 423, 423, 426, 440, 437, 436, 447, 460, 478, 472, 450, 456, 436, 418, 429, 412, 429, 442, 464, 447, 434, 457, 474, 480, 499, 497, 480, 502, 512, 492]}],                        {\"height\": 800, \"template\": {\"data\": {\"bar\": [{\"error_x\": {\"color\": \"#f2f5fa\"}, \"error_y\": {\"color\": \"#f2f5fa\"}, \"marker\": {\"line\": {\"color\": \"rgb(17,17,17)\", \"width\": 0.5}}, \"type\": \"bar\"}], \"barpolar\": [{\"marker\": {\"line\": {\"color\": \"rgb(17,17,17)\", \"width\": 0.5}}, \"type\": \"barpolar\"}], \"carpet\": [{\"aaxis\": {\"endlinecolor\": \"#A2B1C6\", \"gridcolor\": \"#506784\", \"linecolor\": \"#506784\", \"minorgridcolor\": \"#506784\", \"startlinecolor\": \"#A2B1C6\"}, \"baxis\": {\"endlinecolor\": \"#A2B1C6\", \"gridcolor\": \"#506784\", \"linecolor\": \"#506784\", \"minorgridcolor\": \"#506784\", \"startlinecolor\": \"#A2B1C6\"}, \"type\": \"carpet\"}], \"choropleth\": [{\"colorbar\": {\"outlinewidth\": 0, \"ticks\": \"\"}, \"type\": \"choropleth\"}], \"contour\": [{\"colorbar\": {\"outlinewidth\": 0, \"ticks\": \"\"}, \"colorscale\": [[0.0, \"#0d0887\"], [0.1111111111111111, \"#46039f\"], [0.2222222222222222, \"#7201a8\"], [0.3333333333333333, \"#9c179e\"], [0.4444444444444444, \"#bd3786\"], [0.5555555555555556, \"#d8576b\"], [0.6666666666666666, \"#ed7953\"], [0.7777777777777778, \"#fb9f3a\"], [0.8888888888888888, \"#fdca26\"], [1.0, \"#f0f921\"]], \"type\": \"contour\"}], \"contourcarpet\": [{\"colorbar\": {\"outlinewidth\": 0, \"ticks\": \"\"}, \"type\": \"contourcarpet\"}], \"heatmap\": [{\"colorbar\": {\"outlinewidth\": 0, \"ticks\": \"\"}, \"colorscale\": [[0.0, \"#0d0887\"], [0.1111111111111111, \"#46039f\"], [0.2222222222222222, \"#7201a8\"], [0.3333333333333333, \"#9c179e\"], [0.4444444444444444, \"#bd3786\"], [0.5555555555555556, \"#d8576b\"], [0.6666666666666666, \"#ed7953\"], [0.7777777777777778, \"#fb9f3a\"], [0.8888888888888888, \"#fdca26\"], [1.0, \"#f0f921\"]], \"type\": \"heatmap\"}], \"heatmapgl\": [{\"colorbar\": {\"outlinewidth\": 0, \"ticks\": \"\"}, \"colorscale\": [[0.0, \"#0d0887\"], [0.1111111111111111, \"#46039f\"], [0.2222222222222222, \"#7201a8\"], [0.3333333333333333, \"#9c179e\"], [0.4444444444444444, \"#bd3786\"], [0.5555555555555556, \"#d8576b\"], [0.6666666666666666, \"#ed7953\"], [0.7777777777777778, \"#fb9f3a\"], [0.8888888888888888, \"#fdca26\"], [1.0, \"#f0f921\"]], \"type\": \"heatmapgl\"}], \"histogram\": [{\"marker\": {\"colorbar\": {\"outlinewidth\": 0, \"ticks\": \"\"}}, \"type\": \"histogram\"}], \"histogram2d\": [{\"colorbar\": {\"outlinewidth\": 0, \"ticks\": \"\"}, \"colorscale\": [[0.0, \"#0d0887\"], [0.1111111111111111, \"#46039f\"], [0.2222222222222222, \"#7201a8\"], [0.3333333333333333, \"#9c179e\"], [0.4444444444444444, \"#bd3786\"], [0.5555555555555556, \"#d8576b\"], [0.6666666666666666, \"#ed7953\"], [0.7777777777777778, \"#fb9f3a\"], [0.8888888888888888, \"#fdca26\"], [1.0, \"#f0f921\"]], \"type\": \"histogram2d\"}], \"histogram2dcontour\": [{\"colorbar\": {\"outlinewidth\": 0, \"ticks\": \"\"}, \"colorscale\": [[0.0, \"#0d0887\"], [0.1111111111111111, \"#46039f\"], [0.2222222222222222, \"#7201a8\"], [0.3333333333333333, \"#9c179e\"], [0.4444444444444444, \"#bd3786\"], [0.5555555555555556, \"#d8576b\"], [0.6666666666666666, \"#ed7953\"], [0.7777777777777778, \"#fb9f3a\"], [0.8888888888888888, \"#fdca26\"], [1.0, \"#f0f921\"]], \"type\": \"histogram2dcontour\"}], \"mesh3d\": [{\"colorbar\": {\"outlinewidth\": 0, \"ticks\": \"\"}, \"type\": \"mesh3d\"}], \"parcoords\": [{\"line\": {\"colorbar\": {\"outlinewidth\": 0, \"ticks\": \"\"}}, \"type\": \"parcoords\"}], \"pie\": [{\"automargin\": true, \"type\": \"pie\"}], \"scatter\": [{\"marker\": {\"line\": {\"color\": \"#283442\"}}, \"type\": \"scatter\"}], \"scatter3d\": [{\"line\": {\"colorbar\": {\"outlinewidth\": 0, \"ticks\": \"\"}}, \"marker\": {\"colorbar\": {\"outlinewidth\": 0, \"ticks\": \"\"}}, \"type\": \"scatter3d\"}], \"scattercarpet\": [{\"marker\": {\"colorbar\": {\"outlinewidth\": 0, \"ticks\": \"\"}}, \"type\": \"scattercarpet\"}], \"scattergeo\": [{\"marker\": {\"colorbar\": {\"outlinewidth\": 0, \"ticks\": \"\"}}, \"type\": \"scattergeo\"}], \"scattergl\": [{\"marker\": {\"line\": {\"color\": \"#283442\"}}, \"type\": \"scattergl\"}], \"scattermapbox\": [{\"marker\": {\"colorbar\": {\"outlinewidth\": 0, \"ticks\": \"\"}}, \"type\": \"scattermapbox\"}], \"scatterpolar\": [{\"marker\": {\"colorbar\": {\"outlinewidth\": 0, \"ticks\": \"\"}}, \"type\": \"scatterpolar\"}], \"scatterpolargl\": [{\"marker\": {\"colorbar\": {\"outlinewidth\": 0, \"ticks\": \"\"}}, \"type\": \"scatterpolargl\"}], \"scatterternary\": [{\"marker\": {\"colorbar\": {\"outlinewidth\": 0, \"ticks\": \"\"}}, \"type\": \"scatterternary\"}], \"surface\": [{\"colorbar\": {\"outlinewidth\": 0, \"ticks\": \"\"}, \"colorscale\": [[0.0, \"#0d0887\"], [0.1111111111111111, \"#46039f\"], [0.2222222222222222, \"#7201a8\"], [0.3333333333333333, \"#9c179e\"], [0.4444444444444444, \"#bd3786\"], [0.5555555555555556, \"#d8576b\"], [0.6666666666666666, \"#ed7953\"], [0.7777777777777778, \"#fb9f3a\"], [0.8888888888888888, \"#fdca26\"], [1.0, \"#f0f921\"]], \"type\": \"surface\"}], \"table\": [{\"cells\": {\"fill\": {\"color\": \"#506784\"}, \"line\": {\"color\": \"rgb(17,17,17)\"}}, \"header\": {\"fill\": {\"color\": \"#2a3f5f\"}, \"line\": {\"color\": \"rgb(17,17,17)\"}}, \"type\": \"table\"}]}, \"layout\": {\"annotationdefaults\": {\"arrowcolor\": \"#f2f5fa\", \"arrowhead\": 0, \"arrowwidth\": 1}, \"autotypenumbers\": \"strict\", \"coloraxis\": {\"colorbar\": {\"outlinewidth\": 0, \"ticks\": \"\"}}, \"colorscale\": {\"diverging\": [[0, \"#8e0152\"], [0.1, \"#c51b7d\"], [0.2, \"#de77ae\"], [0.3, \"#f1b6da\"], [0.4, \"#fde0ef\"], [0.5, \"#f7f7f7\"], [0.6, \"#e6f5d0\"], [0.7, \"#b8e186\"], [0.8, \"#7fbc41\"], [0.9, \"#4d9221\"], [1, \"#276419\"]], \"sequential\": [[0.0, \"#0d0887\"], [0.1111111111111111, \"#46039f\"], [0.2222222222222222, \"#7201a8\"], [0.3333333333333333, \"#9c179e\"], [0.4444444444444444, \"#bd3786\"], [0.5555555555555556, \"#d8576b\"], [0.6666666666666666, \"#ed7953\"], [0.7777777777777778, \"#fb9f3a\"], [0.8888888888888888, \"#fdca26\"], [1.0, \"#f0f921\"]], \"sequentialminus\": [[0.0, \"#0d0887\"], [0.1111111111111111, \"#46039f\"], [0.2222222222222222, \"#7201a8\"], [0.3333333333333333, \"#9c179e\"], [0.4444444444444444, \"#bd3786\"], [0.5555555555555556, \"#d8576b\"], [0.6666666666666666, \"#ed7953\"], [0.7777777777777778, \"#fb9f3a\"], [0.8888888888888888, \"#fdca26\"], [1.0, \"#f0f921\"]]}, \"colorway\": [\"#636efa\", \"#EF553B\", \"#00cc96\", \"#ab63fa\", \"#FFA15A\", \"#19d3f3\", \"#FF6692\", \"#B6E880\", \"#FF97FF\", \"#FECB52\"], \"font\": {\"color\": \"#f2f5fa\"}, \"geo\": {\"bgcolor\": \"rgb(17,17,17)\", \"lakecolor\": \"rgb(17,17,17)\", \"landcolor\": \"rgb(17,17,17)\", \"showlakes\": true, \"showland\": true, \"subunitcolor\": \"#506784\"}, \"hoverlabel\": {\"align\": \"left\"}, \"hovermode\": \"closest\", \"mapbox\": {\"style\": \"dark\"}, \"paper_bgcolor\": \"rgb(17,17,17)\", \"plot_bgcolor\": \"rgb(17,17,17)\", \"polar\": {\"angularaxis\": {\"gridcolor\": \"#506784\", \"linecolor\": \"#506784\", \"ticks\": \"\"}, \"bgcolor\": \"rgb(17,17,17)\", \"radialaxis\": {\"gridcolor\": \"#506784\", \"linecolor\": \"#506784\", \"ticks\": \"\"}}, \"scene\": {\"xaxis\": {\"backgroundcolor\": \"rgb(17,17,17)\", \"gridcolor\": \"#506784\", \"gridwidth\": 2, \"linecolor\": \"#506784\", \"showbackground\": true, \"ticks\": \"\", \"zerolinecolor\": \"#C8D4E3\"}, \"yaxis\": {\"backgroundcolor\": \"rgb(17,17,17)\", \"gridcolor\": \"#506784\", \"gridwidth\": 2, \"linecolor\": \"#506784\", \"showbackground\": true, \"ticks\": \"\", \"zerolinecolor\": \"#C8D4E3\"}, \"zaxis\": {\"backgroundcolor\": \"rgb(17,17,17)\", \"gridcolor\": \"#506784\", \"gridwidth\": 2, \"linecolor\": \"#506784\", \"showbackground\": true, \"ticks\": \"\", \"zerolinecolor\": \"#C8D4E3\"}}, \"shapedefaults\": {\"line\": {\"color\": \"#f2f5fa\"}}, \"sliderdefaults\": {\"bgcolor\": \"#C8D4E3\", \"bordercolor\": \"rgb(17,17,17)\", \"borderwidth\": 1, \"tickwidth\": 0}, \"ternary\": {\"aaxis\": {\"gridcolor\": \"#506784\", \"linecolor\": \"#506784\", \"ticks\": \"\"}, \"baxis\": {\"gridcolor\": \"#506784\", \"linecolor\": \"#506784\", \"ticks\": \"\"}, \"bgcolor\": \"rgb(17,17,17)\", \"caxis\": {\"gridcolor\": \"#506784\", \"linecolor\": \"#506784\", \"ticks\": \"\"}}, \"title\": {\"x\": 0.05}, \"updatemenudefaults\": {\"bgcolor\": \"#506784\", \"borderwidth\": 0}, \"xaxis\": {\"automargin\": true, \"gridcolor\": \"#283442\", \"linecolor\": \"#506784\", \"ticks\": \"\", \"title\": {\"standoff\": 15}, \"zerolinecolor\": \"#283442\", \"zerolinewidth\": 2}, \"yaxis\": {\"automargin\": true, \"gridcolor\": \"#283442\", \"linecolor\": \"#506784\", \"ticks\": \"\", \"title\": {\"standoff\": 15}, \"zerolinecolor\": \"#283442\", \"zerolinewidth\": 2}}}, \"title\": {\"text\": \"Average Salary of Placed Students in Academic Year 2018-19\"}, \"width\": 1200, \"xaxis\": {\"range\": [0, 62]}},                        {\"responsive\": true}                    ).then(function(){\n",
              "                            \n",
              "var gd = document.getElementById('4d17eae8-4466-4bdb-9a84-3960935fd832');\n",
              "var x = new MutationObserver(function (mutations, observer) {{\n",
              "        var display = window.getComputedStyle(gd).display;\n",
              "        if (!display || display === 'none') {{\n",
              "            console.log([gd, 'removed!']);\n",
              "            Plotly.purge(gd);\n",
              "            observer.disconnect();\n",
              "        }}\n",
              "}});\n",
              "\n",
              "// Listen for the removal of the full notebook cells\n",
              "var notebookContainer = gd.closest('#notebook-container');\n",
              "if (notebookContainer) {{\n",
              "    x.observe(notebookContainer, {childList: true});\n",
              "}}\n",
              "\n",
              "// Listen for the clearing of the current output cell\n",
              "var outputEl = gd.closest('.output');\n",
              "if (outputEl) {{\n",
              "    x.observe(outputEl, {childList: true});\n",
              "}}\n",
              "\n",
              "                        })                };                });            </script>        </div>"
            ]
          },
          "metadata": {
            "tags": []
          }
        }
      ]
    },
    {
      "cell_type": "markdown",
      "metadata": {
        "id": "6f-c5D5SjZqn"
      },
      "source": [
        "# No.of full-time Ph.D.Students Graduated 3 years analysis"
      ]
    },
    {
      "cell_type": "code",
      "metadata": {
        "id": "fgwuGI4ejZqo",
        "outputId": "c7d928c7-cd0b-4aa7-a898-16625177792c"
      },
      "source": [
        "import plotly.express as px\n",
        "df = pd.read_csv(r'E:\\Downloads\\gom.csv')\n",
        "\n",
        "a=df[\"No.of full-time Ph.D.Students Graduated\"]\n",
        "b=df[\"year\"]\n",
        "\n",
        "\n",
        "fig = px.bar_polar(df, r=a, theta=b,color=b,\n",
        "                    template=\"plotly_dark\",title=\"No.of full-time Ph.D.Students Graduated 3 years analysis\",height=800,width=1200)\n",
        "fig.update_layout(\n",
        "    polar = dict(\n",
        "      radialaxis_angle = 90,\n",
        "      angularaxis = dict(\n",
        "        direction = \"clockwise\",\n",
        "        period = 6) ,\n",
        "    ))\n",
        "fig.show()\n"
      ],
      "execution_count": null,
      "outputs": [
        {
          "output_type": "display_data",
          "data": {
            "application/vnd.plotly.v1+json": {
              "config": {
                "plotlyServerURL": "https://plot.ly"
              },
              "data": [
                {
                  "hovertemplate": "year=%{theta}<br>No.of full-time Ph.D.Students Graduated=%{r}<extra></extra>",
                  "legendgroup": "2016-17",
                  "marker": {
                    "color": "#636efa"
                  },
                  "name": "2016-17",
                  "r": [
                    3884
                  ],
                  "showlegend": true,
                  "subplot": "polar",
                  "theta": [
                    "2016-17"
                  ],
                  "type": "barpolar"
                },
                {
                  "hovertemplate": "year=%{theta}<br>No.of full-time Ph.D.Students Graduated=%{r}<extra></extra>",
                  "legendgroup": "2017-18",
                  "marker": {
                    "color": "#EF553B"
                  },
                  "name": "2017-18",
                  "r": [
                    4798
                  ],
                  "showlegend": true,
                  "subplot": "polar",
                  "theta": [
                    "2017-18"
                  ],
                  "type": "barpolar"
                },
                {
                  "hovertemplate": "year=%{theta}<br>No.of full-time Ph.D.Students Graduated=%{r}<extra></extra>",
                  "legendgroup": "2018-19",
                  "marker": {
                    "color": "#00cc96"
                  },
                  "name": "2018-19",
                  "r": [
                    5368
                  ],
                  "showlegend": true,
                  "subplot": "polar",
                  "theta": [
                    "2018-19"
                  ],
                  "type": "barpolar"
                }
              ],
              "layout": {
                "barmode": "relative",
                "height": 800,
                "legend": {
                  "title": {
                    "text": "year"
                  },
                  "tracegroupgap": 0
                },
                "polar": {
                  "angularaxis": {
                    "categoryarray": [
                      "2016-17",
                      "2017-18",
                      "2018-19"
                    ],
                    "categoryorder": "array",
                    "direction": "clockwise",
                    "period": 6,
                    "rotation": 90
                  },
                  "domain": {
                    "x": [
                      0,
                      1
                    ],
                    "y": [
                      0,
                      1
                    ]
                  },
                  "radialaxis": {
                    "angle": 90
                  }
                },
                "template": {
                  "data": {
                    "bar": [
                      {
                        "error_x": {
                          "color": "#f2f5fa"
                        },
                        "error_y": {
                          "color": "#f2f5fa"
                        },
                        "marker": {
                          "line": {
                            "color": "rgb(17,17,17)",
                            "width": 0.5
                          }
                        },
                        "type": "bar"
                      }
                    ],
                    "barpolar": [
                      {
                        "marker": {
                          "line": {
                            "color": "rgb(17,17,17)",
                            "width": 0.5
                          }
                        },
                        "type": "barpolar"
                      }
                    ],
                    "carpet": [
                      {
                        "aaxis": {
                          "endlinecolor": "#A2B1C6",
                          "gridcolor": "#506784",
                          "linecolor": "#506784",
                          "minorgridcolor": "#506784",
                          "startlinecolor": "#A2B1C6"
                        },
                        "baxis": {
                          "endlinecolor": "#A2B1C6",
                          "gridcolor": "#506784",
                          "linecolor": "#506784",
                          "minorgridcolor": "#506784",
                          "startlinecolor": "#A2B1C6"
                        },
                        "type": "carpet"
                      }
                    ],
                    "choropleth": [
                      {
                        "colorbar": {
                          "outlinewidth": 0,
                          "ticks": ""
                        },
                        "type": "choropleth"
                      }
                    ],
                    "contour": [
                      {
                        "colorbar": {
                          "outlinewidth": 0,
                          "ticks": ""
                        },
                        "colorscale": [
                          [
                            0,
                            "#0d0887"
                          ],
                          [
                            0.1111111111111111,
                            "#46039f"
                          ],
                          [
                            0.2222222222222222,
                            "#7201a8"
                          ],
                          [
                            0.3333333333333333,
                            "#9c179e"
                          ],
                          [
                            0.4444444444444444,
                            "#bd3786"
                          ],
                          [
                            0.5555555555555556,
                            "#d8576b"
                          ],
                          [
                            0.6666666666666666,
                            "#ed7953"
                          ],
                          [
                            0.7777777777777778,
                            "#fb9f3a"
                          ],
                          [
                            0.8888888888888888,
                            "#fdca26"
                          ],
                          [
                            1,
                            "#f0f921"
                          ]
                        ],
                        "type": "contour"
                      }
                    ],
                    "contourcarpet": [
                      {
                        "colorbar": {
                          "outlinewidth": 0,
                          "ticks": ""
                        },
                        "type": "contourcarpet"
                      }
                    ],
                    "heatmap": [
                      {
                        "colorbar": {
                          "outlinewidth": 0,
                          "ticks": ""
                        },
                        "colorscale": [
                          [
                            0,
                            "#0d0887"
                          ],
                          [
                            0.1111111111111111,
                            "#46039f"
                          ],
                          [
                            0.2222222222222222,
                            "#7201a8"
                          ],
                          [
                            0.3333333333333333,
                            "#9c179e"
                          ],
                          [
                            0.4444444444444444,
                            "#bd3786"
                          ],
                          [
                            0.5555555555555556,
                            "#d8576b"
                          ],
                          [
                            0.6666666666666666,
                            "#ed7953"
                          ],
                          [
                            0.7777777777777778,
                            "#fb9f3a"
                          ],
                          [
                            0.8888888888888888,
                            "#fdca26"
                          ],
                          [
                            1,
                            "#f0f921"
                          ]
                        ],
                        "type": "heatmap"
                      }
                    ],
                    "heatmapgl": [
                      {
                        "colorbar": {
                          "outlinewidth": 0,
                          "ticks": ""
                        },
                        "colorscale": [
                          [
                            0,
                            "#0d0887"
                          ],
                          [
                            0.1111111111111111,
                            "#46039f"
                          ],
                          [
                            0.2222222222222222,
                            "#7201a8"
                          ],
                          [
                            0.3333333333333333,
                            "#9c179e"
                          ],
                          [
                            0.4444444444444444,
                            "#bd3786"
                          ],
                          [
                            0.5555555555555556,
                            "#d8576b"
                          ],
                          [
                            0.6666666666666666,
                            "#ed7953"
                          ],
                          [
                            0.7777777777777778,
                            "#fb9f3a"
                          ],
                          [
                            0.8888888888888888,
                            "#fdca26"
                          ],
                          [
                            1,
                            "#f0f921"
                          ]
                        ],
                        "type": "heatmapgl"
                      }
                    ],
                    "histogram": [
                      {
                        "marker": {
                          "colorbar": {
                            "outlinewidth": 0,
                            "ticks": ""
                          }
                        },
                        "type": "histogram"
                      }
                    ],
                    "histogram2d": [
                      {
                        "colorbar": {
                          "outlinewidth": 0,
                          "ticks": ""
                        },
                        "colorscale": [
                          [
                            0,
                            "#0d0887"
                          ],
                          [
                            0.1111111111111111,
                            "#46039f"
                          ],
                          [
                            0.2222222222222222,
                            "#7201a8"
                          ],
                          [
                            0.3333333333333333,
                            "#9c179e"
                          ],
                          [
                            0.4444444444444444,
                            "#bd3786"
                          ],
                          [
                            0.5555555555555556,
                            "#d8576b"
                          ],
                          [
                            0.6666666666666666,
                            "#ed7953"
                          ],
                          [
                            0.7777777777777778,
                            "#fb9f3a"
                          ],
                          [
                            0.8888888888888888,
                            "#fdca26"
                          ],
                          [
                            1,
                            "#f0f921"
                          ]
                        ],
                        "type": "histogram2d"
                      }
                    ],
                    "histogram2dcontour": [
                      {
                        "colorbar": {
                          "outlinewidth": 0,
                          "ticks": ""
                        },
                        "colorscale": [
                          [
                            0,
                            "#0d0887"
                          ],
                          [
                            0.1111111111111111,
                            "#46039f"
                          ],
                          [
                            0.2222222222222222,
                            "#7201a8"
                          ],
                          [
                            0.3333333333333333,
                            "#9c179e"
                          ],
                          [
                            0.4444444444444444,
                            "#bd3786"
                          ],
                          [
                            0.5555555555555556,
                            "#d8576b"
                          ],
                          [
                            0.6666666666666666,
                            "#ed7953"
                          ],
                          [
                            0.7777777777777778,
                            "#fb9f3a"
                          ],
                          [
                            0.8888888888888888,
                            "#fdca26"
                          ],
                          [
                            1,
                            "#f0f921"
                          ]
                        ],
                        "type": "histogram2dcontour"
                      }
                    ],
                    "mesh3d": [
                      {
                        "colorbar": {
                          "outlinewidth": 0,
                          "ticks": ""
                        },
                        "type": "mesh3d"
                      }
                    ],
                    "parcoords": [
                      {
                        "line": {
                          "colorbar": {
                            "outlinewidth": 0,
                            "ticks": ""
                          }
                        },
                        "type": "parcoords"
                      }
                    ],
                    "pie": [
                      {
                        "automargin": true,
                        "type": "pie"
                      }
                    ],
                    "scatter": [
                      {
                        "marker": {
                          "line": {
                            "color": "#283442"
                          }
                        },
                        "type": "scatter"
                      }
                    ],
                    "scatter3d": [
                      {
                        "line": {
                          "colorbar": {
                            "outlinewidth": 0,
                            "ticks": ""
                          }
                        },
                        "marker": {
                          "colorbar": {
                            "outlinewidth": 0,
                            "ticks": ""
                          }
                        },
                        "type": "scatter3d"
                      }
                    ],
                    "scattercarpet": [
                      {
                        "marker": {
                          "colorbar": {
                            "outlinewidth": 0,
                            "ticks": ""
                          }
                        },
                        "type": "scattercarpet"
                      }
                    ],
                    "scattergeo": [
                      {
                        "marker": {
                          "colorbar": {
                            "outlinewidth": 0,
                            "ticks": ""
                          }
                        },
                        "type": "scattergeo"
                      }
                    ],
                    "scattergl": [
                      {
                        "marker": {
                          "line": {
                            "color": "#283442"
                          }
                        },
                        "type": "scattergl"
                      }
                    ],
                    "scattermapbox": [
                      {
                        "marker": {
                          "colorbar": {
                            "outlinewidth": 0,
                            "ticks": ""
                          }
                        },
                        "type": "scattermapbox"
                      }
                    ],
                    "scatterpolar": [
                      {
                        "marker": {
                          "colorbar": {
                            "outlinewidth": 0,
                            "ticks": ""
                          }
                        },
                        "type": "scatterpolar"
                      }
                    ],
                    "scatterpolargl": [
                      {
                        "marker": {
                          "colorbar": {
                            "outlinewidth": 0,
                            "ticks": ""
                          }
                        },
                        "type": "scatterpolargl"
                      }
                    ],
                    "scatterternary": [
                      {
                        "marker": {
                          "colorbar": {
                            "outlinewidth": 0,
                            "ticks": ""
                          }
                        },
                        "type": "scatterternary"
                      }
                    ],
                    "surface": [
                      {
                        "colorbar": {
                          "outlinewidth": 0,
                          "ticks": ""
                        },
                        "colorscale": [
                          [
                            0,
                            "#0d0887"
                          ],
                          [
                            0.1111111111111111,
                            "#46039f"
                          ],
                          [
                            0.2222222222222222,
                            "#7201a8"
                          ],
                          [
                            0.3333333333333333,
                            "#9c179e"
                          ],
                          [
                            0.4444444444444444,
                            "#bd3786"
                          ],
                          [
                            0.5555555555555556,
                            "#d8576b"
                          ],
                          [
                            0.6666666666666666,
                            "#ed7953"
                          ],
                          [
                            0.7777777777777778,
                            "#fb9f3a"
                          ],
                          [
                            0.8888888888888888,
                            "#fdca26"
                          ],
                          [
                            1,
                            "#f0f921"
                          ]
                        ],
                        "type": "surface"
                      }
                    ],
                    "table": [
                      {
                        "cells": {
                          "fill": {
                            "color": "#506784"
                          },
                          "line": {
                            "color": "rgb(17,17,17)"
                          }
                        },
                        "header": {
                          "fill": {
                            "color": "#2a3f5f"
                          },
                          "line": {
                            "color": "rgb(17,17,17)"
                          }
                        },
                        "type": "table"
                      }
                    ]
                  },
                  "layout": {
                    "annotationdefaults": {
                      "arrowcolor": "#f2f5fa",
                      "arrowhead": 0,
                      "arrowwidth": 1
                    },
                    "autotypenumbers": "strict",
                    "coloraxis": {
                      "colorbar": {
                        "outlinewidth": 0,
                        "ticks": ""
                      }
                    },
                    "colorscale": {
                      "diverging": [
                        [
                          0,
                          "#8e0152"
                        ],
                        [
                          0.1,
                          "#c51b7d"
                        ],
                        [
                          0.2,
                          "#de77ae"
                        ],
                        [
                          0.3,
                          "#f1b6da"
                        ],
                        [
                          0.4,
                          "#fde0ef"
                        ],
                        [
                          0.5,
                          "#f7f7f7"
                        ],
                        [
                          0.6,
                          "#e6f5d0"
                        ],
                        [
                          0.7,
                          "#b8e186"
                        ],
                        [
                          0.8,
                          "#7fbc41"
                        ],
                        [
                          0.9,
                          "#4d9221"
                        ],
                        [
                          1,
                          "#276419"
                        ]
                      ],
                      "sequential": [
                        [
                          0,
                          "#0d0887"
                        ],
                        [
                          0.1111111111111111,
                          "#46039f"
                        ],
                        [
                          0.2222222222222222,
                          "#7201a8"
                        ],
                        [
                          0.3333333333333333,
                          "#9c179e"
                        ],
                        [
                          0.4444444444444444,
                          "#bd3786"
                        ],
                        [
                          0.5555555555555556,
                          "#d8576b"
                        ],
                        [
                          0.6666666666666666,
                          "#ed7953"
                        ],
                        [
                          0.7777777777777778,
                          "#fb9f3a"
                        ],
                        [
                          0.8888888888888888,
                          "#fdca26"
                        ],
                        [
                          1,
                          "#f0f921"
                        ]
                      ],
                      "sequentialminus": [
                        [
                          0,
                          "#0d0887"
                        ],
                        [
                          0.1111111111111111,
                          "#46039f"
                        ],
                        [
                          0.2222222222222222,
                          "#7201a8"
                        ],
                        [
                          0.3333333333333333,
                          "#9c179e"
                        ],
                        [
                          0.4444444444444444,
                          "#bd3786"
                        ],
                        [
                          0.5555555555555556,
                          "#d8576b"
                        ],
                        [
                          0.6666666666666666,
                          "#ed7953"
                        ],
                        [
                          0.7777777777777778,
                          "#fb9f3a"
                        ],
                        [
                          0.8888888888888888,
                          "#fdca26"
                        ],
                        [
                          1,
                          "#f0f921"
                        ]
                      ]
                    },
                    "colorway": [
                      "#636efa",
                      "#EF553B",
                      "#00cc96",
                      "#ab63fa",
                      "#FFA15A",
                      "#19d3f3",
                      "#FF6692",
                      "#B6E880",
                      "#FF97FF",
                      "#FECB52"
                    ],
                    "font": {
                      "color": "#f2f5fa"
                    },
                    "geo": {
                      "bgcolor": "rgb(17,17,17)",
                      "lakecolor": "rgb(17,17,17)",
                      "landcolor": "rgb(17,17,17)",
                      "showlakes": true,
                      "showland": true,
                      "subunitcolor": "#506784"
                    },
                    "hoverlabel": {
                      "align": "left"
                    },
                    "hovermode": "closest",
                    "mapbox": {
                      "style": "dark"
                    },
                    "paper_bgcolor": "rgb(17,17,17)",
                    "plot_bgcolor": "rgb(17,17,17)",
                    "polar": {
                      "angularaxis": {
                        "gridcolor": "#506784",
                        "linecolor": "#506784",
                        "ticks": ""
                      },
                      "bgcolor": "rgb(17,17,17)",
                      "radialaxis": {
                        "gridcolor": "#506784",
                        "linecolor": "#506784",
                        "ticks": ""
                      }
                    },
                    "scene": {
                      "xaxis": {
                        "backgroundcolor": "rgb(17,17,17)",
                        "gridcolor": "#506784",
                        "gridwidth": 2,
                        "linecolor": "#506784",
                        "showbackground": true,
                        "ticks": "",
                        "zerolinecolor": "#C8D4E3"
                      },
                      "yaxis": {
                        "backgroundcolor": "rgb(17,17,17)",
                        "gridcolor": "#506784",
                        "gridwidth": 2,
                        "linecolor": "#506784",
                        "showbackground": true,
                        "ticks": "",
                        "zerolinecolor": "#C8D4E3"
                      },
                      "zaxis": {
                        "backgroundcolor": "rgb(17,17,17)",
                        "gridcolor": "#506784",
                        "gridwidth": 2,
                        "linecolor": "#506784",
                        "showbackground": true,
                        "ticks": "",
                        "zerolinecolor": "#C8D4E3"
                      }
                    },
                    "shapedefaults": {
                      "line": {
                        "color": "#f2f5fa"
                      }
                    },
                    "sliderdefaults": {
                      "bgcolor": "#C8D4E3",
                      "bordercolor": "rgb(17,17,17)",
                      "borderwidth": 1,
                      "tickwidth": 0
                    },
                    "ternary": {
                      "aaxis": {
                        "gridcolor": "#506784",
                        "linecolor": "#506784",
                        "ticks": ""
                      },
                      "baxis": {
                        "gridcolor": "#506784",
                        "linecolor": "#506784",
                        "ticks": ""
                      },
                      "bgcolor": "rgb(17,17,17)",
                      "caxis": {
                        "gridcolor": "#506784",
                        "linecolor": "#506784",
                        "ticks": ""
                      }
                    },
                    "title": {
                      "x": 0.05
                    },
                    "updatemenudefaults": {
                      "bgcolor": "#506784",
                      "borderwidth": 0
                    },
                    "xaxis": {
                      "automargin": true,
                      "gridcolor": "#283442",
                      "linecolor": "#506784",
                      "ticks": "",
                      "title": {
                        "standoff": 15
                      },
                      "zerolinecolor": "#283442",
                      "zerolinewidth": 2
                    },
                    "yaxis": {
                      "automargin": true,
                      "gridcolor": "#283442",
                      "linecolor": "#506784",
                      "ticks": "",
                      "title": {
                        "standoff": 15
                      },
                      "zerolinecolor": "#283442",
                      "zerolinewidth": 2
                    }
                  }
                },
                "title": {
                  "text": "No.of full-time Ph.D.Students Graduated 3 years analysis"
                },
                "width": 1200
              }
            },
            "text/html": [
              "<div>                            <div id=\"dc8ae606-434c-476f-a7cb-6708dc88555c\" class=\"plotly-graph-div\" style=\"height:800px; width:1200px;\"></div>            <script type=\"text/javascript\">                require([\"plotly\"], function(Plotly) {                    window.PLOTLYENV=window.PLOTLYENV || {};                                    if (document.getElementById(\"dc8ae606-434c-476f-a7cb-6708dc88555c\")) {                    Plotly.newPlot(                        \"dc8ae606-434c-476f-a7cb-6708dc88555c\",                        [{\"hovertemplate\": \"year=%{theta}<br>No.of full-time Ph.D.Students Graduated=%{r}<extra></extra>\", \"legendgroup\": \"2016-17\", \"marker\": {\"color\": \"#636efa\"}, \"name\": \"2016-17\", \"r\": [3884], \"showlegend\": true, \"subplot\": \"polar\", \"theta\": [\"2016-17\"], \"type\": \"barpolar\"}, {\"hovertemplate\": \"year=%{theta}<br>No.of full-time Ph.D.Students Graduated=%{r}<extra></extra>\", \"legendgroup\": \"2017-18\", \"marker\": {\"color\": \"#EF553B\"}, \"name\": \"2017-18\", \"r\": [4798], \"showlegend\": true, \"subplot\": \"polar\", \"theta\": [\"2017-18\"], \"type\": \"barpolar\"}, {\"hovertemplate\": \"year=%{theta}<br>No.of full-time Ph.D.Students Graduated=%{r}<extra></extra>\", \"legendgroup\": \"2018-19\", \"marker\": {\"color\": \"#00cc96\"}, \"name\": \"2018-19\", \"r\": [5368], \"showlegend\": true, \"subplot\": \"polar\", \"theta\": [\"2018-19\"], \"type\": \"barpolar\"}],                        {\"barmode\": \"relative\", \"height\": 800, \"legend\": {\"title\": {\"text\": \"year\"}, \"tracegroupgap\": 0}, \"polar\": {\"angularaxis\": {\"categoryarray\": [\"2016-17\", \"2017-18\", \"2018-19\"], \"categoryorder\": \"array\", \"direction\": \"clockwise\", \"period\": 6, \"rotation\": 90}, \"domain\": {\"x\": [0.0, 1.0], \"y\": [0.0, 1.0]}, \"radialaxis\": {\"angle\": 90}}, \"template\": {\"data\": {\"bar\": [{\"error_x\": {\"color\": \"#f2f5fa\"}, \"error_y\": {\"color\": \"#f2f5fa\"}, \"marker\": {\"line\": {\"color\": \"rgb(17,17,17)\", \"width\": 0.5}}, \"type\": \"bar\"}], \"barpolar\": [{\"marker\": {\"line\": {\"color\": \"rgb(17,17,17)\", \"width\": 0.5}}, \"type\": \"barpolar\"}], \"carpet\": [{\"aaxis\": {\"endlinecolor\": \"#A2B1C6\", \"gridcolor\": \"#506784\", \"linecolor\": \"#506784\", \"minorgridcolor\": \"#506784\", \"startlinecolor\": \"#A2B1C6\"}, \"baxis\": {\"endlinecolor\": \"#A2B1C6\", \"gridcolor\": \"#506784\", \"linecolor\": \"#506784\", \"minorgridcolor\": \"#506784\", \"startlinecolor\": \"#A2B1C6\"}, \"type\": \"carpet\"}], \"choropleth\": [{\"colorbar\": {\"outlinewidth\": 0, \"ticks\": \"\"}, \"type\": \"choropleth\"}], \"contour\": [{\"colorbar\": {\"outlinewidth\": 0, \"ticks\": \"\"}, \"colorscale\": [[0.0, \"#0d0887\"], [0.1111111111111111, \"#46039f\"], [0.2222222222222222, \"#7201a8\"], [0.3333333333333333, \"#9c179e\"], [0.4444444444444444, \"#bd3786\"], [0.5555555555555556, \"#d8576b\"], [0.6666666666666666, \"#ed7953\"], [0.7777777777777778, \"#fb9f3a\"], [0.8888888888888888, \"#fdca26\"], [1.0, \"#f0f921\"]], \"type\": \"contour\"}], \"contourcarpet\": [{\"colorbar\": {\"outlinewidth\": 0, \"ticks\": \"\"}, \"type\": \"contourcarpet\"}], \"heatmap\": [{\"colorbar\": {\"outlinewidth\": 0, \"ticks\": \"\"}, \"colorscale\": [[0.0, \"#0d0887\"], [0.1111111111111111, \"#46039f\"], [0.2222222222222222, \"#7201a8\"], [0.3333333333333333, \"#9c179e\"], [0.4444444444444444, \"#bd3786\"], [0.5555555555555556, \"#d8576b\"], [0.6666666666666666, \"#ed7953\"], [0.7777777777777778, \"#fb9f3a\"], [0.8888888888888888, \"#fdca26\"], [1.0, \"#f0f921\"]], \"type\": \"heatmap\"}], \"heatmapgl\": [{\"colorbar\": {\"outlinewidth\": 0, \"ticks\": \"\"}, \"colorscale\": [[0.0, \"#0d0887\"], [0.1111111111111111, \"#46039f\"], [0.2222222222222222, \"#7201a8\"], [0.3333333333333333, \"#9c179e\"], [0.4444444444444444, \"#bd3786\"], [0.5555555555555556, \"#d8576b\"], [0.6666666666666666, \"#ed7953\"], [0.7777777777777778, \"#fb9f3a\"], [0.8888888888888888, \"#fdca26\"], [1.0, \"#f0f921\"]], \"type\": \"heatmapgl\"}], \"histogram\": [{\"marker\": {\"colorbar\": {\"outlinewidth\": 0, \"ticks\": \"\"}}, \"type\": \"histogram\"}], \"histogram2d\": [{\"colorbar\": {\"outlinewidth\": 0, \"ticks\": \"\"}, \"colorscale\": [[0.0, \"#0d0887\"], [0.1111111111111111, \"#46039f\"], [0.2222222222222222, \"#7201a8\"], [0.3333333333333333, \"#9c179e\"], [0.4444444444444444, \"#bd3786\"], [0.5555555555555556, \"#d8576b\"], [0.6666666666666666, \"#ed7953\"], [0.7777777777777778, \"#fb9f3a\"], [0.8888888888888888, \"#fdca26\"], [1.0, \"#f0f921\"]], \"type\": \"histogram2d\"}], \"histogram2dcontour\": [{\"colorbar\": {\"outlinewidth\": 0, \"ticks\": \"\"}, \"colorscale\": [[0.0, \"#0d0887\"], [0.1111111111111111, \"#46039f\"], [0.2222222222222222, \"#7201a8\"], [0.3333333333333333, \"#9c179e\"], [0.4444444444444444, \"#bd3786\"], [0.5555555555555556, \"#d8576b\"], [0.6666666666666666, \"#ed7953\"], [0.7777777777777778, \"#fb9f3a\"], [0.8888888888888888, \"#fdca26\"], [1.0, \"#f0f921\"]], \"type\": \"histogram2dcontour\"}], \"mesh3d\": [{\"colorbar\": {\"outlinewidth\": 0, \"ticks\": \"\"}, \"type\": \"mesh3d\"}], \"parcoords\": [{\"line\": {\"colorbar\": {\"outlinewidth\": 0, \"ticks\": \"\"}}, \"type\": \"parcoords\"}], \"pie\": [{\"automargin\": true, \"type\": \"pie\"}], \"scatter\": [{\"marker\": {\"line\": {\"color\": \"#283442\"}}, \"type\": \"scatter\"}], \"scatter3d\": [{\"line\": {\"colorbar\": {\"outlinewidth\": 0, \"ticks\": \"\"}}, \"marker\": {\"colorbar\": {\"outlinewidth\": 0, \"ticks\": \"\"}}, \"type\": \"scatter3d\"}], \"scattercarpet\": [{\"marker\": {\"colorbar\": {\"outlinewidth\": 0, \"ticks\": \"\"}}, \"type\": \"scattercarpet\"}], \"scattergeo\": [{\"marker\": {\"colorbar\": {\"outlinewidth\": 0, \"ticks\": \"\"}}, \"type\": \"scattergeo\"}], \"scattergl\": [{\"marker\": {\"line\": {\"color\": \"#283442\"}}, \"type\": \"scattergl\"}], \"scattermapbox\": [{\"marker\": {\"colorbar\": {\"outlinewidth\": 0, \"ticks\": \"\"}}, \"type\": \"scattermapbox\"}], \"scatterpolar\": [{\"marker\": {\"colorbar\": {\"outlinewidth\": 0, \"ticks\": \"\"}}, \"type\": \"scatterpolar\"}], \"scatterpolargl\": [{\"marker\": {\"colorbar\": {\"outlinewidth\": 0, \"ticks\": \"\"}}, \"type\": \"scatterpolargl\"}], \"scatterternary\": [{\"marker\": {\"colorbar\": {\"outlinewidth\": 0, \"ticks\": \"\"}}, \"type\": \"scatterternary\"}], \"surface\": [{\"colorbar\": {\"outlinewidth\": 0, \"ticks\": \"\"}, \"colorscale\": [[0.0, \"#0d0887\"], [0.1111111111111111, \"#46039f\"], [0.2222222222222222, \"#7201a8\"], [0.3333333333333333, \"#9c179e\"], [0.4444444444444444, \"#bd3786\"], [0.5555555555555556, \"#d8576b\"], [0.6666666666666666, \"#ed7953\"], [0.7777777777777778, \"#fb9f3a\"], [0.8888888888888888, \"#fdca26\"], [1.0, \"#f0f921\"]], \"type\": \"surface\"}], \"table\": [{\"cells\": {\"fill\": {\"color\": \"#506784\"}, \"line\": {\"color\": \"rgb(17,17,17)\"}}, \"header\": {\"fill\": {\"color\": \"#2a3f5f\"}, \"line\": {\"color\": \"rgb(17,17,17)\"}}, \"type\": \"table\"}]}, \"layout\": {\"annotationdefaults\": {\"arrowcolor\": \"#f2f5fa\", \"arrowhead\": 0, \"arrowwidth\": 1}, \"autotypenumbers\": \"strict\", \"coloraxis\": {\"colorbar\": {\"outlinewidth\": 0, \"ticks\": \"\"}}, \"colorscale\": {\"diverging\": [[0, \"#8e0152\"], [0.1, \"#c51b7d\"], [0.2, \"#de77ae\"], [0.3, \"#f1b6da\"], [0.4, \"#fde0ef\"], [0.5, \"#f7f7f7\"], [0.6, \"#e6f5d0\"], [0.7, \"#b8e186\"], [0.8, \"#7fbc41\"], [0.9, \"#4d9221\"], [1, \"#276419\"]], \"sequential\": [[0.0, \"#0d0887\"], [0.1111111111111111, \"#46039f\"], [0.2222222222222222, \"#7201a8\"], [0.3333333333333333, \"#9c179e\"], [0.4444444444444444, \"#bd3786\"], [0.5555555555555556, \"#d8576b\"], [0.6666666666666666, \"#ed7953\"], [0.7777777777777778, \"#fb9f3a\"], [0.8888888888888888, \"#fdca26\"], [1.0, \"#f0f921\"]], \"sequentialminus\": [[0.0, \"#0d0887\"], [0.1111111111111111, \"#46039f\"], [0.2222222222222222, \"#7201a8\"], [0.3333333333333333, \"#9c179e\"], [0.4444444444444444, \"#bd3786\"], [0.5555555555555556, \"#d8576b\"], [0.6666666666666666, \"#ed7953\"], [0.7777777777777778, \"#fb9f3a\"], [0.8888888888888888, \"#fdca26\"], [1.0, \"#f0f921\"]]}, \"colorway\": [\"#636efa\", \"#EF553B\", \"#00cc96\", \"#ab63fa\", \"#FFA15A\", \"#19d3f3\", \"#FF6692\", \"#B6E880\", \"#FF97FF\", \"#FECB52\"], \"font\": {\"color\": \"#f2f5fa\"}, \"geo\": {\"bgcolor\": \"rgb(17,17,17)\", \"lakecolor\": \"rgb(17,17,17)\", \"landcolor\": \"rgb(17,17,17)\", \"showlakes\": true, \"showland\": true, \"subunitcolor\": \"#506784\"}, \"hoverlabel\": {\"align\": \"left\"}, \"hovermode\": \"closest\", \"mapbox\": {\"style\": \"dark\"}, \"paper_bgcolor\": \"rgb(17,17,17)\", \"plot_bgcolor\": \"rgb(17,17,17)\", \"polar\": {\"angularaxis\": {\"gridcolor\": \"#506784\", \"linecolor\": \"#506784\", \"ticks\": \"\"}, \"bgcolor\": \"rgb(17,17,17)\", \"radialaxis\": {\"gridcolor\": \"#506784\", \"linecolor\": \"#506784\", \"ticks\": \"\"}}, \"scene\": {\"xaxis\": {\"backgroundcolor\": \"rgb(17,17,17)\", \"gridcolor\": \"#506784\", \"gridwidth\": 2, \"linecolor\": \"#506784\", \"showbackground\": true, \"ticks\": \"\", \"zerolinecolor\": \"#C8D4E3\"}, \"yaxis\": {\"backgroundcolor\": \"rgb(17,17,17)\", \"gridcolor\": \"#506784\", \"gridwidth\": 2, \"linecolor\": \"#506784\", \"showbackground\": true, \"ticks\": \"\", \"zerolinecolor\": \"#C8D4E3\"}, \"zaxis\": {\"backgroundcolor\": \"rgb(17,17,17)\", \"gridcolor\": \"#506784\", \"gridwidth\": 2, \"linecolor\": \"#506784\", \"showbackground\": true, \"ticks\": \"\", \"zerolinecolor\": \"#C8D4E3\"}}, \"shapedefaults\": {\"line\": {\"color\": \"#f2f5fa\"}}, \"sliderdefaults\": {\"bgcolor\": \"#C8D4E3\", \"bordercolor\": \"rgb(17,17,17)\", \"borderwidth\": 1, \"tickwidth\": 0}, \"ternary\": {\"aaxis\": {\"gridcolor\": \"#506784\", \"linecolor\": \"#506784\", \"ticks\": \"\"}, \"baxis\": {\"gridcolor\": \"#506784\", \"linecolor\": \"#506784\", \"ticks\": \"\"}, \"bgcolor\": \"rgb(17,17,17)\", \"caxis\": {\"gridcolor\": \"#506784\", \"linecolor\": \"#506784\", \"ticks\": \"\"}}, \"title\": {\"x\": 0.05}, \"updatemenudefaults\": {\"bgcolor\": \"#506784\", \"borderwidth\": 0}, \"xaxis\": {\"automargin\": true, \"gridcolor\": \"#283442\", \"linecolor\": \"#506784\", \"ticks\": \"\", \"title\": {\"standoff\": 15}, \"zerolinecolor\": \"#283442\", \"zerolinewidth\": 2}, \"yaxis\": {\"automargin\": true, \"gridcolor\": \"#283442\", \"linecolor\": \"#506784\", \"ticks\": \"\", \"title\": {\"standoff\": 15}, \"zerolinecolor\": \"#283442\", \"zerolinewidth\": 2}}}, \"title\": {\"text\": \"No.of full-time Ph.D.Students Graduated 3 years analysis\"}, \"width\": 1200},                        {\"responsive\": true}                    ).then(function(){\n",
              "                            \n",
              "var gd = document.getElementById('dc8ae606-434c-476f-a7cb-6708dc88555c');\n",
              "var x = new MutationObserver(function (mutations, observer) {{\n",
              "        var display = window.getComputedStyle(gd).display;\n",
              "        if (!display || display === 'none') {{\n",
              "            console.log([gd, 'removed!']);\n",
              "            Plotly.purge(gd);\n",
              "            observer.disconnect();\n",
              "        }}\n",
              "}});\n",
              "\n",
              "// Listen for the removal of the full notebook cells\n",
              "var notebookContainer = gd.closest('#notebook-container');\n",
              "if (notebookContainer) {{\n",
              "    x.observe(notebookContainer, {childList: true});\n",
              "}}\n",
              "\n",
              "// Listen for the clearing of the current output cell\n",
              "var outputEl = gd.closest('.output');\n",
              "if (outputEl) {{\n",
              "    x.observe(outputEl, {childList: true});\n",
              "}}\n",
              "\n",
              "                        })                };                });            </script>        </div>"
            ]
          },
          "metadata": {
            "tags": []
          }
        }
      ]
    },
    {
      "cell_type": "markdown",
      "metadata": {
        "id": "4Wq7_OVXjZqo"
      },
      "source": [
        "# NIRF - 2021 - OVERALL - Centurion University Faculty analysis"
      ]
    },
    {
      "cell_type": "code",
      "metadata": {
        "id": "Qo7v-GMdjZqo",
        "outputId": "4af4b8cf-5ecb-4ead-e9cf-1119e941d119"
      },
      "source": [
        "import plotly.express as px\n",
        "import pandas as pd\n",
        "df = pd.read_csv(r'E:\\Downloads\\gomkjJJ.csv')\n",
        "c=df[\"Association type\"]\n",
        "\n",
        "fig = px.treemap(df, path=['Association type','Designation', 'Gender', 'Qualification','Name'],color='Experience (In Months)',labels='Name',height=800,width=1200,template=\"plotly_dark\",title=\"NIRF - 2021 - OVERALL - Centurion University Faculty analysis\")\n",
        "fig.show()"
      ],
      "execution_count": null,
      "outputs": [
        {
          "output_type": "display_data",
          "data": {
            "application/vnd.plotly.v1+json": {
              "config": {
                "plotlyServerURL": "https://plot.ly"
              },
              "data": [
                {
                  "branchvalues": "total",
                  "customdata": [
                    [
                      "192"
                    ],
                    [
                      "86"
                    ],
                    [
                      "8"
                    ],
                    [
                      "143"
                    ],
                    [
                      "87"
                    ],
                    [
                      "12"
                    ],
                    [
                      "60"
                    ],
                    [
                      "170"
                    ],
                    [
                      "59"
                    ],
                    [
                      "31"
                    ],
                    [
                      "25"
                    ],
                    [
                      "51"
                    ],
                    [
                      "146"
                    ],
                    [
                      "411"
                    ],
                    [
                      "97"
                    ],
                    [
                      "10"
                    ],
                    [
                      "100"
                    ],
                    [
                      "26"
                    ],
                    [
                      "68"
                    ],
                    [
                      "26"
                    ],
                    [
                      "450"
                    ],
                    [
                      "1"
                    ],
                    [
                      "60"
                    ],
                    [
                      "54"
                    ],
                    [
                      "31"
                    ],
                    [
                      "58"
                    ],
                    [
                      "100"
                    ],
                    [
                      "172"
                    ],
                    [
                      "13"
                    ],
                    [
                      "10"
                    ],
                    [
                      "17"
                    ],
                    [
                      "22"
                    ],
                    [
                      "151"
                    ],
                    [
                      "44"
                    ],
                    [
                      "40"
                    ],
                    [
                      "14"
                    ],
                    [
                      "185"
                    ],
                    [
                      "117"
                    ],
                    [
                      "65"
                    ],
                    [
                      "120"
                    ],
                    [
                      "23"
                    ],
                    [
                      "42"
                    ],
                    [
                      "282"
                    ],
                    [
                      "168"
                    ],
                    [
                      "17"
                    ],
                    [
                      "71"
                    ],
                    [
                      "132"
                    ],
                    [
                      "18"
                    ],
                    [
                      "96"
                    ],
                    [
                      "25"
                    ],
                    [
                      "39"
                    ],
                    [
                      "156"
                    ],
                    [
                      "242"
                    ],
                    [
                      "90"
                    ],
                    [
                      "27"
                    ],
                    [
                      "37"
                    ],
                    [
                      "25"
                    ],
                    [
                      "13"
                    ],
                    [
                      "122"
                    ],
                    [
                      "17"
                    ],
                    [
                      "136"
                    ],
                    [
                      "73"
                    ],
                    [
                      "252"
                    ],
                    [
                      "3"
                    ],
                    [
                      "253"
                    ],
                    [
                      "136"
                    ],
                    [
                      "132"
                    ],
                    [
                      "50"
                    ],
                    [
                      "109"
                    ],
                    [
                      "17"
                    ],
                    [
                      "36"
                    ],
                    [
                      "28"
                    ],
                    [
                      "37"
                    ],
                    [
                      "1"
                    ],
                    [
                      "161"
                    ],
                    [
                      "6"
                    ],
                    [
                      "60"
                    ],
                    [
                      "117"
                    ],
                    [
                      "233"
                    ],
                    [
                      "29"
                    ],
                    [
                      "16"
                    ],
                    [
                      "140"
                    ],
                    [
                      "11"
                    ],
                    [
                      "444"
                    ],
                    [
                      "89"
                    ],
                    [
                      "74"
                    ],
                    [
                      "96"
                    ],
                    [
                      "36"
                    ],
                    [
                      "114"
                    ],
                    [
                      "72"
                    ],
                    [
                      "168"
                    ],
                    [
                      "72"
                    ],
                    [
                      "1"
                    ],
                    [
                      "31"
                    ],
                    [
                      "36"
                    ],
                    [
                      "146"
                    ],
                    [
                      "5"
                    ],
                    [
                      "35"
                    ],
                    [
                      "147"
                    ],
                    [
                      "16"
                    ],
                    [
                      "84"
                    ],
                    [
                      "120"
                    ],
                    [
                      "82"
                    ],
                    [
                      "276"
                    ],
                    [
                      "26"
                    ],
                    [
                      "7"
                    ],
                    [
                      "84"
                    ],
                    [
                      "19"
                    ],
                    [
                      "24"
                    ],
                    [
                      "48"
                    ],
                    [
                      "225"
                    ],
                    [
                      "42"
                    ],
                    [
                      "7"
                    ],
                    [
                      "93"
                    ],
                    [
                      "14"
                    ],
                    [
                      "46"
                    ],
                    [
                      "50"
                    ],
                    [
                      "324"
                    ],
                    [
                      "12"
                    ],
                    [
                      "24"
                    ],
                    [
                      "312"
                    ],
                    [
                      "*"
                    ],
                    [
                      "271"
                    ],
                    [
                      "7"
                    ],
                    [
                      "23"
                    ],
                    [
                      "81"
                    ],
                    [
                      "11"
                    ],
                    [
                      "144"
                    ],
                    [
                      "142"
                    ],
                    [
                      "68"
                    ],
                    [
                      "39"
                    ],
                    [
                      "1"
                    ],
                    [
                      "14"
                    ],
                    [
                      "276"
                    ],
                    [
                      "28"
                    ],
                    [
                      "36"
                    ],
                    [
                      "252"
                    ],
                    [
                      "98"
                    ],
                    [
                      "1"
                    ],
                    [
                      "41"
                    ],
                    [
                      "413"
                    ],
                    [
                      "191"
                    ],
                    [
                      "177"
                    ],
                    [
                      "64"
                    ],
                    [
                      "36"
                    ],
                    [
                      "413"
                    ],
                    [
                      "89"
                    ],
                    [
                      "189"
                    ],
                    [
                      "64"
                    ],
                    [
                      "50"
                    ],
                    [
                      "151"
                    ],
                    [
                      "78"
                    ],
                    [
                      "8"
                    ],
                    [
                      "24"
                    ],
                    [
                      "55"
                    ],
                    [
                      "75"
                    ],
                    [
                      "24"
                    ],
                    [
                      "15"
                    ],
                    [
                      "1"
                    ],
                    [
                      "12"
                    ],
                    [
                      "29"
                    ],
                    [
                      "72"
                    ],
                    [
                      "21"
                    ],
                    [
                      "109"
                    ],
                    [
                      "35"
                    ],
                    [
                      "1"
                    ],
                    [
                      "10"
                    ],
                    [
                      "93"
                    ],
                    [
                      "78"
                    ],
                    [
                      "159"
                    ],
                    [
                      "192"
                    ],
                    [
                      "168"
                    ],
                    [
                      "120"
                    ],
                    [
                      "81"
                    ],
                    [
                      "541"
                    ],
                    [
                      "84"
                    ],
                    [
                      "69"
                    ],
                    [
                      "29"
                    ],
                    [
                      "12"
                    ],
                    [
                      "122"
                    ],
                    [
                      "18"
                    ],
                    [
                      "524"
                    ],
                    [
                      "200"
                    ],
                    [
                      "387"
                    ],
                    [
                      "101"
                    ],
                    [
                      "84"
                    ],
                    [
                      "30"
                    ],
                    [
                      "28"
                    ],
                    [
                      "113"
                    ],
                    [
                      "1"
                    ],
                    [
                      "96"
                    ],
                    [
                      "28"
                    ],
                    [
                      "24"
                    ],
                    [
                      "13"
                    ],
                    [
                      "23"
                    ],
                    [
                      "1"
                    ],
                    [
                      "143"
                    ],
                    [
                      "12"
                    ],
                    [
                      "37"
                    ],
                    [
                      "93"
                    ],
                    [
                      "24"
                    ],
                    [
                      "46"
                    ],
                    [
                      "134"
                    ],
                    [
                      "109"
                    ],
                    [
                      "214"
                    ],
                    [
                      "156"
                    ],
                    [
                      "125"
                    ],
                    [
                      "2"
                    ],
                    [
                      "150"
                    ],
                    [
                      "96"
                    ],
                    [
                      "261"
                    ],
                    [
                      "276"
                    ],
                    [
                      "155"
                    ],
                    [
                      "213"
                    ],
                    [
                      "203"
                    ],
                    [
                      "72"
                    ],
                    [
                      "10"
                    ],
                    [
                      "168"
                    ],
                    [
                      "110"
                    ],
                    [
                      "60"
                    ],
                    [
                      "178"
                    ],
                    [
                      "36"
                    ],
                    [
                      "263"
                    ],
                    [
                      "134"
                    ],
                    [
                      "39"
                    ],
                    [
                      "168"
                    ],
                    [
                      "74"
                    ],
                    [
                      "145"
                    ],
                    [
                      "91"
                    ],
                    [
                      "253"
                    ],
                    [
                      "167"
                    ],
                    [
                      "1"
                    ],
                    [
                      "32"
                    ],
                    [
                      "253"
                    ],
                    [
                      "28"
                    ],
                    [
                      "192"
                    ],
                    [
                      "28"
                    ],
                    [
                      "1"
                    ],
                    [
                      "17"
                    ],
                    [
                      "181"
                    ],
                    [
                      "7"
                    ],
                    [
                      "32"
                    ],
                    [
                      "15"
                    ],
                    [
                      "44"
                    ],
                    [
                      "24"
                    ],
                    [
                      "169"
                    ],
                    [
                      "12"
                    ],
                    [
                      "146"
                    ],
                    [
                      "403"
                    ],
                    [
                      "179"
                    ],
                    [
                      "144"
                    ],
                    [
                      "84"
                    ],
                    [
                      "76"
                    ],
                    [
                      "109"
                    ],
                    [
                      "60"
                    ],
                    [
                      "84"
                    ],
                    [
                      "108"
                    ],
                    [
                      "159"
                    ],
                    [
                      "40"
                    ],
                    [
                      "17"
                    ],
                    [
                      "6"
                    ],
                    [
                      "230"
                    ],
                    [
                      "6"
                    ],
                    [
                      "213"
                    ],
                    [
                      "11"
                    ],
                    [
                      "99"
                    ],
                    [
                      "60"
                    ],
                    [
                      "26"
                    ],
                    [
                      "175"
                    ],
                    [
                      "26"
                    ],
                    [
                      "23"
                    ],
                    [
                      "7"
                    ],
                    [
                      "1"
                    ],
                    [
                      "11"
                    ],
                    [
                      "162"
                    ],
                    [
                      "112"
                    ],
                    [
                      "111"
                    ],
                    [
                      "24"
                    ],
                    [
                      "28"
                    ],
                    [
                      "145"
                    ],
                    [
                      "275"
                    ],
                    [
                      "36"
                    ],
                    [
                      "25"
                    ],
                    [
                      "121"
                    ],
                    [
                      "108"
                    ],
                    [
                      "5"
                    ],
                    [
                      "305"
                    ],
                    [
                      "71"
                    ],
                    [
                      "*"
                    ],
                    [
                      "(?)"
                    ],
                    [
                      "(?)"
                    ],
                    [
                      "10"
                    ],
                    [
                      "(?)"
                    ],
                    [
                      "(?)"
                    ],
                    [
                      "73"
                    ],
                    [
                      "155"
                    ],
                    [
                      "(?)"
                    ],
                    [
                      "(?)"
                    ],
                    [
                      "1"
                    ],
                    [
                      "12"
                    ],
                    [
                      "72"
                    ],
                    [
                      "(?)"
                    ],
                    [
                      "(?)"
                    ],
                    [
                      "3"
                    ],
                    [
                      "(?)"
                    ],
                    [
                      "82"
                    ],
                    [
                      "(?)"
                    ],
                    [
                      "(?)"
                    ],
                    [
                      "(?)"
                    ],
                    [
                      "282"
                    ],
                    [
                      "28"
                    ],
                    [
                      "24"
                    ],
                    [
                      "(?)"
                    ],
                    [
                      "(?)"
                    ],
                    [
                      "1"
                    ],
                    [
                      "(?)"
                    ],
                    [
                      "(?)"
                    ],
                    [
                      "(?)"
                    ],
                    [
                      "50"
                    ],
                    [
                      "(?)"
                    ],
                    [
                      "(?)"
                    ],
                    [
                      "(?)"
                    ],
                    [
                      "(?)"
                    ],
                    [
                      "(?)"
                    ],
                    [
                      "(?)"
                    ],
                    [
                      "(?)"
                    ],
                    [
                      "(?)"
                    ],
                    [
                      "71"
                    ],
                    [
                      "(?)"
                    ],
                    [
                      "82"
                    ],
                    [
                      "(?)"
                    ],
                    [
                      "(?)"
                    ],
                    [
                      "(?)"
                    ],
                    [
                      "(?)"
                    ],
                    [
                      "(?)"
                    ],
                    [
                      "71"
                    ],
                    [
                      "(?)"
                    ],
                    [
                      "82"
                    ],
                    [
                      "(?)"
                    ]
                  ],
                  "domain": {
                    "x": [
                      0,
                      1
                    ],
                    "y": [
                      0,
                      1
                    ]
                  },
                  "hovertemplate": "labels=%{label}<br>count=%{value}<br>parent=%{parent}<br>id=%{id}<br>Experience (In Months)=%{customdata[0]}<extra></extra>",
                  "ids": [
                    "Regular/Assistant Professor/Female/Ph.D/Yashaswi Nayak",
                    "Regular/Assistant Professor/Female/M. Phil/Sunita Satapathy",
                    "Regular/Assistant Professor/Male/Ph.D/Devanand T N",
                    "Regular/Assistant Professor/Male/M.Tech/Swakantik Mishra",
                    "Regular/Assistant Professor/Female/M.Tech/Sweeta Das",
                    "Regular/Assistant Professor/Male/M. Pharm/Sukanta Satapathy",
                    "Regular/Assistant Professor/Male/Ph.D/Tapan Kumar Dash",
                    "Regular/Assistant Professor/Male/Ph.D/Umakanta Nayak",
                    "Regular/Assistant Professor/Male/Ph.D/Tanmoy Shankar",
                    "Regular/Assistant Professor/Female/Ph.D/Nilanjana Datta",
                    "Regular/Assistant Professor/Male/M. Pharm/Vijay Kumar Meher",
                    "Regular/Assistant Professor/Male/M.Tech/Kovelakonda Dinesh Tej",
                    "Regular/Assistant Professor/Male/M.Tech/Manoj Kumar Behera",
                    "Regular/Professor/Male/Ph.D/V Narsimha Reddy",
                    "Regular/Assistant Professor/Male/M.Tech/Sudeep Kumar Singh",
                    "Regular/Assistant Professor/Male/Ph.D/Vivek Kumar",
                    "Regular/Professor/Male/M.E./Prasanta Kumar Panigrahi",
                    "Regular/Assistant Professor/Male/Ph.D/S  K Najmul Islam",
                    "Regular/Assistant Professor/Female/M.Tech/Ipsita Mishra",
                    "Regular/Assistant Professor/Female/Ph.D/Rajashree Jena",
                    "Regular/Professor/Male/Ph.D/Gouranga Ch Mishra",
                    "Regular/Assistant Professor/Female/M.Sc(Agriculture)/Kajal Samantara",
                    "Regular/Professor/Male/Ph.D/Amulya Ratna Behera",
                    "Regular/Assistant Professor/Female/Ph.D/Kalpita Bhatta",
                    "Regular/Assistant Professor/Male/Ph.D/Girish Prasad Rath",
                    "Regular/Assistant Professor/Male/MSc (Agriculture)/Gaikward D J",
                    "Regular/Assistant Professor/Male/M.Sc./Tikina Mishra",
                    "Regular/Assistant Professor/Female/M.Sc./Nibedita Nayak",
                    "Regular/Assistant Professor/Male/Ph.D/Venkata Satish Kuchi",
                    "Regular/Associate Professor/Male/M. Pharm/Tapan Kumar Sahu",
                    "Regular/Assistant Professor/Female/MSc (Agriculture)/Barsha Tripathy",
                    "Regular/Assistant Professor/Male/M. Pharm/Haragouri Mishra",
                    "Regular/Assistant Professor/Male/M.Tech/Satyanarayan Padhy",
                    "Regular/Assistant Professor/Male/M.Sc./Pankaj Meher",
                    "Regular/Assistant Professor/Female/M. Phil/Bhagyaswari Behera",
                    "Regular/Assistant Professor/Male/Ph.D/Pradipta Banerjee",
                    "Regular/Assistant Professor/Male/M.Tech/Mohammed Siddique",
                    "Regular/Assistant Professor/Female/M.Tech/Swarna Prabha Jena",
                    "Regular/Assistant Professor/Male/M.E./Vignesh M",
                    "Regular/Assistant Professor/Male/M.Tech/Surya Narayan Sahu",
                    "Regular/Assistant Professor/Female/Ph.D/Atia Arzoo",
                    "Regular/Assistant Professor/Male/Ph.D/Susanta Kumar Patnaik",
                    "Regular/Professor/Male/MBA (Hons.)/Sunil Kumar Jha",
                    "Regular/Assistant Professor/Female/M.Tech/N Jeevaratnam",
                    "Regular/Assistant Professor/Male/MSc (Agriculture)/K Mallikarjunarao",
                    "Regular/Lecturer/Female/B.Sc(Agriculture)/Pilli Manasa",
                    "Regular/Assistant Professor/Male/M.Tech/Babuli Kumar Jena",
                    "Regular/Assistant Professor/Female/NET/Pratibha Satapathy",
                    "Regular/Assistant Professor/Male/M.Tech/Rama Prasanna Dalai",
                    "Regular/Assistant Professor/Female/MSc (Agriculture)/Basubadatta Sahu",
                    "Regular/Assistant Professor/Male/M.Tech/Santosh Kumar Paramanik",
                    "Regular/Assistant Professor/Male/M.Tech/Manas Ranjan Padhi",
                    "Regular/Professor/Male/Ph.D/Subrata Sarangi",
                    "Regular/Assistant Professor/Male/M.Tech/Ashish Ranjan Dash",
                    "Regular/Assistant Professor/Male/MSc (Agriculture)/Anant Tamang",
                    "Regular/Assistant Professor/Male/M.Tech/Bhairab Kumar Majhi",
                    "Regular/Assistant Professor/Female/Ph.D/Jhum Swain",
                    "Regular/Assistant Professor/Male/Ph.D/Sayed Muktar Hossain",
                    "Regular/Assistant Professor/Male/Ph.D/Debi Prasad Satapathy",
                    "Regular/Assistant Professor/Male/MSc (Agriculture)/Santosh Kumar Lenka",
                    "Regular/Assistant Professor/Male/M.Tech/Karanam Santoshchandra Rao",
                    "Regular/Assistant Professor/Female/M.Arch./Snigdha A Sanyal",
                    "Regular/Associate Professor/Female/Ph.D/Pratibha Tripathy",
                    "Regular/Assistant Professor/Female/M.Sc.(Biochemistr y)/Preetha Bhadra",
                    "Regular/Assistant Professor/Male/M. Phil/Pradeep Kumar Sahoo",
                    "Regular/Assistant Professor/Male/MSc (Agriculture)/Chitrasena Padhy",
                    "Regular/Assistant Professor/Male/Ph.D/Amiya Singh",
                    "Regular/Assistant Professor/Female/M.Sc./Suchismita Acharya",
                    "Regular/Assistant Professor/Male/M.Tech/Nimay Chandra Giri",
                    "Regular/Assistant Professor/Female/Ph.D/D Singu Devika Rani",
                    "Regular/Assistant Professor/Female/M. Pharm/Prachirani Sahu",
                    "Regular/Assistant Professor/Male/Ph.D/Nilaya Kumar Mohanty",
                    "Regular/Assistant Professor/Male/MSc (Agriculture)/Durgadatta Meher",
                    "Regular/Assistant Professor/Male/Ph.D/Merugu Chandra Surya Rao",
                    "Regular/Associate Professor/Male/Ph.D/M Vamshi Krishna",
                    "Regular/Assistant Professor/Male/M.Tech/Vishal Kumar Singh",
                    "Regular/Professor/Male/Ph.D/Gurudutta Pattnaik",
                    "Regular/Assistant Professor/Female/M.Tech/Sipalin Nayak",
                    "Regular/Associate Professor/Male/Ph.D/Mahendra Kumar Rath",
                    "Regular/Assistant Professor/Male/MSc (Agriculture)/Manisankar Bera",
                    "Regular/Assistant Professor/Male/Ph.D/NILADRI SARKAR",
                    "Regular/Associate Professor/Male/Ph.D/Durga Prasad Padhi",
                    "Regular/Assistant Professor/Female/M. Pharm/Kamini Sethy",
                    "Regular/Professor/Male/Ph.D/M Devender Reddy",
                    "Regular/Assistant Professor/Male/Ph.D/Santosh Kumar Bhal",
                    "Regular/Assistant Professor/Male/M.Tech/Girija Nandan Arka",
                    "Regular/Assistant Professor/Male/M.Tech/Dilip Kumar Mohanta",
                    "Regular/Assistant Professor/Male/Ph.D/Sitaram Swain",
                    "Regular/Assistant Professor/Female/M.Tech/Debashree Debadatta Behera",
                    "Regular/Assistant Professor/Male/M. Phil/Sarat Kumar Jena",
                    "Regular/Assistant Professor/Female/Ph.D/Girija Nandini",
                    "Regular/Assistant Professor/Female/M.Sc(Phy)/Meena Kumari Sahu",
                    "Regular/Assistant Professor/Male/Ph.D/Gagan Kumar",
                    "Regular/Assistant Professor/Female/MSc (Agriculture)/Kalyani Pradhan",
                    "Regular/Associate Professor/Male/Ph.D/Ganala Santoshi",
                    "Regular/Assistant Professor/Male/M. Phil/Subhraraj Panda",
                    "Regular/Assistant Professor/Male/M.Tech/Subhankar Debnath",
                    "Regular/Assistant Professor/Female/MSc (Agriculture)/Sonia Panigrahi",
                    "Regular/Assistant Professor/Male/Ph.D/Siba Prasad Mishra",
                    "Regular/Assistant Professor/Male/Ph.D/Shanatanu Bhattacharya",
                    "Regular/Assistant Professor/Female/M.Sc./Saubhagyalaxmi Singh",
                    "Regular/Assistant Professor/Male/M.Tech/Rajesh Kumar Mishra",
                    "Regular/Reader/Female/M.Tech/Gedala Sridevi",
                    "Regular/Professor/Male/Ph.D/Dipankar Bhattacharyay",
                    "Regular/Assistant Professor/Male/Ph.D/Prasanta Kumar Choudhury",
                    "Regular/Assistant Professor/Female/M.Tech/Soma Maji",
                    "Regular/Assistant Professor/Male/Ph.D/Kamal Kumar Barik",
                    "Regular/Assistant Professor/Female/MSc (Agriculture)/Ria Mukhopadhyay",
                    "Regular/Assistant Professor/Male/MCA/Sanjib Kumar Naik",
                    "Regular/Assistant Professor/Female/Ph.D/Priyanka Dash",
                    "Regular/Assistant Professor/Male/M.Sc./G  K  Sahu",
                    "Regular/Assistant Professor/Female/MSc (Agriculture)/Abhinandita Sahoo",
                    "Regular/Assistant Professor/Female/Ph.D/Satarupa Modak",
                    "Regular/Associate Professor/Male/Ph.D/Raghu Gogada",
                    "Regular/Assistant Professor/Male/Ph.D/Pratibha Deep",
                    "Regular/Associate Professor/Male/Ph.D/Prasanta Kumar Rath",
                    "Regular/Professor/Male/PGDSMM/K V D Prakash",
                    "Regular/Professor/Male/Ph.D/Susanta Kumar Biswal",
                    "Regular/Assistant Professor/Female/M. Pharm/Lipsa Samal",
                    "Regular/Assistant Professor/Male/M.Tech/Abinash Panda",
                    "Regular/Associate Professor/Male/Ph.D/Ananta Charan Ojha",
                    "Regular/Assistant Professor/Male/DAVP/A.Avinash",
                    "Regular/Professor/Male/Ph.D/Ashok Mishra",
                    "Regular/Assistant Professor/Male/Ph.D/Subhashisa Praharaj",
                    "Regular/Assistant Professor/Female/M.Tech/Sunita Sahu",
                    "Regular/Assistant Professor/Female/Ph.D/CHANDANA ADHIKARI",
                    "Regular/Assistant Professor/Male/Ph.D/Srikanta Moharana",
                    "Regular/Assistant Professor/Male/Ph.D/Ambika Sankar Mishra",
                    "Regular/Assistant Professor/Male/Ph.D/Parle Kalyan Chakravarty",
                    "Regular/Assistant Professor/Male/Ph.D/Ashish Kumar Sahoo",
                    "Regular/Professor/Female/Ph.D/Prajna Pani",
                    "Regular/Assistant Professor/Male/Ph.D/Santosh Kumar Nanda",
                    "Regular/Associate Professor/Male/Ph.D/Sanjay Kumar",
                    "Regular/Associate Professor/Female/Ph.D/Sujata Chakravarty",
                    "Regular/Assistant Professor/Male/Ph.D/V Parvati Sai Arun",
                    "Regular/Assistant Professor/Male/M. Pharm/Suman Kumar Mekap",
                    "Regular/Associate Professor/Male/Ph.D/A Mohan Muralidhar",
                    "Regular/Assistant Professor/Male/Ph.D/Narayan Gouda",
                    "Regular/Assistant Professor/Male/Ph.D/Abhishek Hota",
                    "Regular/Assistant Professor/Female/M.Tech/Akkala Abhilasha",
                    "Regular/Professor/Male/Ph.D/Niranjan Barik",
                    "Regular/Assistant Professor/Male/Ph.D/S Kameswar Rao",
                    "Regular/Associate Professor/Male/M.Tech/Vijay Miditana",
                    "Regular/Assistant Professor/Male/Ph.D/Saurav Barman",
                    "Regular/Assistant Professor/Male/Ph.D/Santosh Kumar Satpathy",
                    "Regular/Professor/Male/Ph.D/J Vaideeswaran",
                    "Regular/Assistant Professor/Male/M.Tech/Santosh Patro",
                    "Regular/Assistant Professor/Female/Ph.D/Padmaja Patnaik",
                    "Regular/Associate Professor/Female/Ph.D/Pushpalatha G",
                    "Regular/Assistant Professor/Male/M. Phil/Gyanaranjan Mahalik",
                    "Regular/Associate Professor/Male/Ph.D/Kalidindi Krishnam Raju",
                    "Regular/Associate Professor/Male/Ph.D/Kakani Grihalakshmi",
                    "Regular/Assistant Professor/Female/Ph.D/Amrutha Gopan",
                    "Regular/Assistant Professor/Male/M. Pharm/Himansu Bhusan Samal",
                    "Regular/Assistant Professor/Female/MSc (Agriculture)/Jnana Bharati Palai",
                    "Regular/Assistant Professor/Male/Master of Optometry/Sourav Karmakar",
                    "Regular/Assistant Professor/Male/Ph.D/Pratap Kumar Chhotaray",
                    "Regular/Assistant Professor/Male/Ph.D/Satyanarayan Dhal",
                    "Regular/Assistant Professor/Female/Master of Optometry/Arup Saha",
                    "Regular/Assistant Professor/Male/M.Sc(Agriculture)/Dwity Sundar Rout",
                    "Regular/Assistant Professor/Male/MSc (Agriculture)/Ajit Kumar Sahu",
                    "Regular/Assistant Professor/Male/M.E./N B Karthik Babu",
                    "Regular/Assistant Professor/Male/Ph.D/ANUPAM SAHOO",
                    "Regular/Assistant Professor/Female/M.Tech/Sagarika Panda",
                    "Regular/Assistant Professor/Male/MSc (Agriculture)/Sambid Swain",
                    "Regular/Assistant Professor/Male/Master of Optometry/Ranitava Banerjee",
                    "Regular/Assistant Professor/Female/Ph.D/Chinu Bohidar",
                    "Regular/Assistant Professor/Female/M.Tech/Prajna Paramita Debata",
                    "Regular/Assistant Professor/Male/MSc (Agriculture)/Sandeep Rout",
                    "Regular/Assistant Professor/Male/M.Tech/Sangram Keshari Swain",
                    "Regular/Professor/Male/Ph.D/Ramesh Chandra Mohanty",
                    "Regular/Assistant Professor/Female/Ph.D/Sagarika Parida",
                    "Regular/Assistant Professor/Male/M.Tech/Smarajit Punaykanti",
                    "Regular/Assistant Professor/Male/M.Sc./Satyabrata Sadangi",
                    "Regular/Professor/Male/M.E./Jagannath Padhi",
                    "Regular/Assistant Professor/Female/M.Tech/Mamata P Wagh",
                    "Regular/Assistant Professor/Male/M. Phil/Balaji Padhy",
                    "Regular/Assistant Professor/Male/M.Sc./Chinmayee Tripathy",
                    "Regular/Assistant Professor/Female/Ph.D/Smaranika Mohanta",
                    "Regular/Assistant Professor/Male/MBA/Sisir Ranjan Dash",
                    "Regular/Assistant Professor/Male/M. Phil/ANISETTI SIVA SANKAR",
                    "Regular/Professor/Male/Ph.D/Ardhendu Mouli Mohanty",
                    "Regular/Assistant Professor/Male/M.Sc./Sasi Bhusan Padhi",
                    "Regular/Professor/Male/Ph.D/Potnuru Srinivasa Rao",
                    "Regular/Associate Professor/Male/Ph.D/Subhendu Kumar Mishra",
                    "Regular/Assistant Professor/Male/Ph.D/Srikanta Sahu",
                    "Regular/Assistant Professor/Female/M.Tech/Sharmistha Sahu",
                    "Regular/Assistant Professor/Male/Ph.D/Sujit Kumar Mishra",
                    "Regular/Assistant Professor/Male/M.Tech/Sujit Mishra",
                    "Regular/Assistant Professor/Male/Ph.D/Laxman Kumar Malla",
                    "Regular/Associate Professor/Male/Ph.D/Siba Prasad Parida",
                    "Regular/Assistant Professor/Female/M.Tech/Monalisha Joshi",
                    "Regular/Assistant Professor/Male/Ph.D/Chandra Sekhar Dash",
                    "Regular/Assistant Professor/Male/NET/Shekhar Kumar Sahu",
                    "Regular/Assistant Professor/Female/MSc (Agriculture)/Samapika Dalai",
                    "Regular/Assistant Professor/Male/Ph.D/Shraban Kumar Sahoo",
                    "Regular/Assistant Professor/Male/Ph.D/Goutam Kumar Mahato",
                    "Regular/Assistant Professor/Male/M.Sc(Agriculture)/Lalichetti Sagar",
                    "Regular/Assistant Professor/Male/Ph.D/Hari Ram Kumar Bandi",
                    "Regular/Assistant Professor/Male/Ph.D/Sabyasachi Dey",
                    "Regular/Assistant Professor/Male/M. Pharm/Nihar Ranjan Kar",
                    "Regular/Assistant Professor/Male/Ph.D/Atanu Deb",
                    "Regular/Assistant Professor/Male/M.Tech/Raj Kumar Mohanta",
                    "Regular/Assistant Professor/Male/M.Tech/Amit Kumar Sahoo",
                    "Regular/Professor/Male/Ph.D/Satya Prakash Nanda",
                    "Regular/Assistant Professor/Female/M.Tech/Smita Jena",
                    "Regular/Assistant Professor/Male/M.Tech/Debaraj Rana",
                    "Regular/Assistant Professor/Male/Ph.D/Satyabrata Nanda",
                    "Regular/Assistant Professor/Male/M.Tech/Prabhat Kumar Patnaik",
                    "Regular/Professor/Male/Ph.D/Rajendra Kumar Khadanga",
                    "Regular/Associate Professor/Male/Ph.D/Sagar Maitra",
                    "Regular/Professor/Male/Ph.D/Sivala Kumar",
                    "Regular/Assistant Professor/Female/M.E./Shivani Nanda",
                    "Regular/Professor/Male/Ph.D/Abhinna Chandra Biswal",
                    "Regular/Assistant Professor/Female/Ph.D/Saubhagyalaxmi Behera",
                    "Regular/Assistant Professor/Male/Ph.D/Sudhansu Kumar Samal",
                    "Regular/Professor/Male/Ph.D/Chandra Sekhar Patro",
                    "Regular/Assistant Professor/Male/M.Tech/Nilamadhab Dash",
                    "Regular/Assistant Professor/Male/M.Sc./Chittaranjan Routray",
                    "Regular/Assistant Professor/Male/Ph.D/Nitesh Dhar Badgayan",
                    "Regular/Associate Professor/Male/Ph.D/Praveen Boddna",
                    "Regular/Assistant Professor/Female/MSc (Agriculture)/Deepthi Chandaka",
                    "Regular/Professor/Female/Ph.D/Anita Patra",
                    "Regular/Assistant Professor/Male/M.Tech/Debasis Sahu",
                    "Regular/Assistant Professor/Male/M.Sc./Debashish Trpathy",
                    "Regular/Assistant Professor/Female/M.Tech/Shreela Dash",
                    "Regular/Assistant Professor/Male/MBA/Shiv Sankar Das",
                    "Regular/Assistant Professor/Male/M.Tech/Subrat Kumar Pradhan",
                    "Regular/Assistant Professor/Female/M.Sc./Swarnalata  Jena",
                    "Regular/Professor/Male/Ph.D/Prasanta Kumar Mohanty",
                    "Regular/Assistant Professor/Male/M.Tech/Kali Prasad Rath",
                    "Regular/Assistant Professor/Female/Ph.D/Sudhanshu Bala Nayak",
                    "Regular/Assistant Professor/Female/MSc (Agriculture)/Pragnya Paramita",
                    "Regular/Assistant Professor/Male/M.Tech/Sudhansu Bhusan Mohapatra",
                    "Regular/Assistant Professor/Female/MCA/Sujata Acharya",
                    "Regular/Assistant Professor/Male/Ph.D/Bhavyadeep Bhatia",
                    "Regular/Assistant Professor/Female/M.Tech/Gitanjali Behera",
                    "Regular/Assistant Professor/Female/Ph.D/Subhasmita Mishra",
                    "Regular/Assistant Professor/Male/Ph.D/Soumik Ray",
                    "Regular/Assistant Professor/Male/Ph.D/Pramod Kumar Patjoshi",
                    "Regular/Assistant Professor/Male/Ph.D/DEEPAK  SAHU",
                    "Regular/Assistant Professor/Male/Ph.D/Arun Kumar Pradhan",
                    "Regular/Assistant Professor/Male/M. Pharm/Ashish kumar Mehe",
                    "Regular/Professor/Female/Ph.D/Supriya Pattanayak",
                    "Regular/Assistant Professor/Female/M. Pharm/Swagatika Dash",
                    "Regular/Assistant Professor/Male/M.Tech/Nandakishore Ray",
                    "Regular/Assistant Professor/Male/Ph.D/Bidyut Kumar Kundu",
                    "Regular/Assistant Professor/Male/M.Tech/Suvendu Kumar Nayak",
                    "Regular/Professor/Female/Ph.D/Smita Mishra Panda",
                    "Regular/Associate Professor/Male/M.Tech/Sandipan Pine",
                    "Regular/Associate Professor/Male/Ph.D/GOPAL KRISHNA PADHY",
                    "Regular/Associate Professor/Male/Ph.D/Ajit Kumar Pradhan",
                    "Regular/Associate Professor/Male/Ph.D/Rahul Adhikary",
                    "Regular/Professor/Male/Ph.D/Nagesh Kolagani",
                    "Regular/Assistant Professor/Male/M. Pharm/Chinmaya Chidananda Behera",
                    "Regular/Assistant Professor/Male/M.Sc./Rajesh Raman Mishra Rajguru",
                    "Regular/Assistant Professor/Male/M.Tech/Rashmi Ranjan Panda",
                    "Regular/Assistant Professor/Female/M.Tech/Sasmita Kumari Nayak",
                    "Regular/Assistant Professor/Male/M. Phil/Srimay Pradhan",
                    "Regular/Assistant Professor/Male/Ph.D/Praveen Kumar",
                    "Regular/Assistant Professor/Male/Ph.D/Udit Nandan Mishra",
                    "Regular/Assistant Professor/Male/Ph.D/Tumbanath Samantara",
                    "Regular/Assistant Professor/Female/Ph.D/Rukmini Mishra",
                    "Regular/Associate Professor/Female/Ph.D/Banitamani Mallik",
                    "Regular/Assistant Professor/Male/NET/Chandrasekhar Sahu",
                    "Regular/Assistant Professor/Female/Ph.D/Dojalisa Sahu",
                    "Regular/Assistant Professor/Male/NET/Debendra Maharana",
                    "Regular/Assistant Professor/Female/Ph.D/Rosy Mallik",
                    "Regular/Assistant Professor/Female/M.Tech/Mamata Garanayak",
                    "Regular/Assistant Professor/Male/Ph.D/Amir Prasad Behara",
                    "Regular/Assistant Professor/Male/Ph.D/Aditya Kumar Purohit",
                    "Regular/Assistant Professor/Male/Ph.D/Pedda Ghouse Peera S K",
                    "Regular/Professor/Male/Ph.D/Prafulla Kumar Sahu",
                    "Regular/Assistant Professor/Female/NET/Lipsa Dash",
                    "Regular/Associate Professor/Male/Ph.D/Koustava Kumar Panda",
                    "Regular/Associate Professor/Male/Ph.D/Arunabha Pal",
                    "Regular/Assistant Professor/Male/M.Tech/Prafulla Kumar Panda",
                    "Regular/Associate Professor/Female/Ph.D/Soumya Jal",
                    "Regular/Assistant Professor/Female/M.Sc./Saride Naga Sri Neelima",
                    "Regular/Assistant Professor/Male/M.Tech/Harish Chandra Mohanta",
                    "Regular/Associate Professor/Male/M.Tech/Mir Sadat Ali",
                    "Regular/Professor/Male/Ph.D/K S Krishna Prasad",
                    "Regular/Assistant Professor/Male/Ph.D/Jyotiprakash Rath",
                    "Regular/Assistant Professor/Male/M.Tech/Biswajit Mohapatra",
                    "Regular/Assistant Professor/Male/M.Tech/P Annan Naidu",
                    "Regular/Assistant Professor/Male/Ph.D/Gangadhar Purohit",
                    "Regular/Assistant Professor/Male/Ph.D/Biswanandan Dash",
                    "Regular/Lecturer/Female/B.Sc(Agriculture)",
                    "Regular/Assistant Professor/Male/DAVP",
                    "Regular/Assistant Professor/Female/M. Pharm",
                    "Regular/Assistant Professor/Male/M. Pharm",
                    "Regular/Associate Professor/Male/M. Pharm",
                    "Regular/Assistant Professor/Female/M. Phil",
                    "Regular/Assistant Professor/Male/M. Phil",
                    "Regular/Assistant Professor/Female/M.Arch.",
                    "Regular/Assistant Professor/Female/M.E.",
                    "Regular/Assistant Professor/Male/M.E.",
                    "Regular/Professor/Male/M.E.",
                    "Regular/Assistant Professor/Female/M.Sc(Agriculture)",
                    "Regular/Assistant Professor/Male/M.Sc(Agriculture)",
                    "Regular/Assistant Professor/Female/M.Sc(Phy)",
                    "Regular/Assistant Professor/Female/M.Sc.",
                    "Regular/Assistant Professor/Male/M.Sc.",
                    "Regular/Assistant Professor/Female/M.Sc.(Biochemistr y)",
                    "Regular/Assistant Professor/Female/M.Tech",
                    "Regular/Reader/Female/M.Tech",
                    "Regular/Assistant Professor/Male/M.Tech",
                    "Regular/Associate Professor/Male/M.Tech",
                    "Regular/Assistant Professor/Male/MBA",
                    "Regular/Professor/Male/MBA (Hons.)",
                    "Regular/Assistant Professor/Female/MCA",
                    "Regular/Assistant Professor/Male/MCA",
                    "Regular/Assistant Professor/Female/MSc (Agriculture)",
                    "Regular/Assistant Professor/Male/MSc (Agriculture)",
                    "Regular/Assistant Professor/Female/Master of Optometry",
                    "Regular/Assistant Professor/Male/Master of Optometry",
                    "Regular/Assistant Professor/Female/NET",
                    "Regular/Assistant Professor/Male/NET",
                    "Regular/Professor/Male/PGDSMM",
                    "Regular/Assistant Professor/Female/Ph.D",
                    "Regular/Associate Professor/Female/Ph.D",
                    "Regular/Professor/Female/Ph.D",
                    "Regular/Assistant Professor/Male/Ph.D",
                    "Regular/Associate Professor/Male/Ph.D",
                    "Regular/Professor/Male/Ph.D",
                    "Regular/Assistant Professor/Female",
                    "Regular/Associate Professor/Female",
                    "Regular/Lecturer/Female",
                    "Regular/Professor/Female",
                    "Regular/Reader/Female",
                    "Regular/Assistant Professor/Male",
                    "Regular/Associate Professor/Male",
                    "Regular/Professor/Male",
                    "Regular/Assistant Professor",
                    "Regular/Associate Professor",
                    "Regular/Lecturer",
                    "Regular/Professor",
                    "Regular/Reader",
                    "Regular"
                  ],
                  "labels": [
                    "Yashaswi Nayak",
                    "Sunita Satapathy",
                    "Devanand T N",
                    "Swakantik Mishra",
                    "Sweeta Das",
                    "Sukanta Satapathy",
                    "Tapan Kumar Dash",
                    "Umakanta Nayak",
                    "Tanmoy Shankar",
                    "Nilanjana Datta",
                    "Vijay Kumar Meher",
                    "Kovelakonda Dinesh Tej",
                    "Manoj Kumar Behera",
                    "V Narsimha Reddy",
                    "Sudeep Kumar Singh",
                    "Vivek Kumar",
                    "Prasanta Kumar Panigrahi",
                    "S  K Najmul Islam",
                    "Ipsita Mishra",
                    "Rajashree Jena",
                    "Gouranga Ch Mishra",
                    "Kajal Samantara",
                    "Amulya Ratna Behera",
                    "Kalpita Bhatta",
                    "Girish Prasad Rath",
                    "Gaikward D J",
                    "Tikina Mishra",
                    "Nibedita Nayak",
                    "Venkata Satish Kuchi",
                    "Tapan Kumar Sahu",
                    "Barsha Tripathy",
                    "Haragouri Mishra",
                    "Satyanarayan Padhy",
                    "Pankaj Meher",
                    "Bhagyaswari Behera",
                    "Pradipta Banerjee",
                    "Mohammed Siddique",
                    "Swarna Prabha Jena",
                    "Vignesh M",
                    "Surya Narayan Sahu",
                    "Atia Arzoo",
                    "Susanta Kumar Patnaik",
                    "Sunil Kumar Jha",
                    "N Jeevaratnam",
                    "K Mallikarjunarao",
                    "Pilli Manasa",
                    "Babuli Kumar Jena",
                    "Pratibha Satapathy",
                    "Rama Prasanna Dalai",
                    "Basubadatta Sahu",
                    "Santosh Kumar Paramanik",
                    "Manas Ranjan Padhi",
                    "Subrata Sarangi",
                    "Ashish Ranjan Dash",
                    "Anant Tamang",
                    "Bhairab Kumar Majhi",
                    "Jhum Swain",
                    "Sayed Muktar Hossain",
                    "Debi Prasad Satapathy",
                    "Santosh Kumar Lenka",
                    "Karanam Santoshchandra Rao",
                    "Snigdha A Sanyal",
                    "Pratibha Tripathy",
                    "Preetha Bhadra",
                    "Pradeep Kumar Sahoo",
                    "Chitrasena Padhy",
                    "Amiya Singh",
                    "Suchismita Acharya",
                    "Nimay Chandra Giri",
                    "D Singu Devika Rani",
                    "Prachirani Sahu",
                    "Nilaya Kumar Mohanty",
                    "Durgadatta Meher",
                    "Merugu Chandra Surya Rao",
                    "M Vamshi Krishna",
                    "Vishal Kumar Singh",
                    "Gurudutta Pattnaik",
                    "Sipalin Nayak",
                    "Mahendra Kumar Rath",
                    "Manisankar Bera",
                    "NILADRI SARKAR",
                    "Durga Prasad Padhi",
                    "Kamini Sethy",
                    "M Devender Reddy",
                    "Santosh Kumar Bhal",
                    "Girija Nandan Arka",
                    "Dilip Kumar Mohanta",
                    "Sitaram Swain",
                    "Debashree Debadatta Behera",
                    "Sarat Kumar Jena",
                    "Girija Nandini",
                    "Meena Kumari Sahu",
                    "Gagan Kumar",
                    "Kalyani Pradhan",
                    "Ganala Santoshi",
                    "Subhraraj Panda",
                    "Subhankar Debnath",
                    "Sonia Panigrahi",
                    "Siba Prasad Mishra",
                    "Shanatanu Bhattacharya",
                    "Saubhagyalaxmi Singh",
                    "Rajesh Kumar Mishra",
                    "Gedala Sridevi",
                    "Dipankar Bhattacharyay",
                    "Prasanta Kumar Choudhury",
                    "Soma Maji",
                    "Kamal Kumar Barik",
                    "Ria Mukhopadhyay",
                    "Sanjib Kumar Naik",
                    "Priyanka Dash",
                    "G  K  Sahu",
                    "Abhinandita Sahoo",
                    "Satarupa Modak",
                    "Raghu Gogada",
                    "Pratibha Deep",
                    "Prasanta Kumar Rath",
                    "K V D Prakash",
                    "Susanta Kumar Biswal",
                    "Lipsa Samal",
                    "Abinash Panda",
                    "Ananta Charan Ojha",
                    "A.Avinash",
                    "Ashok Mishra",
                    "Subhashisa Praharaj",
                    "Sunita Sahu",
                    "CHANDANA ADHIKARI",
                    "Srikanta Moharana",
                    "Ambika Sankar Mishra",
                    "Parle Kalyan Chakravarty",
                    "Ashish Kumar Sahoo",
                    "Prajna Pani",
                    "Santosh Kumar Nanda",
                    "Sanjay Kumar",
                    "Sujata Chakravarty",
                    "V Parvati Sai Arun",
                    "Suman Kumar Mekap",
                    "A Mohan Muralidhar",
                    "Narayan Gouda",
                    "Abhishek Hota",
                    "Akkala Abhilasha",
                    "Niranjan Barik",
                    "S Kameswar Rao",
                    "Vijay Miditana",
                    "Saurav Barman",
                    "Santosh Kumar Satpathy",
                    "J Vaideeswaran",
                    "Santosh Patro",
                    "Padmaja Patnaik",
                    "Pushpalatha G",
                    "Gyanaranjan Mahalik",
                    "Kalidindi Krishnam Raju",
                    "Kakani Grihalakshmi",
                    "Amrutha Gopan",
                    "Himansu Bhusan Samal",
                    "Jnana Bharati Palai",
                    "Sourav Karmakar",
                    "Pratap Kumar Chhotaray",
                    "Satyanarayan Dhal",
                    "Arup Saha",
                    "Dwity Sundar Rout",
                    "Ajit Kumar Sahu",
                    "N B Karthik Babu",
                    "ANUPAM SAHOO",
                    "Sagarika Panda",
                    "Sambid Swain",
                    "Ranitava Banerjee",
                    "Chinu Bohidar",
                    "Prajna Paramita Debata",
                    "Sandeep Rout",
                    "Sangram Keshari Swain",
                    "Ramesh Chandra Mohanty",
                    "Sagarika Parida",
                    "Smarajit Punaykanti",
                    "Satyabrata Sadangi",
                    "Jagannath Padhi",
                    "Mamata P Wagh",
                    "Balaji Padhy",
                    "Chinmayee Tripathy",
                    "Smaranika Mohanta",
                    "Sisir Ranjan Dash",
                    "ANISETTI SIVA SANKAR",
                    "Ardhendu Mouli Mohanty",
                    "Sasi Bhusan Padhi",
                    "Potnuru Srinivasa Rao",
                    "Subhendu Kumar Mishra",
                    "Srikanta Sahu",
                    "Sharmistha Sahu",
                    "Sujit Kumar Mishra",
                    "Sujit Mishra",
                    "Laxman Kumar Malla",
                    "Siba Prasad Parida",
                    "Monalisha Joshi",
                    "Chandra Sekhar Dash",
                    "Shekhar Kumar Sahu",
                    "Samapika Dalai",
                    "Shraban Kumar Sahoo",
                    "Goutam Kumar Mahato",
                    "Lalichetti Sagar",
                    "Hari Ram Kumar Bandi",
                    "Sabyasachi Dey",
                    "Nihar Ranjan Kar",
                    "Atanu Deb",
                    "Raj Kumar Mohanta",
                    "Amit Kumar Sahoo",
                    "Satya Prakash Nanda",
                    "Smita Jena",
                    "Debaraj Rana",
                    "Satyabrata Nanda",
                    "Prabhat Kumar Patnaik",
                    "Rajendra Kumar Khadanga",
                    "Sagar Maitra",
                    "Sivala Kumar",
                    "Shivani Nanda",
                    "Abhinna Chandra Biswal",
                    "Saubhagyalaxmi Behera",
                    "Sudhansu Kumar Samal",
                    "Chandra Sekhar Patro",
                    "Nilamadhab Dash",
                    "Chittaranjan Routray",
                    "Nitesh Dhar Badgayan",
                    "Praveen Boddna",
                    "Deepthi Chandaka",
                    "Anita Patra",
                    "Debasis Sahu",
                    "Debashish Trpathy",
                    "Shreela Dash",
                    "Shiv Sankar Das",
                    "Subrat Kumar Pradhan",
                    "Swarnalata  Jena",
                    "Prasanta Kumar Mohanty",
                    "Kali Prasad Rath",
                    "Sudhanshu Bala Nayak",
                    "Pragnya Paramita",
                    "Sudhansu Bhusan Mohapatra",
                    "Sujata Acharya",
                    "Bhavyadeep Bhatia",
                    "Gitanjali Behera",
                    "Subhasmita Mishra",
                    "Soumik Ray",
                    "Pramod Kumar Patjoshi",
                    "DEEPAK  SAHU",
                    "Arun Kumar Pradhan",
                    "Ashish kumar Mehe",
                    "Supriya Pattanayak",
                    "Swagatika Dash",
                    "Nandakishore Ray",
                    "Bidyut Kumar Kundu",
                    "Suvendu Kumar Nayak",
                    "Smita Mishra Panda",
                    "Sandipan Pine",
                    "GOPAL KRISHNA PADHY",
                    "Ajit Kumar Pradhan",
                    "Rahul Adhikary",
                    "Nagesh Kolagani",
                    "Chinmaya Chidananda Behera",
                    "Rajesh Raman Mishra Rajguru",
                    "Rashmi Ranjan Panda",
                    "Sasmita Kumari Nayak",
                    "Srimay Pradhan",
                    "Praveen Kumar",
                    "Udit Nandan Mishra",
                    "Tumbanath Samantara",
                    "Rukmini Mishra",
                    "Banitamani Mallik",
                    "Chandrasekhar Sahu",
                    "Dojalisa Sahu",
                    "Debendra Maharana",
                    "Rosy Mallik",
                    "Mamata Garanayak",
                    "Amir Prasad Behara",
                    "Aditya Kumar Purohit",
                    "Pedda Ghouse Peera S K",
                    "Prafulla Kumar Sahu",
                    "Lipsa Dash",
                    "Koustava Kumar Panda",
                    "Arunabha Pal",
                    "Prafulla Kumar Panda",
                    "Soumya Jal",
                    "Saride Naga Sri Neelima",
                    "Harish Chandra Mohanta",
                    "Mir Sadat Ali",
                    "K S Krishna Prasad",
                    "Jyotiprakash Rath",
                    "Biswajit Mohapatra",
                    "P Annan Naidu",
                    "Gangadhar Purohit",
                    "Biswanandan Dash",
                    "B.Sc(Agriculture)",
                    "DAVP",
                    "M. Pharm",
                    "M. Pharm",
                    "M. Pharm",
                    "M. Phil",
                    "M. Phil",
                    "M.Arch.",
                    "M.E.",
                    "M.E.",
                    "M.E.",
                    "M.Sc(Agriculture)",
                    "M.Sc(Agriculture)",
                    "M.Sc(Phy)",
                    "M.Sc.",
                    "M.Sc.",
                    "M.Sc.(Biochemistr y)",
                    "M.Tech",
                    "M.Tech",
                    "M.Tech",
                    "M.Tech",
                    "MBA",
                    "MBA (Hons.)",
                    "MCA",
                    "MCA",
                    "MSc (Agriculture)",
                    "MSc (Agriculture)",
                    "Master of Optometry",
                    "Master of Optometry",
                    "NET",
                    "NET",
                    "PGDSMM",
                    "Ph.D",
                    "Ph.D",
                    "Ph.D",
                    "Ph.D",
                    "Ph.D",
                    "Ph.D",
                    "Female",
                    "Female",
                    "Female",
                    "Female",
                    "Female",
                    "Male",
                    "Male",
                    "Male",
                    "Assistant Professor",
                    "Associate Professor",
                    "Lecturer",
                    "Professor",
                    "Reader",
                    "Regular"
                  ],
                  "marker": {
                    "colors": [
                      "#636efa",
                      "#EF553B",
                      "#00cc96",
                      "#ab63fa",
                      "#FFA15A",
                      "#19d3f3",
                      "#FF6692",
                      "#B6E880",
                      "#FF97FF",
                      "#FECB52",
                      "#636efa",
                      "#EF553B",
                      "#00cc96",
                      "#ab63fa",
                      "#FFA15A",
                      "#19d3f3",
                      "#FF6692",
                      "#B6E880",
                      "#FF97FF",
                      "#B6E880",
                      "#FECB52",
                      "#636efa",
                      "#FF6692",
                      "#EF553B",
                      "#FECB52",
                      "#00cc96",
                      "#FF6692",
                      "#ab63fa",
                      "#FFA15A",
                      "#19d3f3",
                      "#19d3f3",
                      "#FF6692",
                      "#B6E880",
                      "#FF97FF",
                      "#FECB52",
                      "#636efa",
                      "#EF553B",
                      "#00cc96",
                      "#ab63fa",
                      "#FFA15A",
                      "#19d3f3",
                      "#FF6692",
                      "#B6E880",
                      "#FF97FF",
                      "#19d3f3",
                      "#FECB52",
                      "#636efa",
                      "#EF553B",
                      "#00cc96",
                      "#636efa",
                      "#ab63fa",
                      "#FFA15A",
                      "#19d3f3",
                      "#FF6692",
                      "#B6E880",
                      "#FF97FF",
                      "#636efa",
                      "#FFA15A",
                      "#FECB52",
                      "#19d3f3",
                      "#636efa",
                      "#EF553B",
                      "#00cc96",
                      "#ab63fa",
                      "#FFA15A",
                      "#636efa",
                      "#636efa",
                      "#19d3f3",
                      "#FF6692",
                      "#19d3f3",
                      "#B6E880",
                      "#FF97FF",
                      "#FF97FF",
                      "#636efa",
                      "#FECB52",
                      "#636efa",
                      "#FF6692",
                      "#00cc96",
                      "#EF553B",
                      "#00cc96",
                      "#ab63fa",
                      "#FFA15A",
                      "#19d3f3",
                      "#FF6692",
                      "#B6E880",
                      "#FF97FF",
                      "#00cc96",
                      "#B6E880",
                      "#FECB52",
                      "#636efa",
                      "#FF97FF",
                      "#636efa",
                      "#636efa",
                      "#FECB52",
                      "#B6E880",
                      "#00cc96",
                      "#EF553B",
                      "#00cc96",
                      "#ab63fa",
                      "#ab63fa",
                      "#FFA15A",
                      "#FFA15A",
                      "#19d3f3",
                      "#FF6692",
                      "#B6E880",
                      "#B6E880",
                      "#FFA15A",
                      "#FF97FF",
                      "#FECB52",
                      "#636efa",
                      "#EF553B",
                      "#FF6692",
                      "#B6E880",
                      "#00cc96",
                      "#636efa",
                      "#ab63fa",
                      "#19d3f3",
                      "#FFA15A",
                      "#19d3f3",
                      "#FECB52",
                      "#19d3f3",
                      "#FF6692",
                      "#B6E880",
                      "#B6E880",
                      "#19d3f3",
                      "#FF97FF",
                      "#19d3f3",
                      "#FECB52",
                      "#636efa",
                      "#FF97FF",
                      "#ab63fa",
                      "#636efa",
                      "#636efa",
                      "#FF6692",
                      "#FF97FF",
                      "#B6E880",
                      "#00cc96",
                      "#EF553B",
                      "#636efa",
                      "#00cc96",
                      "#ab63fa",
                      "#FFA15A",
                      "#19d3f3",
                      "#FF6692",
                      "#B6E880",
                      "#ab63fa",
                      "#B6E880",
                      "#B6E880",
                      "#FF6692",
                      "#19d3f3",
                      "#B6E880",
                      "#FF97FF",
                      "#00cc96",
                      "#FECB52",
                      "#FECB52",
                      "#636efa",
                      "#FECB52",
                      "#EF553B",
                      "#636efa",
                      "#19d3f3",
                      "#00cc96",
                      "#636efa",
                      "#00cc96",
                      "#FF6692",
                      "#00cc96",
                      "#636efa",
                      "#19d3f3",
                      "#00cc96",
                      "#FF97FF",
                      "#ab63fa",
                      "#636efa",
                      "#FF97FF",
                      "#FFA15A",
                      "#FF97FF",
                      "#FFA15A",
                      "#FFA15A",
                      "#19d3f3",
                      "#00cc96",
                      "#19d3f3",
                      "#FECB52",
                      "#EF553B",
                      "#FF6692",
                      "#B6E880",
                      "#FF97FF",
                      "#FECB52",
                      "#FFA15A",
                      "#636efa",
                      "#FF97FF",
                      "#EF553B",
                      "#636efa",
                      "#00cc96",
                      "#FF97FF",
                      "#FECB52",
                      "#FFA15A",
                      "#19d3f3",
                      "#636efa",
                      "#ab63fa",
                      "#19d3f3",
                      "#FF97FF",
                      "#00cc96",
                      "#FECB52",
                      "#ab63fa",
                      "#00cc96",
                      "#FF6692",
                      "#ab63fa",
                      "#FFA15A",
                      "#FFA15A",
                      "#19d3f3",
                      "#FF6692",
                      "#00cc96",
                      "#B6E880",
                      "#FF6692",
                      "#FF97FF",
                      "#FECB52",
                      "#636efa",
                      "#636efa",
                      "#19d3f3",
                      "#FF97FF",
                      "#EF553B",
                      "#FF6692",
                      "#00cc96",
                      "#B6E880",
                      "#ab63fa",
                      "#00cc96",
                      "#ab63fa",
                      "#FF97FF",
                      "#FF97FF",
                      "#FFA15A",
                      "#19d3f3",
                      "#FFA15A",
                      "#FF6692",
                      "#636efa",
                      "#B6E880",
                      "#FFA15A",
                      "#FF97FF",
                      "#636efa",
                      "#FF97FF",
                      "#636efa",
                      "#19d3f3",
                      "#FF97FF",
                      "#B6E880",
                      "#B6E880",
                      "#EF553B",
                      "#FF97FF",
                      "#FECB52",
                      "#FECB52",
                      "#19d3f3",
                      "#00cc96",
                      "#636efa",
                      "#EF553B",
                      "#FECB52",
                      "#FFA15A",
                      "#00cc96",
                      "#FF6692",
                      "#FF6692",
                      "#FFA15A",
                      "#ab63fa",
                      "#ab63fa",
                      "#FECB52",
                      "#19d3f3",
                      "#636efa",
                      "#FFA15A",
                      "#636efa",
                      "#FECB52",
                      "#19d3f3",
                      "#19d3f3",
                      "#FF6692",
                      "#B6E880",
                      "#FF6692",
                      "#B6E880",
                      "#19d3f3",
                      "#B6E880",
                      "#636efa",
                      "#19d3f3",
                      "#B6E880",
                      "#FF97FF",
                      "#FECB52",
                      "#FECB52",
                      "#FF97FF",
                      "#FFA15A",
                      "#636efa",
                      "#B6E880",
                      "#636efa",
                      "#EF553B",
                      "#ab63fa",
                      "#EF553B",
                      "#00cc96",
                      "#FECB52",
                      "#FF6692",
                      "#ab63fa",
                      "#ab63fa",
                      "#19d3f3",
                      "#ab63fa",
                      "#ab63fa",
                      "#EF553B",
                      "#FF97FF",
                      "#ab63fa",
                      "#ab63fa",
                      "#636efa",
                      "#19d3f3",
                      "#636efa",
                      "#ab63fa",
                      "#ab63fa",
                      "#ab63fa",
                      "#ab63fa",
                      "#19d3f3",
                      "#ab63fa",
                      "#ab63fa",
                      "#ab63fa",
                      "#B6E880",
                      "#FF97FF",
                      "#FECB52",
                      "#ab63fa",
                      "#ab63fa",
                      "#636efa",
                      "#ab63fa",
                      "#ab63fa",
                      "#ab63fa",
                      "#19d3f3",
                      "#ab63fa",
                      "#ab63fa",
                      "#ab63fa",
                      "#ab63fa",
                      "#ab63fa",
                      "#ab63fa",
                      "#ab63fa",
                      "#ab63fa",
                      "#FECB52",
                      "#ab63fa",
                      "#19d3f3",
                      "#ab63fa",
                      "#ab63fa",
                      "#ab63fa",
                      "#ab63fa",
                      "#ab63fa",
                      "#FECB52",
                      "#ab63fa",
                      "#19d3f3",
                      "#ab63fa"
                    ]
                  },
                  "name": "",
                  "parents": [
                    "Regular/Assistant Professor/Female/Ph.D",
                    "Regular/Assistant Professor/Female/M. Phil",
                    "Regular/Assistant Professor/Male/Ph.D",
                    "Regular/Assistant Professor/Male/M.Tech",
                    "Regular/Assistant Professor/Female/M.Tech",
                    "Regular/Assistant Professor/Male/M. Pharm",
                    "Regular/Assistant Professor/Male/Ph.D",
                    "Regular/Assistant Professor/Male/Ph.D",
                    "Regular/Assistant Professor/Male/Ph.D",
                    "Regular/Assistant Professor/Female/Ph.D",
                    "Regular/Assistant Professor/Male/M. Pharm",
                    "Regular/Assistant Professor/Male/M.Tech",
                    "Regular/Assistant Professor/Male/M.Tech",
                    "Regular/Professor/Male/Ph.D",
                    "Regular/Assistant Professor/Male/M.Tech",
                    "Regular/Assistant Professor/Male/Ph.D",
                    "Regular/Professor/Male/M.E.",
                    "Regular/Assistant Professor/Male/Ph.D",
                    "Regular/Assistant Professor/Female/M.Tech",
                    "Regular/Assistant Professor/Female/Ph.D",
                    "Regular/Professor/Male/Ph.D",
                    "Regular/Assistant Professor/Female/M.Sc(Agriculture)",
                    "Regular/Professor/Male/Ph.D",
                    "Regular/Assistant Professor/Female/Ph.D",
                    "Regular/Assistant Professor/Male/Ph.D",
                    "Regular/Assistant Professor/Male/MSc (Agriculture)",
                    "Regular/Assistant Professor/Male/M.Sc.",
                    "Regular/Assistant Professor/Female/M.Sc.",
                    "Regular/Assistant Professor/Male/Ph.D",
                    "Regular/Associate Professor/Male/M. Pharm",
                    "Regular/Assistant Professor/Female/MSc (Agriculture)",
                    "Regular/Assistant Professor/Male/M. Pharm",
                    "Regular/Assistant Professor/Male/M.Tech",
                    "Regular/Assistant Professor/Male/M.Sc.",
                    "Regular/Assistant Professor/Female/M. Phil",
                    "Regular/Assistant Professor/Male/Ph.D",
                    "Regular/Assistant Professor/Male/M.Tech",
                    "Regular/Assistant Professor/Female/M.Tech",
                    "Regular/Assistant Professor/Male/M.E.",
                    "Regular/Assistant Professor/Male/M.Tech",
                    "Regular/Assistant Professor/Female/Ph.D",
                    "Regular/Assistant Professor/Male/Ph.D",
                    "Regular/Professor/Male/MBA (Hons.)",
                    "Regular/Assistant Professor/Female/M.Tech",
                    "Regular/Assistant Professor/Male/MSc (Agriculture)",
                    "Regular/Lecturer/Female/B.Sc(Agriculture)",
                    "Regular/Assistant Professor/Male/M.Tech",
                    "Regular/Assistant Professor/Female/NET",
                    "Regular/Assistant Professor/Male/M.Tech",
                    "Regular/Assistant Professor/Female/MSc (Agriculture)",
                    "Regular/Assistant Professor/Male/M.Tech",
                    "Regular/Assistant Professor/Male/M.Tech",
                    "Regular/Professor/Male/Ph.D",
                    "Regular/Assistant Professor/Male/M.Tech",
                    "Regular/Assistant Professor/Male/MSc (Agriculture)",
                    "Regular/Assistant Professor/Male/M.Tech",
                    "Regular/Assistant Professor/Female/Ph.D",
                    "Regular/Assistant Professor/Male/Ph.D",
                    "Regular/Assistant Professor/Male/Ph.D",
                    "Regular/Assistant Professor/Male/MSc (Agriculture)",
                    "Regular/Assistant Professor/Male/M.Tech",
                    "Regular/Assistant Professor/Female/M.Arch.",
                    "Regular/Associate Professor/Female/Ph.D",
                    "Regular/Assistant Professor/Female/M.Sc.(Biochemistr y)",
                    "Regular/Assistant Professor/Male/M. Phil",
                    "Regular/Assistant Professor/Male/MSc (Agriculture)",
                    "Regular/Assistant Professor/Male/Ph.D",
                    "Regular/Assistant Professor/Female/M.Sc.",
                    "Regular/Assistant Professor/Male/M.Tech",
                    "Regular/Assistant Professor/Female/Ph.D",
                    "Regular/Assistant Professor/Female/M. Pharm",
                    "Regular/Assistant Professor/Male/Ph.D",
                    "Regular/Assistant Professor/Male/MSc (Agriculture)",
                    "Regular/Assistant Professor/Male/Ph.D",
                    "Regular/Associate Professor/Male/Ph.D",
                    "Regular/Assistant Professor/Male/M.Tech",
                    "Regular/Professor/Male/Ph.D",
                    "Regular/Assistant Professor/Female/M.Tech",
                    "Regular/Associate Professor/Male/Ph.D",
                    "Regular/Assistant Professor/Male/MSc (Agriculture)",
                    "Regular/Assistant Professor/Male/Ph.D",
                    "Regular/Associate Professor/Male/Ph.D",
                    "Regular/Assistant Professor/Female/M. Pharm",
                    "Regular/Professor/Male/Ph.D",
                    "Regular/Assistant Professor/Male/Ph.D",
                    "Regular/Assistant Professor/Male/M.Tech",
                    "Regular/Assistant Professor/Male/M.Tech",
                    "Regular/Assistant Professor/Male/Ph.D",
                    "Regular/Assistant Professor/Female/M.Tech",
                    "Regular/Assistant Professor/Male/M. Phil",
                    "Regular/Assistant Professor/Female/Ph.D",
                    "Regular/Assistant Professor/Female/M.Sc(Phy)",
                    "Regular/Assistant Professor/Male/Ph.D",
                    "Regular/Assistant Professor/Female/MSc (Agriculture)",
                    "Regular/Associate Professor/Male/Ph.D",
                    "Regular/Assistant Professor/Male/M. Phil",
                    "Regular/Assistant Professor/Male/M.Tech",
                    "Regular/Assistant Professor/Female/MSc (Agriculture)",
                    "Regular/Assistant Professor/Male/Ph.D",
                    "Regular/Assistant Professor/Male/Ph.D",
                    "Regular/Assistant Professor/Female/M.Sc.",
                    "Regular/Assistant Professor/Male/M.Tech",
                    "Regular/Reader/Female/M.Tech",
                    "Regular/Professor/Male/Ph.D",
                    "Regular/Assistant Professor/Male/Ph.D",
                    "Regular/Assistant Professor/Female/M.Tech",
                    "Regular/Assistant Professor/Male/Ph.D",
                    "Regular/Assistant Professor/Female/MSc (Agriculture)",
                    "Regular/Assistant Professor/Male/MCA",
                    "Regular/Assistant Professor/Female/Ph.D",
                    "Regular/Assistant Professor/Male/M.Sc.",
                    "Regular/Assistant Professor/Female/MSc (Agriculture)",
                    "Regular/Assistant Professor/Female/Ph.D",
                    "Regular/Associate Professor/Male/Ph.D",
                    "Regular/Assistant Professor/Male/Ph.D",
                    "Regular/Associate Professor/Male/Ph.D",
                    "Regular/Professor/Male/PGDSMM",
                    "Regular/Professor/Male/Ph.D",
                    "Regular/Assistant Professor/Female/M. Pharm",
                    "Regular/Assistant Professor/Male/M.Tech",
                    "Regular/Associate Professor/Male/Ph.D",
                    "Regular/Assistant Professor/Male/DAVP",
                    "Regular/Professor/Male/Ph.D",
                    "Regular/Assistant Professor/Male/Ph.D",
                    "Regular/Assistant Professor/Female/M.Tech",
                    "Regular/Assistant Professor/Female/Ph.D",
                    "Regular/Assistant Professor/Male/Ph.D",
                    "Regular/Assistant Professor/Male/Ph.D",
                    "Regular/Assistant Professor/Male/Ph.D",
                    "Regular/Assistant Professor/Male/Ph.D",
                    "Regular/Professor/Female/Ph.D",
                    "Regular/Assistant Professor/Male/Ph.D",
                    "Regular/Associate Professor/Male/Ph.D",
                    "Regular/Associate Professor/Female/Ph.D",
                    "Regular/Assistant Professor/Male/Ph.D",
                    "Regular/Assistant Professor/Male/M. Pharm",
                    "Regular/Associate Professor/Male/Ph.D",
                    "Regular/Assistant Professor/Male/Ph.D",
                    "Regular/Assistant Professor/Male/Ph.D",
                    "Regular/Assistant Professor/Female/M.Tech",
                    "Regular/Professor/Male/Ph.D",
                    "Regular/Assistant Professor/Male/Ph.D",
                    "Regular/Associate Professor/Male/M.Tech",
                    "Regular/Assistant Professor/Male/Ph.D",
                    "Regular/Assistant Professor/Male/Ph.D",
                    "Regular/Professor/Male/Ph.D",
                    "Regular/Assistant Professor/Male/M.Tech",
                    "Regular/Assistant Professor/Female/Ph.D",
                    "Regular/Associate Professor/Female/Ph.D",
                    "Regular/Assistant Professor/Male/M. Phil",
                    "Regular/Associate Professor/Male/Ph.D",
                    "Regular/Associate Professor/Male/Ph.D",
                    "Regular/Assistant Professor/Female/Ph.D",
                    "Regular/Assistant Professor/Male/M. Pharm",
                    "Regular/Assistant Professor/Female/MSc (Agriculture)",
                    "Regular/Assistant Professor/Male/Master of Optometry",
                    "Regular/Assistant Professor/Male/Ph.D",
                    "Regular/Assistant Professor/Male/Ph.D",
                    "Regular/Assistant Professor/Female/Master of Optometry",
                    "Regular/Assistant Professor/Male/M.Sc(Agriculture)",
                    "Regular/Assistant Professor/Male/MSc (Agriculture)",
                    "Regular/Assistant Professor/Male/M.E.",
                    "Regular/Assistant Professor/Male/Ph.D",
                    "Regular/Assistant Professor/Female/M.Tech",
                    "Regular/Assistant Professor/Male/MSc (Agriculture)",
                    "Regular/Assistant Professor/Male/Master of Optometry",
                    "Regular/Assistant Professor/Female/Ph.D",
                    "Regular/Assistant Professor/Female/M.Tech",
                    "Regular/Assistant Professor/Male/MSc (Agriculture)",
                    "Regular/Assistant Professor/Male/M.Tech",
                    "Regular/Professor/Male/Ph.D",
                    "Regular/Assistant Professor/Female/Ph.D",
                    "Regular/Assistant Professor/Male/M.Tech",
                    "Regular/Assistant Professor/Male/M.Sc.",
                    "Regular/Professor/Male/M.E.",
                    "Regular/Assistant Professor/Female/M.Tech",
                    "Regular/Assistant Professor/Male/M. Phil",
                    "Regular/Assistant Professor/Male/M.Sc.",
                    "Regular/Assistant Professor/Female/Ph.D",
                    "Regular/Assistant Professor/Male/MBA",
                    "Regular/Assistant Professor/Male/M. Phil",
                    "Regular/Professor/Male/Ph.D",
                    "Regular/Assistant Professor/Male/M.Sc.",
                    "Regular/Professor/Male/Ph.D",
                    "Regular/Associate Professor/Male/Ph.D",
                    "Regular/Assistant Professor/Male/Ph.D",
                    "Regular/Assistant Professor/Female/M.Tech",
                    "Regular/Assistant Professor/Male/Ph.D",
                    "Regular/Assistant Professor/Male/M.Tech",
                    "Regular/Assistant Professor/Male/Ph.D",
                    "Regular/Associate Professor/Male/Ph.D",
                    "Regular/Assistant Professor/Female/M.Tech",
                    "Regular/Assistant Professor/Male/Ph.D",
                    "Regular/Assistant Professor/Male/NET",
                    "Regular/Assistant Professor/Female/MSc (Agriculture)",
                    "Regular/Assistant Professor/Male/Ph.D",
                    "Regular/Assistant Professor/Male/Ph.D",
                    "Regular/Assistant Professor/Male/M.Sc(Agriculture)",
                    "Regular/Assistant Professor/Male/Ph.D",
                    "Regular/Assistant Professor/Male/Ph.D",
                    "Regular/Assistant Professor/Male/M. Pharm",
                    "Regular/Assistant Professor/Male/Ph.D",
                    "Regular/Assistant Professor/Male/M.Tech",
                    "Regular/Assistant Professor/Male/M.Tech",
                    "Regular/Professor/Male/Ph.D",
                    "Regular/Assistant Professor/Female/M.Tech",
                    "Regular/Assistant Professor/Male/M.Tech",
                    "Regular/Assistant Professor/Male/Ph.D",
                    "Regular/Assistant Professor/Male/M.Tech",
                    "Regular/Professor/Male/Ph.D",
                    "Regular/Associate Professor/Male/Ph.D",
                    "Regular/Professor/Male/Ph.D",
                    "Regular/Assistant Professor/Female/M.E.",
                    "Regular/Professor/Male/Ph.D",
                    "Regular/Assistant Professor/Female/Ph.D",
                    "Regular/Assistant Professor/Male/Ph.D",
                    "Regular/Professor/Male/Ph.D",
                    "Regular/Assistant Professor/Male/M.Tech",
                    "Regular/Assistant Professor/Male/M.Sc.",
                    "Regular/Assistant Professor/Male/Ph.D",
                    "Regular/Associate Professor/Male/Ph.D",
                    "Regular/Assistant Professor/Female/MSc (Agriculture)",
                    "Regular/Professor/Female/Ph.D",
                    "Regular/Assistant Professor/Male/M.Tech",
                    "Regular/Assistant Professor/Male/M.Sc.",
                    "Regular/Assistant Professor/Female/M.Tech",
                    "Regular/Assistant Professor/Male/MBA",
                    "Regular/Assistant Professor/Male/M.Tech",
                    "Regular/Assistant Professor/Female/M.Sc.",
                    "Regular/Professor/Male/Ph.D",
                    "Regular/Assistant Professor/Male/M.Tech",
                    "Regular/Assistant Professor/Female/Ph.D",
                    "Regular/Assistant Professor/Female/MSc (Agriculture)",
                    "Regular/Assistant Professor/Male/M.Tech",
                    "Regular/Assistant Professor/Female/MCA",
                    "Regular/Assistant Professor/Male/Ph.D",
                    "Regular/Assistant Professor/Female/M.Tech",
                    "Regular/Assistant Professor/Female/Ph.D",
                    "Regular/Assistant Professor/Male/Ph.D",
                    "Regular/Assistant Professor/Male/Ph.D",
                    "Regular/Assistant Professor/Male/Ph.D",
                    "Regular/Assistant Professor/Male/Ph.D",
                    "Regular/Assistant Professor/Male/M. Pharm",
                    "Regular/Professor/Female/Ph.D",
                    "Regular/Assistant Professor/Female/M. Pharm",
                    "Regular/Assistant Professor/Male/M.Tech",
                    "Regular/Assistant Professor/Male/Ph.D",
                    "Regular/Assistant Professor/Male/M.Tech",
                    "Regular/Professor/Female/Ph.D",
                    "Regular/Associate Professor/Male/M.Tech",
                    "Regular/Associate Professor/Male/Ph.D",
                    "Regular/Associate Professor/Male/Ph.D",
                    "Regular/Associate Professor/Male/Ph.D",
                    "Regular/Professor/Male/Ph.D",
                    "Regular/Assistant Professor/Male/M. Pharm",
                    "Regular/Assistant Professor/Male/M.Sc.",
                    "Regular/Assistant Professor/Male/M.Tech",
                    "Regular/Assistant Professor/Female/M.Tech",
                    "Regular/Assistant Professor/Male/M. Phil",
                    "Regular/Assistant Professor/Male/Ph.D",
                    "Regular/Assistant Professor/Male/Ph.D",
                    "Regular/Assistant Professor/Male/Ph.D",
                    "Regular/Assistant Professor/Female/Ph.D",
                    "Regular/Associate Professor/Female/Ph.D",
                    "Regular/Assistant Professor/Male/NET",
                    "Regular/Assistant Professor/Female/Ph.D",
                    "Regular/Assistant Professor/Male/NET",
                    "Regular/Assistant Professor/Female/Ph.D",
                    "Regular/Assistant Professor/Female/M.Tech",
                    "Regular/Assistant Professor/Male/Ph.D",
                    "Regular/Assistant Professor/Male/Ph.D",
                    "Regular/Assistant Professor/Male/Ph.D",
                    "Regular/Professor/Male/Ph.D",
                    "Regular/Assistant Professor/Female/NET",
                    "Regular/Associate Professor/Male/Ph.D",
                    "Regular/Associate Professor/Male/Ph.D",
                    "Regular/Assistant Professor/Male/M.Tech",
                    "Regular/Associate Professor/Female/Ph.D",
                    "Regular/Assistant Professor/Female/M.Sc.",
                    "Regular/Assistant Professor/Male/M.Tech",
                    "Regular/Associate Professor/Male/M.Tech",
                    "Regular/Professor/Male/Ph.D",
                    "Regular/Assistant Professor/Male/Ph.D",
                    "Regular/Assistant Professor/Male/M.Tech",
                    "Regular/Assistant Professor/Male/M.Tech",
                    "Regular/Assistant Professor/Male/Ph.D",
                    "Regular/Assistant Professor/Male/Ph.D",
                    "Regular/Lecturer/Female",
                    "Regular/Assistant Professor/Male",
                    "Regular/Assistant Professor/Female",
                    "Regular/Assistant Professor/Male",
                    "Regular/Associate Professor/Male",
                    "Regular/Assistant Professor/Female",
                    "Regular/Assistant Professor/Male",
                    "Regular/Assistant Professor/Female",
                    "Regular/Assistant Professor/Female",
                    "Regular/Assistant Professor/Male",
                    "Regular/Professor/Male",
                    "Regular/Assistant Professor/Female",
                    "Regular/Assistant Professor/Male",
                    "Regular/Assistant Professor/Female",
                    "Regular/Assistant Professor/Female",
                    "Regular/Assistant Professor/Male",
                    "Regular/Assistant Professor/Female",
                    "Regular/Assistant Professor/Female",
                    "Regular/Reader/Female",
                    "Regular/Assistant Professor/Male",
                    "Regular/Associate Professor/Male",
                    "Regular/Assistant Professor/Male",
                    "Regular/Professor/Male",
                    "Regular/Assistant Professor/Female",
                    "Regular/Assistant Professor/Male",
                    "Regular/Assistant Professor/Female",
                    "Regular/Assistant Professor/Male",
                    "Regular/Assistant Professor/Female",
                    "Regular/Assistant Professor/Male",
                    "Regular/Assistant Professor/Female",
                    "Regular/Assistant Professor/Male",
                    "Regular/Professor/Male",
                    "Regular/Assistant Professor/Female",
                    "Regular/Associate Professor/Female",
                    "Regular/Professor/Female",
                    "Regular/Assistant Professor/Male",
                    "Regular/Associate Professor/Male",
                    "Regular/Professor/Male",
                    "Regular/Assistant Professor",
                    "Regular/Associate Professor",
                    "Regular/Lecturer",
                    "Regular/Professor",
                    "Regular/Reader",
                    "Regular/Assistant Professor",
                    "Regular/Associate Professor",
                    "Regular/Professor",
                    "Regular",
                    "Regular",
                    "Regular",
                    "Regular",
                    "Regular",
                    ""
                  ],
                  "type": "treemap",
                  "values": [
                    1,
                    1,
                    1,
                    1,
                    1,
                    1,
                    1,
                    1,
                    1,
                    1,
                    1,
                    1,
                    1,
                    1,
                    1,
                    1,
                    1,
                    1,
                    1,
                    1,
                    1,
                    1,
                    1,
                    1,
                    1,
                    1,
                    1,
                    1,
                    1,
                    1,
                    1,
                    1,
                    1,
                    1,
                    1,
                    1,
                    1,
                    1,
                    1,
                    1,
                    1,
                    1,
                    1,
                    1,
                    1,
                    1,
                    1,
                    1,
                    1,
                    1,
                    1,
                    1,
                    1,
                    1,
                    1,
                    1,
                    1,
                    1,
                    1,
                    1,
                    1,
                    1,
                    1,
                    1,
                    1,
                    1,
                    1,
                    1,
                    1,
                    1,
                    1,
                    1,
                    1,
                    1,
                    1,
                    1,
                    1,
                    1,
                    1,
                    1,
                    1,
                    1,
                    1,
                    1,
                    1,
                    1,
                    1,
                    1,
                    1,
                    1,
                    1,
                    1,
                    1,
                    1,
                    1,
                    1,
                    1,
                    1,
                    1,
                    1,
                    1,
                    1,
                    1,
                    1,
                    1,
                    1,
                    1,
                    1,
                    1,
                    1,
                    1,
                    1,
                    1,
                    1,
                    1,
                    1,
                    1,
                    1,
                    1,
                    1,
                    1,
                    1,
                    1,
                    1,
                    1,
                    1,
                    1,
                    1,
                    1,
                    1,
                    1,
                    1,
                    1,
                    1,
                    1,
                    1,
                    1,
                    1,
                    1,
                    1,
                    1,
                    1,
                    1,
                    1,
                    1,
                    1,
                    1,
                    1,
                    1,
                    1,
                    1,
                    1,
                    1,
                    1,
                    1,
                    1,
                    1,
                    1,
                    1,
                    1,
                    1,
                    1,
                    1,
                    1,
                    1,
                    1,
                    1,
                    1,
                    1,
                    1,
                    1,
                    1,
                    1,
                    1,
                    1,
                    1,
                    1,
                    1,
                    1,
                    1,
                    1,
                    1,
                    1,
                    1,
                    1,
                    1,
                    1,
                    1,
                    1,
                    1,
                    1,
                    1,
                    1,
                    1,
                    1,
                    1,
                    1,
                    1,
                    1,
                    1,
                    1,
                    1,
                    1,
                    1,
                    1,
                    1,
                    1,
                    1,
                    1,
                    1,
                    1,
                    1,
                    1,
                    1,
                    1,
                    1,
                    1,
                    1,
                    1,
                    1,
                    1,
                    1,
                    1,
                    1,
                    1,
                    1,
                    1,
                    1,
                    1,
                    1,
                    1,
                    1,
                    1,
                    1,
                    1,
                    1,
                    1,
                    1,
                    1,
                    1,
                    1,
                    1,
                    1,
                    1,
                    1,
                    1,
                    1,
                    1,
                    1,
                    1,
                    1,
                    1,
                    1,
                    1,
                    1,
                    1,
                    1,
                    1,
                    1,
                    1,
                    1,
                    1,
                    1,
                    1,
                    1,
                    1,
                    1,
                    1,
                    1,
                    1,
                    1,
                    1,
                    1,
                    1,
                    1,
                    1,
                    1,
                    1,
                    1,
                    1,
                    1,
                    1,
                    1,
                    1,
                    1,
                    1,
                    1,
                    1,
                    1,
                    4,
                    8,
                    1,
                    2,
                    7,
                    1,
                    1,
                    2,
                    2,
                    1,
                    2,
                    1,
                    5,
                    9,
                    1,
                    19,
                    1,
                    41,
                    3,
                    2,
                    1,
                    1,
                    1,
                    10,
                    10,
                    1,
                    2,
                    2,
                    3,
                    1,
                    22,
                    5,
                    4,
                    66,
                    20,
                    23,
                    71,
                    5,
                    1,
                    4,
                    1,
                    154,
                    24,
                    27,
                    225,
                    29,
                    1,
                    31,
                    1,
                    287
                  ]
                }
              ],
              "layout": {
                "height": 800,
                "legend": {
                  "tracegroupgap": 0
                },
                "template": {
                  "data": {
                    "bar": [
                      {
                        "error_x": {
                          "color": "#f2f5fa"
                        },
                        "error_y": {
                          "color": "#f2f5fa"
                        },
                        "marker": {
                          "line": {
                            "color": "rgb(17,17,17)",
                            "width": 0.5
                          }
                        },
                        "type": "bar"
                      }
                    ],
                    "barpolar": [
                      {
                        "marker": {
                          "line": {
                            "color": "rgb(17,17,17)",
                            "width": 0.5
                          }
                        },
                        "type": "barpolar"
                      }
                    ],
                    "carpet": [
                      {
                        "aaxis": {
                          "endlinecolor": "#A2B1C6",
                          "gridcolor": "#506784",
                          "linecolor": "#506784",
                          "minorgridcolor": "#506784",
                          "startlinecolor": "#A2B1C6"
                        },
                        "baxis": {
                          "endlinecolor": "#A2B1C6",
                          "gridcolor": "#506784",
                          "linecolor": "#506784",
                          "minorgridcolor": "#506784",
                          "startlinecolor": "#A2B1C6"
                        },
                        "type": "carpet"
                      }
                    ],
                    "choropleth": [
                      {
                        "colorbar": {
                          "outlinewidth": 0,
                          "ticks": ""
                        },
                        "type": "choropleth"
                      }
                    ],
                    "contour": [
                      {
                        "colorbar": {
                          "outlinewidth": 0,
                          "ticks": ""
                        },
                        "colorscale": [
                          [
                            0,
                            "#0d0887"
                          ],
                          [
                            0.1111111111111111,
                            "#46039f"
                          ],
                          [
                            0.2222222222222222,
                            "#7201a8"
                          ],
                          [
                            0.3333333333333333,
                            "#9c179e"
                          ],
                          [
                            0.4444444444444444,
                            "#bd3786"
                          ],
                          [
                            0.5555555555555556,
                            "#d8576b"
                          ],
                          [
                            0.6666666666666666,
                            "#ed7953"
                          ],
                          [
                            0.7777777777777778,
                            "#fb9f3a"
                          ],
                          [
                            0.8888888888888888,
                            "#fdca26"
                          ],
                          [
                            1,
                            "#f0f921"
                          ]
                        ],
                        "type": "contour"
                      }
                    ],
                    "contourcarpet": [
                      {
                        "colorbar": {
                          "outlinewidth": 0,
                          "ticks": ""
                        },
                        "type": "contourcarpet"
                      }
                    ],
                    "heatmap": [
                      {
                        "colorbar": {
                          "outlinewidth": 0,
                          "ticks": ""
                        },
                        "colorscale": [
                          [
                            0,
                            "#0d0887"
                          ],
                          [
                            0.1111111111111111,
                            "#46039f"
                          ],
                          [
                            0.2222222222222222,
                            "#7201a8"
                          ],
                          [
                            0.3333333333333333,
                            "#9c179e"
                          ],
                          [
                            0.4444444444444444,
                            "#bd3786"
                          ],
                          [
                            0.5555555555555556,
                            "#d8576b"
                          ],
                          [
                            0.6666666666666666,
                            "#ed7953"
                          ],
                          [
                            0.7777777777777778,
                            "#fb9f3a"
                          ],
                          [
                            0.8888888888888888,
                            "#fdca26"
                          ],
                          [
                            1,
                            "#f0f921"
                          ]
                        ],
                        "type": "heatmap"
                      }
                    ],
                    "heatmapgl": [
                      {
                        "colorbar": {
                          "outlinewidth": 0,
                          "ticks": ""
                        },
                        "colorscale": [
                          [
                            0,
                            "#0d0887"
                          ],
                          [
                            0.1111111111111111,
                            "#46039f"
                          ],
                          [
                            0.2222222222222222,
                            "#7201a8"
                          ],
                          [
                            0.3333333333333333,
                            "#9c179e"
                          ],
                          [
                            0.4444444444444444,
                            "#bd3786"
                          ],
                          [
                            0.5555555555555556,
                            "#d8576b"
                          ],
                          [
                            0.6666666666666666,
                            "#ed7953"
                          ],
                          [
                            0.7777777777777778,
                            "#fb9f3a"
                          ],
                          [
                            0.8888888888888888,
                            "#fdca26"
                          ],
                          [
                            1,
                            "#f0f921"
                          ]
                        ],
                        "type": "heatmapgl"
                      }
                    ],
                    "histogram": [
                      {
                        "marker": {
                          "colorbar": {
                            "outlinewidth": 0,
                            "ticks": ""
                          }
                        },
                        "type": "histogram"
                      }
                    ],
                    "histogram2d": [
                      {
                        "colorbar": {
                          "outlinewidth": 0,
                          "ticks": ""
                        },
                        "colorscale": [
                          [
                            0,
                            "#0d0887"
                          ],
                          [
                            0.1111111111111111,
                            "#46039f"
                          ],
                          [
                            0.2222222222222222,
                            "#7201a8"
                          ],
                          [
                            0.3333333333333333,
                            "#9c179e"
                          ],
                          [
                            0.4444444444444444,
                            "#bd3786"
                          ],
                          [
                            0.5555555555555556,
                            "#d8576b"
                          ],
                          [
                            0.6666666666666666,
                            "#ed7953"
                          ],
                          [
                            0.7777777777777778,
                            "#fb9f3a"
                          ],
                          [
                            0.8888888888888888,
                            "#fdca26"
                          ],
                          [
                            1,
                            "#f0f921"
                          ]
                        ],
                        "type": "histogram2d"
                      }
                    ],
                    "histogram2dcontour": [
                      {
                        "colorbar": {
                          "outlinewidth": 0,
                          "ticks": ""
                        },
                        "colorscale": [
                          [
                            0,
                            "#0d0887"
                          ],
                          [
                            0.1111111111111111,
                            "#46039f"
                          ],
                          [
                            0.2222222222222222,
                            "#7201a8"
                          ],
                          [
                            0.3333333333333333,
                            "#9c179e"
                          ],
                          [
                            0.4444444444444444,
                            "#bd3786"
                          ],
                          [
                            0.5555555555555556,
                            "#d8576b"
                          ],
                          [
                            0.6666666666666666,
                            "#ed7953"
                          ],
                          [
                            0.7777777777777778,
                            "#fb9f3a"
                          ],
                          [
                            0.8888888888888888,
                            "#fdca26"
                          ],
                          [
                            1,
                            "#f0f921"
                          ]
                        ],
                        "type": "histogram2dcontour"
                      }
                    ],
                    "mesh3d": [
                      {
                        "colorbar": {
                          "outlinewidth": 0,
                          "ticks": ""
                        },
                        "type": "mesh3d"
                      }
                    ],
                    "parcoords": [
                      {
                        "line": {
                          "colorbar": {
                            "outlinewidth": 0,
                            "ticks": ""
                          }
                        },
                        "type": "parcoords"
                      }
                    ],
                    "pie": [
                      {
                        "automargin": true,
                        "type": "pie"
                      }
                    ],
                    "scatter": [
                      {
                        "marker": {
                          "line": {
                            "color": "#283442"
                          }
                        },
                        "type": "scatter"
                      }
                    ],
                    "scatter3d": [
                      {
                        "line": {
                          "colorbar": {
                            "outlinewidth": 0,
                            "ticks": ""
                          }
                        },
                        "marker": {
                          "colorbar": {
                            "outlinewidth": 0,
                            "ticks": ""
                          }
                        },
                        "type": "scatter3d"
                      }
                    ],
                    "scattercarpet": [
                      {
                        "marker": {
                          "colorbar": {
                            "outlinewidth": 0,
                            "ticks": ""
                          }
                        },
                        "type": "scattercarpet"
                      }
                    ],
                    "scattergeo": [
                      {
                        "marker": {
                          "colorbar": {
                            "outlinewidth": 0,
                            "ticks": ""
                          }
                        },
                        "type": "scattergeo"
                      }
                    ],
                    "scattergl": [
                      {
                        "marker": {
                          "line": {
                            "color": "#283442"
                          }
                        },
                        "type": "scattergl"
                      }
                    ],
                    "scattermapbox": [
                      {
                        "marker": {
                          "colorbar": {
                            "outlinewidth": 0,
                            "ticks": ""
                          }
                        },
                        "type": "scattermapbox"
                      }
                    ],
                    "scatterpolar": [
                      {
                        "marker": {
                          "colorbar": {
                            "outlinewidth": 0,
                            "ticks": ""
                          }
                        },
                        "type": "scatterpolar"
                      }
                    ],
                    "scatterpolargl": [
                      {
                        "marker": {
                          "colorbar": {
                            "outlinewidth": 0,
                            "ticks": ""
                          }
                        },
                        "type": "scatterpolargl"
                      }
                    ],
                    "scatterternary": [
                      {
                        "marker": {
                          "colorbar": {
                            "outlinewidth": 0,
                            "ticks": ""
                          }
                        },
                        "type": "scatterternary"
                      }
                    ],
                    "surface": [
                      {
                        "colorbar": {
                          "outlinewidth": 0,
                          "ticks": ""
                        },
                        "colorscale": [
                          [
                            0,
                            "#0d0887"
                          ],
                          [
                            0.1111111111111111,
                            "#46039f"
                          ],
                          [
                            0.2222222222222222,
                            "#7201a8"
                          ],
                          [
                            0.3333333333333333,
                            "#9c179e"
                          ],
                          [
                            0.4444444444444444,
                            "#bd3786"
                          ],
                          [
                            0.5555555555555556,
                            "#d8576b"
                          ],
                          [
                            0.6666666666666666,
                            "#ed7953"
                          ],
                          [
                            0.7777777777777778,
                            "#fb9f3a"
                          ],
                          [
                            0.8888888888888888,
                            "#fdca26"
                          ],
                          [
                            1,
                            "#f0f921"
                          ]
                        ],
                        "type": "surface"
                      }
                    ],
                    "table": [
                      {
                        "cells": {
                          "fill": {
                            "color": "#506784"
                          },
                          "line": {
                            "color": "rgb(17,17,17)"
                          }
                        },
                        "header": {
                          "fill": {
                            "color": "#2a3f5f"
                          },
                          "line": {
                            "color": "rgb(17,17,17)"
                          }
                        },
                        "type": "table"
                      }
                    ]
                  },
                  "layout": {
                    "annotationdefaults": {
                      "arrowcolor": "#f2f5fa",
                      "arrowhead": 0,
                      "arrowwidth": 1
                    },
                    "autotypenumbers": "strict",
                    "coloraxis": {
                      "colorbar": {
                        "outlinewidth": 0,
                        "ticks": ""
                      }
                    },
                    "colorscale": {
                      "diverging": [
                        [
                          0,
                          "#8e0152"
                        ],
                        [
                          0.1,
                          "#c51b7d"
                        ],
                        [
                          0.2,
                          "#de77ae"
                        ],
                        [
                          0.3,
                          "#f1b6da"
                        ],
                        [
                          0.4,
                          "#fde0ef"
                        ],
                        [
                          0.5,
                          "#f7f7f7"
                        ],
                        [
                          0.6,
                          "#e6f5d0"
                        ],
                        [
                          0.7,
                          "#b8e186"
                        ],
                        [
                          0.8,
                          "#7fbc41"
                        ],
                        [
                          0.9,
                          "#4d9221"
                        ],
                        [
                          1,
                          "#276419"
                        ]
                      ],
                      "sequential": [
                        [
                          0,
                          "#0d0887"
                        ],
                        [
                          0.1111111111111111,
                          "#46039f"
                        ],
                        [
                          0.2222222222222222,
                          "#7201a8"
                        ],
                        [
                          0.3333333333333333,
                          "#9c179e"
                        ],
                        [
                          0.4444444444444444,
                          "#bd3786"
                        ],
                        [
                          0.5555555555555556,
                          "#d8576b"
                        ],
                        [
                          0.6666666666666666,
                          "#ed7953"
                        ],
                        [
                          0.7777777777777778,
                          "#fb9f3a"
                        ],
                        [
                          0.8888888888888888,
                          "#fdca26"
                        ],
                        [
                          1,
                          "#f0f921"
                        ]
                      ],
                      "sequentialminus": [
                        [
                          0,
                          "#0d0887"
                        ],
                        [
                          0.1111111111111111,
                          "#46039f"
                        ],
                        [
                          0.2222222222222222,
                          "#7201a8"
                        ],
                        [
                          0.3333333333333333,
                          "#9c179e"
                        ],
                        [
                          0.4444444444444444,
                          "#bd3786"
                        ],
                        [
                          0.5555555555555556,
                          "#d8576b"
                        ],
                        [
                          0.6666666666666666,
                          "#ed7953"
                        ],
                        [
                          0.7777777777777778,
                          "#fb9f3a"
                        ],
                        [
                          0.8888888888888888,
                          "#fdca26"
                        ],
                        [
                          1,
                          "#f0f921"
                        ]
                      ]
                    },
                    "colorway": [
                      "#636efa",
                      "#EF553B",
                      "#00cc96",
                      "#ab63fa",
                      "#FFA15A",
                      "#19d3f3",
                      "#FF6692",
                      "#B6E880",
                      "#FF97FF",
                      "#FECB52"
                    ],
                    "font": {
                      "color": "#f2f5fa"
                    },
                    "geo": {
                      "bgcolor": "rgb(17,17,17)",
                      "lakecolor": "rgb(17,17,17)",
                      "landcolor": "rgb(17,17,17)",
                      "showlakes": true,
                      "showland": true,
                      "subunitcolor": "#506784"
                    },
                    "hoverlabel": {
                      "align": "left"
                    },
                    "hovermode": "closest",
                    "mapbox": {
                      "style": "dark"
                    },
                    "paper_bgcolor": "rgb(17,17,17)",
                    "plot_bgcolor": "rgb(17,17,17)",
                    "polar": {
                      "angularaxis": {
                        "gridcolor": "#506784",
                        "linecolor": "#506784",
                        "ticks": ""
                      },
                      "bgcolor": "rgb(17,17,17)",
                      "radialaxis": {
                        "gridcolor": "#506784",
                        "linecolor": "#506784",
                        "ticks": ""
                      }
                    },
                    "scene": {
                      "xaxis": {
                        "backgroundcolor": "rgb(17,17,17)",
                        "gridcolor": "#506784",
                        "gridwidth": 2,
                        "linecolor": "#506784",
                        "showbackground": true,
                        "ticks": "",
                        "zerolinecolor": "#C8D4E3"
                      },
                      "yaxis": {
                        "backgroundcolor": "rgb(17,17,17)",
                        "gridcolor": "#506784",
                        "gridwidth": 2,
                        "linecolor": "#506784",
                        "showbackground": true,
                        "ticks": "",
                        "zerolinecolor": "#C8D4E3"
                      },
                      "zaxis": {
                        "backgroundcolor": "rgb(17,17,17)",
                        "gridcolor": "#506784",
                        "gridwidth": 2,
                        "linecolor": "#506784",
                        "showbackground": true,
                        "ticks": "",
                        "zerolinecolor": "#C8D4E3"
                      }
                    },
                    "shapedefaults": {
                      "line": {
                        "color": "#f2f5fa"
                      }
                    },
                    "sliderdefaults": {
                      "bgcolor": "#C8D4E3",
                      "bordercolor": "rgb(17,17,17)",
                      "borderwidth": 1,
                      "tickwidth": 0
                    },
                    "ternary": {
                      "aaxis": {
                        "gridcolor": "#506784",
                        "linecolor": "#506784",
                        "ticks": ""
                      },
                      "baxis": {
                        "gridcolor": "#506784",
                        "linecolor": "#506784",
                        "ticks": ""
                      },
                      "bgcolor": "rgb(17,17,17)",
                      "caxis": {
                        "gridcolor": "#506784",
                        "linecolor": "#506784",
                        "ticks": ""
                      }
                    },
                    "title": {
                      "x": 0.05
                    },
                    "updatemenudefaults": {
                      "bgcolor": "#506784",
                      "borderwidth": 0
                    },
                    "xaxis": {
                      "automargin": true,
                      "gridcolor": "#283442",
                      "linecolor": "#506784",
                      "ticks": "",
                      "title": {
                        "standoff": 15
                      },
                      "zerolinecolor": "#283442",
                      "zerolinewidth": 2
                    },
                    "yaxis": {
                      "automargin": true,
                      "gridcolor": "#283442",
                      "linecolor": "#506784",
                      "ticks": "",
                      "title": {
                        "standoff": 15
                      },
                      "zerolinecolor": "#283442",
                      "zerolinewidth": 2
                    }
                  }
                },
                "title": {
                  "text": "NIRF - 2021 - OVERALL - Centurion University Faculty analysis"
                },
                "width": 1200
              }
            },
            "text/html": [
              "<div>                            <div id=\"26b9f1e7-9483-4f1d-8fdb-848cab3f3802\" class=\"plotly-graph-div\" style=\"height:800px; width:1200px;\"></div>            <script type=\"text/javascript\">                require([\"plotly\"], function(Plotly) {                    window.PLOTLYENV=window.PLOTLYENV || {};                                    if (document.getElementById(\"26b9f1e7-9483-4f1d-8fdb-848cab3f3802\")) {                    Plotly.newPlot(                        \"26b9f1e7-9483-4f1d-8fdb-848cab3f3802\",                        [{\"branchvalues\": \"total\", \"customdata\": [[\"192\"], [\"86\"], [\"8\"], [\"143\"], [\"87\"], [\"12\"], [\"60\"], [\"170\"], [\"59\"], [\"31\"], [\"25\"], [\"51\"], [\"146\"], [\"411\"], [\"97\"], [\"10\"], [\"100\"], [\"26\"], [\"68\"], [\"26\"], [\"450\"], [\"1\"], [\"60\"], [\"54\"], [\"31\"], [\"58\"], [\"100\"], [\"172\"], [\"13\"], [\"10\"], [\"17\"], [\"22\"], [\"151\"], [\"44\"], [\"40\"], [\"14\"], [\"185\"], [\"117\"], [\"65\"], [\"120\"], [\"23\"], [\"42\"], [\"282\"], [\"168\"], [\"17\"], [\"71\"], [\"132\"], [\"18\"], [\"96\"], [\"25\"], [\"39\"], [\"156\"], [\"242\"], [\"90\"], [\"27\"], [\"37\"], [\"25\"], [\"13\"], [\"122\"], [\"17\"], [\"136\"], [\"73\"], [\"252\"], [\"3\"], [\"253\"], [\"136\"], [\"132\"], [\"50\"], [\"109\"], [\"17\"], [\"36\"], [\"28\"], [\"37\"], [\"1\"], [\"161\"], [\"6\"], [\"60\"], [\"117\"], [\"233\"], [\"29\"], [\"16\"], [\"140\"], [\"11\"], [\"444\"], [\"89\"], [\"74\"], [\"96\"], [\"36\"], [\"114\"], [\"72\"], [\"168\"], [\"72\"], [\"1\"], [\"31\"], [\"36\"], [\"146\"], [\"5\"], [\"35\"], [\"147\"], [\"16\"], [\"84\"], [\"120\"], [\"82\"], [\"276\"], [\"26\"], [\"7\"], [\"84\"], [\"19\"], [\"24\"], [\"48\"], [\"225\"], [\"42\"], [\"7\"], [\"93\"], [\"14\"], [\"46\"], [\"50\"], [\"324\"], [\"12\"], [\"24\"], [\"312\"], [\"*\"], [\"271\"], [\"7\"], [\"23\"], [\"81\"], [\"11\"], [\"144\"], [\"142\"], [\"68\"], [\"39\"], [\"1\"], [\"14\"], [\"276\"], [\"28\"], [\"36\"], [\"252\"], [\"98\"], [\"1\"], [\"41\"], [\"413\"], [\"191\"], [\"177\"], [\"64\"], [\"36\"], [\"413\"], [\"89\"], [\"189\"], [\"64\"], [\"50\"], [\"151\"], [\"78\"], [\"8\"], [\"24\"], [\"55\"], [\"75\"], [\"24\"], [\"15\"], [\"1\"], [\"12\"], [\"29\"], [\"72\"], [\"21\"], [\"109\"], [\"35\"], [\"1\"], [\"10\"], [\"93\"], [\"78\"], [\"159\"], [\"192\"], [\"168\"], [\"120\"], [\"81\"], [\"541\"], [\"84\"], [\"69\"], [\"29\"], [\"12\"], [\"122\"], [\"18\"], [\"524\"], [\"200\"], [\"387\"], [\"101\"], [\"84\"], [\"30\"], [\"28\"], [\"113\"], [\"1\"], [\"96\"], [\"28\"], [\"24\"], [\"13\"], [\"23\"], [\"1\"], [\"143\"], [\"12\"], [\"37\"], [\"93\"], [\"24\"], [\"46\"], [\"134\"], [\"109\"], [\"214\"], [\"156\"], [\"125\"], [\"2\"], [\"150\"], [\"96\"], [\"261\"], [\"276\"], [\"155\"], [\"213\"], [\"203\"], [\"72\"], [\"10\"], [\"168\"], [\"110\"], [\"60\"], [\"178\"], [\"36\"], [\"263\"], [\"134\"], [\"39\"], [\"168\"], [\"74\"], [\"145\"], [\"91\"], [\"253\"], [\"167\"], [\"1\"], [\"32\"], [\"253\"], [\"28\"], [\"192\"], [\"28\"], [\"1\"], [\"17\"], [\"181\"], [\"7\"], [\"32\"], [\"15\"], [\"44\"], [\"24\"], [\"169\"], [\"12\"], [\"146\"], [\"403\"], [\"179\"], [\"144\"], [\"84\"], [\"76\"], [\"109\"], [\"60\"], [\"84\"], [\"108\"], [\"159\"], [\"40\"], [\"17\"], [\"6\"], [\"230\"], [\"6\"], [\"213\"], [\"11\"], [\"99\"], [\"60\"], [\"26\"], [\"175\"], [\"26\"], [\"23\"], [\"7\"], [\"1\"], [\"11\"], [\"162\"], [\"112\"], [\"111\"], [\"24\"], [\"28\"], [\"145\"], [\"275\"], [\"36\"], [\"25\"], [\"121\"], [\"108\"], [\"5\"], [\"305\"], [\"71\"], [\"*\"], [\"(?)\"], [\"(?)\"], [\"10\"], [\"(?)\"], [\"(?)\"], [\"73\"], [\"155\"], [\"(?)\"], [\"(?)\"], [\"1\"], [\"12\"], [\"72\"], [\"(?)\"], [\"(?)\"], [\"3\"], [\"(?)\"], [\"82\"], [\"(?)\"], [\"(?)\"], [\"(?)\"], [\"282\"], [\"28\"], [\"24\"], [\"(?)\"], [\"(?)\"], [\"1\"], [\"(?)\"], [\"(?)\"], [\"(?)\"], [\"50\"], [\"(?)\"], [\"(?)\"], [\"(?)\"], [\"(?)\"], [\"(?)\"], [\"(?)\"], [\"(?)\"], [\"(?)\"], [\"71\"], [\"(?)\"], [\"82\"], [\"(?)\"], [\"(?)\"], [\"(?)\"], [\"(?)\"], [\"(?)\"], [\"71\"], [\"(?)\"], [\"82\"], [\"(?)\"]], \"domain\": {\"x\": [0.0, 1.0], \"y\": [0.0, 1.0]}, \"hovertemplate\": \"labels=%{label}<br>count=%{value}<br>parent=%{parent}<br>id=%{id}<br>Experience (In Months)=%{customdata[0]}<extra></extra>\", \"ids\": [\"Regular/Assistant Professor/Female/Ph.D/Yashaswi Nayak\", \"Regular/Assistant Professor/Female/M. Phil/Sunita Satapathy\", \"Regular/Assistant Professor/Male/Ph.D/Devanand T N\", \"Regular/Assistant Professor/Male/M.Tech/Swakantik Mishra\", \"Regular/Assistant Professor/Female/M.Tech/Sweeta Das\", \"Regular/Assistant Professor/Male/M. Pharm/Sukanta Satapathy\", \"Regular/Assistant Professor/Male/Ph.D/Tapan Kumar Dash\", \"Regular/Assistant Professor/Male/Ph.D/Umakanta Nayak\", \"Regular/Assistant Professor/Male/Ph.D/Tanmoy Shankar\", \"Regular/Assistant Professor/Female/Ph.D/Nilanjana Datta\", \"Regular/Assistant Professor/Male/M. Pharm/Vijay Kumar Meher\", \"Regular/Assistant Professor/Male/M.Tech/Kovelakonda Dinesh Tej\", \"Regular/Assistant Professor/Male/M.Tech/Manoj Kumar Behera\", \"Regular/Professor/Male/Ph.D/V Narsimha Reddy\", \"Regular/Assistant Professor/Male/M.Tech/Sudeep Kumar Singh\", \"Regular/Assistant Professor/Male/Ph.D/Vivek Kumar\", \"Regular/Professor/Male/M.E./Prasanta Kumar Panigrahi\", \"Regular/Assistant Professor/Male/Ph.D/S  K Najmul Islam\", \"Regular/Assistant Professor/Female/M.Tech/Ipsita Mishra\", \"Regular/Assistant Professor/Female/Ph.D/Rajashree Jena\", \"Regular/Professor/Male/Ph.D/Gouranga Ch Mishra\", \"Regular/Assistant Professor/Female/M.Sc(Agriculture)/Kajal Samantara\", \"Regular/Professor/Male/Ph.D/Amulya Ratna Behera\", \"Regular/Assistant Professor/Female/Ph.D/Kalpita Bhatta\", \"Regular/Assistant Professor/Male/Ph.D/Girish Prasad Rath\", \"Regular/Assistant Professor/Male/MSc (Agriculture)/Gaikward D J\", \"Regular/Assistant Professor/Male/M.Sc./Tikina Mishra\", \"Regular/Assistant Professor/Female/M.Sc./Nibedita Nayak\", \"Regular/Assistant Professor/Male/Ph.D/Venkata Satish Kuchi\", \"Regular/Associate Professor/Male/M. Pharm/Tapan Kumar Sahu\", \"Regular/Assistant Professor/Female/MSc (Agriculture)/Barsha Tripathy\", \"Regular/Assistant Professor/Male/M. Pharm/Haragouri Mishra\", \"Regular/Assistant Professor/Male/M.Tech/Satyanarayan Padhy\", \"Regular/Assistant Professor/Male/M.Sc./Pankaj Meher\", \"Regular/Assistant Professor/Female/M. Phil/Bhagyaswari Behera\", \"Regular/Assistant Professor/Male/Ph.D/Pradipta Banerjee\", \"Regular/Assistant Professor/Male/M.Tech/Mohammed Siddique\", \"Regular/Assistant Professor/Female/M.Tech/Swarna Prabha Jena\", \"Regular/Assistant Professor/Male/M.E./Vignesh M\", \"Regular/Assistant Professor/Male/M.Tech/Surya Narayan Sahu\", \"Regular/Assistant Professor/Female/Ph.D/Atia Arzoo\", \"Regular/Assistant Professor/Male/Ph.D/Susanta Kumar Patnaik\", \"Regular/Professor/Male/MBA (Hons.)/Sunil Kumar Jha\", \"Regular/Assistant Professor/Female/M.Tech/N Jeevaratnam\", \"Regular/Assistant Professor/Male/MSc (Agriculture)/K Mallikarjunarao\", \"Regular/Lecturer/Female/B.Sc(Agriculture)/Pilli Manasa\", \"Regular/Assistant Professor/Male/M.Tech/Babuli Kumar Jena\", \"Regular/Assistant Professor/Female/NET/Pratibha Satapathy\", \"Regular/Assistant Professor/Male/M.Tech/Rama Prasanna Dalai\", \"Regular/Assistant Professor/Female/MSc (Agriculture)/Basubadatta Sahu\", \"Regular/Assistant Professor/Male/M.Tech/Santosh Kumar Paramanik\", \"Regular/Assistant Professor/Male/M.Tech/Manas Ranjan Padhi\", \"Regular/Professor/Male/Ph.D/Subrata Sarangi\", \"Regular/Assistant Professor/Male/M.Tech/Ashish Ranjan Dash\", \"Regular/Assistant Professor/Male/MSc (Agriculture)/Anant Tamang\", \"Regular/Assistant Professor/Male/M.Tech/Bhairab Kumar Majhi\", \"Regular/Assistant Professor/Female/Ph.D/Jhum Swain\", \"Regular/Assistant Professor/Male/Ph.D/Sayed Muktar Hossain\", \"Regular/Assistant Professor/Male/Ph.D/Debi Prasad Satapathy\", \"Regular/Assistant Professor/Male/MSc (Agriculture)/Santosh Kumar Lenka\", \"Regular/Assistant Professor/Male/M.Tech/Karanam Santoshchandra Rao\", \"Regular/Assistant Professor/Female/M.Arch./Snigdha A Sanyal\", \"Regular/Associate Professor/Female/Ph.D/Pratibha Tripathy\", \"Regular/Assistant Professor/Female/M.Sc.(Biochemistr y)/Preetha Bhadra\", \"Regular/Assistant Professor/Male/M. Phil/Pradeep Kumar Sahoo\", \"Regular/Assistant Professor/Male/MSc (Agriculture)/Chitrasena Padhy\", \"Regular/Assistant Professor/Male/Ph.D/Amiya Singh\", \"Regular/Assistant Professor/Female/M.Sc./Suchismita Acharya\", \"Regular/Assistant Professor/Male/M.Tech/Nimay Chandra Giri\", \"Regular/Assistant Professor/Female/Ph.D/D Singu Devika Rani\", \"Regular/Assistant Professor/Female/M. Pharm/Prachirani Sahu\", \"Regular/Assistant Professor/Male/Ph.D/Nilaya Kumar Mohanty\", \"Regular/Assistant Professor/Male/MSc (Agriculture)/Durgadatta Meher\", \"Regular/Assistant Professor/Male/Ph.D/Merugu Chandra Surya Rao\", \"Regular/Associate Professor/Male/Ph.D/M Vamshi Krishna\", \"Regular/Assistant Professor/Male/M.Tech/Vishal Kumar Singh\", \"Regular/Professor/Male/Ph.D/Gurudutta Pattnaik\", \"Regular/Assistant Professor/Female/M.Tech/Sipalin Nayak\", \"Regular/Associate Professor/Male/Ph.D/Mahendra Kumar Rath\", \"Regular/Assistant Professor/Male/MSc (Agriculture)/Manisankar Bera\", \"Regular/Assistant Professor/Male/Ph.D/NILADRI SARKAR\", \"Regular/Associate Professor/Male/Ph.D/Durga Prasad Padhi\", \"Regular/Assistant Professor/Female/M. Pharm/Kamini Sethy\", \"Regular/Professor/Male/Ph.D/M Devender Reddy\", \"Regular/Assistant Professor/Male/Ph.D/Santosh Kumar Bhal\", \"Regular/Assistant Professor/Male/M.Tech/Girija Nandan Arka\", \"Regular/Assistant Professor/Male/M.Tech/Dilip Kumar Mohanta\", \"Regular/Assistant Professor/Male/Ph.D/Sitaram Swain\", \"Regular/Assistant Professor/Female/M.Tech/Debashree Debadatta Behera\", \"Regular/Assistant Professor/Male/M. Phil/Sarat Kumar Jena\", \"Regular/Assistant Professor/Female/Ph.D/Girija Nandini\", \"Regular/Assistant Professor/Female/M.Sc(Phy)/Meena Kumari Sahu\", \"Regular/Assistant Professor/Male/Ph.D/Gagan Kumar\", \"Regular/Assistant Professor/Female/MSc (Agriculture)/Kalyani Pradhan\", \"Regular/Associate Professor/Male/Ph.D/Ganala Santoshi\", \"Regular/Assistant Professor/Male/M. Phil/Subhraraj Panda\", \"Regular/Assistant Professor/Male/M.Tech/Subhankar Debnath\", \"Regular/Assistant Professor/Female/MSc (Agriculture)/Sonia Panigrahi\", \"Regular/Assistant Professor/Male/Ph.D/Siba Prasad Mishra\", \"Regular/Assistant Professor/Male/Ph.D/Shanatanu Bhattacharya\", \"Regular/Assistant Professor/Female/M.Sc./Saubhagyalaxmi Singh\", \"Regular/Assistant Professor/Male/M.Tech/Rajesh Kumar Mishra\", \"Regular/Reader/Female/M.Tech/Gedala Sridevi\", \"Regular/Professor/Male/Ph.D/Dipankar Bhattacharyay\", \"Regular/Assistant Professor/Male/Ph.D/Prasanta Kumar Choudhury\", \"Regular/Assistant Professor/Female/M.Tech/Soma Maji\", \"Regular/Assistant Professor/Male/Ph.D/Kamal Kumar Barik\", \"Regular/Assistant Professor/Female/MSc (Agriculture)/Ria Mukhopadhyay\", \"Regular/Assistant Professor/Male/MCA/Sanjib Kumar Naik\", \"Regular/Assistant Professor/Female/Ph.D/Priyanka Dash\", \"Regular/Assistant Professor/Male/M.Sc./G  K  Sahu\", \"Regular/Assistant Professor/Female/MSc (Agriculture)/Abhinandita Sahoo\", \"Regular/Assistant Professor/Female/Ph.D/Satarupa Modak\", \"Regular/Associate Professor/Male/Ph.D/Raghu Gogada\", \"Regular/Assistant Professor/Male/Ph.D/Pratibha Deep\", \"Regular/Associate Professor/Male/Ph.D/Prasanta Kumar Rath\", \"Regular/Professor/Male/PGDSMM/K V D Prakash\", \"Regular/Professor/Male/Ph.D/Susanta Kumar Biswal\", \"Regular/Assistant Professor/Female/M. Pharm/Lipsa Samal\", \"Regular/Assistant Professor/Male/M.Tech/Abinash Panda\", \"Regular/Associate Professor/Male/Ph.D/Ananta Charan Ojha\", \"Regular/Assistant Professor/Male/DAVP/A.Avinash\", \"Regular/Professor/Male/Ph.D/Ashok Mishra\", \"Regular/Assistant Professor/Male/Ph.D/Subhashisa Praharaj\", \"Regular/Assistant Professor/Female/M.Tech/Sunita Sahu\", \"Regular/Assistant Professor/Female/Ph.D/CHANDANA ADHIKARI\", \"Regular/Assistant Professor/Male/Ph.D/Srikanta Moharana\", \"Regular/Assistant Professor/Male/Ph.D/Ambika Sankar Mishra\", \"Regular/Assistant Professor/Male/Ph.D/Parle Kalyan Chakravarty\", \"Regular/Assistant Professor/Male/Ph.D/Ashish Kumar Sahoo\", \"Regular/Professor/Female/Ph.D/Prajna Pani\", \"Regular/Assistant Professor/Male/Ph.D/Santosh Kumar Nanda\", \"Regular/Associate Professor/Male/Ph.D/Sanjay Kumar\", \"Regular/Associate Professor/Female/Ph.D/Sujata Chakravarty\", \"Regular/Assistant Professor/Male/Ph.D/V Parvati Sai Arun\", \"Regular/Assistant Professor/Male/M. Pharm/Suman Kumar Mekap\", \"Regular/Associate Professor/Male/Ph.D/A Mohan Muralidhar\", \"Regular/Assistant Professor/Male/Ph.D/Narayan Gouda\", \"Regular/Assistant Professor/Male/Ph.D/Abhishek Hota\", \"Regular/Assistant Professor/Female/M.Tech/Akkala Abhilasha\", \"Regular/Professor/Male/Ph.D/Niranjan Barik\", \"Regular/Assistant Professor/Male/Ph.D/S Kameswar Rao\", \"Regular/Associate Professor/Male/M.Tech/Vijay Miditana\", \"Regular/Assistant Professor/Male/Ph.D/Saurav Barman\", \"Regular/Assistant Professor/Male/Ph.D/Santosh Kumar Satpathy\", \"Regular/Professor/Male/Ph.D/J Vaideeswaran\", \"Regular/Assistant Professor/Male/M.Tech/Santosh Patro\", \"Regular/Assistant Professor/Female/Ph.D/Padmaja Patnaik\", \"Regular/Associate Professor/Female/Ph.D/Pushpalatha G\", \"Regular/Assistant Professor/Male/M. Phil/Gyanaranjan Mahalik\", \"Regular/Associate Professor/Male/Ph.D/Kalidindi Krishnam Raju\", \"Regular/Associate Professor/Male/Ph.D/Kakani Grihalakshmi\", \"Regular/Assistant Professor/Female/Ph.D/Amrutha Gopan\", \"Regular/Assistant Professor/Male/M. Pharm/Himansu Bhusan Samal\", \"Regular/Assistant Professor/Female/MSc (Agriculture)/Jnana Bharati Palai\", \"Regular/Assistant Professor/Male/Master of Optometry/Sourav Karmakar\", \"Regular/Assistant Professor/Male/Ph.D/Pratap Kumar Chhotaray\", \"Regular/Assistant Professor/Male/Ph.D/Satyanarayan Dhal\", \"Regular/Assistant Professor/Female/Master of Optometry/Arup Saha\", \"Regular/Assistant Professor/Male/M.Sc(Agriculture)/Dwity Sundar Rout\", \"Regular/Assistant Professor/Male/MSc (Agriculture)/Ajit Kumar Sahu\", \"Regular/Assistant Professor/Male/M.E./N B Karthik Babu\", \"Regular/Assistant Professor/Male/Ph.D/ANUPAM SAHOO\", \"Regular/Assistant Professor/Female/M.Tech/Sagarika Panda\", \"Regular/Assistant Professor/Male/MSc (Agriculture)/Sambid Swain\", \"Regular/Assistant Professor/Male/Master of Optometry/Ranitava Banerjee\", \"Regular/Assistant Professor/Female/Ph.D/Chinu Bohidar\", \"Regular/Assistant Professor/Female/M.Tech/Prajna Paramita Debata\", \"Regular/Assistant Professor/Male/MSc (Agriculture)/Sandeep Rout\", \"Regular/Assistant Professor/Male/M.Tech/Sangram Keshari Swain\", \"Regular/Professor/Male/Ph.D/Ramesh Chandra Mohanty\", \"Regular/Assistant Professor/Female/Ph.D/Sagarika Parida\", \"Regular/Assistant Professor/Male/M.Tech/Smarajit Punaykanti\", \"Regular/Assistant Professor/Male/M.Sc./Satyabrata Sadangi\", \"Regular/Professor/Male/M.E./Jagannath Padhi\", \"Regular/Assistant Professor/Female/M.Tech/Mamata P Wagh\", \"Regular/Assistant Professor/Male/M. Phil/Balaji Padhy\", \"Regular/Assistant Professor/Male/M.Sc./Chinmayee Tripathy\", \"Regular/Assistant Professor/Female/Ph.D/Smaranika Mohanta\", \"Regular/Assistant Professor/Male/MBA/Sisir Ranjan Dash\", \"Regular/Assistant Professor/Male/M. Phil/ANISETTI SIVA SANKAR\", \"Regular/Professor/Male/Ph.D/Ardhendu Mouli Mohanty\", \"Regular/Assistant Professor/Male/M.Sc./Sasi Bhusan Padhi\", \"Regular/Professor/Male/Ph.D/Potnuru Srinivasa Rao\", \"Regular/Associate Professor/Male/Ph.D/Subhendu Kumar Mishra\", \"Regular/Assistant Professor/Male/Ph.D/Srikanta Sahu\", \"Regular/Assistant Professor/Female/M.Tech/Sharmistha Sahu\", \"Regular/Assistant Professor/Male/Ph.D/Sujit Kumar Mishra\", \"Regular/Assistant Professor/Male/M.Tech/Sujit Mishra\", \"Regular/Assistant Professor/Male/Ph.D/Laxman Kumar Malla\", \"Regular/Associate Professor/Male/Ph.D/Siba Prasad Parida\", \"Regular/Assistant Professor/Female/M.Tech/Monalisha Joshi\", \"Regular/Assistant Professor/Male/Ph.D/Chandra Sekhar Dash\", \"Regular/Assistant Professor/Male/NET/Shekhar Kumar Sahu\", \"Regular/Assistant Professor/Female/MSc (Agriculture)/Samapika Dalai\", \"Regular/Assistant Professor/Male/Ph.D/Shraban Kumar Sahoo\", \"Regular/Assistant Professor/Male/Ph.D/Goutam Kumar Mahato\", \"Regular/Assistant Professor/Male/M.Sc(Agriculture)/Lalichetti Sagar\", \"Regular/Assistant Professor/Male/Ph.D/Hari Ram Kumar Bandi\", \"Regular/Assistant Professor/Male/Ph.D/Sabyasachi Dey\", \"Regular/Assistant Professor/Male/M. Pharm/Nihar Ranjan Kar\", \"Regular/Assistant Professor/Male/Ph.D/Atanu Deb\", \"Regular/Assistant Professor/Male/M.Tech/Raj Kumar Mohanta\", \"Regular/Assistant Professor/Male/M.Tech/Amit Kumar Sahoo\", \"Regular/Professor/Male/Ph.D/Satya Prakash Nanda\", \"Regular/Assistant Professor/Female/M.Tech/Smita Jena\", \"Regular/Assistant Professor/Male/M.Tech/Debaraj Rana\", \"Regular/Assistant Professor/Male/Ph.D/Satyabrata Nanda\", \"Regular/Assistant Professor/Male/M.Tech/Prabhat Kumar Patnaik\", \"Regular/Professor/Male/Ph.D/Rajendra Kumar Khadanga\", \"Regular/Associate Professor/Male/Ph.D/Sagar Maitra\", \"Regular/Professor/Male/Ph.D/Sivala Kumar\", \"Regular/Assistant Professor/Female/M.E./Shivani Nanda\", \"Regular/Professor/Male/Ph.D/Abhinna Chandra Biswal\", \"Regular/Assistant Professor/Female/Ph.D/Saubhagyalaxmi Behera\", \"Regular/Assistant Professor/Male/Ph.D/Sudhansu Kumar Samal\", \"Regular/Professor/Male/Ph.D/Chandra Sekhar Patro\", \"Regular/Assistant Professor/Male/M.Tech/Nilamadhab Dash\", \"Regular/Assistant Professor/Male/M.Sc./Chittaranjan Routray\", \"Regular/Assistant Professor/Male/Ph.D/Nitesh Dhar Badgayan\", \"Regular/Associate Professor/Male/Ph.D/Praveen Boddna\", \"Regular/Assistant Professor/Female/MSc (Agriculture)/Deepthi Chandaka\", \"Regular/Professor/Female/Ph.D/Anita Patra\", \"Regular/Assistant Professor/Male/M.Tech/Debasis Sahu\", \"Regular/Assistant Professor/Male/M.Sc./Debashish Trpathy\", \"Regular/Assistant Professor/Female/M.Tech/Shreela Dash\", \"Regular/Assistant Professor/Male/MBA/Shiv Sankar Das\", \"Regular/Assistant Professor/Male/M.Tech/Subrat Kumar Pradhan\", \"Regular/Assistant Professor/Female/M.Sc./Swarnalata  Jena\", \"Regular/Professor/Male/Ph.D/Prasanta Kumar Mohanty\", \"Regular/Assistant Professor/Male/M.Tech/Kali Prasad Rath\", \"Regular/Assistant Professor/Female/Ph.D/Sudhanshu Bala Nayak\", \"Regular/Assistant Professor/Female/MSc (Agriculture)/Pragnya Paramita\", \"Regular/Assistant Professor/Male/M.Tech/Sudhansu Bhusan Mohapatra\", \"Regular/Assistant Professor/Female/MCA/Sujata Acharya\", \"Regular/Assistant Professor/Male/Ph.D/Bhavyadeep Bhatia\", \"Regular/Assistant Professor/Female/M.Tech/Gitanjali Behera\", \"Regular/Assistant Professor/Female/Ph.D/Subhasmita Mishra\", \"Regular/Assistant Professor/Male/Ph.D/Soumik Ray\", \"Regular/Assistant Professor/Male/Ph.D/Pramod Kumar Patjoshi\", \"Regular/Assistant Professor/Male/Ph.D/DEEPAK  SAHU\", \"Regular/Assistant Professor/Male/Ph.D/Arun Kumar Pradhan\", \"Regular/Assistant Professor/Male/M. Pharm/Ashish kumar Mehe\", \"Regular/Professor/Female/Ph.D/Supriya Pattanayak\", \"Regular/Assistant Professor/Female/M. Pharm/Swagatika Dash\", \"Regular/Assistant Professor/Male/M.Tech/Nandakishore Ray\", \"Regular/Assistant Professor/Male/Ph.D/Bidyut Kumar Kundu\", \"Regular/Assistant Professor/Male/M.Tech/Suvendu Kumar Nayak\", \"Regular/Professor/Female/Ph.D/Smita Mishra Panda\", \"Regular/Associate Professor/Male/M.Tech/Sandipan Pine\", \"Regular/Associate Professor/Male/Ph.D/GOPAL KRISHNA PADHY\", \"Regular/Associate Professor/Male/Ph.D/Ajit Kumar Pradhan\", \"Regular/Associate Professor/Male/Ph.D/Rahul Adhikary\", \"Regular/Professor/Male/Ph.D/Nagesh Kolagani\", \"Regular/Assistant Professor/Male/M. Pharm/Chinmaya Chidananda Behera\", \"Regular/Assistant Professor/Male/M.Sc./Rajesh Raman Mishra Rajguru\", \"Regular/Assistant Professor/Male/M.Tech/Rashmi Ranjan Panda\", \"Regular/Assistant Professor/Female/M.Tech/Sasmita Kumari Nayak\", \"Regular/Assistant Professor/Male/M. Phil/Srimay Pradhan\", \"Regular/Assistant Professor/Male/Ph.D/Praveen Kumar\", \"Regular/Assistant Professor/Male/Ph.D/Udit Nandan Mishra\", \"Regular/Assistant Professor/Male/Ph.D/Tumbanath Samantara\", \"Regular/Assistant Professor/Female/Ph.D/Rukmini Mishra\", \"Regular/Associate Professor/Female/Ph.D/Banitamani Mallik\", \"Regular/Assistant Professor/Male/NET/Chandrasekhar Sahu\", \"Regular/Assistant Professor/Female/Ph.D/Dojalisa Sahu\", \"Regular/Assistant Professor/Male/NET/Debendra Maharana\", \"Regular/Assistant Professor/Female/Ph.D/Rosy Mallik\", \"Regular/Assistant Professor/Female/M.Tech/Mamata Garanayak\", \"Regular/Assistant Professor/Male/Ph.D/Amir Prasad Behara\", \"Regular/Assistant Professor/Male/Ph.D/Aditya Kumar Purohit\", \"Regular/Assistant Professor/Male/Ph.D/Pedda Ghouse Peera S K\", \"Regular/Professor/Male/Ph.D/Prafulla Kumar Sahu\", \"Regular/Assistant Professor/Female/NET/Lipsa Dash\", \"Regular/Associate Professor/Male/Ph.D/Koustava Kumar Panda\", \"Regular/Associate Professor/Male/Ph.D/Arunabha Pal\", \"Regular/Assistant Professor/Male/M.Tech/Prafulla Kumar Panda\", \"Regular/Associate Professor/Female/Ph.D/Soumya Jal\", \"Regular/Assistant Professor/Female/M.Sc./Saride Naga Sri Neelima\", \"Regular/Assistant Professor/Male/M.Tech/Harish Chandra Mohanta\", \"Regular/Associate Professor/Male/M.Tech/Mir Sadat Ali\", \"Regular/Professor/Male/Ph.D/K S Krishna Prasad\", \"Regular/Assistant Professor/Male/Ph.D/Jyotiprakash Rath\", \"Regular/Assistant Professor/Male/M.Tech/Biswajit Mohapatra\", \"Regular/Assistant Professor/Male/M.Tech/P Annan Naidu\", \"Regular/Assistant Professor/Male/Ph.D/Gangadhar Purohit\", \"Regular/Assistant Professor/Male/Ph.D/Biswanandan Dash\", \"Regular/Lecturer/Female/B.Sc(Agriculture)\", \"Regular/Assistant Professor/Male/DAVP\", \"Regular/Assistant Professor/Female/M. Pharm\", \"Regular/Assistant Professor/Male/M. Pharm\", \"Regular/Associate Professor/Male/M. Pharm\", \"Regular/Assistant Professor/Female/M. Phil\", \"Regular/Assistant Professor/Male/M. Phil\", \"Regular/Assistant Professor/Female/M.Arch.\", \"Regular/Assistant Professor/Female/M.E.\", \"Regular/Assistant Professor/Male/M.E.\", \"Regular/Professor/Male/M.E.\", \"Regular/Assistant Professor/Female/M.Sc(Agriculture)\", \"Regular/Assistant Professor/Male/M.Sc(Agriculture)\", \"Regular/Assistant Professor/Female/M.Sc(Phy)\", \"Regular/Assistant Professor/Female/M.Sc.\", \"Regular/Assistant Professor/Male/M.Sc.\", \"Regular/Assistant Professor/Female/M.Sc.(Biochemistr y)\", \"Regular/Assistant Professor/Female/M.Tech\", \"Regular/Reader/Female/M.Tech\", \"Regular/Assistant Professor/Male/M.Tech\", \"Regular/Associate Professor/Male/M.Tech\", \"Regular/Assistant Professor/Male/MBA\", \"Regular/Professor/Male/MBA (Hons.)\", \"Regular/Assistant Professor/Female/MCA\", \"Regular/Assistant Professor/Male/MCA\", \"Regular/Assistant Professor/Female/MSc (Agriculture)\", \"Regular/Assistant Professor/Male/MSc (Agriculture)\", \"Regular/Assistant Professor/Female/Master of Optometry\", \"Regular/Assistant Professor/Male/Master of Optometry\", \"Regular/Assistant Professor/Female/NET\", \"Regular/Assistant Professor/Male/NET\", \"Regular/Professor/Male/PGDSMM\", \"Regular/Assistant Professor/Female/Ph.D\", \"Regular/Associate Professor/Female/Ph.D\", \"Regular/Professor/Female/Ph.D\", \"Regular/Assistant Professor/Male/Ph.D\", \"Regular/Associate Professor/Male/Ph.D\", \"Regular/Professor/Male/Ph.D\", \"Regular/Assistant Professor/Female\", \"Regular/Associate Professor/Female\", \"Regular/Lecturer/Female\", \"Regular/Professor/Female\", \"Regular/Reader/Female\", \"Regular/Assistant Professor/Male\", \"Regular/Associate Professor/Male\", \"Regular/Professor/Male\", \"Regular/Assistant Professor\", \"Regular/Associate Professor\", \"Regular/Lecturer\", \"Regular/Professor\", \"Regular/Reader\", \"Regular\"], \"labels\": [\"Yashaswi Nayak\", \"Sunita Satapathy\", \"Devanand T N\", \"Swakantik Mishra\", \"Sweeta Das\", \"Sukanta Satapathy\", \"Tapan Kumar Dash\", \"Umakanta Nayak\", \"Tanmoy Shankar\", \"Nilanjana Datta\", \"Vijay Kumar Meher\", \"Kovelakonda Dinesh Tej\", \"Manoj Kumar Behera\", \"V Narsimha Reddy\", \"Sudeep Kumar Singh\", \"Vivek Kumar\", \"Prasanta Kumar Panigrahi\", \"S  K Najmul Islam\", \"Ipsita Mishra\", \"Rajashree Jena\", \"Gouranga Ch Mishra\", \"Kajal Samantara\", \"Amulya Ratna Behera\", \"Kalpita Bhatta\", \"Girish Prasad Rath\", \"Gaikward D J\", \"Tikina Mishra\", \"Nibedita Nayak\", \"Venkata Satish Kuchi\", \"Tapan Kumar Sahu\", \"Barsha Tripathy\", \"Haragouri Mishra\", \"Satyanarayan Padhy\", \"Pankaj Meher\", \"Bhagyaswari Behera\", \"Pradipta Banerjee\", \"Mohammed Siddique\", \"Swarna Prabha Jena\", \"Vignesh M\", \"Surya Narayan Sahu\", \"Atia Arzoo\", \"Susanta Kumar Patnaik\", \"Sunil Kumar Jha\", \"N Jeevaratnam\", \"K Mallikarjunarao\", \"Pilli Manasa\", \"Babuli Kumar Jena\", \"Pratibha Satapathy\", \"Rama Prasanna Dalai\", \"Basubadatta Sahu\", \"Santosh Kumar Paramanik\", \"Manas Ranjan Padhi\", \"Subrata Sarangi\", \"Ashish Ranjan Dash\", \"Anant Tamang\", \"Bhairab Kumar Majhi\", \"Jhum Swain\", \"Sayed Muktar Hossain\", \"Debi Prasad Satapathy\", \"Santosh Kumar Lenka\", \"Karanam Santoshchandra Rao\", \"Snigdha A Sanyal\", \"Pratibha Tripathy\", \"Preetha Bhadra\", \"Pradeep Kumar Sahoo\", \"Chitrasena Padhy\", \"Amiya Singh\", \"Suchismita Acharya\", \"Nimay Chandra Giri\", \"D Singu Devika Rani\", \"Prachirani Sahu\", \"Nilaya Kumar Mohanty\", \"Durgadatta Meher\", \"Merugu Chandra Surya Rao\", \"M Vamshi Krishna\", \"Vishal Kumar Singh\", \"Gurudutta Pattnaik\", \"Sipalin Nayak\", \"Mahendra Kumar Rath\", \"Manisankar Bera\", \"NILADRI SARKAR\", \"Durga Prasad Padhi\", \"Kamini Sethy\", \"M Devender Reddy\", \"Santosh Kumar Bhal\", \"Girija Nandan Arka\", \"Dilip Kumar Mohanta\", \"Sitaram Swain\", \"Debashree Debadatta Behera\", \"Sarat Kumar Jena\", \"Girija Nandini\", \"Meena Kumari Sahu\", \"Gagan Kumar\", \"Kalyani Pradhan\", \"Ganala Santoshi\", \"Subhraraj Panda\", \"Subhankar Debnath\", \"Sonia Panigrahi\", \"Siba Prasad Mishra\", \"Shanatanu Bhattacharya\", \"Saubhagyalaxmi Singh\", \"Rajesh Kumar Mishra\", \"Gedala Sridevi\", \"Dipankar Bhattacharyay\", \"Prasanta Kumar Choudhury\", \"Soma Maji\", \"Kamal Kumar Barik\", \"Ria Mukhopadhyay\", \"Sanjib Kumar Naik\", \"Priyanka Dash\", \"G  K  Sahu\", \"Abhinandita Sahoo\", \"Satarupa Modak\", \"Raghu Gogada\", \"Pratibha Deep\", \"Prasanta Kumar Rath\", \"K V D Prakash\", \"Susanta Kumar Biswal\", \"Lipsa Samal\", \"Abinash Panda\", \"Ananta Charan Ojha\", \"A.Avinash\", \"Ashok Mishra\", \"Subhashisa Praharaj\", \"Sunita Sahu\", \"CHANDANA ADHIKARI\", \"Srikanta Moharana\", \"Ambika Sankar Mishra\", \"Parle Kalyan Chakravarty\", \"Ashish Kumar Sahoo\", \"Prajna Pani\", \"Santosh Kumar Nanda\", \"Sanjay Kumar\", \"Sujata Chakravarty\", \"V Parvati Sai Arun\", \"Suman Kumar Mekap\", \"A Mohan Muralidhar\", \"Narayan Gouda\", \"Abhishek Hota\", \"Akkala Abhilasha\", \"Niranjan Barik\", \"S Kameswar Rao\", \"Vijay Miditana\", \"Saurav Barman\", \"Santosh Kumar Satpathy\", \"J Vaideeswaran\", \"Santosh Patro\", \"Padmaja Patnaik\", \"Pushpalatha G\", \"Gyanaranjan Mahalik\", \"Kalidindi Krishnam Raju\", \"Kakani Grihalakshmi\", \"Amrutha Gopan\", \"Himansu Bhusan Samal\", \"Jnana Bharati Palai\", \"Sourav Karmakar\", \"Pratap Kumar Chhotaray\", \"Satyanarayan Dhal\", \"Arup Saha\", \"Dwity Sundar Rout\", \"Ajit Kumar Sahu\", \"N B Karthik Babu\", \"ANUPAM SAHOO\", \"Sagarika Panda\", \"Sambid Swain\", \"Ranitava Banerjee\", \"Chinu Bohidar\", \"Prajna Paramita Debata\", \"Sandeep Rout\", \"Sangram Keshari Swain\", \"Ramesh Chandra Mohanty\", \"Sagarika Parida\", \"Smarajit Punaykanti\", \"Satyabrata Sadangi\", \"Jagannath Padhi\", \"Mamata P Wagh\", \"Balaji Padhy\", \"Chinmayee Tripathy\", \"Smaranika Mohanta\", \"Sisir Ranjan Dash\", \"ANISETTI SIVA SANKAR\", \"Ardhendu Mouli Mohanty\", \"Sasi Bhusan Padhi\", \"Potnuru Srinivasa Rao\", \"Subhendu Kumar Mishra\", \"Srikanta Sahu\", \"Sharmistha Sahu\", \"Sujit Kumar Mishra\", \"Sujit Mishra\", \"Laxman Kumar Malla\", \"Siba Prasad Parida\", \"Monalisha Joshi\", \"Chandra Sekhar Dash\", \"Shekhar Kumar Sahu\", \"Samapika Dalai\", \"Shraban Kumar Sahoo\", \"Goutam Kumar Mahato\", \"Lalichetti Sagar\", \"Hari Ram Kumar Bandi\", \"Sabyasachi Dey\", \"Nihar Ranjan Kar\", \"Atanu Deb\", \"Raj Kumar Mohanta\", \"Amit Kumar Sahoo\", \"Satya Prakash Nanda\", \"Smita Jena\", \"Debaraj Rana\", \"Satyabrata Nanda\", \"Prabhat Kumar Patnaik\", \"Rajendra Kumar Khadanga\", \"Sagar Maitra\", \"Sivala Kumar\", \"Shivani Nanda\", \"Abhinna Chandra Biswal\", \"Saubhagyalaxmi Behera\", \"Sudhansu Kumar Samal\", \"Chandra Sekhar Patro\", \"Nilamadhab Dash\", \"Chittaranjan Routray\", \"Nitesh Dhar Badgayan\", \"Praveen Boddna\", \"Deepthi Chandaka\", \"Anita Patra\", \"Debasis Sahu\", \"Debashish Trpathy\", \"Shreela Dash\", \"Shiv Sankar Das\", \"Subrat Kumar Pradhan\", \"Swarnalata  Jena\", \"Prasanta Kumar Mohanty\", \"Kali Prasad Rath\", \"Sudhanshu Bala Nayak\", \"Pragnya Paramita\", \"Sudhansu Bhusan Mohapatra\", \"Sujata Acharya\", \"Bhavyadeep Bhatia\", \"Gitanjali Behera\", \"Subhasmita Mishra\", \"Soumik Ray\", \"Pramod Kumar Patjoshi\", \"DEEPAK  SAHU\", \"Arun Kumar Pradhan\", \"Ashish kumar Mehe\", \"Supriya Pattanayak\", \"Swagatika Dash\", \"Nandakishore Ray\", \"Bidyut Kumar Kundu\", \"Suvendu Kumar Nayak\", \"Smita Mishra Panda\", \"Sandipan Pine\", \"GOPAL KRISHNA PADHY\", \"Ajit Kumar Pradhan\", \"Rahul Adhikary\", \"Nagesh Kolagani\", \"Chinmaya Chidananda Behera\", \"Rajesh Raman Mishra Rajguru\", \"Rashmi Ranjan Panda\", \"Sasmita Kumari Nayak\", \"Srimay Pradhan\", \"Praveen Kumar\", \"Udit Nandan Mishra\", \"Tumbanath Samantara\", \"Rukmini Mishra\", \"Banitamani Mallik\", \"Chandrasekhar Sahu\", \"Dojalisa Sahu\", \"Debendra Maharana\", \"Rosy Mallik\", \"Mamata Garanayak\", \"Amir Prasad Behara\", \"Aditya Kumar Purohit\", \"Pedda Ghouse Peera S K\", \"Prafulla Kumar Sahu\", \"Lipsa Dash\", \"Koustava Kumar Panda\", \"Arunabha Pal\", \"Prafulla Kumar Panda\", \"Soumya Jal\", \"Saride Naga Sri Neelima\", \"Harish Chandra Mohanta\", \"Mir Sadat Ali\", \"K S Krishna Prasad\", \"Jyotiprakash Rath\", \"Biswajit Mohapatra\", \"P Annan Naidu\", \"Gangadhar Purohit\", \"Biswanandan Dash\", \"B.Sc(Agriculture)\", \"DAVP\", \"M. Pharm\", \"M. Pharm\", \"M. Pharm\", \"M. Phil\", \"M. Phil\", \"M.Arch.\", \"M.E.\", \"M.E.\", \"M.E.\", \"M.Sc(Agriculture)\", \"M.Sc(Agriculture)\", \"M.Sc(Phy)\", \"M.Sc.\", \"M.Sc.\", \"M.Sc.(Biochemistr y)\", \"M.Tech\", \"M.Tech\", \"M.Tech\", \"M.Tech\", \"MBA\", \"MBA (Hons.)\", \"MCA\", \"MCA\", \"MSc (Agriculture)\", \"MSc (Agriculture)\", \"Master of Optometry\", \"Master of Optometry\", \"NET\", \"NET\", \"PGDSMM\", \"Ph.D\", \"Ph.D\", \"Ph.D\", \"Ph.D\", \"Ph.D\", \"Ph.D\", \"Female\", \"Female\", \"Female\", \"Female\", \"Female\", \"Male\", \"Male\", \"Male\", \"Assistant Professor\", \"Associate Professor\", \"Lecturer\", \"Professor\", \"Reader\", \"Regular\"], \"marker\": {\"colors\": [\"#636efa\", \"#EF553B\", \"#00cc96\", \"#ab63fa\", \"#FFA15A\", \"#19d3f3\", \"#FF6692\", \"#B6E880\", \"#FF97FF\", \"#FECB52\", \"#636efa\", \"#EF553B\", \"#00cc96\", \"#ab63fa\", \"#FFA15A\", \"#19d3f3\", \"#FF6692\", \"#B6E880\", \"#FF97FF\", \"#B6E880\", \"#FECB52\", \"#636efa\", \"#FF6692\", \"#EF553B\", \"#FECB52\", \"#00cc96\", \"#FF6692\", \"#ab63fa\", \"#FFA15A\", \"#19d3f3\", \"#19d3f3\", \"#FF6692\", \"#B6E880\", \"#FF97FF\", \"#FECB52\", \"#636efa\", \"#EF553B\", \"#00cc96\", \"#ab63fa\", \"#FFA15A\", \"#19d3f3\", \"#FF6692\", \"#B6E880\", \"#FF97FF\", \"#19d3f3\", \"#FECB52\", \"#636efa\", \"#EF553B\", \"#00cc96\", \"#636efa\", \"#ab63fa\", \"#FFA15A\", \"#19d3f3\", \"#FF6692\", \"#B6E880\", \"#FF97FF\", \"#636efa\", \"#FFA15A\", \"#FECB52\", \"#19d3f3\", \"#636efa\", \"#EF553B\", \"#00cc96\", \"#ab63fa\", \"#FFA15A\", \"#636efa\", \"#636efa\", \"#19d3f3\", \"#FF6692\", \"#19d3f3\", \"#B6E880\", \"#FF97FF\", \"#FF97FF\", \"#636efa\", \"#FECB52\", \"#636efa\", \"#FF6692\", \"#00cc96\", \"#EF553B\", \"#00cc96\", \"#ab63fa\", \"#FFA15A\", \"#19d3f3\", \"#FF6692\", \"#B6E880\", \"#FF97FF\", \"#00cc96\", \"#B6E880\", \"#FECB52\", \"#636efa\", \"#FF97FF\", \"#636efa\", \"#636efa\", \"#FECB52\", \"#B6E880\", \"#00cc96\", \"#EF553B\", \"#00cc96\", \"#ab63fa\", \"#ab63fa\", \"#FFA15A\", \"#FFA15A\", \"#19d3f3\", \"#FF6692\", \"#B6E880\", \"#B6E880\", \"#FFA15A\", \"#FF97FF\", \"#FECB52\", \"#636efa\", \"#EF553B\", \"#FF6692\", \"#B6E880\", \"#00cc96\", \"#636efa\", \"#ab63fa\", \"#19d3f3\", \"#FFA15A\", \"#19d3f3\", \"#FECB52\", \"#19d3f3\", \"#FF6692\", \"#B6E880\", \"#B6E880\", \"#19d3f3\", \"#FF97FF\", \"#19d3f3\", \"#FECB52\", \"#636efa\", \"#FF97FF\", \"#ab63fa\", \"#636efa\", \"#636efa\", \"#FF6692\", \"#FF97FF\", \"#B6E880\", \"#00cc96\", \"#EF553B\", \"#636efa\", \"#00cc96\", \"#ab63fa\", \"#FFA15A\", \"#19d3f3\", \"#FF6692\", \"#B6E880\", \"#ab63fa\", \"#B6E880\", \"#B6E880\", \"#FF6692\", \"#19d3f3\", \"#B6E880\", \"#FF97FF\", \"#00cc96\", \"#FECB52\", \"#FECB52\", \"#636efa\", \"#FECB52\", \"#EF553B\", \"#636efa\", \"#19d3f3\", \"#00cc96\", \"#636efa\", \"#00cc96\", \"#FF6692\", \"#00cc96\", \"#636efa\", \"#19d3f3\", \"#00cc96\", \"#FF97FF\", \"#ab63fa\", \"#636efa\", \"#FF97FF\", \"#FFA15A\", \"#FF97FF\", \"#FFA15A\", \"#FFA15A\", \"#19d3f3\", \"#00cc96\", \"#19d3f3\", \"#FECB52\", \"#EF553B\", \"#FF6692\", \"#B6E880\", \"#FF97FF\", \"#FECB52\", \"#FFA15A\", \"#636efa\", \"#FF97FF\", \"#EF553B\", \"#636efa\", \"#00cc96\", \"#FF97FF\", \"#FECB52\", \"#FFA15A\", \"#19d3f3\", \"#636efa\", \"#ab63fa\", \"#19d3f3\", \"#FF97FF\", \"#00cc96\", \"#FECB52\", \"#ab63fa\", \"#00cc96\", \"#FF6692\", \"#ab63fa\", \"#FFA15A\", \"#FFA15A\", \"#19d3f3\", \"#FF6692\", \"#00cc96\", \"#B6E880\", \"#FF6692\", \"#FF97FF\", \"#FECB52\", \"#636efa\", \"#636efa\", \"#19d3f3\", \"#FF97FF\", \"#EF553B\", \"#FF6692\", \"#00cc96\", \"#B6E880\", \"#ab63fa\", \"#00cc96\", \"#ab63fa\", \"#FF97FF\", \"#FF97FF\", \"#FFA15A\", \"#19d3f3\", \"#FFA15A\", \"#FF6692\", \"#636efa\", \"#B6E880\", \"#FFA15A\", \"#FF97FF\", \"#636efa\", \"#FF97FF\", \"#636efa\", \"#19d3f3\", \"#FF97FF\", \"#B6E880\", \"#B6E880\", \"#EF553B\", \"#FF97FF\", \"#FECB52\", \"#FECB52\", \"#19d3f3\", \"#00cc96\", \"#636efa\", \"#EF553B\", \"#FECB52\", \"#FFA15A\", \"#00cc96\", \"#FF6692\", \"#FF6692\", \"#FFA15A\", \"#ab63fa\", \"#ab63fa\", \"#FECB52\", \"#19d3f3\", \"#636efa\", \"#FFA15A\", \"#636efa\", \"#FECB52\", \"#19d3f3\", \"#19d3f3\", \"#FF6692\", \"#B6E880\", \"#FF6692\", \"#B6E880\", \"#19d3f3\", \"#B6E880\", \"#636efa\", \"#19d3f3\", \"#B6E880\", \"#FF97FF\", \"#FECB52\", \"#FECB52\", \"#FF97FF\", \"#FFA15A\", \"#636efa\", \"#B6E880\", \"#636efa\", \"#EF553B\", \"#ab63fa\", \"#EF553B\", \"#00cc96\", \"#FECB52\", \"#FF6692\", \"#ab63fa\", \"#ab63fa\", \"#19d3f3\", \"#ab63fa\", \"#ab63fa\", \"#EF553B\", \"#FF97FF\", \"#ab63fa\", \"#ab63fa\", \"#636efa\", \"#19d3f3\", \"#636efa\", \"#ab63fa\", \"#ab63fa\", \"#ab63fa\", \"#ab63fa\", \"#19d3f3\", \"#ab63fa\", \"#ab63fa\", \"#ab63fa\", \"#B6E880\", \"#FF97FF\", \"#FECB52\", \"#ab63fa\", \"#ab63fa\", \"#636efa\", \"#ab63fa\", \"#ab63fa\", \"#ab63fa\", \"#19d3f3\", \"#ab63fa\", \"#ab63fa\", \"#ab63fa\", \"#ab63fa\", \"#ab63fa\", \"#ab63fa\", \"#ab63fa\", \"#ab63fa\", \"#FECB52\", \"#ab63fa\", \"#19d3f3\", \"#ab63fa\", \"#ab63fa\", \"#ab63fa\", \"#ab63fa\", \"#ab63fa\", \"#FECB52\", \"#ab63fa\", \"#19d3f3\", \"#ab63fa\"]}, \"name\": \"\", \"parents\": [\"Regular/Assistant Professor/Female/Ph.D\", \"Regular/Assistant Professor/Female/M. Phil\", \"Regular/Assistant Professor/Male/Ph.D\", \"Regular/Assistant Professor/Male/M.Tech\", \"Regular/Assistant Professor/Female/M.Tech\", \"Regular/Assistant Professor/Male/M. Pharm\", \"Regular/Assistant Professor/Male/Ph.D\", \"Regular/Assistant Professor/Male/Ph.D\", \"Regular/Assistant Professor/Male/Ph.D\", \"Regular/Assistant Professor/Female/Ph.D\", \"Regular/Assistant Professor/Male/M. Pharm\", \"Regular/Assistant Professor/Male/M.Tech\", \"Regular/Assistant Professor/Male/M.Tech\", \"Regular/Professor/Male/Ph.D\", \"Regular/Assistant Professor/Male/M.Tech\", \"Regular/Assistant Professor/Male/Ph.D\", \"Regular/Professor/Male/M.E.\", \"Regular/Assistant Professor/Male/Ph.D\", \"Regular/Assistant Professor/Female/M.Tech\", \"Regular/Assistant Professor/Female/Ph.D\", \"Regular/Professor/Male/Ph.D\", \"Regular/Assistant Professor/Female/M.Sc(Agriculture)\", \"Regular/Professor/Male/Ph.D\", \"Regular/Assistant Professor/Female/Ph.D\", \"Regular/Assistant Professor/Male/Ph.D\", \"Regular/Assistant Professor/Male/MSc (Agriculture)\", \"Regular/Assistant Professor/Male/M.Sc.\", \"Regular/Assistant Professor/Female/M.Sc.\", \"Regular/Assistant Professor/Male/Ph.D\", \"Regular/Associate Professor/Male/M. Pharm\", \"Regular/Assistant Professor/Female/MSc (Agriculture)\", \"Regular/Assistant Professor/Male/M. Pharm\", \"Regular/Assistant Professor/Male/M.Tech\", \"Regular/Assistant Professor/Male/M.Sc.\", \"Regular/Assistant Professor/Female/M. Phil\", \"Regular/Assistant Professor/Male/Ph.D\", \"Regular/Assistant Professor/Male/M.Tech\", \"Regular/Assistant Professor/Female/M.Tech\", \"Regular/Assistant Professor/Male/M.E.\", \"Regular/Assistant Professor/Male/M.Tech\", \"Regular/Assistant Professor/Female/Ph.D\", \"Regular/Assistant Professor/Male/Ph.D\", \"Regular/Professor/Male/MBA (Hons.)\", \"Regular/Assistant Professor/Female/M.Tech\", \"Regular/Assistant Professor/Male/MSc (Agriculture)\", \"Regular/Lecturer/Female/B.Sc(Agriculture)\", \"Regular/Assistant Professor/Male/M.Tech\", \"Regular/Assistant Professor/Female/NET\", \"Regular/Assistant Professor/Male/M.Tech\", \"Regular/Assistant Professor/Female/MSc (Agriculture)\", \"Regular/Assistant Professor/Male/M.Tech\", \"Regular/Assistant Professor/Male/M.Tech\", \"Regular/Professor/Male/Ph.D\", \"Regular/Assistant Professor/Male/M.Tech\", \"Regular/Assistant Professor/Male/MSc (Agriculture)\", \"Regular/Assistant Professor/Male/M.Tech\", \"Regular/Assistant Professor/Female/Ph.D\", \"Regular/Assistant Professor/Male/Ph.D\", \"Regular/Assistant Professor/Male/Ph.D\", \"Regular/Assistant Professor/Male/MSc (Agriculture)\", \"Regular/Assistant Professor/Male/M.Tech\", \"Regular/Assistant Professor/Female/M.Arch.\", \"Regular/Associate Professor/Female/Ph.D\", \"Regular/Assistant Professor/Female/M.Sc.(Biochemistr y)\", \"Regular/Assistant Professor/Male/M. Phil\", \"Regular/Assistant Professor/Male/MSc (Agriculture)\", \"Regular/Assistant Professor/Male/Ph.D\", \"Regular/Assistant Professor/Female/M.Sc.\", \"Regular/Assistant Professor/Male/M.Tech\", \"Regular/Assistant Professor/Female/Ph.D\", \"Regular/Assistant Professor/Female/M. Pharm\", \"Regular/Assistant Professor/Male/Ph.D\", \"Regular/Assistant Professor/Male/MSc (Agriculture)\", \"Regular/Assistant Professor/Male/Ph.D\", \"Regular/Associate Professor/Male/Ph.D\", \"Regular/Assistant Professor/Male/M.Tech\", \"Regular/Professor/Male/Ph.D\", \"Regular/Assistant Professor/Female/M.Tech\", \"Regular/Associate Professor/Male/Ph.D\", \"Regular/Assistant Professor/Male/MSc (Agriculture)\", \"Regular/Assistant Professor/Male/Ph.D\", \"Regular/Associate Professor/Male/Ph.D\", \"Regular/Assistant Professor/Female/M. Pharm\", \"Regular/Professor/Male/Ph.D\", \"Regular/Assistant Professor/Male/Ph.D\", \"Regular/Assistant Professor/Male/M.Tech\", \"Regular/Assistant Professor/Male/M.Tech\", \"Regular/Assistant Professor/Male/Ph.D\", \"Regular/Assistant Professor/Female/M.Tech\", \"Regular/Assistant Professor/Male/M. Phil\", \"Regular/Assistant Professor/Female/Ph.D\", \"Regular/Assistant Professor/Female/M.Sc(Phy)\", \"Regular/Assistant Professor/Male/Ph.D\", \"Regular/Assistant Professor/Female/MSc (Agriculture)\", \"Regular/Associate Professor/Male/Ph.D\", \"Regular/Assistant Professor/Male/M. Phil\", \"Regular/Assistant Professor/Male/M.Tech\", \"Regular/Assistant Professor/Female/MSc (Agriculture)\", \"Regular/Assistant Professor/Male/Ph.D\", \"Regular/Assistant Professor/Male/Ph.D\", \"Regular/Assistant Professor/Female/M.Sc.\", \"Regular/Assistant Professor/Male/M.Tech\", \"Regular/Reader/Female/M.Tech\", \"Regular/Professor/Male/Ph.D\", \"Regular/Assistant Professor/Male/Ph.D\", \"Regular/Assistant Professor/Female/M.Tech\", \"Regular/Assistant Professor/Male/Ph.D\", \"Regular/Assistant Professor/Female/MSc (Agriculture)\", \"Regular/Assistant Professor/Male/MCA\", \"Regular/Assistant Professor/Female/Ph.D\", \"Regular/Assistant Professor/Male/M.Sc.\", \"Regular/Assistant Professor/Female/MSc (Agriculture)\", \"Regular/Assistant Professor/Female/Ph.D\", \"Regular/Associate Professor/Male/Ph.D\", \"Regular/Assistant Professor/Male/Ph.D\", \"Regular/Associate Professor/Male/Ph.D\", \"Regular/Professor/Male/PGDSMM\", \"Regular/Professor/Male/Ph.D\", \"Regular/Assistant Professor/Female/M. Pharm\", \"Regular/Assistant Professor/Male/M.Tech\", \"Regular/Associate Professor/Male/Ph.D\", \"Regular/Assistant Professor/Male/DAVP\", \"Regular/Professor/Male/Ph.D\", \"Regular/Assistant Professor/Male/Ph.D\", \"Regular/Assistant Professor/Female/M.Tech\", \"Regular/Assistant Professor/Female/Ph.D\", \"Regular/Assistant Professor/Male/Ph.D\", \"Regular/Assistant Professor/Male/Ph.D\", \"Regular/Assistant Professor/Male/Ph.D\", \"Regular/Assistant Professor/Male/Ph.D\", \"Regular/Professor/Female/Ph.D\", \"Regular/Assistant Professor/Male/Ph.D\", \"Regular/Associate Professor/Male/Ph.D\", \"Regular/Associate Professor/Female/Ph.D\", \"Regular/Assistant Professor/Male/Ph.D\", \"Regular/Assistant Professor/Male/M. Pharm\", \"Regular/Associate Professor/Male/Ph.D\", \"Regular/Assistant Professor/Male/Ph.D\", \"Regular/Assistant Professor/Male/Ph.D\", \"Regular/Assistant Professor/Female/M.Tech\", \"Regular/Professor/Male/Ph.D\", \"Regular/Assistant Professor/Male/Ph.D\", \"Regular/Associate Professor/Male/M.Tech\", \"Regular/Assistant Professor/Male/Ph.D\", \"Regular/Assistant Professor/Male/Ph.D\", \"Regular/Professor/Male/Ph.D\", \"Regular/Assistant Professor/Male/M.Tech\", \"Regular/Assistant Professor/Female/Ph.D\", \"Regular/Associate Professor/Female/Ph.D\", \"Regular/Assistant Professor/Male/M. Phil\", \"Regular/Associate Professor/Male/Ph.D\", \"Regular/Associate Professor/Male/Ph.D\", \"Regular/Assistant Professor/Female/Ph.D\", \"Regular/Assistant Professor/Male/M. Pharm\", \"Regular/Assistant Professor/Female/MSc (Agriculture)\", \"Regular/Assistant Professor/Male/Master of Optometry\", \"Regular/Assistant Professor/Male/Ph.D\", \"Regular/Assistant Professor/Male/Ph.D\", \"Regular/Assistant Professor/Female/Master of Optometry\", \"Regular/Assistant Professor/Male/M.Sc(Agriculture)\", \"Regular/Assistant Professor/Male/MSc (Agriculture)\", \"Regular/Assistant Professor/Male/M.E.\", \"Regular/Assistant Professor/Male/Ph.D\", \"Regular/Assistant Professor/Female/M.Tech\", \"Regular/Assistant Professor/Male/MSc (Agriculture)\", \"Regular/Assistant Professor/Male/Master of Optometry\", \"Regular/Assistant Professor/Female/Ph.D\", \"Regular/Assistant Professor/Female/M.Tech\", \"Regular/Assistant Professor/Male/MSc (Agriculture)\", \"Regular/Assistant Professor/Male/M.Tech\", \"Regular/Professor/Male/Ph.D\", \"Regular/Assistant Professor/Female/Ph.D\", \"Regular/Assistant Professor/Male/M.Tech\", \"Regular/Assistant Professor/Male/M.Sc.\", \"Regular/Professor/Male/M.E.\", \"Regular/Assistant Professor/Female/M.Tech\", \"Regular/Assistant Professor/Male/M. Phil\", \"Regular/Assistant Professor/Male/M.Sc.\", \"Regular/Assistant Professor/Female/Ph.D\", \"Regular/Assistant Professor/Male/MBA\", \"Regular/Assistant Professor/Male/M. Phil\", \"Regular/Professor/Male/Ph.D\", \"Regular/Assistant Professor/Male/M.Sc.\", \"Regular/Professor/Male/Ph.D\", \"Regular/Associate Professor/Male/Ph.D\", \"Regular/Assistant Professor/Male/Ph.D\", \"Regular/Assistant Professor/Female/M.Tech\", \"Regular/Assistant Professor/Male/Ph.D\", \"Regular/Assistant Professor/Male/M.Tech\", \"Regular/Assistant Professor/Male/Ph.D\", \"Regular/Associate Professor/Male/Ph.D\", \"Regular/Assistant Professor/Female/M.Tech\", \"Regular/Assistant Professor/Male/Ph.D\", \"Regular/Assistant Professor/Male/NET\", \"Regular/Assistant Professor/Female/MSc (Agriculture)\", \"Regular/Assistant Professor/Male/Ph.D\", \"Regular/Assistant Professor/Male/Ph.D\", \"Regular/Assistant Professor/Male/M.Sc(Agriculture)\", \"Regular/Assistant Professor/Male/Ph.D\", \"Regular/Assistant Professor/Male/Ph.D\", \"Regular/Assistant Professor/Male/M. Pharm\", \"Regular/Assistant Professor/Male/Ph.D\", \"Regular/Assistant Professor/Male/M.Tech\", \"Regular/Assistant Professor/Male/M.Tech\", \"Regular/Professor/Male/Ph.D\", \"Regular/Assistant Professor/Female/M.Tech\", \"Regular/Assistant Professor/Male/M.Tech\", \"Regular/Assistant Professor/Male/Ph.D\", \"Regular/Assistant Professor/Male/M.Tech\", \"Regular/Professor/Male/Ph.D\", \"Regular/Associate Professor/Male/Ph.D\", \"Regular/Professor/Male/Ph.D\", \"Regular/Assistant Professor/Female/M.E.\", \"Regular/Professor/Male/Ph.D\", \"Regular/Assistant Professor/Female/Ph.D\", \"Regular/Assistant Professor/Male/Ph.D\", \"Regular/Professor/Male/Ph.D\", \"Regular/Assistant Professor/Male/M.Tech\", \"Regular/Assistant Professor/Male/M.Sc.\", \"Regular/Assistant Professor/Male/Ph.D\", \"Regular/Associate Professor/Male/Ph.D\", \"Regular/Assistant Professor/Female/MSc (Agriculture)\", \"Regular/Professor/Female/Ph.D\", \"Regular/Assistant Professor/Male/M.Tech\", \"Regular/Assistant Professor/Male/M.Sc.\", \"Regular/Assistant Professor/Female/M.Tech\", \"Regular/Assistant Professor/Male/MBA\", \"Regular/Assistant Professor/Male/M.Tech\", \"Regular/Assistant Professor/Female/M.Sc.\", \"Regular/Professor/Male/Ph.D\", \"Regular/Assistant Professor/Male/M.Tech\", \"Regular/Assistant Professor/Female/Ph.D\", \"Regular/Assistant Professor/Female/MSc (Agriculture)\", \"Regular/Assistant Professor/Male/M.Tech\", \"Regular/Assistant Professor/Female/MCA\", \"Regular/Assistant Professor/Male/Ph.D\", \"Regular/Assistant Professor/Female/M.Tech\", \"Regular/Assistant Professor/Female/Ph.D\", \"Regular/Assistant Professor/Male/Ph.D\", \"Regular/Assistant Professor/Male/Ph.D\", \"Regular/Assistant Professor/Male/Ph.D\", \"Regular/Assistant Professor/Male/Ph.D\", \"Regular/Assistant Professor/Male/M. Pharm\", \"Regular/Professor/Female/Ph.D\", \"Regular/Assistant Professor/Female/M. Pharm\", \"Regular/Assistant Professor/Male/M.Tech\", \"Regular/Assistant Professor/Male/Ph.D\", \"Regular/Assistant Professor/Male/M.Tech\", \"Regular/Professor/Female/Ph.D\", \"Regular/Associate Professor/Male/M.Tech\", \"Regular/Associate Professor/Male/Ph.D\", \"Regular/Associate Professor/Male/Ph.D\", \"Regular/Associate Professor/Male/Ph.D\", \"Regular/Professor/Male/Ph.D\", \"Regular/Assistant Professor/Male/M. Pharm\", \"Regular/Assistant Professor/Male/M.Sc.\", \"Regular/Assistant Professor/Male/M.Tech\", \"Regular/Assistant Professor/Female/M.Tech\", \"Regular/Assistant Professor/Male/M. Phil\", \"Regular/Assistant Professor/Male/Ph.D\", \"Regular/Assistant Professor/Male/Ph.D\", \"Regular/Assistant Professor/Male/Ph.D\", \"Regular/Assistant Professor/Female/Ph.D\", \"Regular/Associate Professor/Female/Ph.D\", \"Regular/Assistant Professor/Male/NET\", \"Regular/Assistant Professor/Female/Ph.D\", \"Regular/Assistant Professor/Male/NET\", \"Regular/Assistant Professor/Female/Ph.D\", \"Regular/Assistant Professor/Female/M.Tech\", \"Regular/Assistant Professor/Male/Ph.D\", \"Regular/Assistant Professor/Male/Ph.D\", \"Regular/Assistant Professor/Male/Ph.D\", \"Regular/Professor/Male/Ph.D\", \"Regular/Assistant Professor/Female/NET\", \"Regular/Associate Professor/Male/Ph.D\", \"Regular/Associate Professor/Male/Ph.D\", \"Regular/Assistant Professor/Male/M.Tech\", \"Regular/Associate Professor/Female/Ph.D\", \"Regular/Assistant Professor/Female/M.Sc.\", \"Regular/Assistant Professor/Male/M.Tech\", \"Regular/Associate Professor/Male/M.Tech\", \"Regular/Professor/Male/Ph.D\", \"Regular/Assistant Professor/Male/Ph.D\", \"Regular/Assistant Professor/Male/M.Tech\", \"Regular/Assistant Professor/Male/M.Tech\", \"Regular/Assistant Professor/Male/Ph.D\", \"Regular/Assistant Professor/Male/Ph.D\", \"Regular/Lecturer/Female\", \"Regular/Assistant Professor/Male\", \"Regular/Assistant Professor/Female\", \"Regular/Assistant Professor/Male\", \"Regular/Associate Professor/Male\", \"Regular/Assistant Professor/Female\", \"Regular/Assistant Professor/Male\", \"Regular/Assistant Professor/Female\", \"Regular/Assistant Professor/Female\", \"Regular/Assistant Professor/Male\", \"Regular/Professor/Male\", \"Regular/Assistant Professor/Female\", \"Regular/Assistant Professor/Male\", \"Regular/Assistant Professor/Female\", \"Regular/Assistant Professor/Female\", \"Regular/Assistant Professor/Male\", \"Regular/Assistant Professor/Female\", \"Regular/Assistant Professor/Female\", \"Regular/Reader/Female\", \"Regular/Assistant Professor/Male\", \"Regular/Associate Professor/Male\", \"Regular/Assistant Professor/Male\", \"Regular/Professor/Male\", \"Regular/Assistant Professor/Female\", \"Regular/Assistant Professor/Male\", \"Regular/Assistant Professor/Female\", \"Regular/Assistant Professor/Male\", \"Regular/Assistant Professor/Female\", \"Regular/Assistant Professor/Male\", \"Regular/Assistant Professor/Female\", \"Regular/Assistant Professor/Male\", \"Regular/Professor/Male\", \"Regular/Assistant Professor/Female\", \"Regular/Associate Professor/Female\", \"Regular/Professor/Female\", \"Regular/Assistant Professor/Male\", \"Regular/Associate Professor/Male\", \"Regular/Professor/Male\", \"Regular/Assistant Professor\", \"Regular/Associate Professor\", \"Regular/Lecturer\", \"Regular/Professor\", \"Regular/Reader\", \"Regular/Assistant Professor\", \"Regular/Associate Professor\", \"Regular/Professor\", \"Regular\", \"Regular\", \"Regular\", \"Regular\", \"Regular\", \"\"], \"type\": \"treemap\", \"values\": [1, 1, 1, 1, 1, 1, 1, 1, 1, 1, 1, 1, 1, 1, 1, 1, 1, 1, 1, 1, 1, 1, 1, 1, 1, 1, 1, 1, 1, 1, 1, 1, 1, 1, 1, 1, 1, 1, 1, 1, 1, 1, 1, 1, 1, 1, 1, 1, 1, 1, 1, 1, 1, 1, 1, 1, 1, 1, 1, 1, 1, 1, 1, 1, 1, 1, 1, 1, 1, 1, 1, 1, 1, 1, 1, 1, 1, 1, 1, 1, 1, 1, 1, 1, 1, 1, 1, 1, 1, 1, 1, 1, 1, 1, 1, 1, 1, 1, 1, 1, 1, 1, 1, 1, 1, 1, 1, 1, 1, 1, 1, 1, 1, 1, 1, 1, 1, 1, 1, 1, 1, 1, 1, 1, 1, 1, 1, 1, 1, 1, 1, 1, 1, 1, 1, 1, 1, 1, 1, 1, 1, 1, 1, 1, 1, 1, 1, 1, 1, 1, 1, 1, 1, 1, 1, 1, 1, 1, 1, 1, 1, 1, 1, 1, 1, 1, 1, 1, 1, 1, 1, 1, 1, 1, 1, 1, 1, 1, 1, 1, 1, 1, 1, 1, 1, 1, 1, 1, 1, 1, 1, 1, 1, 1, 1, 1, 1, 1, 1, 1, 1, 1, 1, 1, 1, 1, 1, 1, 1, 1, 1, 1, 1, 1, 1, 1, 1, 1, 1, 1, 1, 1, 1, 1, 1, 1, 1, 1, 1, 1, 1, 1, 1, 1, 1, 1, 1, 1, 1, 1, 1, 1, 1, 1, 1, 1, 1, 1, 1, 1, 1, 1, 1, 1, 1, 1, 1, 1, 1, 1, 1, 1, 1, 1, 1, 1, 1, 1, 1, 1, 1, 1, 1, 1, 1, 1, 1, 1, 1, 1, 1, 1, 1, 1, 1, 1, 1, 1, 1, 4, 8, 1, 2, 7, 1, 1, 2, 2, 1, 2, 1, 5, 9, 1, 19, 1, 41, 3, 2, 1, 1, 1, 10, 10, 1, 2, 2, 3, 1, 22, 5, 4, 66, 20, 23, 71, 5, 1, 4, 1, 154, 24, 27, 225, 29, 1, 31, 1, 287]}],                        {\"height\": 800, \"legend\": {\"tracegroupgap\": 0}, \"template\": {\"data\": {\"bar\": [{\"error_x\": {\"color\": \"#f2f5fa\"}, \"error_y\": {\"color\": \"#f2f5fa\"}, \"marker\": {\"line\": {\"color\": \"rgb(17,17,17)\", \"width\": 0.5}}, \"type\": \"bar\"}], \"barpolar\": [{\"marker\": {\"line\": {\"color\": \"rgb(17,17,17)\", \"width\": 0.5}}, \"type\": \"barpolar\"}], \"carpet\": [{\"aaxis\": {\"endlinecolor\": \"#A2B1C6\", \"gridcolor\": \"#506784\", \"linecolor\": \"#506784\", \"minorgridcolor\": \"#506784\", \"startlinecolor\": \"#A2B1C6\"}, \"baxis\": {\"endlinecolor\": \"#A2B1C6\", \"gridcolor\": \"#506784\", \"linecolor\": \"#506784\", \"minorgridcolor\": \"#506784\", \"startlinecolor\": \"#A2B1C6\"}, \"type\": \"carpet\"}], \"choropleth\": [{\"colorbar\": {\"outlinewidth\": 0, \"ticks\": \"\"}, \"type\": \"choropleth\"}], \"contour\": [{\"colorbar\": {\"outlinewidth\": 0, \"ticks\": \"\"}, \"colorscale\": [[0.0, \"#0d0887\"], [0.1111111111111111, \"#46039f\"], [0.2222222222222222, \"#7201a8\"], [0.3333333333333333, \"#9c179e\"], [0.4444444444444444, \"#bd3786\"], [0.5555555555555556, \"#d8576b\"], [0.6666666666666666, \"#ed7953\"], [0.7777777777777778, \"#fb9f3a\"], [0.8888888888888888, \"#fdca26\"], [1.0, \"#f0f921\"]], \"type\": \"contour\"}], \"contourcarpet\": [{\"colorbar\": {\"outlinewidth\": 0, \"ticks\": \"\"}, \"type\": \"contourcarpet\"}], \"heatmap\": [{\"colorbar\": {\"outlinewidth\": 0, \"ticks\": \"\"}, \"colorscale\": [[0.0, \"#0d0887\"], [0.1111111111111111, \"#46039f\"], [0.2222222222222222, \"#7201a8\"], [0.3333333333333333, \"#9c179e\"], [0.4444444444444444, \"#bd3786\"], [0.5555555555555556, \"#d8576b\"], [0.6666666666666666, \"#ed7953\"], [0.7777777777777778, \"#fb9f3a\"], [0.8888888888888888, \"#fdca26\"], [1.0, \"#f0f921\"]], \"type\": \"heatmap\"}], \"heatmapgl\": [{\"colorbar\": {\"outlinewidth\": 0, \"ticks\": \"\"}, \"colorscale\": [[0.0, \"#0d0887\"], [0.1111111111111111, \"#46039f\"], [0.2222222222222222, \"#7201a8\"], [0.3333333333333333, \"#9c179e\"], [0.4444444444444444, \"#bd3786\"], [0.5555555555555556, \"#d8576b\"], [0.6666666666666666, \"#ed7953\"], [0.7777777777777778, \"#fb9f3a\"], [0.8888888888888888, \"#fdca26\"], [1.0, \"#f0f921\"]], \"type\": \"heatmapgl\"}], \"histogram\": [{\"marker\": {\"colorbar\": {\"outlinewidth\": 0, \"ticks\": \"\"}}, \"type\": \"histogram\"}], \"histogram2d\": [{\"colorbar\": {\"outlinewidth\": 0, \"ticks\": \"\"}, \"colorscale\": [[0.0, \"#0d0887\"], [0.1111111111111111, \"#46039f\"], [0.2222222222222222, \"#7201a8\"], [0.3333333333333333, \"#9c179e\"], [0.4444444444444444, \"#bd3786\"], [0.5555555555555556, \"#d8576b\"], [0.6666666666666666, \"#ed7953\"], [0.7777777777777778, \"#fb9f3a\"], [0.8888888888888888, \"#fdca26\"], [1.0, \"#f0f921\"]], \"type\": \"histogram2d\"}], \"histogram2dcontour\": [{\"colorbar\": {\"outlinewidth\": 0, \"ticks\": \"\"}, \"colorscale\": [[0.0, \"#0d0887\"], [0.1111111111111111, \"#46039f\"], [0.2222222222222222, \"#7201a8\"], [0.3333333333333333, \"#9c179e\"], [0.4444444444444444, \"#bd3786\"], [0.5555555555555556, \"#d8576b\"], [0.6666666666666666, \"#ed7953\"], [0.7777777777777778, \"#fb9f3a\"], [0.8888888888888888, \"#fdca26\"], [1.0, \"#f0f921\"]], \"type\": \"histogram2dcontour\"}], \"mesh3d\": [{\"colorbar\": {\"outlinewidth\": 0, \"ticks\": \"\"}, \"type\": \"mesh3d\"}], \"parcoords\": [{\"line\": {\"colorbar\": {\"outlinewidth\": 0, \"ticks\": \"\"}}, \"type\": \"parcoords\"}], \"pie\": [{\"automargin\": true, \"type\": \"pie\"}], \"scatter\": [{\"marker\": {\"line\": {\"color\": \"#283442\"}}, \"type\": \"scatter\"}], \"scatter3d\": [{\"line\": {\"colorbar\": {\"outlinewidth\": 0, \"ticks\": \"\"}}, \"marker\": {\"colorbar\": {\"outlinewidth\": 0, \"ticks\": \"\"}}, \"type\": \"scatter3d\"}], \"scattercarpet\": [{\"marker\": {\"colorbar\": {\"outlinewidth\": 0, \"ticks\": \"\"}}, \"type\": \"scattercarpet\"}], \"scattergeo\": [{\"marker\": {\"colorbar\": {\"outlinewidth\": 0, \"ticks\": \"\"}}, \"type\": \"scattergeo\"}], \"scattergl\": [{\"marker\": {\"line\": {\"color\": \"#283442\"}}, \"type\": \"scattergl\"}], \"scattermapbox\": [{\"marker\": {\"colorbar\": {\"outlinewidth\": 0, \"ticks\": \"\"}}, \"type\": \"scattermapbox\"}], \"scatterpolar\": [{\"marker\": {\"colorbar\": {\"outlinewidth\": 0, \"ticks\": \"\"}}, \"type\": \"scatterpolar\"}], \"scatterpolargl\": [{\"marker\": {\"colorbar\": {\"outlinewidth\": 0, \"ticks\": \"\"}}, \"type\": \"scatterpolargl\"}], \"scatterternary\": [{\"marker\": {\"colorbar\": {\"outlinewidth\": 0, \"ticks\": \"\"}}, \"type\": \"scatterternary\"}], \"surface\": [{\"colorbar\": {\"outlinewidth\": 0, \"ticks\": \"\"}, \"colorscale\": [[0.0, \"#0d0887\"], [0.1111111111111111, \"#46039f\"], [0.2222222222222222, \"#7201a8\"], [0.3333333333333333, \"#9c179e\"], [0.4444444444444444, \"#bd3786\"], [0.5555555555555556, \"#d8576b\"], [0.6666666666666666, \"#ed7953\"], [0.7777777777777778, \"#fb9f3a\"], [0.8888888888888888, \"#fdca26\"], [1.0, \"#f0f921\"]], \"type\": \"surface\"}], \"table\": [{\"cells\": {\"fill\": {\"color\": \"#506784\"}, \"line\": {\"color\": \"rgb(17,17,17)\"}}, \"header\": {\"fill\": {\"color\": \"#2a3f5f\"}, \"line\": {\"color\": \"rgb(17,17,17)\"}}, \"type\": \"table\"}]}, \"layout\": {\"annotationdefaults\": {\"arrowcolor\": \"#f2f5fa\", \"arrowhead\": 0, \"arrowwidth\": 1}, \"autotypenumbers\": \"strict\", \"coloraxis\": {\"colorbar\": {\"outlinewidth\": 0, \"ticks\": \"\"}}, \"colorscale\": {\"diverging\": [[0, \"#8e0152\"], [0.1, \"#c51b7d\"], [0.2, \"#de77ae\"], [0.3, \"#f1b6da\"], [0.4, \"#fde0ef\"], [0.5, \"#f7f7f7\"], [0.6, \"#e6f5d0\"], [0.7, \"#b8e186\"], [0.8, \"#7fbc41\"], [0.9, \"#4d9221\"], [1, \"#276419\"]], \"sequential\": [[0.0, \"#0d0887\"], [0.1111111111111111, \"#46039f\"], [0.2222222222222222, \"#7201a8\"], [0.3333333333333333, \"#9c179e\"], [0.4444444444444444, \"#bd3786\"], [0.5555555555555556, \"#d8576b\"], [0.6666666666666666, \"#ed7953\"], [0.7777777777777778, \"#fb9f3a\"], [0.8888888888888888, \"#fdca26\"], [1.0, \"#f0f921\"]], \"sequentialminus\": [[0.0, \"#0d0887\"], [0.1111111111111111, \"#46039f\"], [0.2222222222222222, \"#7201a8\"], [0.3333333333333333, \"#9c179e\"], [0.4444444444444444, \"#bd3786\"], [0.5555555555555556, \"#d8576b\"], [0.6666666666666666, \"#ed7953\"], [0.7777777777777778, \"#fb9f3a\"], [0.8888888888888888, \"#fdca26\"], [1.0, \"#f0f921\"]]}, \"colorway\": [\"#636efa\", \"#EF553B\", \"#00cc96\", \"#ab63fa\", \"#FFA15A\", \"#19d3f3\", \"#FF6692\", \"#B6E880\", \"#FF97FF\", \"#FECB52\"], \"font\": {\"color\": \"#f2f5fa\"}, \"geo\": {\"bgcolor\": \"rgb(17,17,17)\", \"lakecolor\": \"rgb(17,17,17)\", \"landcolor\": \"rgb(17,17,17)\", \"showlakes\": true, \"showland\": true, \"subunitcolor\": \"#506784\"}, \"hoverlabel\": {\"align\": \"left\"}, \"hovermode\": \"closest\", \"mapbox\": {\"style\": \"dark\"}, \"paper_bgcolor\": \"rgb(17,17,17)\", \"plot_bgcolor\": \"rgb(17,17,17)\", \"polar\": {\"angularaxis\": {\"gridcolor\": \"#506784\", \"linecolor\": \"#506784\", \"ticks\": \"\"}, \"bgcolor\": \"rgb(17,17,17)\", \"radialaxis\": {\"gridcolor\": \"#506784\", \"linecolor\": \"#506784\", \"ticks\": \"\"}}, \"scene\": {\"xaxis\": {\"backgroundcolor\": \"rgb(17,17,17)\", \"gridcolor\": \"#506784\", \"gridwidth\": 2, \"linecolor\": \"#506784\", \"showbackground\": true, \"ticks\": \"\", \"zerolinecolor\": \"#C8D4E3\"}, \"yaxis\": {\"backgroundcolor\": \"rgb(17,17,17)\", \"gridcolor\": \"#506784\", \"gridwidth\": 2, \"linecolor\": \"#506784\", \"showbackground\": true, \"ticks\": \"\", \"zerolinecolor\": \"#C8D4E3\"}, \"zaxis\": {\"backgroundcolor\": \"rgb(17,17,17)\", \"gridcolor\": \"#506784\", \"gridwidth\": 2, \"linecolor\": \"#506784\", \"showbackground\": true, \"ticks\": \"\", \"zerolinecolor\": \"#C8D4E3\"}}, \"shapedefaults\": {\"line\": {\"color\": \"#f2f5fa\"}}, \"sliderdefaults\": {\"bgcolor\": \"#C8D4E3\", \"bordercolor\": \"rgb(17,17,17)\", \"borderwidth\": 1, \"tickwidth\": 0}, \"ternary\": {\"aaxis\": {\"gridcolor\": \"#506784\", \"linecolor\": \"#506784\", \"ticks\": \"\"}, \"baxis\": {\"gridcolor\": \"#506784\", \"linecolor\": \"#506784\", \"ticks\": \"\"}, \"bgcolor\": \"rgb(17,17,17)\", \"caxis\": {\"gridcolor\": \"#506784\", \"linecolor\": \"#506784\", \"ticks\": \"\"}}, \"title\": {\"x\": 0.05}, \"updatemenudefaults\": {\"bgcolor\": \"#506784\", \"borderwidth\": 0}, \"xaxis\": {\"automargin\": true, \"gridcolor\": \"#283442\", \"linecolor\": \"#506784\", \"ticks\": \"\", \"title\": {\"standoff\": 15}, \"zerolinecolor\": \"#283442\", \"zerolinewidth\": 2}, \"yaxis\": {\"automargin\": true, \"gridcolor\": \"#283442\", \"linecolor\": \"#506784\", \"ticks\": \"\", \"title\": {\"standoff\": 15}, \"zerolinecolor\": \"#283442\", \"zerolinewidth\": 2}}}, \"title\": {\"text\": \"NIRF - 2021 - OVERALL - Centurion University Faculty analysis\"}, \"width\": 1200},                        {\"responsive\": true}                    ).then(function(){\n",
              "                            \n",
              "var gd = document.getElementById('26b9f1e7-9483-4f1d-8fdb-848cab3f3802');\n",
              "var x = new MutationObserver(function (mutations, observer) {{\n",
              "        var display = window.getComputedStyle(gd).display;\n",
              "        if (!display || display === 'none') {{\n",
              "            console.log([gd, 'removed!']);\n",
              "            Plotly.purge(gd);\n",
              "            observer.disconnect();\n",
              "        }}\n",
              "}});\n",
              "\n",
              "// Listen for the removal of the full notebook cells\n",
              "var notebookContainer = gd.closest('#notebook-container');\n",
              "if (notebookContainer) {{\n",
              "    x.observe(notebookContainer, {childList: true});\n",
              "}}\n",
              "\n",
              "// Listen for the clearing of the current output cell\n",
              "var outputEl = gd.closest('.output');\n",
              "if (outputEl) {{\n",
              "    x.observe(outputEl, {childList: true});\n",
              "}}\n",
              "\n",
              "                        })                };                });            </script>        </div>"
            ]
          },
          "metadata": {
            "tags": []
          }
        }
      ]
    },
    {
      "cell_type": "code",
      "metadata": {
        "id": "Uy8k5NRgjZqp"
      },
      "source": [],
      "execution_count": null,
      "outputs": []
    },
    {
      "cell_type": "code",
      "metadata": {
        "id": "xQkbYZDwjZqp"
      },
      "source": [],
      "execution_count": null,
      "outputs": []
    },
    {
      "cell_type": "code",
      "metadata": {
        "id": "6eXjTK4FjZqp"
      },
      "source": [],
      "execution_count": null,
      "outputs": []
    }
  ]
}